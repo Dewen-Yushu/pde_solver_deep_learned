{
 "cells": [
  {
   "cell_type": "code",
   "execution_count": null,
   "metadata": {},
   "outputs": [],
   "source": [
    "import numpy as np\n",
    "from iterativeMethods import *"
   ]
  },
  {
   "cell_type": "code",
   "execution_count": null,
   "metadata": {},
   "outputs": [],
   "source": [
    "A = np.array([[2, 1], [5, 7]])\n",
    "f = np.array([11, 13])\n",
    "\n",
    "u, res = jacobi_real(A, f)\n",
    "u, res = jacobi_paper(A, f)\n",
    "u, res = jacobi_paper(A, f, omega = 0.2)"
   ]
  },
  {
   "cell_type": "markdown",
   "metadata": {},
   "source": [
    "On this simple matrix (https://en.wikipedia.org/wiki/Jacobi_method)the jacobi method as implemented in the paper does not converge. (To converge it needs underrelaxation as in third case with omega = 0.2)\n",
    "This is because for this matrix the spectral radius is > 1 as we show in next section."
   ]
  },
  {
   "cell_type": "code",
   "execution_count": null,
   "metadata": {},
   "outputs": [],
   "source": [
    "paper_jacobi_eig = np.linalg.eigvals(np.eye(2)-A)\n",
    "paper_spectral_radius = np.max(np.abs(paper_jacobi_eig))\n",
    "print(paper_spectral_radius)"
   ]
  },
  {
   "cell_type": "markdown",
   "metadata": {},
   "source": [
    "For the real Jacobi method instead the spectral radius of the updating matrix is < 1.\n",
    "For the real Jacobi methods it holds the fact that if the matrix is diagonally dominant then the spectral radius of the updating matrix is guaranteed to be < 1. (http://www.cs.unipr.it/~bagnara/Papers/PDF/SIREV95.pdf)\n",
    "This condition does not hold for the paper Jacobi method."
   ]
  },
  {
   "cell_type": "code",
   "execution_count": null,
   "metadata": {},
   "outputs": [],
   "source": [
    "real_jacobi_eig = np.linalg.eigvals(np.linalg.inv(np.diag(np.diag(A))).dot(A-np.diag(np.diag(A))))\n",
    "real_spectral_radius = np.max(np.abs(real_jacobi_eig))\n",
    "print(real_spectral_radius)"
   ]
  },
  {
   "cell_type": "code",
   "execution_count": null,
   "metadata": {},
   "outputs": [],
   "source": []
  }
 ],
 "metadata": {
  "kernelspec": {
   "display_name": "Python 3",
   "language": "python",
   "name": "python3"
  },
  "language_info": {
   "codemirror_mode": {
    "name": "ipython",
    "version": 3
   },
   "file_extension": ".py",
   "mimetype": "text/x-python",
   "name": "python",
   "nbconvert_exporter": "python",
   "pygments_lexer": "ipython3",
   "version": "3.6.6"
  }
 },
 "nbformat": 4,
 "nbformat_minor": 2
}

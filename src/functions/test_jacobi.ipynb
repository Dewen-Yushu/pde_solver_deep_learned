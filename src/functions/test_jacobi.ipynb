{
 "cells": [
  {
   "cell_type": "code",
   "execution_count": null,
   "metadata": {},
   "outputs": [],
   "source": [
    "import numpy as np\n",
    "import matplotlib.pyplot as plt\n",
    "from iterativeMethods import *"
   ]
  },
  {
   "cell_type": "code",
   "execution_count": null,
   "metadata": {},
   "outputs": [],
   "source": [
    "A = np.array([[2, 1], [5, 7]])\n",
    "f = np.array([11, 13])\n",
    "\n",
    "u, res = jacobi_real(A, f)\n",
    "u, res = jacobi_paper(A, f)\n",
    "u, res = jacobi_paper(A, f, omega = 0.2)"
   ]
  },
  {
   "cell_type": "markdown",
   "metadata": {},
   "source": [
    "On this simple matrix (https://en.wikipedia.org/wiki/Jacobi_method)the jacobi method as implemented in the paper does not converge. (To converge it needs underrelaxation as in third case with omega = 0.2)\n",
    "This is because for this matrix the spectral radius is > 1 as we show in next section."
   ]
  },
  {
   "cell_type": "code",
   "execution_count": null,
   "metadata": {},
   "outputs": [],
   "source": [
    "paper_jacobi_eig = np.linalg.eigvals(np.eye(2)-A)\n",
    "paper_spectral_radius = np.max(np.abs(paper_jacobi_eig))\n",
    "print(paper_spectral_radius)"
   ]
  },
  {
   "cell_type": "markdown",
   "metadata": {},
   "source": [
    "For the real Jacobi method instead the spectral radius of the updating matrix is < 1.\n",
    "For the real Jacobi methods it holds the fact that if the matrix is diagonally dominant then the spectral radius of the updating matrix is guaranteed to be < 1. (http://www.cs.unipr.it/~bagnara/Papers/PDF/SIREV95.pdf)\n",
    "This condition does not hold for the paper Jacobi method."
   ]
  },
  {
   "cell_type": "code",
   "execution_count": null,
   "metadata": {},
   "outputs": [],
   "source": [
    "real_jacobi_eig = np.linalg.eigvals(np.linalg.inv(np.diag(np.diag(A))).dot(A-np.diag(np.diag(A))))\n",
    "real_spectral_radius = np.max(np.abs(real_jacobi_eig))\n",
    "print(real_spectral_radius)"
   ]
  },
  {
   "cell_type": "markdown",
   "metadata": {},
   "source": [
    "Build the matrix A for the 2D Poisson problem"
   ]
  },
  {
   "cell_type": "code",
   "execution_count": null,
   "metadata": {},
   "outputs": [],
   "source": [
    "N = 20\n",
    "A = np.eye(N**2)\n",
    "# Domani length\n",
    "L = 1.0\n",
    "# Cell size\n",
    "h = L/(N-1)\n",
    "\n",
    "# set homegenous dirichlet BC value\n",
    "b = 2.0\n",
    "\n",
    "#Initilize forcing term\n",
    "f = np.ones(N**2)*b\n",
    "\n",
    "for i in range(N, N**2-N):\n",
    "    if (i%N != 0 and i%N != N-1):\n",
    "        # Left and right neigh\n",
    "        A[i][i-1] = -0.25 \n",
    "        A[i][i+1] = -0.25\n",
    "        # Up and low neigh\n",
    "        A[i][i-N] = -0.25 \n",
    "        A[i][i+N] = -0.25 \n",
    "        # set forcing term\n",
    "        f[i] = 0\n"
   ]
  },
  {
   "cell_type": "markdown",
   "metadata": {},
   "source": [
    "Obtain the solution with thre real jacobi method"
   ]
  },
  {
   "cell_type": "code",
   "execution_count": null,
   "metadata": {},
   "outputs": [],
   "source": [
    "u, res = jacobi_real(A, f, max_iters=10000,tol = 1e-3)\n",
    "u, res = jacobi_paper(A, f, max_iters=10000,tol = 1e-3)\n",
    "\n",
    "#u = np.linalg.inv(A).dot(f)"
   ]
  },
  {
   "cell_type": "markdown",
   "metadata": {},
   "source": [
    "Notice that in this particular case the real and the paper jacobi method are the same since D_A = I\n",
    "Plot the solution\n",
    "Nice reference for contour plots https://www.python-course.eu/matplotlib_contour_plot.php"
   ]
  },
  {
   "cell_type": "code",
   "execution_count": null,
   "metadata": {},
   "outputs": [],
   "source": [
    "x = np.linspace(0, L, N)\n",
    "y = np.linspace(0, L, N)\n",
    "X, Y = np.meshgrid(x, y)\n",
    "\n",
    "Z = np.reshape(u, [N, N])\n",
    "plt.figure()\n",
    "cp = plt.contourf(X, Y, Z)\n",
    "plt.colorbar(cp)\n",
    "plt.title('Filled Contours Plot')\n",
    "plt.xlabel('x [-]')\n",
    "plt.ylabel('y [-]')\n",
    "plt.show()"
   ]
  }
 ],
 "metadata": {
  "kernelspec": {
   "display_name": "Python 3",
   "language": "python",
   "name": "python3"
  },
  "language_info": {
   "codemirror_mode": {
    "name": "ipython",
    "version": 3
   },
   "file_extension": ".py",
   "mimetype": "text/x-python",
   "name": "python",
   "nbconvert_exporter": "python",
   "pygments_lexer": "ipython3",
   "version": "3.6.6"
  }
 },
 "nbformat": 4,
 "nbformat_minor": 2
}

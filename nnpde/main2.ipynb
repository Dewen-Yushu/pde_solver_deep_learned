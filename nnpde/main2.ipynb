{
 "cells": [
  {
   "cell_type": "markdown",
   "metadata": {
    "ExecuteTime": {
     "end_time": "2018-12-18T11:12:37.978677Z",
     "start_time": "2018-12-18T11:12:37.976016Z"
    }
   },
   "source": [
    "# Imports"
   ]
  },
  {
   "cell_type": "code",
   "execution_count": 1,
   "metadata": {
    "ExecuteTime": {
     "end_time": "2018-12-20T18:26:33.576732Z",
     "start_time": "2018-12-20T18:26:33.553309Z"
    },
    "autoscroll": false,
    "ein.hycell": false,
    "ein.tags": "worksheet-0",
    "slideshow": {
     "slide_type": "-"
    }
   },
   "outputs": [
    {
     "data": {
      "text/html": [
       "<style>.container { width:95% !important; }</style>"
      ],
      "text/plain": [
       "<IPython.core.display.HTML object>"
      ]
     },
     "metadata": {},
     "output_type": "display_data"
    }
   ],
   "source": [
    "def fix_layout(width:int=95):\n",
    "    from IPython.core.display import display, HTML\n",
    "    display(HTML('<style>.container { width:' + str(width) + '% !important; }</style>'))\n",
    "    \n",
    "fix_layout()"
   ]
  },
  {
   "cell_type": "code",
   "execution_count": 2,
   "metadata": {
    "ExecuteTime": {
     "end_time": "2018-12-20T18:26:35.938369Z",
     "start_time": "2018-12-20T18:26:34.294099Z"
    },
    "autoscroll": false,
    "ein.hycell": false,
    "ein.tags": "worksheet-0",
    "slideshow": {
     "slide_type": "-"
    }
   },
   "outputs": [],
   "source": [
    "from importlib import reload\n",
    "\n",
    "import numpy as np\n",
    "import matplotlib.pyplot as plt\n",
    "import torch\n",
    "import torch.nn as nn\n",
    "import torch.nn.functional as F\n",
    "\n",
    "import nnpde.iterative_methods as im\n",
    "from nnpde import geometries, helpers\n",
    "from nnpde.utils.logs import enable_logging, logging \n",
    "from nnpde.problems import DirichletProblem \n",
    "from nnpde.utils import plots\n",
    "import nnpde.model as M "
   ]
  },
  {
   "cell_type": "code",
   "execution_count": 3,
   "metadata": {
    "ExecuteTime": {
     "end_time": "2018-12-20T18:26:35.955717Z",
     "start_time": "2018-12-20T18:26:35.940629Z"
    },
    "autoscroll": false,
    "ein.hycell": false,
    "ein.tags": "worksheet-0",
    "slideshow": {
     "slide_type": "-"
    }
   },
   "outputs": [
    {
     "name": "stderr",
     "output_type": "stream",
     "text": [
      "2018-12-20 19:26:35,942 - root - INFO - logs - logging enabled for level: 20\n"
     ]
    }
   ],
   "source": [
    "enable_logging(20)\n",
    "\n",
    "seed = 9 # Does not give problems\n",
    "torch.manual_seed(seed)\n",
    "np.random.seed(seed)"
   ]
  },
  {
   "cell_type": "markdown",
   "metadata": {},
   "source": [
    "# Setup"
   ]
  },
  {
   "cell_type": "code",
   "execution_count": 4,
   "metadata": {
    "ExecuteTime": {
     "end_time": "2018-12-20T18:26:48.643225Z",
     "start_time": "2018-12-20T18:26:43.211294Z"
    },
    "autoscroll": false,
    "ein.hycell": false,
    "ein.tags": "worksheet-0",
    "slideshow": {
     "slide_type": "-"
    }
   },
   "outputs": [],
   "source": [
    "# Define train dimension: NxN\n",
    "N = 16\n",
    "\n",
    "# For each problem instance define number of iteration to perform to obtain the solution\n",
    "nb_problem_instances = 30\n",
    "problem_instances = [DirichletProblem(k=k) for k in np.random.randint(1, 20, nb_problem_instances)]"
   ]
  },
  {
   "cell_type": "markdown",
   "metadata": {},
   "source": [
    "# Hyper-parameter search learning rate"
   ]
  },
  {
   "cell_type": "code",
   "execution_count": null,
   "metadata": {
    "ExecuteTime": {
     "end_time": "2018-12-19T23:45:11.499480Z",
     "start_time": "2018-12-19T23:45:11.489182Z"
    }
   },
   "outputs": [],
   "source": [
    "from itertools import product\n",
    "import logging\n",
    "\n",
    "def grid_search(mdl, base_parameters, grid_search_parameters, problem_instances):\n",
    "    \"\"\"\n",
    "    Parameters\n",
    "    ==========\n",
    "    \n",
    "        mdl                     Model Class, \n",
    "                                expected interface: `mdl(parameters).fit(problem_instances)`\n",
    "        base_parameters         dictonary of parameters which will applied for all models\n",
    "        grid_search_parameters  dictonary of <parameter>: [<value for parameter key>]\n",
    "        problem_instances       list of problems to train on\n",
    "    \"\"\"\n",
    "    # the `list` is necessary if you want to print the below message\n",
    "    #parameters = list(product(*grid_search_parameters.values()))\n",
    "    #logging.debug('testing {} models! make sure that you have the power to run this!'.format(len(parameters)))\n",
    "    # `product` is equivalent to a nested for loop\n",
    "    parameters = product(*grid_search_parameters.values())\n",
    "\n",
    "    # the dict(zip(...)) part is necessary to ensure correct assignment\n",
    "    res = [mdl(**{**base_parameters, **dict(zip(grid_search_parameters.keys(), p))}).fit(problem_instances) for p in parameters]\n",
    "    return res"
   ]
  },
  {
   "cell_type": "code",
   "execution_count": null,
   "metadata": {
    "ExecuteTime": {
     "end_time": "2018-12-19T23:46:22.067894Z",
     "start_time": "2018-12-19T23:46:22.060377Z"
    }
   },
   "outputs": [],
   "source": [
    "def grid_search_wrapper(base_parameters, grid_search_parameters):\n",
    "    return grid_search(mdl=M.JacobyWithConv,\n",
    "                       base_parameters=base_parameters,\n",
    "                       grid_search_parameters=grid_search_parameters,\n",
    "                       problem_instances=problem_instances)"
   ]
  },
  {
   "cell_type": "code",
   "execution_count": 6,
   "metadata": {
    "ExecuteTime": {
     "end_time": "2018-12-20T18:27:14.234867Z",
     "start_time": "2018-12-20T18:27:14.230377Z"
    }
   },
   "outputs": [],
   "source": [
    "# Net parameters\n",
    "base_parameters = {\n",
    "    \"nb_layers\": 3,\n",
    "    \"max_epochs\": 100,\n",
    "    \"batch_size\": 10,\n",
    "    \"stable_count\": 100,\n",
    "    \"random_seed\": 9,\n",
    "}\n",
    "\n",
    "# SGD\n",
    "grid_parameters = {\n",
    "    \"learning_rate\": np.logspace(start=-6, stop=-4, num=7), #num=7 is good since it contains 1e-5\n",
    "}"
   ]
  },
  {
   "cell_type": "code",
   "execution_count": null,
   "metadata": {
    "ExecuteTime": {
     "end_time": "2018-12-19T23:54:27.150000Z",
     "start_time": "2018-12-19T23:51:14.436602Z"
    }
   },
   "outputs": [],
   "source": [
    "reload(M)\n",
    "\n",
    "# Took 3m 13s on a Intel(R) Core(TM) i7-6700K CPU @ 4.00GHz\n",
    "\n",
    "hyper_models = grid_search_wrapper(base_parameters, grid_parameters) \\\n",
    "    + grid_search_wrapper(base_parameters, {\"optimizer\": [\"Adadelta\"]})"
   ]
  },
  {
   "cell_type": "code",
   "execution_count": null,
   "metadata": {
    "ExecuteTime": {
     "end_time": "2018-12-19T23:54:27.609410Z",
     "start_time": "2018-12-19T23:54:27.151785Z"
    }
   },
   "outputs": [],
   "source": [
    "# Colors for plotting\n",
    "color_map = plt.get_cmap('cubehelix')\n",
    "colors = color_map(np.linspace(0.1, 1, 10))\n",
    "\n",
    "# Initilize figure\n",
    "hyper_fig = plt.figure()\n",
    "\n",
    "# Plot SGD\n",
    "i = 0\n",
    "for model in hyper_models[:-1]:  \n",
    "    n_epoch = np.arange(np.shape(model.losses)[0])\n",
    "    plt.semilogy(n_epoch, \n",
    "                 model.losses, \n",
    "                 color=colors[i], \n",
    "                 linewidth=1, \n",
    "                 linestyle=\"-\", \n",
    "                 marker=(i+2, 0, 0), \n",
    "                 markevery=10, \n",
    "                 label = f'$\\gamma= {learning_rates[i]:.2e} $')\n",
    "    i += 1\n",
    "\n",
    "# Plot Adadelta\n",
    "n_epoch = np.arange(np.shape(hyper_models[-1].losses)[0])\n",
    "plt.semilogy(n_epoch, hyper_models[-1].losses, color=colors[i], linewidth=1, linestyle=\"-\", marker=(i+2, 0, 0), markevery=10,label='Adadelta')\n",
    "\n",
    "# Additional settings\n",
    "plt.legend(bbox_to_anchor=(1.05, 0.31), loc=3, borderaxespad=0.)\n",
    "plt.xlabel('n epochs', fontsize=14)\n",
    "plt.ylabel('Total loss [-]', fontsize=14)\n",
    "#plt.xlim([0, base_parameters['max_epochs']])\n",
    "#plt.ylim([0, 200])\n",
    "plt.title('Loss evolution for different learning rates, $K=3$, batchSize=10')\n",
    "plt.grid(True, which = \"both\", linewidth = 0.5,  linestyle = \"--\")\n",
    "\n",
    "#hyper_fig.savefig('../report/fig/hyper.eps', bbox_inches='tight')\n",
    "plt.draw()\n",
    "plt.show()"
   ]
  },
  {
   "cell_type": "markdown",
   "metadata": {},
   "source": [
    "# Train model using K = 1,2,3,4,5"
   ]
  },
  {
   "cell_type": "code",
   "execution_count": null,
   "metadata": {
    "ExecuteTime": {
     "end_time": "2018-12-20T06:55:14.360643Z",
     "start_time": "2018-12-20T06:55:14.296094Z"
    }
   },
   "outputs": [],
   "source": [
    "base_parameters"
   ]
  },
  {
   "cell_type": "code",
   "execution_count": null,
   "metadata": {
    "ExecuteTime": {
     "end_time": "2018-12-20T00:05:07.260050Z",
     "start_time": "2018-12-20T00:04:04.273443Z"
    }
   },
   "outputs": [],
   "source": [
    "reload(M)\n",
    "\n",
    "params = {**base_parameters, **{'max_epochs': 500, 'optimizer': 'Adadelta'}}\n",
    "models = grid_search_wrapper(params, {'nb_layers': range(1, 6)})\n",
    "\n",
    "#models = [M.JacobyWithConv(**{**params, 'nb_layers': nb_layers}).fit(problem_instances) for nb_layers in [1,2,3,4,5]]\n",
    "#models = [M.JacobyWithConv(**{**params, 'nb_layers': nb_layers}).fit(problem_instances) for nb_layers in [1,2,3,4,5]]"
   ]
  },
  {
   "cell_type": "code",
   "execution_count": null,
   "metadata": {
    "ExecuteTime": {
     "end_time": "2018-12-20T00:06:01.037853Z",
     "start_time": "2018-12-20T00:06:00.693699Z"
    }
   },
   "outputs": [],
   "source": [
    "# Colors for plotting\n",
    "color_map = plt.get_cmap('cubehelix')\n",
    "colors = color_map(np.linspace(0.1, 1, 10))\n",
    "\n",
    "# Initilize figure\n",
    "comparison_K_fig = plt.figure()\n",
    "\n",
    "# Plot SGD\n",
    "i = 0\n",
    "for model in models[:]:  \n",
    "    n_epoch = np.arange(np.shape(model.losses)[0])\n",
    "    plt.semilogy(n_epoch, model.losses, color=colors[i], linewidth=1, linestyle=\"-\", marker=(i+2, 0, 0), markevery=100, label = '$K= {0} $'.format(model.nb_layers))\n",
    "    print(\"For K={0} final loss is {1}\".format(model.nb_layers, model.losses[-1]))\n",
    "    i += 1\n",
    "\n",
    "# Additional settings\n",
    "plt.legend(bbox_to_anchor=(1.05, 0.31), loc=3, borderaxespad=0.)\n",
    "plt.xlabel('n epochs', fontsize=14)\n",
    "plt.ylabel('Total loss [-]', fontsize=14)\n",
    "#plt.xlim([0, max_epochs])\n",
    "#plt.ylim([0, 800])\n",
    "plt.title('Loss evolution for different learning rates, $K=3$, batchSize=10')\n",
    "plt.grid(True, which = \"both\", linewidth = 0.5,  linestyle = \"--\")\n",
    "\n",
    "#hyper_fig.savefig('../report/fig/comparison_K.eps', bbox_inches='tight')\n",
    "plt.draw()\n",
    "plt.show()"
   ]
  },
  {
   "cell_type": "code",
   "execution_count": null,
   "metadata": {
    "ExecuteTime": {
     "end_time": "2018-12-20T00:03:52.541356Z",
     "start_time": "2018-12-20T00:03:52.530092Z"
    }
   },
   "outputs": [],
   "source": [
    "M._ConvNet_(0)"
   ]
  },
  {
   "cell_type": "code",
   "execution_count": null,
   "metadata": {},
   "outputs": [],
   "source": [
    "models[1].max_epochs = 300\n",
    "models[1].fit(problem_instances)"
   ]
  },
  {
   "cell_type": "markdown",
   "metadata": {
    "ein.tags": "worksheet-0",
    "slideshow": {
     "slide_type": "-"
    }
   },
   "source": [
    "# Test on a bigger grid"
   ]
  },
  {
   "cell_type": "code",
   "execution_count": null,
   "metadata": {
    "ExecuteTime": {
     "end_time": "2018-12-18T13:32:53.423669Z",
     "start_time": "2018-12-18T13:32:53.419355Z"
    }
   },
   "outputs": [],
   "source": [
    "from nnpde.metrics import least_squares_loss as LSE"
   ]
  },
  {
   "cell_type": "code",
   "execution_count": null,
   "metadata": {
    "ExecuteTime": {
     "end_time": "2018-12-18T13:38:54.018812Z",
     "start_time": "2018-12-18T13:38:50.992107Z"
    },
    "autoscroll": false,
    "ein.hycell": false,
    "ein.tags": "worksheet-0",
    "slideshow": {
     "slide_type": "-"
    }
   },
   "outputs": [],
   "source": [
    "# Grid size NxN\n",
    "N = 64\n",
    "\n",
    "# Use sufficiently high number of iterations to get ground truth solution\n",
    "k_ground_truth = 20000\n",
    "\n",
    "# Initialize Laplace problem on Square geometry\n",
    "problem = DirichletProblem(N=N, k_ground_truth=20000)\n",
    "B_idx = problem.B_idx\n",
    "B = problem.B\n",
    "f = problem.f\n",
    "\n",
    "# Obtain solutions\n",
    "ground_truth = problem.ground_truth\n",
    "\n",
    "# Set initial_u equal for Jacobi method and for H method\n",
    "initial_u = torch.ones(1,1,N,N)\n",
    "k = 2000\n",
    "\n",
    "# Obtain solution with Jacobi method\n",
    "u_jacobi = im.jacobi_method(B_idx, B, f, initial_u, k = 2000)\n",
    "print(f\"Error after {k} iterations for Jacobi method: {LSE(ground_truth, u_jacobi)}\")\n",
    "\n",
    "# For each K obtain \n",
    "for model in models:\n",
    "    u_H = im.H_method(model.net, B_idx, B, f, initial_u, k = 2000)\n",
    "    print(f\"Error after {k} iterations for H method with K={model.nb_layers}: {LSE(ground_truth, u_H)}\")"
   ]
  },
  {
   "cell_type": "markdown",
   "metadata": {},
   "source": [
    "# Error evolution with iterations"
   ]
  },
  {
   "cell_type": "code",
   "execution_count": null,
   "metadata": {
    "ExecuteTime": {
     "end_time": "2018-12-18T13:39:04.858178Z",
     "start_time": "2018-12-18T13:39:04.850454Z"
    },
    "autoscroll": false,
    "ein.hycell": false,
    "ein.tags": "worksheet-0",
    "slideshow": {
     "slide_type": "-"
    }
   },
   "outputs": [],
   "source": [
    "tol = 1e-6\n",
    "net = models[2].net"
   ]
  },
  {
   "cell_type": "code",
   "execution_count": null,
   "metadata": {
    "ExecuteTime": {
     "end_time": "2018-12-18T13:39:24.100072Z",
     "start_time": "2018-12-18T13:39:15.030521Z"
    },
    "autoscroll": false,
    "ein.hycell": false,
    "ein.tags": "worksheet-0",
    "slideshow": {
     "slide_type": "-"
    }
   },
   "outputs": [],
   "source": [
    "u_jacobi = initial_u\n",
    "err_jacobi = LSE(ground_truth, u_jacobi).item()\n",
    "errs_jacobi = [err_jacobi] \n",
    "k_jacobi = 0\n",
    "\n",
    "while err_jacobi >= tol:\n",
    "    u_jacobi = im.jacobi_method(B_idx, B, f, u_jacobi, k = 1)\n",
    "    err_jacobi = LSE(ground_truth, u_jacobi).item()\n",
    "    errs_jacobi.append(err_jacobi)\n",
    "    k_jacobi += 1\n",
    "    \n",
    "print(f\"Jacobi method: error of {err_to_be_achieved} achieved after {k_jacobi} iterations.\")"
   ]
  },
  {
   "cell_type": "code",
   "execution_count": null,
   "metadata": {
    "ExecuteTime": {
     "end_time": "2018-12-18T13:39:51.821114Z",
     "start_time": "2018-12-18T13:39:50.664243Z"
    },
    "autoscroll": false,
    "ein.hycell": false,
    "ein.tags": "worksheet-0",
    "slideshow": {
     "slide_type": "-"
    }
   },
   "outputs": [],
   "source": [
    "errors_H = []\n",
    "max_iters = 10000\n",
    "\n",
    "for model in models:\n",
    "    u_H = initial_u\n",
    "    err_H = LSE(ground_truth, u_H).item()\n",
    "    errs_H = [err_H] \n",
    "    k_H = 0\n",
    "\n",
    "    while err_H >= tol:\n",
    "        u_H = im.H_method(model.net, B_idx, B, f, u_H, k = 1)\n",
    "        err_H = LSE(ground_truth, u_H).item()\n",
    "        errs_H.append(err_H)\n",
    "        k_H += 1\n",
    "        if k_H > max_iters or err_H == np.inf:\n",
    "            print(f\"H method, K = {model.nb_layers}: convergence not reached after {max_iters}, final error is {err_H}.\")\n",
    "            break\n",
    "    \n",
    "    print(f\"H method, K = {model.nb_layers}: error of {tol} achieved after {k_H} iterations.\")\n",
    "    errors_H.append(errs_H)"
   ]
  },
  {
   "cell_type": "code",
   "execution_count": null,
   "metadata": {},
   "outputs": [],
   "source": [
    "# Colors for plotting\n",
    "color_map = plt.get_cmap('cubehelix')\n",
    "colors = color_map(np.linspace(0.1, 1, 10))\n",
    "\n",
    "# Initilize figure\n",
    "error_k_fig = plt.figure()\n",
    "\n",
    "i = 0\n",
    "for error in errors_H:  \n",
    "    n_iter = np.arange(np.shape(error)[0])\n",
    "    plt.loglog(n_iter, error, color=colors[i], linewidth=1, linestyle=\"-\", marker=(i+2, 0, 0), markevery=100, label = '$K= {0} $'.format(models[i].nb_layers))\n",
    "    i += 1\n",
    "\n",
    "# Plot error evolution for Jacobi \n",
    "n_iter = np.arange(np.shape(errs_jacobi)[0])\n",
    "plt.loglog(n_iter, errs_jacobi, color=colors[i], linewidth=1, linestyle=\"-\", marker=(i+2, 0, 0), markevery=1000, label = 'Jacobi')\n",
    "\n",
    "# Additional settings\n",
    "plt.legend(bbox_to_anchor=(1.05, 0.31), loc=3, borderaxespad=0.)\n",
    "plt.xlabel('n iterations', fontsize=14)\n",
    "plt.ylabel('Error [-]', fontsize=14)\n",
    "#plt.xlim([0, max_epochs])\n",
    "plt.ylim([tol, errors_H[0][0]])\n",
    "plt.title('Error evolution for different $K$, $N={0}$'.format(N))\n",
    "plt.grid(True, which = \"both\", linewidth = 0.5,  linestyle = \"--\")\n",
    "\n",
    "#error_k_fig.savefig('../report/fig/error_k.eps', bbox_inches='tight')\n",
    "plt.draw()\n",
    "plt.show()"
   ]
  },
  {
   "cell_type": "code",
   "execution_count": null,
   "metadata": {
    "ExecuteTime": {
     "end_time": "2018-12-18T13:32:57.531942Z",
     "start_time": "2018-12-18T13:32:27.488Z"
    },
    "autoscroll": false,
    "ein.hycell": false,
    "ein.tags": "worksheet-0",
    "slideshow": {
     "slide_type": "-"
    }
   },
   "outputs": [],
   "source": [
    "# This is not correct, but we have to look for a way to access the variables inside timeit\n",
    "\n",
    "print(\"needed {0} iterations (compared to {1}), ratio: {2}\".format(k_count_old, k_count_new, k_count_old/k_count_new))"
   ]
  },
  {
   "cell_type": "code",
   "execution_count": null,
   "metadata": {
    "ExecuteTime": {
     "end_time": "2018-12-18T13:32:57.533202Z",
     "start_time": "2018-12-18T13:32:27.494Z"
    },
    "autoscroll": false,
    "ein.hycell": false,
    "ein.tags": "worksheet-0",
    "slideshow": {
     "slide_type": "-"
    }
   },
   "outputs": [],
   "source": [
    "print(\"the loss of the new method is {0}, compared to the pure-jacoby one: {1}. computed with {2} iterations\".format(F.mse_loss(gtt, output), F.mse_loss(gtt, jacoby_pure), nb_iters))"
   ]
  },
  {
   "cell_type": "code",
   "execution_count": null,
   "metadata": {
    "ExecuteTime": {
     "end_time": "2018-12-18T13:32:57.534573Z",
     "start_time": "2018-12-18T13:32:27.499Z"
    },
    "autoscroll": false,
    "ein.hycell": false,
    "ein.tags": "worksheet-0",
    "slideshow": {
     "slide_type": "-"
    }
   },
   "outputs": [],
   "source": [
    "helpers.plot_solution(gtt,output,N)"
   ]
  },
  {
   "cell_type": "code",
   "execution_count": null,
   "metadata": {
    "ExecuteTime": {
     "end_time": "2018-12-18T13:32:57.535773Z",
     "start_time": "2018-12-18T13:32:27.504Z"
    },
    "autoscroll": false,
    "ein.hycell": false,
    "ein.tags": "worksheet-0",
    "slideshow": {
     "slide_type": "-"
    }
   },
   "outputs": [],
   "source": [
    "(gtt.view(N,N) - output.view(N,N)).mean()"
   ]
  },
  {
   "cell_type": "markdown",
   "metadata": {
    "ein.tags": "worksheet-0",
    "slideshow": {
     "slide_type": "-"
    }
   },
   "source": [
    "Test on L-shape domain"
   ]
  },
  {
   "cell_type": "code",
   "execution_count": null,
   "metadata": {
    "ExecuteTime": {
     "end_time": "2018-12-18T13:32:57.537084Z",
     "start_time": "2018-12-18T13:32:27.509Z"
    },
    "autoscroll": false,
    "ein.hycell": false,
    "ein.tags": "worksheet-0",
    "slideshow": {
     "slide_type": "-"
    }
   },
   "outputs": [],
   "source": [
    "B_idx, B = geometries.l_shaped_geometry(N)\n",
    "\n",
    "# Set forcing term\n",
    "f = torch.ones(1,1,N,N)*1.0\n",
    "\n",
    "# Obtain solutions\n",
    "gtt = im.jacobi_method(B_idx, B, f, torch.ones(1,1,N,N), k = 10000)\n",
    "output = im.H_method(net, B_idx, B, f, torch.ones(1,1,N,N), k = 2000)"
   ]
  },
  {
   "cell_type": "code",
   "execution_count": null,
   "metadata": {
    "ExecuteTime": {
     "end_time": "2018-12-18T13:32:57.538405Z",
     "start_time": "2018-12-18T13:32:27.514Z"
    },
    "autoscroll": false,
    "ein.hycell": false,
    "ein.tags": "worksheet-0",
    "slideshow": {
     "slide_type": "-"
    }
   },
   "outputs": [],
   "source": [
    "helpers.plot_solution(gtt,output,N)"
   ]
  },
  {
   "cell_type": "code",
   "execution_count": null,
   "metadata": {
    "ExecuteTime": {
     "end_time": "2018-12-18T13:32:57.543750Z",
     "start_time": "2018-12-18T13:32:27.529Z"
    }
   },
   "outputs": [],
   "source": [
    "compare_flops(16,k_count_new,k_count_old,3)"
   ]
  },
  {
   "cell_type": "code",
   "execution_count": null,
   "metadata": {},
   "outputs": [],
   "source": [
    "Spectral radius. Don't remove Francesco will delete me"
   ]
  },
  {
   "cell_type": "code",
   "execution_count": null,
   "metadata": {},
   "outputs": [],
   "source": [
    "B_idx = problem_instances[1].B_idx\n",
    "net = nn.Sequential(nn.Conv2d(1, 1, 3, padding=1, bias=False))\n",
    "G = helpers.build_G(B_idx)\n",
    "T = helpers.build_T(N)\n",
    "H = helpers.conv_net_to_matrix(net, N)\n",
    "I = np.eye(N)\n",
    "helpers.spectral_radius(T+G.dot(H).dot(T)-G.dot(H))"
   ]
  },
  {
   "cell_type": "markdown",
   "metadata": {
    "ExecuteTime": {
     "end_time": "2018-12-20T00:05:07.263696Z",
     "start_time": "2018-12-20T00:05:07.261703Z"
    }
   },
   "source": [
    "# Model testing"
   ]
  },
  {
   "cell_type": "code",
   "execution_count": 8,
   "metadata": {
    "ExecuteTime": {
     "end_time": "2018-12-20T18:27:22.535417Z",
     "start_time": "2018-12-20T18:27:22.529385Z"
    }
   },
   "outputs": [
    {
     "data": {
      "text/plain": [
       "{'nb_layers': 3,\n",
       " 'max_epochs': 100,\n",
       " 'batch_size': 10,\n",
       " 'stable_count': 100,\n",
       " 'random_seed': 9}"
      ]
     },
     "execution_count": 8,
     "metadata": {},
     "output_type": "execute_result"
    }
   ],
   "source": [
    "tol = 1e-6\n",
    "base_parameters"
   ]
  },
  {
   "cell_type": "code",
   "execution_count": 109,
   "metadata": {
    "ExecuteTime": {
     "end_time": "2018-12-20T20:44:19.352454Z",
     "start_time": "2018-12-20T20:44:19.342778Z"
    }
   },
   "outputs": [],
   "source": [
    "from IPython.display import display\n",
    "import pandas as pd\n",
    "import seaborn as sns\n",
    "import os\n",
    "\n",
    "import nnpde.model_testing as MT\n",
    "import nnpde.problems as PDEF\n",
    "\n",
    "def obtain_test_results(mdl, grid_size, nb_tests=50, domain_shape='square', nb_layers=4, force=False, plot=False):\n",
    "    data_path = f'./data/nb_layers_{nb_layers}_grid_{grid_size}_domain_{domain_shape}.pkl'\n",
    "    \n",
    "    if force or not os.path.exists(data_path):\n",
    "        test_results = MT.test_results_pd(mdl, nb_tests, grid_size, tol=tol, convergence_tol=1e-12)\n",
    "        test_results.to_pickle(data_path)\n",
    "    else:\n",
    "        test_results = pd.read_pickle(data_path)\n",
    "\n",
    "\n",
    "    if plot:\n",
    "        test_results['iters_ratio'] = test_results['nb_iters_convjac'] / test_results['nb_iters_jac'] \n",
    "        ax = sns.boxplot(data=test_results[['flops_ratio', 'cpu_time_ratio', 'iters_ratio']]\\\n",
    "                         .rename(columns={'flops_ratio': 'Ratio of FLOPS', 'cpu_time_ratio': 'Ratio of CPU time', 'iters_ratio': 'Ratio of #iterations'}), orient=\"h\", palette=\"Set2\")\n",
    "        ax.set_title(f'Test results for grid size: {grid_size}')\n",
    "        plt.savefig(f'./data/grid_{grid_size}_domain_{domain_shape}.eps')\n",
    "        display(ax)\n",
    "    return test_results"
   ]
  },
  {
   "cell_type": "code",
   "execution_count": 108,
   "metadata": {
    "ExecuteTime": {
     "end_time": "2018-12-20T20:44:15.134171Z",
     "start_time": "2018-12-20T20:44:15.125249Z"
    }
   },
   "outputs": [],
   "source": [
    "def agg_for_layer(nb_layers):\n",
    "    mdl = M.JacobyWithConv(**{**base_parameters, **{'max_epochs': 1000, 'optimizer': 'Adadelta', 'nb_layers': nb_layers}}).fit(problem_instances)\n",
    "\n",
    "    ts_32_s = obtain_test_results(mdl, 32, nb_tests=20, nb_layers=nb_layers)\n",
    "    ts_32_l = obtain_test_results(mdl, 32, nb_tests=20, domain_shape='l_shape', nb_layers=nb_layers)\n",
    "    ts_64_s = obtain_test_results(mdl, 64, nb_tests=20, nb_layers=nb_layers)\n",
    "    ts_64_l = obtain_test_results(mdl, 32, nb_tests=20, domain_shape='l_shape', nb_layers=nb_layers)\n",
    "\n",
    "    ts_32_s['grid'] = '32'\n",
    "    ts_32_l['grid'] = '32'\n",
    "    ts_64_l['grid'] = '64'\n",
    "    ts_64_s['grid'] = '64'\n",
    "\n",
    "    ts_32_s['shape'] = 'square'\n",
    "    ts_32_l['shape'] = 'l-shape'\n",
    "    ts_64_l['shape'] = 'l-shape'\n",
    "    ts_64_s['shape'] = 'square'\n",
    "\n",
    "    d = {'flops_ratio': 'FLOPS ratio', 'cpu_time_ratio': 'CPU time ratio', 'nb_iters_jac': 'nb iters existent solver', 'nb_iters_convjac': 'nb iters trained solver'}\n",
    "    ts_concat = pd.concat([ts_32_l, ts_32_s, ts_64_l, ts_64_s]).rename(columns=d)\n",
    "    ta = ts_concat.groupby(['grid', 'shape'])[list(d.values())].mean().reset_index().rename(columns={'grid': 'grid size'})\n",
    "    ta['nb_layers'] = nb_layers\n",
    "    return ta"
   ]
  },
  {
   "cell_type": "code",
   "execution_count": 122,
   "metadata": {
    "ExecuteTime": {
     "end_time": "2018-12-20T21:21:15.336416Z",
     "start_time": "2018-12-20T21:21:15.330314Z"
    }
   },
   "outputs": [
    {
     "data": {
      "text/plain": [
       "['grid size',\n",
       " 'shape',\n",
       " 'FLOPS ratio',\n",
       " 'CPU time ratio',\n",
       " 'nb iters existent solver',\n",
       " 'nb iters trained solver',\n",
       " 'nb_layers']"
      ]
     },
     "execution_count": 122,
     "metadata": {},
     "output_type": "execute_result"
    }
   ],
   "source": [
    "list(final_results.columns)"
   ]
  },
  {
   "cell_type": "code",
   "execution_count": 125,
   "metadata": {
    "ExecuteTime": {
     "end_time": "2018-12-20T21:22:08.038843Z",
     "start_time": "2018-12-20T21:22:08.027830Z"
    }
   },
   "outputs": [],
   "source": [
    "cols = [\n",
    " 'nb_layers',\n",
    " 'grid size',\n",
    " 'shape',\n",
    " 'FLOPS ratio',\n",
    " 'CPU time ratio',\n",
    " 'nb iters existent solver',\n",
    " 'nb iters trained solver'\n",
    "]\n",
    "final_results = pd.concat([l1, l2, l3, ta])[cols]"
   ]
  },
  {
   "cell_type": "code",
   "execution_count": 128,
   "metadata": {
    "ExecuteTime": {
     "end_time": "2018-12-20T21:25:48.434575Z",
     "start_time": "2018-12-20T21:25:48.425153Z"
    }
   },
   "outputs": [],
   "source": [
    "final_results.to_pickle('./data/final_test_results.pkl')"
   ]
  },
  {
   "cell_type": "code",
   "execution_count": 127,
   "metadata": {
    "ExecuteTime": {
     "end_time": "2018-12-20T21:22:22.918609Z",
     "start_time": "2018-12-20T21:22:22.905946Z"
    }
   },
   "outputs": [
    {
     "name": "stdout",
     "output_type": "stream",
     "text": [
      "\\begin{tabular}{rllrrrr}\n",
      "\\toprule\n",
      " nb\\_layers & grid size &    shape &  FLOPS ratio &  CPU time ratio &  nb iters existent solver &  nb iters trained solver \\\\\n",
      "\\midrule\n",
      "         1 &        32 &  l-shape &     0.166500 &        0.342527 &                   1978.15 &                   439.15 \\\\\n",
      "         1 &        32 &   square &     0.166481 &        0.327946 &                   1970.50 &                   437.40 \\\\\n",
      "         1 &        64 &  l-shape &     0.166500 &        0.342527 &                   1978.15 &                   439.15 \\\\\n",
      "         1 &        64 &   square &     0.165729 &        0.360871 &                   8768.60 &                  1937.30 \\\\\n",
      "         2 &        32 &  l-shape &     0.297552 &        0.172135 &                   1978.15 &                   196.20 \\\\\n",
      "         2 &        32 &   square &     0.297714 &        0.175359 &                   1970.50 &                   195.55 \\\\\n",
      "         2 &        64 &  l-shape &     0.297552 &        0.172135 &                   1978.15 &                   196.20 \\\\\n",
      "         2 &        64 &   square &     0.297224 &        0.193050 &                   8768.60 &                   868.60 \\\\\n",
      "         3 &        32 &  l-shape &     0.386607 &        0.117099 &                   1978.15 &                   113.30 \\\\\n",
      "         3 &        32 &   square &     0.386402 &        0.109780 &                   1970.50 &                   112.80 \\\\\n",
      "         3 &        64 &  l-shape &     0.386607 &        0.117099 &                   1978.15 &                   113.30 \\\\\n",
      "         3 &        64 &   square &     0.388426 &        0.114357 &                   8768.60 &                   504.50 \\\\\n",
      "         4 &        32 &  l-shape &     0.504876 &        0.093137 &                   1959.04 &                    82.42 \\\\\n",
      "         4 &        32 &   square &     0.505355 &        0.092382 &                   1960.46 &                    82.56 \\\\\n",
      "         4 &        64 &  l-shape &     0.504876 &        0.093137 &                   1959.04 &                    82.42 \\\\\n",
      "         4 &        64 &   square &     0.511583 &        0.101167 &                   8745.48 &                   372.78 \\\\\n",
      "\\bottomrule\n",
      "\\end{tabular}\n",
      "\n"
     ]
    }
   ],
   "source": [
    "print(final_results.to_latex(index=False))"
   ]
  },
  {
   "cell_type": "code",
   "execution_count": null,
   "metadata": {},
   "outputs": [],
   "source": []
  },
  {
   "cell_type": "code",
   "execution_count": null,
   "metadata": {},
   "outputs": [],
   "source": []
  }
 ],
 "metadata": {
  "hide_input": false,
  "kernelspec": {
   "display_name": "Python 3",
   "language": "python",
   "name": "python3"
  },
  "language_info": {
   "codemirror_mode": {
    "name": "ipython",
    "version": 3
   },
   "file_extension": ".py",
   "mimetype": "text/x-python",
   "name": "python",
   "nbconvert_exporter": "python",
   "pygments_lexer": "ipython3",
   "version": "3.6.7"
  },
  "name": "main.ipynb",
  "toc": {
   "base_numbering": 1,
   "nav_menu": {
    "height": "67.7px",
    "width": "252px"
   },
   "number_sections": true,
   "sideBar": false,
   "skip_h1_title": false,
   "title_cell": "Table of Contents",
   "title_sidebar": "Contents",
   "toc_cell": false,
   "toc_position": {
    "height": "584.933px",
    "left": "1px",
    "right": "2569px",
    "top": "111px",
    "width": "600px"
   },
   "toc_section_display": false,
   "toc_window_display": false
  }
 },
 "nbformat": 4,
 "nbformat_minor": 2
}

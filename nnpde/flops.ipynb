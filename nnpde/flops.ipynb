{
 "cells": [
  {
   "cell_type": "code",
   "execution_count": 1,
   "metadata": {
    "ExecuteTime": {
     "end_time": "2018-12-18T14:57:45.249100Z",
     "start_time": "2018-12-18T14:57:45.229370Z"
    },
    "autoscroll": false,
    "ein.hycell": false,
    "ein.tags": "worksheet-0",
    "slideshow": {
     "slide_type": "-"
    }
   },
   "outputs": [
    {
     "data": {
      "text/html": [
       "<style>.container { width:95% !important; }</style>"
      ],
      "text/plain": [
       "<IPython.core.display.HTML object>"
      ]
     },
     "metadata": {},
     "output_type": "display_data"
    }
   ],
   "source": [
    "def fix_layout(width:int=95):\n",
    "    from IPython.core.display import display, HTML\n",
    "    display(HTML('<style>.container { width:' + str(width) + '% !important; }</style>'))\n",
    "    \n",
    "fix_layout()"
   ]
  },
  {
   "cell_type": "code",
   "execution_count": 2,
   "metadata": {
    "ExecuteTime": {
     "end_time": "2018-12-18T14:57:45.818326Z",
     "start_time": "2018-12-18T14:57:45.251194Z"
    },
    "autoscroll": false,
    "ein.hycell": false,
    "ein.tags": "worksheet-0",
    "slideshow": {
     "slide_type": "-"
    }
   },
   "outputs": [],
   "source": [
    "import sys\n",
    "\n",
    "import numpy as np\n",
    "import matplotlib.pyplot as plt\n",
    "from nnpde.utils.logs import enable_logging, logging \n",
    "from importlib import reload\n",
    "import nnpde.functions.iterative_methods as im\n",
    "from nnpde.functions import geometries, helpers\n",
    "from nnpde.problems import DirichletProblem "
   ]
  },
  {
   "cell_type": "code",
   "execution_count": 3,
   "metadata": {
    "ExecuteTime": {
     "end_time": "2018-12-18T14:57:45.825380Z",
     "start_time": "2018-12-18T14:57:45.820242Z"
    },
    "autoscroll": false,
    "ein.hycell": false,
    "ein.tags": "worksheet-0",
    "slideshow": {
     "slide_type": "-"
    }
   },
   "outputs": [
    {
     "name": "stderr",
     "output_type": "stream",
     "text": [
      "2018-12-19 11:00:26,989 - root - INFO - logs - logging enabled for level: 10\n"
     ]
    }
   ],
   "source": [
    "enable_logging(10)"
   ]
  },
  {
   "cell_type": "code",
   "execution_count": 4,
   "metadata": {
    "ExecuteTime": {
     "end_time": "2018-12-18T14:57:48.041666Z",
     "start_time": "2018-12-18T14:57:48.031499Z"
    },
    "autoscroll": false,
    "ein.hycell": false,
    "ein.tags": "worksheet-0",
    "slideshow": {
     "slide_type": "-"
    }
   },
   "outputs": [],
   "source": [
    "import torch\n",
    "import torch.nn as nn\n",
    "import torch.nn.functional as F"
   ]
  },
  {
   "cell_type": "code",
   "execution_count": 5,
   "metadata": {
    "ExecuteTime": {
     "end_time": "2018-12-18T14:57:48.889961Z",
     "start_time": "2018-12-18T14:57:48.869999Z"
    },
    "autoscroll": false,
    "ein.hycell": false,
    "ein.tags": "worksheet-0",
    "slideshow": {
     "slide_type": "-"
    }
   },
   "outputs": [],
   "source": [
    "# Define train dimension\n",
    "N = 16\n",
    "\n",
    "# Initialize f: we use a zero forcing term for training\n",
    "f = torch.zeros(1, 1, N, N)\n",
    "\n",
    "# For each problem instance define number of iteration to perform to obtain the solution\n",
    "nb_problem_instances = 10\n",
    "problem_instances = [DirichletProblem(k=k) for k in np.random.randint(1, 20, nb_problem_instances)]"
   ]
  },
  {
   "cell_type": "code",
   "execution_count": null,
   "metadata": {
    "ExecuteTime": {
     "end_time": "2018-12-18T14:57:58.510487Z",
     "start_time": "2018-12-18T14:57:49.371451Z"
    },
    "autoscroll": false,
    "ein.hycell": false,
    "ein.tags": "worksheet-0",
    "slideshow": {
     "slide_type": "-"
    }
   },
   "outputs": [],
   "source": [
    "import nnpde.model as M \n",
    "\n",
    "# TODO fit would idealy take X, y, (u_0 and u_*)\n",
    "model = M.JacobyWithConv(max_epochs = 100,batch_size=10, learning_rate = 1e-5).fit(problem_instances)\n",
    "#losses = model.losses"
   ]
  },
  {
   "cell_type": "code",
   "execution_count": null,
   "metadata": {
    "ExecuteTime": {
     "end_time": "2018-12-18T14:58:02.082358Z",
     "start_time": "2018-12-18T14:58:02.065972Z"
    }
   },
   "outputs": [],
   "source": [
    "def count_conv2d(in_shape = (1,1,256,256), out_shape = (1,1,3,3),ks = [3,3],layers = 3):\n",
    "    \n",
    "    multiply_adds = 1 # Each addition and multiplication counts as 1 flop\n",
    "\n",
    "    kw = ks[0]\n",
    "    kh = ks[1]\n",
    "\n",
    "    out_w = out_shape[2]\n",
    "    out_h = out_shape[3]\n",
    "\n",
    "\n",
    "    kernel_ops = multiply_adds * kh * kw # size of kernel (9 in our case)\n",
    "     \n",
    "\n",
    "    output_elements = out_w * out_h # total number of elements\n",
    "    \n",
    "    total_ops = output_elements * kernel_ops # for each element we perform kernel_size operations\n",
    "\n",
    "    total_ops += torch.Tensor([int(total_ops)])\n",
    "    return layers*total_ops"
   ]
  },
  {
   "cell_type": "code",
   "execution_count": null,
   "metadata": {
    "ExecuteTime": {
     "end_time": "2018-12-18T15:03:57.165114Z",
     "start_time": "2018-12-18T15:03:57.159842Z"
    }
   },
   "outputs": [],
   "source": [
    "def compare_flops(n,n_iter_conv,n_iter_jac):\n",
    "    \n",
    "    '''\n",
    "    Number of flops for jacobiwithConv is calculated as the (l*9n^2 + 4 + 2*n^2) where l is the number of layers, 9  because kernel_width * kernel_height = 9, 4 for\n",
    "    the jacobi iteration method and 2*n^2 for the boundary reset operator\n",
    "    '''\n",
    "    \n",
    "    '''\n",
    "    Number of flops for jacobi iteration method is calculated as 4*n^2 + 2*n^2 + n^2 where 4*n^2 results from each iteration step where we sum the neighbors\n",
    "    of each element of the matrix, 2n^2 from the boundary reset operator and n^2 from the forcing term\n",
    "    '''\n",
    "    flop_conv = (count_conv2d((1,1,256,256),(1,1,3,3)) + 2*n**2 + 4) * n_iter_conv \n",
    "    flop_jac = (7 * n**2) * n_iter_jac \n",
    "    return flop_conv/flop_jac"
   ]
  },
  {
   "cell_type": "code",
   "execution_count": null,
   "metadata": {
    "ExecuteTime": {
     "end_time": "2018-12-18T15:25:46.248582Z",
     "start_time": "2018-12-18T15:25:46.185718Z"
    }
   },
   "outputs": [],
   "source": [
    "def test_model(net, n_tests, grid_size):\n",
    "    \n",
    "    losses = []\n",
    "    \n",
    "    loss_to_be_achieved = 1e-6\n",
    "    max_nb_iters = 100000\n",
    "    f = torch.zeros(1, 1, grid_size, grid_size)\n",
    "    u_0 = torch.ones(1, 1, grid_size, grid_size)\n",
    "\n",
    "    for i in range(n_tests):\n",
    "        \n",
    "        problem_instance = DirichletProblem(N=grid_size, k=max_nb_iters * 10, )\n",
    "        gtt = problem_instance.ground_truth\n",
    "        \n",
    "        # jacoby method / known solver\n",
    "        \n",
    "        u_jac = im.jacobi_method(problem_instance.B_idx, problem_instance.B, f, u_0, k = 1)\n",
    "        loss_jac = F.mse_loss(gtt, u_jac) # TODO use loss from metrics\n",
    "        count_jac = 1\n",
    "        \n",
    "        nb_iters = 0\n",
    "        while loss_jac >= loss_to_be_achieved and nb_iters < max_nb_iters:\n",
    "            u_jac = im.jacobi_method(problem_instance.B_idx, problem_instance.B, f, u_jac,k = 1)\n",
    "            loss_jac = F.mse_loss(gtt, u_jac)\n",
    "            count_jac += 1\n",
    "            nb_iters += 1\n",
    "            \n",
    "        # learned solver\n",
    "        \n",
    "        u_h = im.H_method(net,problem_instance.B_idx, problem_instance.B, f, u_0 ,k = 1)\n",
    "        loss_h = F.mse_loss(gtt, u_h)\n",
    "        count_h = 1\n",
    "        \n",
    "        # old method \n",
    "        nb_iters = 0\n",
    "        while loss_h >= loss_to_be_achieved and nb_iters < max_nb_iters:\n",
    "            u_h = im.H_method(net,problem_instance.B_idx, problem_instance.B, f, u_h,k = 1)\n",
    "            loss_h = F.mse_loss(gtt, u_h)\n",
    "            count_h += 1\n",
    "            nb_iters += 1\n",
    "        \n",
    "        \n",
    "        yield count_jac, count_h, compare_flops().item()"
   ]
  },
  {
   "cell_type": "code",
   "execution_count": 49,
   "metadata": {},
   "outputs": [
    {
     "data": {
      "text/plain": [
       "tensor([486.])"
      ]
     },
     "execution_count": 49,
     "metadata": {},
     "output_type": "execute_result"
    }
   ],
   "source": [
    "import pandas as pd\n",
    "test_results = pd.DataFrame(test_model(model.net, 1, 50), columns=['count_jacoby', 'count_learned', 'flops_ratio'])\n",
    "\n",
    "test_results"
   ]
  }
 ],
 "metadata": {
  "kernelspec": {
   "display_name": "Python 3",
   "language": "python",
   "name": "python3"
  },
  "language_info": {
   "codemirror_mode": {
    "name": "ipython",
    "version": 3
   },
   "file_extension": ".py",
   "mimetype": "text/x-python",
   "name": "python",
   "nbconvert_exporter": "python",
   "pygments_lexer": "ipython3",
   "version": "3.7.1"
  },
  "name": "main.ipynb",
  "toc": {
   "base_numbering": 1,
   "nav_menu": {
    "height": "12px",
    "width": "252px"
   },
   "number_sections": true,
   "sideBar": true,
   "skip_h1_title": false,
   "title_cell": "Table of Contents",
   "title_sidebar": "Contents",
   "toc_cell": false,
   "toc_position": null,
   "toc_section_display": true,
   "toc_window_display": false
  }
 },
 "nbformat": 4,
 "nbformat_minor": 2
}

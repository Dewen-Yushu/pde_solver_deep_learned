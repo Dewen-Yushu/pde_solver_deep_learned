{
 "cells": [
  {
   "cell_type": "code",
   "execution_count": 1,
   "metadata": {},
   "outputs": [],
   "source": [
    "import sys\n",
    "#sys.path.append('../../../pdl/pdl/utils/')\n",
    "\n",
    "import numpy as np\n",
    "import matplotlib.pyplot as plt\n",
    "#from logs import enable_logging, logging \n",
    "from importlib import reload\n",
    "import iterativeMethods as im\n"
   ]
  },
  {
   "cell_type": "code",
   "execution_count": 2,
   "metadata": {},
   "outputs": [],
   "source": [
    "#enable_logging(lvl=100)\n",
    "A = np.array([[2, 1], [5, 7]])\n",
    "f = np.array([11, 13])\n",
    "\n",
    "u, res = im.jacobi(A, f)"
   ]
  },
  {
   "cell_type": "markdown",
   "metadata": {},
   "source": [
    "For the real Jacobi method instead the spectral radius of the updating matrix is < 1.\n",
    "For the real Jacobi methods it holds the fact that if the matrix is diagonally dominant then the spectral radius of the updating matrix is guaranteed to be < 1. (http://www.cs.unipr.it/~bagnara/Papers/PDF/SIREV95.pdf)\n",
    "This condition does not hold for the paper Jacobi method."
   ]
  },
  {
   "cell_type": "code",
   "execution_count": 3,
   "metadata": {},
   "outputs": [
    {
     "name": "stdout",
     "output_type": "stream",
     "text": [
      "0.5976143046671969\n"
     ]
    }
   ],
   "source": [
    "jacobi_eig = np.linalg.eigvals(np.linalg.inv(np.diag(np.diag(A))).dot(A-np.diag(np.diag(A))))\n",
    "spectral_radius = np.max(np.abs(jacobi_eig))\n",
    "print(spectral_radius)"
   ]
  },
  {
   "cell_type": "markdown",
   "metadata": {},
   "source": [
    "Build the matrix A for the 2D Poisson problem"
   ]
  },
  {
   "cell_type": "code",
   "execution_count": 4,
   "metadata": {},
   "outputs": [],
   "source": [
    "N = 3\n",
    "A = np.eye(N**2)\n",
    "# Domani length\n",
    "L = 1.0\n",
    "# Cell size\n",
    "h = L/(N-1)\n",
    "\n",
    "# set homegenous dirichlet BC value\n",
    "b = 1.0\n",
    "\n",
    "#Initilize forcing term\n",
    "f = np.ones(N**2)*b\n",
    "\n",
    "for i in range(N, N**2-N):\n",
    "    if (i%N != 0 and i%N != N-1):\n",
    "        # Left and right neigh\n",
    "        A[i][i-1] = -0.25 \n",
    "        A[i][i+1] = -0.25\n",
    "        # Up and low neigh\n",
    "        A[i][i-N] = -0.25 \n",
    "        A[i][i+N] = -0.25 \n",
    "        # set forcing term\n",
    "        f[i] = 0\n"
   ]
  },
  {
   "cell_type": "markdown",
   "metadata": {},
   "source": [
    "Obtain the solution with jacobi method"
   ]
  },
  {
   "cell_type": "code",
   "execution_count": 5,
   "metadata": {},
   "outputs": [],
   "source": [
    "u, res = im.jacobi(A, f, max_iters=10000,tol = 1e-3)\n",
    "#u = np.linalg.inv(A).dot(f)"
   ]
  },
  {
   "cell_type": "markdown",
   "metadata": {},
   "source": [
    "Plot the solution\n",
    "Nice reference for contour plots https://www.python-course.eu/matplotlib_contour_plot.php"
   ]
  },
  {
   "cell_type": "code",
   "execution_count": 6,
   "metadata": {},
   "outputs": [
    {
     "data": {
      "image/png": "[encoded data removed]",
      "text/plain": [
       "<Figure size 432x288 with 2 Axes>"
      ]
     },
     "metadata": {
      "needs_background": "light"
     },
     "output_type": "display_data"
    }
   ],
   "source": [
    "x = np.linspace(0, L, N)\n",
    "y = np.linspace(0, L, N)\n",
    "X, Y = np.meshgrid(x, y)\n",
    "\n",
    "Z = np.reshape(u, [N, N])\n",
    "plt.figure()\n",
    "cp = plt.contourf(X, Y, Z)\n",
    "plt.colorbar(cp)\n",
    "plt.title('Filled Contours Plot')\n",
    "plt.xlabel('x [-]')\n",
    "plt.ylabel('y [-]')\n",
    "plt.show()"
   ]
  },
  {
   "cell_type": "markdown",
   "metadata": {},
   "source": [
    "Obtain the same solution with reset operator G\n"
   ]
  },
  {
   "cell_type": "code",
   "execution_count": 7,
   "metadata": {},
   "outputs": [
    {
     "name": "stdout",
     "output_type": "stream",
     "text": [
      "[ 0  1  2  3  4  5  6  7  8  9 10 11 12 13 14 15]\n",
      "[240 241 242 243 244 245 246 247 248 249 250 251 252 253 254 255]\n",
      "[ 16  32  48  64  80  96 112 128 144 160 176 192 208 224]\n",
      "[ 31  47  63  79  95 111 127 143 159 175 191 207 223 239]\n"
     ]
    },
    {
     "data": {
      "image/png": "[encoded data removed]",
      "text/plain": [
       "<Figure size 432x288 with 2 Axes>"
      ]
     },
     "metadata": {
      "needs_background": "light"
     },
     "output_type": "display_data"
    }
   ],
   "source": [
    "#### Initialize A, b\n",
    "N = 16\n",
    "a =  np.ones(N**2)\n",
    "b = -np.ones(N**2-1)*0.25\n",
    "c = -np.ones(N**2-N)*0.25\n",
    "\n",
    "A = np.diag(a) + np.diag(b, 1) + np.diag(b, -1) + np.diag(c, N) + np.diag(c, -N)\n",
    "#print(A)\n",
    "\n",
    "\n",
    "b_top_idx = np.arange(N)\n",
    "b_bottom_idx = np.arange(N**2-N, N**2)\n",
    "b_left_idx = np.linspace(N, N**2-2*N, N-2, dtype = int)\n",
    "b_right_idx = np.linspace(2*N-1, N**2-N-1, N-2, dtype = int)\n",
    "\n",
    "\n",
    "print(b_top_idx)\n",
    "print(b_bottom_idx)\n",
    "print(b_left_idx)\n",
    "print(b_right_idx)\n",
    "\n",
    "b_idx = np.append(b_top_idx, b_bottom_idx)\n",
    "b_idx = np.append(b_idx, b_left_idx)\n",
    "b_idx = np.append(b_idx, b_right_idx)\n",
    "#print(b_idx)\n",
    "b = np.ones(np.shape(b_idx))*3.0\n",
    "#print(b)\n",
    "f = np.ones(N**2)\n",
    "\n",
    "u, res = im.jacobi(A, f, b_idx = b_idx, b = b,max_iters=1000,tol = 1e-2)\n",
    "\n",
    "x = np.linspace(0, L, N)\n",
    "y = np.linspace(0, L, N)\n",
    "X, Y = np.meshgrid(x, y)\n",
    "\n",
    "Z = np.reshape(u, [N, N])\n",
    "plt.figure()\n",
    "cp = plt.contourf(X, Y, Z)\n",
    "plt.colorbar(cp)\n",
    "plt.title('Filled Contours Plot')\n",
    "plt.xlabel('x [-]')\n",
    "plt.ylabel('y [-]')\n",
    "plt.show()\n",
    "\n"
   ]
  },
  {
   "cell_type": "code",
   "execution_count": 8,
   "metadata": {},
   "outputs": [
    {
     "name": "stdout",
     "output_type": "stream",
     "text": [
      "weight Parameter containing:\n",
      "tensor([[[[0.0000, 0.2500, 0.0000],\n",
      "          [0.2500, 0.0000, 0.2500],\n",
      "          [0.0000, 0.2500, 0.0000]]]])\n",
      "0.weight Parameter containing:\n",
      "tensor([[[[ 0.1878,  0.2623, -0.1607],\n",
      "          [ 0.2837,  0.2756,  0.0679],\n",
      "          [-0.1897,  0.3218,  0.0832]]]], requires_grad=True)\n",
      "1.weight Parameter containing:\n",
      "tensor([[[[-0.0952, -0.1935,  0.1645],\n",
      "          [ 0.0357,  0.1540, -0.0453],\n",
      "          [ 0.2409, -0.3309,  0.1625]]]], requires_grad=True)\n",
      "2.weight Parameter containing:\n",
      "tensor([[[[ 0.1240,  0.0039, -0.0776],\n",
      "          [ 0.2830, -0.2546, -0.1309],\n",
      "          [ 0.2583, -0.2391,  0.0589]]]], requires_grad=True)\n"
     ]
    }
   ],
   "source": [
    "import torch\n",
    "import torch.nn as nn\n",
    "import torch.nn.functional as F\n",
    "\n",
    "# One convolution with a 3x3 kernel\n",
    "#net = nn.Conv2d(1, 1, 3, padding=1, bias=False)\n",
    "\n",
    "# Do we want to use 3 layers?\n",
    "jac = nn.Conv2d(1, 1, 3, padding=1, bias=False)\n",
    "\n",
    "initial_weights = torch.zeros(1,1,3,3)\n",
    "initial_weights[0,0,0,1] = 0.25\n",
    "initial_weights[0,0,2,1] = 0.25\n",
    "initial_weights[0,0,1,0] = 0.25\n",
    "initial_weights[0,0,1,2] = 0.25\n",
    "jac.weight = nn.Parameter(initial_weights)\n",
    "\n",
    "for param in jac.parameters():\n",
    "    param.requires_grad = False\n",
    "    \n",
    "for name, param in jac.named_parameters():\n",
    "    print(name, param)\n",
    "\n",
    "\n",
    "    \n",
    "net = nn.Sequential(\n",
    "    nn.Conv2d(1, 1, 3, padding=1, bias=False),\n",
    "    nn.Conv2d(1, 1, 3, padding=1, bias=False),\n",
    "    nn.Conv2d(1, 1, 3, padding=1, bias=False),\n",
    ")\n",
    "\n",
    "\n",
    "# Initialize the wights s.t. H corresponds T (see 2.3.1)\n",
    "#initial_weights = torch.rand(1,1,3,3)*0.01\n",
    "#initial_weights[0,0,0,1] = 0.25\n",
    "#initial_weights[0,0,2,1] = 0.25\n",
    "#initial_weights[0,0,1,0] = 0.25\n",
    "#initial_weights[0,0,1,2] = 0.25\n",
    "#initial_weights[0,0,1,1] = 1.0\n",
    "#net.weight = nn.Parameter(initial_weights)\n",
    "\n",
    "# Set the optimizer, you have to play with lr: if too big nan\n",
    "optim = torch.optim.SGD(net.parameters(), lr=1e-6)\n",
    "#optim = torch.optim.Adam(net.parameters(), lr=1e-6)\n",
    "#optim = torch.optim.ASGD(net.parameters())\n",
    "# SGD is much faster\n",
    "\n",
    "for name, param in net.named_parameters():\n",
    "    print(name, param)\n",
    "\n"
   ]
  },
  {
   "cell_type": "code",
   "execution_count": 9,
   "metadata": {},
   "outputs": [],
   "source": [
    "# Build G matrix and B to reset the boundaries\n",
    "G = np.eye(N**2)\n",
    "G[b_idx, b_idx] -= 1\n",
    "B = np.zeros(N**2)\n",
    "B[b_idx] = b\n",
    "\n",
    "# Convert G and B to torch\n",
    "Bt = torch.zeros(1,1,N**2,1)\n",
    "Bt[0, 0, :,0] = torch.from_numpy(B)\n",
    "Gt = torch.zeros(1,1,N**2,N**2)\n",
    "Gt[0,0,:, :] = torch.from_numpy(G)\n",
    "\n",
    "# Build T matrix for standard jacobi iteration\n",
    "I = torch.zeros(1,1,N**2,N**2)\n",
    "I[0,0,:,:] = torch.eye(N**2,N**2)\n",
    "At = torch.zeros(1,1,N**2,N**2)\n",
    "At[0,0,:, :] = torch.from_numpy(A)\n",
    "T = I - At\n"
   ]
  },
  {
   "cell_type": "code",
   "execution_count": 10,
   "metadata": {},
   "outputs": [],
   "source": [
    "losses = []\n"
   ]
  },
  {
   "cell_type": "markdown",
   "metadata": {},
   "source": [
    "The output is obtained applying k times G(Tu+net(Tu)+f+net(f)-net(u)) + B = G(Tu+HTu+f+Hf-Hu) + B.\n",
    "G is the I with zeros in the boundary nodes\n",
    "B is a vector with the boundary values in the boundary nodes and zeros elsewhere."
   ]
  },
  {
   "cell_type": "code",
   "execution_count": 11,
   "metadata": {},
   "outputs": [],
   "source": [
    "# Function that builds matrix H from the convolutional neural net\n",
    "# We will later need H in order to enforce the spectral radius constraint\n",
    "def build_H_from_net(param = param):\n",
    "    vector_H = np.zeros(N**2)\n",
    "    vector_H[0] = param[0, 0, 1, 1]\n",
    "    vector_H[1] = param[0, 0, 1, 2]\n",
    "    vector_H[N**2-1] = param[0, 0, 1, 0]\n",
    "\n",
    "    vector_H[N**2-N] = param[0, 0, 0, 1]\n",
    "    vector_H[N**2-N-1] = param[0, 0, 0, 0]\n",
    "    vector_H[N**2-N+1] = param[0, 0, 0, 2]\n",
    "\n",
    "    vector_H[N] = param[0, 0, 2, 1]\n",
    "    vector_H[N-1] = param[0, 0, 2, 0]\n",
    "    vector_H[N+1] = param[0, 0, 2, 2]\n",
    "\n",
    "\n",
    "    p = np.zeros([3,3])\n",
    "    for name, param in net.named_parameters():\n",
    "        for i in range(3):\n",
    "            for j in range(3):\n",
    "                p[i,j] = param[0,0,i,j]\n",
    "\n",
    "    H = np.diag(np.ones(N**2)*p[1,1]) + np.diag(np.ones(N**2-1)*p[1,2], 1) + np.diag(np.ones(N**2-1)*p[1,0], -1) + np.diag(np.ones(N**2-N)*p[2,1], N) + np.diag(np.ones(N**2-N)*p[0,1], -N)\n",
    "    return H"
   ]
  },
  {
   "cell_type": "code",
   "execution_count": 12,
   "metadata": {},
   "outputs": [],
   "source": [
    "H = build_H_from_net()"
   ]
  },
  {
   "cell_type": "code",
   "execution_count": 13,
   "metadata": {},
   "outputs": [],
   "source": [
    "lambda_ = 0.7 # Regularization term for the spectral radius (This is not the optimal one)\n",
    "k = 100 # We can sample it as before, but just for testing purposes"
   ]
  },
  {
   "cell_type": "code",
   "execution_count": 14,
   "metadata": {},
   "outputs": [
    {
     "data": {
      "text/plain": [
       "torch.Size([1, 1, 256, 256])"
      ]
     },
     "execution_count": 14,
     "metadata": {},
     "output_type": "execute_result"
    }
   ],
   "source": [
    "Id = torch.empty(1,1,N**2,N**2)\n",
    "Id[0,0,] = torch.eye(N**2)\n",
    "Id.shape"
   ]
  },
  {
   "cell_type": "code",
   "execution_count": 15,
   "metadata": {},
   "outputs": [],
   "source": [
    "def calculate_spectral_radius(T,H):\n",
    "    return np.max(np.real(np.fft.fft(T))) + np.max(np.real(np.fft.fft(H)))*np.max(np.real(np.fft.fft(T))) - \\\n",
    "        np.max(np.real(np.fft.fft(H)))"
   ]
  },
  {
   "cell_type": "code",
   "execution_count": 16,
   "metadata": {},
   "outputs": [
    {
     "name": "stdout",
     "output_type": "stream",
     "text": [
      "spectral radius is\n",
      "0.9999999999999999\n",
      "spectral radius is\n",
      "0.9999999999999999\n",
      "spectral radius is\n",
      "0.9999999999999999\n",
      "spectral radius is\n",
      "0.9999999999999999\n",
      "spectral radius is\n",
      "0.9999999999999999\n",
      "spectral radius is\n",
      "0.9999999999999999\n",
      "spectral radius is\n",
      "0.9999999999999999\n",
      "spectral radius is\n",
      "0.9999999999999999\n",
      "spectral radius is\n",
      "0.9999999999999999\n",
      "spectral radius is\n",
      "0.9999999999999999\n",
      "spectral radius is\n",
      "0.9999999999999999\n",
      "spectral radius is\n",
      "0.9999999999999999\n",
      "spectral radius is\n",
      "0.9999999999999999\n",
      "spectral radius is\n",
      "0.9999999999999999\n",
      "spectral radius is\n",
      "0.9999999999999999\n",
      "spectral radius is\n",
      "0.9999999999999999\n",
      "spectral radius is\n",
      "0.9999999999999999\n",
      "spectral radius is\n",
      "0.9999999999999999\n",
      "spectral radius is\n",
      "0.9999999999999999\n",
      "spectral radius is\n",
      "0.9999999999999999\n",
      "spectral radius is\n",
      "0.9999999999999999\n",
      "spectral radius is\n",
      "0.9999999999999999\n",
      "spectral radius is\n",
      "0.9999999999999999\n",
      "spectral radius is\n",
      "0.9999999999999999\n",
      "spectral radius is\n",
      "0.9999999999999999\n",
      "spectral radius is\n",
      "0.9999999999999999\n",
      "spectral radius is\n",
      "0.9999999999999999\n",
      "spectral radius is\n",
      "0.9999999999999999\n",
      "spectral radius is\n",
      "0.9999999999999999\n",
      "spectral radius is\n",
      "0.9999999999999999\n",
      "spectral radius is\n",
      "0.9999999999999999\n",
      "spectral radius is\n",
      "0.9999999999999999\n",
      "spectral radius is\n",
      "0.9999999999999999\n",
      "spectral radius is\n",
      "0.9999999999999999\n",
      "spectral radius is\n",
      "0.9999999999999999\n",
      "spectral radius is\n",
      "0.9999999999999999\n",
      "spectral radius is\n",
      "0.9999999999999999\n",
      "spectral radius is\n",
      "0.9999999999999999\n",
      "spectral radius is\n",
      "0.9999999999999999\n",
      "spectral radius is\n",
      "0.9999999999999999\n",
      "0.weight Parameter containing:\n",
      "tensor([[[[ 0.1762,  0.2626, -0.1466],\n",
      "          [ 0.2762,  0.2942,  0.0406],\n",
      "          [-0.1720,  0.2995,  0.1049]]]], requires_grad=True)\n",
      "1.weight Parameter containing:\n",
      "tensor([[[[-0.0824, -0.2007,  0.1624],\n",
      "          [ 0.0353,  0.1464, -0.0297],\n",
      "          [ 0.2315, -0.3162,  0.1456]]]], requires_grad=True)\n",
      "2.weight Parameter containing:\n",
      "tensor([[[[ 0.1674, -0.0536, -0.0173],\n",
      "          [ 0.2395, -0.2139, -0.1568],\n",
      "          [ 0.2808, -0.2467,  0.0458]]]], requires_grad=True)\n"
     ]
    }
   ],
   "source": [
    "# Define train dimension\n",
    "N = 16\n",
    "\n",
    "for _ in range(20):\n",
    "    prev_loss = 0\n",
    "    net.zero_grad()\n",
    "\n",
    "    # Sample k\n",
    "    #k = np.random.randint(1, 20)\n",
    "    \n",
    "    # Define geometry 1.0 inner points 0.0 elsewhere\n",
    "    B_idx = torch.ones(1,1,N,N)\n",
    "    B_idx[0,0,0,:] = torch.zeros(N)\n",
    "    B_idx[0,0,N-1,:] = torch.zeros(N)\n",
    "    B_idx[0,0,:,0] = torch.zeros(N)\n",
    "    B_idx[0,0,:,N-1] = torch.zeros(N)\n",
    "    \n",
    "    # Define boundary values\n",
    "    B = torch.abs(B_idx-1)*np.random.rand()*3\n",
    "    \n",
    "    # Initialize f: we use a zero forcing term for training\n",
    "    f = torch.zeros(1, 1, N, N)\n",
    "\n",
    "    # Initialize solution vector randomly \n",
    "    initial_u = torch.randn(1, 1, N, N, requires_grad = True)\n",
    "    \n",
    "    # Compute ustar = ground_truth solution torch \n",
    "    ground_truth = im.jacobi_method(B_idx, B, f, initial_u = None, k = 1000)\n",
    "\n",
    "    # Solve the same problem, at each iteration the only thing changing are the weights, which are optimized\n",
    "    for _ in range(k):\n",
    "        \n",
    "        # Compute the soultion with the updated weights\n",
    "        u = im.H_method(net, B_idx, B, f, initial_u, k)\n",
    "        \n",
    "        # Define the loss, CHECK if it is correct wrt paper\n",
    "                \n",
    "        spectral_radius = calculate_spectral_radius(T,H)\n",
    "        \n",
    "        print('spectral radius is')\n",
    "        print(spectral_radius)\n",
    "        loss = F.mse_loss(ground_truth, u) + lambda_ * max(0,spectral_radius - 1)\n",
    "        \n",
    "        \n",
    "        # Exit optimization \n",
    "        tol = 1e-6\n",
    "        if loss.item() <= tol or loss.item() - prev_loss < tol:\n",
    "            break\n",
    "            \n",
    "        # Backpropagation\n",
    "        loss.backward(retain_graph =  False)\n",
    "        \n",
    "        # SGD step\n",
    "        optim.step()\n",
    "        \n",
    "        # Store lossses for visualization\n",
    "        losses.append(loss.item())\n",
    "        prev_loss = loss.item()\n",
    "\n",
    "for name, param in net.named_parameters():\n",
    "    print(name, param)"
   ]
  },
  {
   "cell_type": "markdown",
   "metadata": {},
   "source": [
    "Plot the losses"
   ]
  },
  {
   "cell_type": "code",
   "execution_count": 17,
   "metadata": {},
   "outputs": [
    {
     "name": "stdout",
     "output_type": "stream",
     "text": [
      "final loss is 12.450942993164062\n"
     ]
    },
    {
     "data": {
      "image/png": "[encoded data removed]",
      "text/plain": [
       "<Figure size 432x288 with 1 Axes>"
      ]
     },
     "metadata": {
      "needs_background": "light"
     },
     "output_type": "display_data"
    }
   ],
   "source": [
    "import matplotlib.pyplot as plt\n",
    "color_map = plt.get_cmap('cubehelix')\n",
    "colors = color_map(np.linspace(0.1, 1, 10))\n",
    "\n",
    "losses_fig = plt.figure()\n",
    "n_iter = np.arange(np.shape(losses)[0])\n",
    "plt.plot(n_iter, losses, color = colors[0], linewidth = 1, linestyle = \"-\", marker = \"\",  label='Loss')\n",
    "\n",
    "plt.legend(bbox_to_anchor=(0., -0.3), loc=3, borderaxespad=0.)\n",
    "plt.xlabel('n iteration', fontsize=14)\n",
    "plt.ylabel('Loss', fontsize=14)\n",
    "plt.title('Loss')\n",
    "plt.grid(True, which = \"both\", linewidth = 0.5,  linestyle = \"--\")\n",
    "\n",
    "print(\"final loss is {0}\".format(losses[-1]))\n",
    "#losses_fig.savefig('gridSearch.eps', bbox_inches='tight')"
   ]
  },
  {
   "cell_type": "code",
   "execution_count": 18,
   "metadata": {},
   "outputs": [
    {
     "name": "stdout",
     "output_type": "stream",
     "text": [
      "100\n"
     ]
    }
   ],
   "source": [
    "print(k)"
   ]
  },
  {
   "cell_type": "markdown",
   "metadata": {},
   "source": [
    "Compare solution obtained with ground truth "
   ]
  },
  {
   "cell_type": "code",
   "execution_count": 22,
   "metadata": {},
   "outputs": [],
   "source": [
    "# Just factorized some code to make it compatible with the new functions in iterativeMethod\n",
    "k = 500\n",
    "# Initialize u0\n",
    "#a = np.random.rand(N**2)\n",
    "B_idx = torch.ones(1,1,N,N)\n",
    "B_idx[0,0,0,:] = torch.zeros(N)\n",
    "B_idx[0,0,N-1,:] = torch.zeros(N)\n",
    "B_idx[0,0,:,0] = torch.zeros(N)\n",
    "B_idx[0,0,:,N-1] = torch.zeros(N)\n",
    "\n",
    "# Define boundary values\n",
    "B = torch.abs(B_idx-1)*np.random.rand()*3\n",
    "\n",
    "# Initialize f: we use a zero forcing term for training\n",
    "f = torch.zeros(1, 1, N, N)\n",
    "\n",
    "# Initialize solution vector randomly \n",
    "initial_u = torch.randn(1, 1, N, N, requires_grad = True)\n",
    "\n",
    "# Compute ustar = ground_truth solution torch \n",
    "ground_truth = im.jacobi_method(B_idx, B, f, initial_u = None, k = 1000)\n",
    "output = im.H_method(net, B_idx, B, f, initial_u, k)\n",
    "        \n",
    "# Define the loss, CHECK if it is correct wrt paper\n",
    "\n",
    "# I should look for an analitical solution\n",
    "\n",
    "loss = F.mse_loss(ground_truth, u)"
   ]
  },
  {
   "cell_type": "code",
   "execution_count": 23,
   "metadata": {},
   "outputs": [
    {
     "name": "stdout",
     "output_type": "stream",
     "text": [
      "tensor(8.0109e-09, grad_fn=<SumBackward0>)\n"
     ]
    }
   ],
   "source": [
    "print(F.mse_loss(ground_truth, output))"
   ]
  },
  {
   "cell_type": "code",
   "execution_count": 24,
   "metadata": {},
   "outputs": [
    {
     "name": "stdout",
     "output_type": "stream",
     "text": [
      "0.9999999999999999\n"
     ]
    }
   ],
   "source": [
    "H = build_H_from_net()\n",
    "Heq = T.numpy()+H.dot(T.numpy())-H\n",
    "reg = 0.0\n",
    "#spectral_radius = (np.max(np.real(np.linalg.eigvals(Heq))))\n",
    "\n",
    "spectral_radius = calculate_spectral_radius(T,H)\n",
    "print(spectral_radius)"
   ]
  }
 ],
 "metadata": {
  "kernelspec": {
   "display_name": "Python 3",
   "language": "python",
   "name": "python3"
  },
  "language_info": {
   "codemirror_mode": {
    "name": "ipython",
    "version": 3
   },
   "file_extension": ".py",
   "mimetype": "text/x-python",
   "name": "python",
   "nbconvert_exporter": "python",
   "pygments_lexer": "ipython3",
   "version": "3.5.6"
  },
  "toc": {
   "base_numbering": 1,
   "nav_menu": {},
   "number_sections": true,
   "sideBar": true,
   "skip_h1_title": false,
   "title_cell": "Table of Contents",
   "title_sidebar": "Contents",
   "toc_cell": false,
   "toc_position": {},
   "toc_section_display": true,
   "toc_window_display": false
  }
 },
 "nbformat": 4,
 "nbformat_minor": 2
}

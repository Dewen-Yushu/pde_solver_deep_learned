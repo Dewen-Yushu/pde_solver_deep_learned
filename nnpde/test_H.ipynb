{
 "cells": [
  {
   "cell_type": "code",
   "execution_count": 1,
   "metadata": {
    "ExecuteTime": {
     "end_time": "2018-12-09T20:44:41.335024Z",
     "start_time": "2018-12-09T20:44:41.311263Z"
    }
   },
   "outputs": [
    {
     "data": {
      "text/html": [
       "<style>.container { width:95% !important; }</style>"
      ],
      "text/plain": [
       "<IPython.core.display.HTML object>"
      ]
     },
     "metadata": {},
     "output_type": "display_data"
    }
   ],
   "source": [
    "def fix_layout(width:int=95):\n",
    "    from IPython.core.display import display, HTML\n",
    "    display(HTML('<style>.container { width:' + str(width) + '% !important; }</style>'))\n",
    "    \n",
    "fix_layout()"
   ]
  },
  {
   "cell_type": "code",
   "execution_count": 5,
   "metadata": {
    "ExecuteTime": {
     "end_time": "2018-12-09T20:45:11.541474Z",
     "start_time": "2018-12-09T20:45:11.288880Z"
    }
   },
   "outputs": [],
   "source": [
    "import sys\n",
    "\n",
    "import numpy as np\n",
    "import matplotlib.pyplot as plt\n",
    "#from logs import enable_logging, logging \n",
    "from importlib import reload\n",
    "import nnpde.functions.iterative_methods as im"
   ]
  },
  {
   "cell_type": "code",
   "execution_count": 3,
   "metadata": {
    "ExecuteTime": {
     "end_time": "2018-12-09T18:46:55.524986Z",
     "start_time": "2018-12-09T18:46:55.469324Z"
    }
   },
   "outputs": [
    {
     "name": "stdout",
     "output_type": "stream",
     "text": [
      "0.weight Parameter containing:\n",
      "tensor([[[[ 0.0947,  0.2795,  0.1179],\n",
      "          [ 0.2345,  0.2990,  0.1043],\n",
      "          [-0.2519, -0.3160, -0.2835]]]], requires_grad=True)\n",
      "1.weight Parameter containing:\n",
      "tensor([[[[-0.3142,  0.0852, -0.1050],\n",
      "          [-0.0204, -0.2876, -0.1073],\n",
      "          [ 0.0859, -0.2519, -0.2386]]]], requires_grad=True)\n",
      "2.weight Parameter containing:\n",
      "tensor([[[[-0.0658,  0.2234,  0.0408],\n",
      "          [ 0.2054, -0.2600,  0.2123],\n",
      "          [-0.0076,  0.0479,  0.0455]]]], requires_grad=True)\n"
     ]
    }
   ],
   "source": [
    "import torch\n",
    "import torch.nn as nn\n",
    "import torch.nn.functional as F\n",
    "\n",
    "net = nn.Sequential(\n",
    "    nn.Conv2d(1, 1, 3, padding=1, bias=False),\n",
    "    nn.Conv2d(1, 1, 3, padding=1, bias=False),\n",
    "    nn.Conv2d(1, 1, 3, padding=1, bias=False),\n",
    ")\n",
    "\n",
    "\n",
    "# Set the optimizer, you have to play with lr: if too big nan\n",
    "optim = torch.optim.SGD(net.parameters(), lr = 1e-6)\n",
    "#optim = torch.optim.Adam(net.parameters(), lr=1e-6)\n",
    "#optim = torch.optim.ASGD(net.parameters())\n",
    "# SGD seems much faster\n",
    "\n",
    "for name, param in net.named_parameters():\n",
    "    print(name, param)"
   ]
  },
  {
   "cell_type": "markdown",
   "metadata": {},
   "source": [
    "New one based only on convolutions and pointwise tensor operations, see iterativeMethods.py"
   ]
  },
  {
   "cell_type": "code",
   "execution_count": 4,
   "metadata": {
    "ExecuteTime": {
     "end_time": "2018-12-09T18:47:13.354296Z",
     "start_time": "2018-12-09T18:47:13.348984Z"
    }
   },
   "outputs": [],
   "source": [
    "losses = []"
   ]
  },
  {
   "cell_type": "code",
   "execution_count": 5,
   "metadata": {
    "ExecuteTime": {
     "end_time": "2018-12-09T18:52:50.567107Z",
     "start_time": "2018-12-09T18:52:50.557162Z"
    }
   },
   "outputs": [
    {
     "data": {
      "text/plain": [
       "tensor([[[[ 0.0117,  0.2199,  0.2298,  2.8531,  0.0572,  1.8276,  1.1062,\n",
       "            0.5801,  0.2570,  0.2081,  0.4647,  0.2198,  1.2238, -0.1812,\n",
       "            0.2252, -1.6185],\n",
       "          [-1.0893, -1.3318,  0.7351, -2.1962, -2.3538, -0.7183, -0.5873,\n",
       "           -1.1412,  0.3919,  0.4608, -0.5214,  0.6910,  2.1150, -2.4828,\n",
       "           -0.1597,  0.2092],\n",
       "          [ 1.0032, -2.6499, -0.2443, -2.5802,  0.1630,  1.2559, -0.4505,\n",
       "           -0.0906,  0.1467, -0.2131,  0.0959,  0.4198, -1.6819,  0.4381,\n",
       "           -0.0147,  1.0400],\n",
       "          [ 1.5425,  0.7459,  0.3838,  0.2625,  0.6877,  0.8689, -1.5392,\n",
       "           -1.4409, -0.2665,  1.4188,  0.8137, -2.4478, -0.8992, -0.1012,\n",
       "            0.4845, -0.3119],\n",
       "          [ 0.6192,  0.1009,  1.2316, -0.6503, -1.6637,  0.0782, -0.5939,\n",
       "            0.1057, -1.4336,  0.2434,  0.9625, -0.2317,  0.0832,  1.2070,\n",
       "            1.8883,  2.0836],\n",
       "          [ 0.2646, -1.0254, -1.5435,  1.5401,  0.8608, -1.6140,  0.9463,\n",
       "            0.6688,  0.9118, -0.2768, -0.9277, -0.7518, -0.7967,  0.8565,\n",
       "            1.5504, -0.8963],\n",
       "          [ 0.6982, -0.7101,  0.6345, -1.2738,  0.2194,  0.0760, -1.7389,\n",
       "           -0.5664, -0.8854,  0.0138,  1.3600, -1.6682,  1.0811,  0.1873,\n",
       "           -0.8043,  0.9904],\n",
       "          [ 0.3689, -0.0136,  0.1797, -2.1705, -0.9411,  2.0009, -1.1368,\n",
       "            1.5952, -0.8562,  0.1361,  0.5702,  0.1302, -0.3454, -0.3506,\n",
       "           -0.3048,  0.8152],\n",
       "          [ 0.9039, -1.4368, -0.7261, -0.5663,  0.2302,  0.3580, -0.0673,\n",
       "            0.2659,  0.2620, -0.7523,  1.1285,  0.3808,  0.4696, -0.2070,\n",
       "           -2.3531,  0.7963],\n",
       "          [ 0.4781, -0.8347, -0.5705, -0.5587,  0.1980,  0.1223,  2.9071,\n",
       "           -0.0561, -1.0378,  0.0819,  0.3229, -1.5263,  0.4689,  0.4877,\n",
       "           -0.1108, -1.5374],\n",
       "          [ 0.0744,  0.1133,  1.6357,  1.6804,  0.5217, -0.1100,  0.3492,\n",
       "            2.1377,  0.3956, -0.5086, -0.5597, -0.8260, -0.9009, -1.2834,\n",
       "            0.4618,  0.2741],\n",
       "          [-0.1978, -1.3315, -0.6467,  1.5429, -0.6276,  0.6241, -0.4082,\n",
       "            1.0432,  0.3079,  1.5228,  1.0671, -0.3208, -0.7062,  1.6251,\n",
       "            0.6522,  0.6868],\n",
       "          [-0.2368, -0.6735,  0.8323,  1.4964,  0.8752, -0.4187, -3.0457,\n",
       "            0.4295, -0.1299, -0.6797, -0.2856,  0.7494,  0.6624, -1.2247,\n",
       "           -1.3887, -1.5769],\n",
       "          [-0.7559, -0.9777, -0.5904, -1.2428, -0.3001,  0.5927, -0.0669,\n",
       "           -0.7251, -0.4684,  0.0737, -1.5497, -0.9847, -1.3819,  0.4357,\n",
       "            0.9253, -1.5313],\n",
       "          [ 0.0507, -0.8452,  0.7969,  0.1469, -0.7650, -0.7263, -0.6070,\n",
       "            0.2612,  0.2676, -0.8833,  0.2109,  0.6863,  0.3621,  1.0506,\n",
       "           -1.0526, -0.8939],\n",
       "          [ 0.9406, -0.8090, -0.4599,  0.8859, -0.7426, -0.6762,  1.7404,\n",
       "            0.6092,  0.6769, -0.7605, -0.8953,  0.7264, -0.5330, -0.8917,\n",
       "           -0.9331,  1.2349]]]])"
      ]
     },
     "execution_count": 5,
     "metadata": {},
     "output_type": "execute_result"
    }
   ],
   "source": [
    "some_tensor = torch.randn(1, 1, 16, 16)\n",
    "some_tensor"
   ]
  },
  {
   "cell_type": "code",
   "execution_count": null,
   "metadata": {},
   "outputs": [],
   "source": [
    "# Define train dimension\n",
    "N = 16\n",
    "\n",
    "for _ in range(20):\n",
    "    net.zero_grad()\n",
    "\n",
    "    # Sample k\n",
    "    k = np.random.randint(1, 20)\n",
    "    \n",
    "    # Define geometry 1.0 inner points 0.0 elsewhre\n",
    "    B_idx = torch.ones(1,1,N,N)\n",
    "    B_idx[0,0,0,:] = torch.zeros(N)\n",
    "    B_idx[0,0,N-1,:] = torch.zeros(N)\n",
    "    B_idx[0,0,:,0] = torch.zeros(N)\n",
    "    B_idx[0,0,:,N-1] = torch.zeros(N)\n",
    "    \n",
    "    # Define boundary values\n",
    "    B = torch.abs(B_idx-1)*np.random.rand()*3\n",
    "    \n",
    "    # Initialize f: we use a zero forcing term for training\n",
    "    f = torch.zeros(1, 1, N, N)\n",
    "\n",
    "    # Initialize solution vector randomly \n",
    "    initial_u = torch.randn(1, 1, N, N, requires_grad = True)\n",
    "    \n",
    "    # Compute ustar = ground_truth solution torch \n",
    "    ground_truth = im.jacobi_method(B_idx, B, f, initial_u = None, k = 1000)\n",
    "\n",
    "    # Solve the same problem, at each iteration the only thing changing are the weights, which are optimized\n",
    "    for _ in range(20):\n",
    "        \n",
    "        # Compute the solution with the updated weights\n",
    "        u = im.H_method(net, B_idx, B, f, initial_u, k)\n",
    "        \n",
    "        # Define the loss, CHECK if it is correct wrt paper\n",
    "        loss = F.mse_loss(ground_truth, u)\n",
    "        \n",
    "        \"\"\" TODO \n",
    "        spectral_radius = TODO\n",
    "        regularization = 1e10\n",
    "        if spectral_radius > 1\n",
    "           loss += regularization\n",
    "        \"\"\"\n",
    "        \n",
    "        # Exit optimization \n",
    "        tol = 1e-6\n",
    "        if loss.item() <= tol:\n",
    "            break\n",
    "            \n",
    "        # Backpropagation\n",
    "        loss.backward(retain_graph =  False)\n",
    "        \n",
    "        # SGD step\n",
    "        optim.step()\n",
    "        \n",
    "        # Store lossses for visualization\n",
    "        losses.append(loss.item())\n",
    "\n",
    "for name, param in net.named_parameters():\n",
    "    print(name, param)"
   ]
  },
  {
   "cell_type": "markdown",
   "metadata": {},
   "source": [
    "Plot the losses"
   ]
  },
  {
   "cell_type": "code",
   "execution_count": null,
   "metadata": {},
   "outputs": [],
   "source": [
    "color_map = plt.get_cmap('cubehelix')\n",
    "colors = color_map(np.linspace(0.1, 1, 10))\n",
    "\n",
    "losses_fig = plt.figure()\n",
    "n_iter = np.arange(np.shape(losses)[0])\n",
    "plt.plot(n_iter, losses, color = colors[0], linewidth = 1, linestyle = \"-\", marker = \"\",  label='Loss')\n",
    "\n",
    "plt.legend(bbox_to_anchor=(0., -0.3), loc=3, borderaxespad=0.)\n",
    "plt.xlabel('n iteration', fontsize=14)\n",
    "plt.ylabel('Loss', fontsize=14)\n",
    "plt.title('Loss')\n",
    "plt.grid(True, which = \"both\", linewidth = 0.5,  linestyle = \"--\")\n",
    "\n",
    "print(\"final loss is {0}\".format(losses[-1]))\n",
    "#losses_fig.savefig('gridSearch.eps', bbox_inches='tight')"
   ]
  },
  {
   "cell_type": "markdown",
   "metadata": {},
   "source": [
    "Test on a bigger grid"
   ]
  },
  {
   "cell_type": "code",
   "execution_count": null,
   "metadata": {},
   "outputs": [],
   "source": [
    "N = 50\n",
    "\n",
    "# Define geometry 1.0 inner points 0.0 elsewhre\n",
    "B_idx = torch.ones(1,1,N,N)\n",
    "B_idx[0,0,0,:] = torch.zeros(N)\n",
    "B_idx[0,0,N-1,:] = torch.zeros(N)\n",
    "B_idx[0,0,:,0] = torch.zeros(N)\n",
    "B_idx[0,0,:,N-1] = torch.zeros(N)\n",
    "\n",
    "# Define boundary values\n",
    "B = torch.abs(B_idx-1)*4.0\n",
    "\n",
    "# Set forcing term\n",
    "f = torch.ones(1,1,N,N)*1.0\n",
    "\n",
    "# Obtain solutions\n",
    "gtt = im.jacobi_method(B_idx, B, f, torch.ones(1,1,N,N), k = 10000)\n",
    "output = im.H_method(net, B_idx, B, f, torch.ones(1,1,N,N), k = 1000)"
   ]
  },
  {
   "cell_type": "code",
   "execution_count": null,
   "metadata": {},
   "outputs": [],
   "source": [
    "print(F.mse_loss(gtt, output))\n",
    "\n",
    "Z_gtt = gtt.view(N,N).numpy() \n",
    "Z_output = output.detach().view(N, N).numpy()\n",
    "\n",
    "fig, axes = plt.subplots(nrows = 1, ncols = 2)\n",
    "\n",
    "fig.suptitle(\"Comparison\")\n",
    "\n",
    "im_gtt = axes[0].imshow(Z_gtt)\n",
    "axes[0].set_title(\"Ground truth solution\")\n",
    "\n",
    "im_output = axes[1].imshow(Z_output)\n",
    "axes[1].set_title(\"H method solution\")\n",
    "\n",
    "fig.colorbar(im_gtt)\n",
    "fig.tight_layout()\n",
    "\n",
    "plt.show()"
   ]
  },
  {
   "cell_type": "markdown",
   "metadata": {},
   "source": [
    "Test on L-shape domain"
   ]
  },
  {
   "cell_type": "code",
   "execution_count": null,
   "metadata": {},
   "outputs": [],
   "source": [
    "N = 50\n",
    "M = int(np.floor(N/2))\n",
    "\n",
    "# Define geometry 1.0 inner points 0.0 elsewhre\n",
    "B_idx = torch.ones(1, 1, N, N)\n",
    "B_idx[0,0,0:M,0:M] = torch.zeros([M, M])\n",
    "B_idx[0,0,N-1,:] = torch.zeros(N)\n",
    "B_idx[0,0,:,0] = torch.zeros(N)\n",
    "B_idx[0,0,:,N-1] = torch.zeros(N)\n",
    "\n",
    "# Define boundary values\n",
    "B = torch.abs(B_idx-1)*4.0\n",
    "\n",
    "# Set forcing term\n",
    "f = torch.ones(1,1,N,N)*1.0\n",
    "\n",
    "# Obtain solutions\n",
    "gtt = im.jacobi_method(B_idx, B, f, torch.ones(1,1,N,N), k = 10000)\n",
    "output = im.H_method(net, B_idx, B, f, torch.ones(1,1,N,N), k = 2000)"
   ]
  },
  {
   "cell_type": "code",
   "execution_count": null,
   "metadata": {},
   "outputs": [],
   "source": [
    "print(F.mse_loss(gtt, output))\n",
    "\n",
    "Z_gtt = gtt.view(N,N).numpy() \n",
    "Z_output = output.detach().view(N, N).numpy()\n",
    "\n",
    "fig, axes = plt.subplots(nrows = 1, ncols = 2)\n",
    "\n",
    "fig.suptitle(\"Comparison\")\n",
    "\n",
    "im_gtt = axes[0].imshow(Z_gtt)\n",
    "axes[0].set_title(\"Ground truth solution\")\n",
    "\n",
    "im_output = axes[1].imshow(Z_output)\n",
    "axes[1].set_title(\"H method solution\")\n",
    "\n",
    "fig.colorbar(im_gtt)\n",
    "fig.tight_layout()\n",
    "\n",
    "plt.show()"
   ]
  },
  {
   "cell_type": "markdown",
   "metadata": {},
   "source": [
    "Some way to compute the spectral radius maybe helpful. We need to build the matrix H and then compute it.\n",
    "H is built from the weights. Here we consider only the case conv1"
   ]
  },
  {
   "cell_type": "code",
   "execution_count": null,
   "metadata": {},
   "outputs": [],
   "source": [
    "import scipy as sp\n",
    "from scipy.linalg import circulant\n",
    "\n",
    "vector_H = np.zeros(N**2)\n",
    "vector_H[0] = param[0, 0, 1, 1]\n",
    "vector_H[1] = param[0, 0, 1, 2]\n",
    "vector_H[N**2-1] = param[0, 0, 1, 0]\n",
    "\n",
    "vector_H[N**2-N] = param[0, 0, 0, 1]\n",
    "vector_H[N**2-N-1] = param[0, 0, 0, 0]\n",
    "vector_H[N**2-N+1] = param[0, 0, 0, 2]\n",
    "\n",
    "vector_H[N] = param[0, 0, 2, 1]\n",
    "vector_H[N-1] = param[0, 0, 2, 0]\n",
    "vector_H[N+1] = param[0, 0, 2, 2]\n",
    "\n",
    "p = np.zeros([3,3])\n",
    "for name, param in net.named_parameters():\n",
    "    for i in range(3):\n",
    "        for j in range(3):\n",
    "            p[i,j] = param[0,0,i,j]\n",
    "\n",
    "H = np.diag(np.ones(N**2)*p[1,1]) + np.diag(np.ones(N**2-1)*p[1,2], 1) + np.diag(np.ones(N**2-1)*p[1,0], -1) + np.diag(np.ones(N**2-N)*p[2,1], N) + np.diag(np.ones(N**2-N)*p[0,1], -N)\n",
    "\n",
    "\n",
    "\n",
    "#H = np.transpose(circulant(vector_H))\n",
    "np.shape(H)\n",
    "#print(np.real(np.linalg.eigvals(T+H.dot(T)-H)))\n",
    "Heq = T.numpy()+H.dot(T.numpy())-H\n",
    "reg = 0.0\n",
    "#spectral_radius = (np.max(np.real(np.linalg.eigvals(Heq))))\n",
    "\n",
    "spectral_radius = np.max(np.real(np.fft.fft(vector_T))) + np.max(np.real(np.fft.fft(vector_H)))*np.max(np.real(np.fft.fft(vector_TI)))"
   ]
  },
  {
   "cell_type": "code",
   "execution_count": null,
   "metadata": {},
   "outputs": [],
   "source": [
    "T_I = np.reshape(T.numpy()-I.numpy(), [N**2, N**2])\n",
    "Tn = np.reshape(T.numpy(), [N**2, N**2])\n",
    "print(np.max(np.abs(np.real(np.linalg.eigvals(Tn-H.dot(T_I))))))"
   ]
  }
 ],
 "metadata": {
  "kernelspec": {
   "display_name": "Python 3",
   "language": "python",
   "name": "python3"
  },
  "language_info": {
   "codemirror_mode": {
    "name": "ipython",
    "version": 3
   },
   "file_extension": ".py",
   "mimetype": "text/x-python",
   "name": "python",
   "nbconvert_exporter": "python",
   "pygments_lexer": "ipython3",
   "version": "3.6.7"
  },
  "toc": {
   "base_numbering": 1,
   "nav_menu": {},
   "number_sections": true,
   "sideBar": true,
   "skip_h1_title": false,
   "title_cell": "Table of Contents",
   "title_sidebar": "Contents",
   "toc_cell": false,
   "toc_position": {},
   "toc_section_display": true,
   "toc_window_display": false
  }
 },
 "nbformat": 4,
 "nbformat_minor": 2
}

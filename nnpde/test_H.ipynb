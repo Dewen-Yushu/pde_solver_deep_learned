{
 "cells": [
  {
   "cell_type": "code",
   "execution_count": 1,
   "metadata": {
    "ExecuteTime": {
     "end_time": "2018-12-09T20:44:41.335024Z",
     "start_time": "2018-12-09T20:44:41.311263Z"
    }
   },
   "outputs": [
    {
     "data": {
      "text/html": [
       "<style>.container { width:95% !important; }</style>"
      ],
      "text/plain": [
       "<IPython.core.display.HTML object>"
      ]
     },
     "metadata": {},
     "output_type": "display_data"
    }
   ],
   "source": [
    "def fix_layout(width:int=95):\n",
    "    from IPython.core.display import display, HTML\n",
    "    display(HTML('<style>.container { width:' + str(width) + '% !important; }</style>'))\n",
    "    \n",
    "fix_layout()"
   ]
  },
  {
   "cell_type": "code",
   "execution_count": 28,
   "metadata": {
    "ExecuteTime": {
     "end_time": "2018-12-09T21:10:26.800313Z",
     "start_time": "2018-12-09T21:10:26.793266Z"
    }
   },
   "outputs": [],
   "source": [
    "import sys\n",
    "\n",
    "import numpy as np\n",
    "import matplotlib.pyplot as plt\n",
    "#from logs import enable_logging, logging \n",
    "from importlib import reload\n",
    "import nnpde.functions.iterative_methods as im\n",
    "from nnpde.functions import geometries"
   ]
  },
  {
   "cell_type": "code",
   "execution_count": 8,
   "metadata": {
    "ExecuteTime": {
     "end_time": "2018-12-09T20:51:11.240385Z",
     "start_time": "2018-12-09T20:51:11.181214Z"
    }
   },
   "outputs": [
    {
     "name": "stdout",
     "output_type": "stream",
     "text": [
      "0.weight Parameter containing:\n",
      "tensor([[[[ 0.2061, -0.1765,  0.1110],\n",
      "          [-0.1712,  0.0157,  0.2400],\n",
      "          [-0.0562, -0.1324, -0.2765]]]], requires_grad=True)\n",
      "1.weight Parameter containing:\n",
      "tensor([[[[ 0.2790, -0.2787,  0.2971],\n",
      "          [-0.2405,  0.2793, -0.2001],\n",
      "          [-0.3074,  0.0802,  0.2241]]]], requires_grad=True)\n",
      "2.weight Parameter containing:\n",
      "tensor([[[[-0.1268,  0.0840,  0.2704],\n",
      "          [-0.2398,  0.1048,  0.0607],\n",
      "          [ 0.0276, -0.2108, -0.1389]]]], requires_grad=True)\n"
     ]
    }
   ],
   "source": [
    "import torch\n",
    "import torch.nn as nn\n",
    "import torch.nn.functional as F\n",
    "\n",
    "net = nn.Sequential(\n",
    "    nn.Conv2d(1, 1, 3, padding=1, bias=False),\n",
    "    nn.Conv2d(1, 1, 3, padding=1, bias=False),\n",
    "    nn.Conv2d(1, 1, 3, padding=1, bias=False),\n",
    ")\n",
    "\n",
    "\n",
    "# Set the optimizer, you have to play with lr: if too big nan\n",
    "optim = torch.optim.SGD(net.parameters(), lr = 1e-6)\n",
    "#optim = torch.optim.Adam(net.parameters(), lr=1e-6)\n",
    "#optim = torch.optim.ASGD(net.parameters())\n",
    "# SGD seems much faster\n",
    "\n",
    "for name, param in net.named_parameters():\n",
    "    print(name, param)"
   ]
  },
  {
   "cell_type": "markdown",
   "metadata": {},
   "source": [
    "New one based only on convolutions and pointwise tensor operations, see iterativeMethods.py"
   ]
  },
  {
   "cell_type": "code",
   "execution_count": 9,
   "metadata": {
    "ExecuteTime": {
     "end_time": "2018-12-09T20:51:12.728846Z",
     "start_time": "2018-12-09T20:51:12.723082Z"
    }
   },
   "outputs": [],
   "source": [
    "losses = []"
   ]
  },
  {
   "cell_type": "code",
   "execution_count": 21,
   "metadata": {
    "ExecuteTime": {
     "end_time": "2018-12-09T21:01:36.143892Z",
     "start_time": "2018-12-09T21:01:36.130674Z"
    }
   },
   "outputs": [
    {
     "data": {
      "text/plain": [
       "<module 'nnpde.functions.helpers' from '/home/sam/proj/epfl/ml_pde_deep_learning/nnpde/nnpde/functions/helpers.py'>"
      ]
     },
     "execution_count": 21,
     "metadata": {},
     "output_type": "execute_result"
    }
   ],
   "source": [
    "reload(H)"
   ]
  },
  {
   "cell_type": "code",
   "execution_count": 29,
   "metadata": {
    "ExecuteTime": {
     "end_time": "2018-12-09T21:10:50.391519Z",
     "start_time": "2018-12-09T21:10:45.150281Z"
    }
   },
   "outputs": [
    {
     "name": "stdout",
     "output_type": "stream",
     "text": [
      "0.weight Parameter containing:\n",
      "tensor([[[[-0.0667, -0.2958, -0.2671],\n",
      "          [-0.3381, -0.2351,  0.0652],\n",
      "          [-0.4623, -0.2637, -0.5311]]]], requires_grad=True)\n",
      "1.weight Parameter containing:\n",
      "tensor([[[[ 0.5508, -0.0906,  0.5137],\n",
      "          [ 0.1179,  0.4929,  0.0413],\n",
      "          [ 0.1510,  0.3906,  0.4354]]]], requires_grad=True)\n",
      "2.weight Parameter containing:\n",
      "tensor([[[[-0.2676, -0.1153, -0.0838],\n",
      "          [-0.5387, -0.1089, -0.2480],\n",
      "          [-0.2616, -0.3902, -0.4272]]]], requires_grad=True)\n"
     ]
    }
   ],
   "source": [
    "# Define train dimension\n",
    "N = 16\n",
    "\n",
    "for _ in range(20):\n",
    "    net.zero_grad()\n",
    "\n",
    "    # Sample k\n",
    "    k = np.random.randint(1, 20)\n",
    "    \n",
    "    B, B_idx = geometries.square_geometry(N)\n",
    "    \n",
    "    # Initialize f: we use a zero forcing term for training\n",
    "    f = torch.zeros(1, 1, N, N)\n",
    "\n",
    "    # Initialize solution vector randomly \n",
    "    initial_u = torch.randn(1, 1, N, N, requires_grad = True)\n",
    "    \n",
    "    # Compute ustar = ground_truth solution torch \n",
    "    ground_truth = im.jacobi_method(B_idx, B, f, initial_u = None, k = 1000)\n",
    "\n",
    "    # Solve the same problem, at each iteration the only thing changing are the weights, which are optimized\n",
    "    # TODO why though? wouldn't it make much more sense to train it more times on different problems? isn't this the same as oversampling each training sample?\n",
    "    for _ in range(20):\n",
    "        \n",
    "        # Compute the solution with the updated weights\n",
    "        u = im.H_method(net, B_idx, B, f, initial_u, k)\n",
    "        \n",
    "        # Define the loss, CHECK if it is correct wrt paper\n",
    "        loss = F.mse_loss(ground_truth, u)\n",
    "        \n",
    "        \"\"\" TODO \n",
    "        spectral_radius = TODO\n",
    "        regularization = 1e10\n",
    "        if spectral_radius > 1\n",
    "           loss += regularization\n",
    "        \"\"\"\n",
    "        \n",
    "        # Exit optimization \n",
    "        tol = 1e-6\n",
    "        if loss.item() <= tol:\n",
    "            break\n",
    "            \n",
    "        # Backpropagation\n",
    "        loss.backward(retain_graph =  False)\n",
    "        \n",
    "        # SGD step\n",
    "        optim.step()\n",
    "        \n",
    "        # Store lossses for visualization\n",
    "        losses.append(loss.item())\n",
    "\n",
    "for name, param in net.named_parameters():\n",
    "    print(name, param)"
   ]
  },
  {
   "cell_type": "markdown",
   "metadata": {},
   "source": [
    "Plot the losses"
   ]
  },
  {
   "cell_type": "code",
   "execution_count": 30,
   "metadata": {
    "ExecuteTime": {
     "end_time": "2018-12-09T21:10:50.721850Z",
     "start_time": "2018-12-09T21:10:50.402770Z"
    }
   },
   "outputs": [
    {
     "name": "stdout",
     "output_type": "stream",
     "text": [
      "final loss is 0.09422984719276428\n"
     ]
    },
    {
     "data": {
      "image/png": "[encoded data removed]",
      "text/plain": [
       "<Figure size 432x288 with 1 Axes>"
      ]
     },
     "metadata": {
      "needs_background": "light"
     },
     "output_type": "display_data"
    }
   ],
   "source": [
    "color_map = plt.get_cmap('cubehelix')\n",
    "colors = color_map(np.linspace(0.1, 1, 10))\n",
    "\n",
    "losses_fig = plt.figure()\n",
    "n_iter = np.arange(np.shape(losses)[0])\n",
    "plt.plot(n_iter, losses, color = colors[0], linewidth = 1, linestyle = \"-\", marker = \"\",  label='Loss')\n",
    "\n",
    "plt.legend(bbox_to_anchor=(0., -0.3), loc=3, borderaxespad=0.)\n",
    "plt.xlabel('n iteration', fontsize=14)\n",
    "plt.ylabel('Loss', fontsize=14)\n",
    "plt.title('Loss')\n",
    "plt.grid(True, which = \"both\", linewidth = 0.5,  linestyle = \"--\")\n",
    "\n",
    "print(\"final loss is {0}\".format(losses[-1]))\n",
    "#losses_fig.savefig('gridSearch.eps', bbox_inches='tight')"
   ]
  },
  {
   "cell_type": "markdown",
   "metadata": {},
   "source": [
    "Test on a bigger grid"
   ]
  },
  {
   "cell_type": "code",
   "execution_count": 31,
   "metadata": {
    "ExecuteTime": {
     "end_time": "2018-12-09T21:11:04.459659Z",
     "start_time": "2018-12-09T21:11:02.577262Z"
    }
   },
   "outputs": [],
   "source": [
    "N = 50\n",
    "\n",
    "B, B_idx = geometries.square_geometry(N)\n",
    "\n",
    "# Set forcing term\n",
    "f = torch.ones(1,1,N,N)*1.0\n",
    "\n",
    "# Obtain solutions\n",
    "gtt = im.jacobi_method(B_idx, B, f, torch.ones(1,1,N,N), k = 10000)\n",
    "output = im.H_method(net, B_idx, B, f, torch.ones(1,1,N,N), k = 1000)"
   ]
  },
  {
   "cell_type": "code",
   "execution_count": 32,
   "metadata": {
    "ExecuteTime": {
     "end_time": "2018-12-09T21:11:04.975029Z",
     "start_time": "2018-12-09T21:11:04.685300Z"
    }
   },
   "outputs": [
    {
     "name": "stdout",
     "output_type": "stream",
     "text": [
      "tensor(0.0371, grad_fn=<SumBackward0>)\n"
     ]
    },
    {
     "data": {
      "image/png": "[encoded data removed]",
      "text/plain": [
       "<Figure size 432x288 with 3 Axes>"
      ]
     },
     "metadata": {
      "needs_background": "light"
     },
     "output_type": "display_data"
    }
   ],
   "source": [
    "print(F.mse_loss(gtt, output))\n",
    "\n",
    "Z_gtt = gtt.view(N,N).numpy() \n",
    "Z_output = output.detach().view(N, N).numpy()\n",
    "\n",
    "fig, axes = plt.subplots(nrows = 1, ncols = 2)\n",
    "\n",
    "fig.suptitle(\"Comparison\")\n",
    "\n",
    "im_gtt = axes[0].imshow(Z_gtt)\n",
    "axes[0].set_title(\"Ground truth solution\")\n",
    "\n",
    "im_output = axes[1].imshow(Z_output)\n",
    "axes[1].set_title(\"H method solution\")\n",
    "\n",
    "fig.colorbar(im_gtt)\n",
    "fig.tight_layout()\n",
    "\n",
    "plt.show()"
   ]
  },
  {
   "cell_type": "markdown",
   "metadata": {},
   "source": [
    "Test on L-shape domain"
   ]
  },
  {
   "cell_type": "code",
   "execution_count": 36,
   "metadata": {
    "ExecuteTime": {
     "end_time": "2018-12-09T21:15:00.596811Z",
     "start_time": "2018-12-09T21:14:57.877127Z"
    }
   },
   "outputs": [],
   "source": [
    "B, B_idx = geometries.l_shaped_geometry(N)\n",
    "\n",
    "# Set forcing term\n",
    "f = torch.ones(1,1,N,N)*1.0\n",
    "\n",
    "# Obtain solutions\n",
    "gtt = im.jacobi_method(B_idx, B, f, torch.ones(1,1,N,N), k = 10000)\n",
    "output = im.H_method(net, B_idx, B, f, torch.ones(1,1,N,N), k = 2000)"
   ]
  },
  {
   "cell_type": "code",
   "execution_count": 37,
   "metadata": {
    "ExecuteTime": {
     "end_time": "2018-12-09T21:15:03.050023Z",
     "start_time": "2018-12-09T21:15:02.642928Z"
    }
   },
   "outputs": [
    {
     "name": "stdout",
     "output_type": "stream",
     "text": [
      "tensor(0.0022, grad_fn=<SumBackward0>)\n"
     ]
    },
    {
     "data": {
      "image/png": "[encoded data removed]",
      "text/plain": [
       "<Figure size 432x288 with 3 Axes>"
      ]
     },
     "metadata": {
      "needs_background": "light"
     },
     "output_type": "display_data"
    }
   ],
   "source": [
    "print(F.mse_loss(gtt, output))\n",
    "\n",
    "Z_gtt = gtt.view(N,N).numpy() \n",
    "Z_output = output.detach().view(N, N).numpy()\n",
    "\n",
    "fig, axes = plt.subplots(nrows = 1, ncols = 2)\n",
    "\n",
    "fig.suptitle(\"Comparison\")\n",
    "\n",
    "im_gtt = axes[0].imshow(Z_gtt)\n",
    "axes[0].set_title(\"Ground truth solution\")\n",
    "\n",
    "im_output = axes[1].imshow(Z_output)\n",
    "axes[1].set_title(\"H method solution\")\n",
    "\n",
    "fig.colorbar(im_gtt)\n",
    "fig.tight_layout()\n",
    "\n",
    "plt.show()"
   ]
  },
  {
   "cell_type": "markdown",
   "metadata": {},
   "source": [
    "Some way to compute the spectral radius maybe helpful. We need to build the matrix H and then compute it.\n",
    "H is built from the weights. Here we consider only the case conv1"
   ]
  },
  {
   "cell_type": "code",
   "execution_count": null,
   "metadata": {},
   "outputs": [],
   "source": [
    "import scipy as sp\n",
    "from scipy.linalg import circulant\n",
    "\n",
    "vector_H = np.zeros(N**2)\n",
    "vector_H[0] = param[0, 0, 1, 1]\n",
    "vector_H[1] = param[0, 0, 1, 2]\n",
    "vector_H[N**2-1] = param[0, 0, 1, 0]\n",
    "\n",
    "vector_H[N**2-N] = param[0, 0, 0, 1]\n",
    "vector_H[N**2-N-1] = param[0, 0, 0, 0]\n",
    "vector_H[N**2-N+1] = param[0, 0, 0, 2]\n",
    "\n",
    "vector_H[N] = param[0, 0, 2, 1]\n",
    "vector_H[N-1] = param[0, 0, 2, 0]\n",
    "vector_H[N+1] = param[0, 0, 2, 2]\n",
    "\n",
    "p = np.zeros([3,3])\n",
    "for name, param in net.named_parameters():\n",
    "    for i in range(3):\n",
    "        for j in range(3):\n",
    "            p[i,j] = param[0,0,i,j]\n",
    "\n",
    "H = np.diag(np.ones(N**2)*p[1,1]) + np.diag(np.ones(N**2-1)*p[1,2], 1) + np.diag(np.ones(N**2-1)*p[1,0], -1) + np.diag(np.ones(N**2-N)*p[2,1], N) + np.diag(np.ones(N**2-N)*p[0,1], -N)\n",
    "\n",
    "\n",
    "\n",
    "#H = np.transpose(circulant(vector_H))\n",
    "np.shape(H)\n",
    "#print(np.real(np.linalg.eigvals(T+H.dot(T)-H)))\n",
    "Heq = T.numpy()+H.dot(T.numpy())-H\n",
    "reg = 0.0\n",
    "#spectral_radius = (np.max(np.real(np.linalg.eigvals(Heq))))\n",
    "\n",
    "spectral_radius = np.max(np.real(np.fft.fft(vector_T))) + np.max(np.real(np.fft.fft(vector_H)))*np.max(np.real(np.fft.fft(vector_TI)))"
   ]
  },
  {
   "cell_type": "code",
   "execution_count": null,
   "metadata": {},
   "outputs": [],
   "source": [
    "T_I = np.reshape(T.numpy()-I.numpy(), [N**2, N**2])\n",
    "Tn = np.reshape(T.numpy(), [N**2, N**2])\n",
    "print(np.max(np.abs(np.real(np.linalg.eigvals(Tn-H.dot(T_I))))))"
   ]
  }
 ],
 "metadata": {
  "kernelspec": {
   "display_name": "Python 3",
   "language": "python",
   "name": "python3"
  },
  "language_info": {
   "codemirror_mode": {
    "name": "ipython",
    "version": 3
   },
   "file_extension": ".py",
   "mimetype": "text/x-python",
   "name": "python",
   "nbconvert_exporter": "python",
   "pygments_lexer": "ipython3",
   "version": "3.6.7"
  },
  "toc": {
   "base_numbering": 1,
   "nav_menu": {},
   "number_sections": true,
   "sideBar": true,
   "skip_h1_title": false,
   "title_cell": "Table of Contents",
   "title_sidebar": "Contents",
   "toc_cell": false,
   "toc_position": {},
   "toc_section_display": true,
   "toc_window_display": false
  }
 },
 "nbformat": 4,
 "nbformat_minor": 2
}

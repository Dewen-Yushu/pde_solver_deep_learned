{
 "cells": [
  {
   "cell_type": "code",
   "execution_count": 1,
   "metadata": {
    "ExecuteTime": {
     "end_time": "2018-12-11T21:36:51.077684Z",
     "start_time": "2018-12-11T21:36:51.057654Z"
    }
   },
   "outputs": [
    {
     "data": {
      "text/html": [
       "<style>.container { width:95% !important; }</style>"
      ],
      "text/plain": [
       "<IPython.core.display.HTML object>"
      ]
     },
     "metadata": {},
     "output_type": "display_data"
    }
   ],
   "source": [
    "def fix_layout(width:int=95):\n",
    "    from IPython.core.display import display, HTML\n",
    "    display(HTML('<style>.container { width:' + str(width) + '% !important; }</style>'))\n",
    "    \n",
    "fix_layout()"
   ]
  },
  {
   "cell_type": "code",
   "execution_count": 2,
   "metadata": {
    "ExecuteTime": {
     "end_time": "2018-12-11T21:36:51.590635Z",
     "start_time": "2018-12-11T21:36:51.085913Z"
    }
   },
   "outputs": [],
   "source": [
    "import sys\n",
    "\n",
    "import numpy as np\n",
    "import matplotlib.pyplot as plt\n",
    "from nnpde.utils.logs import enable_logging, logging \n",
    "from importlib import reload\n",
    "import nnpde.functions.iterative_methods as im\n",
    "from nnpde.functions import geometries, helpers\n",
    "from nnpde.problems import DirichletProblem "
   ]
  },
  {
   "cell_type": "code",
   "execution_count": 3,
   "metadata": {
    "ExecuteTime": {
     "end_time": "2018-12-11T21:36:51.602450Z",
     "start_time": "2018-12-11T21:36:51.593024Z"
    }
   },
   "outputs": [
    {
     "name": "stderr",
     "output_type": "stream",
     "text": [
      "2018-12-11 22:36:51,594 - root - INFO - logs - logging enabled for level: 10\n"
     ]
    }
   ],
   "source": [
    "enable_logging(10)"
   ]
  },
  {
   "cell_type": "code",
   "execution_count": 4,
   "metadata": {
    "ExecuteTime": {
     "end_time": "2018-12-11T21:36:51.623878Z",
     "start_time": "2018-12-11T21:36:51.604890Z"
    }
   },
   "outputs": [],
   "source": [
    "import torch\n",
    "import torch.nn as nn\n",
    "import torch.nn.functional as F"
   ]
  },
  {
   "cell_type": "code",
   "execution_count": 5,
   "metadata": {
    "ExecuteTime": {
     "end_time": "2018-12-11T21:36:59.428431Z",
     "start_time": "2018-12-11T21:36:51.626429Z"
    }
   },
   "outputs": [],
   "source": [
    "# Define train dimension\n",
    "N = 16\n",
    "\n",
    "# Initialize f: we use a zero forcing term for training\n",
    "f = torch.zeros(1, 1, N, N)\n",
    "\n",
    "# For each problem instance define number of iteration to perform to obtain the solution\n",
    "nb_problem_instances = 50\n",
    "problem_instances = [DirichletProblem(k=k) for k in np.random.randint(1, 20, nb_problem_instances)]"
   ]
  },
  {
   "cell_type": "markdown",
   "metadata": {},
   "source": [
    "Train using the class"
   ]
  },
  {
   "cell_type": "code",
   "execution_count": 6,
   "metadata": {
    "ExecuteTime": {
     "end_time": "2018-12-11T21:36:59.923892Z",
     "start_time": "2018-12-11T21:36:59.429882Z"
    }
   },
   "outputs": [
    {
     "name": "stderr",
     "output_type": "stream",
     "text": [
      "2018-12-11 22:36:59,436 - root - DEBUG - model - training with batch 0\n",
      "2018-12-11 22:36:59,687 - root - DEBUG - model - training with batch 0\n"
     ]
    }
   ],
   "source": [
    "import nnpde.model as M \n",
    "\n",
    "# TODO fit would idealy take X, y, (u_0 and u_*)\n",
    "model = M.JacobyWithConv(max_iters=10).fit(problem_instances)\n",
    "losses = model.losses"
   ]
  },
  {
   "cell_type": "code",
   "execution_count": 20,
   "metadata": {
    "ExecuteTime": {
     "end_time": "2018-12-11T21:42:02.135950Z",
     "start_time": "2018-12-11T21:42:02.129490Z"
    }
   },
   "outputs": [],
   "source": [
    "# TODO conv_u and Hu should be more or less the same, right? but they are clearly not...\n",
    "some_u = problem_instances[0].initial_u\n",
    "\n",
    "conv_u = model.net(some_u)\n",
    "\n",
    "H = helpers.conv_net_to_matrix(model.net, model.N)\n",
    "\n",
    "Hu = np.dot(H, some_u.view(-1).detach().numpy())\n",
    "\n",
    "all((conv_u.view(-1).detach().numpy() - Hu) < 1e-4)"
   ]
  },
  {
   "cell_type": "code",
   "execution_count": 9,
   "metadata": {
    "ExecuteTime": {
     "end_time": "2018-12-11T21:38:21.011103Z",
     "start_time": "2018-12-11T21:38:20.763828Z"
    }
   },
   "outputs": [
    {
     "name": "stderr",
     "output_type": "stream",
     "text": [
      "2018-12-11 22:38:20,863 - matplotlib.font_manager - DEBUG - font_manager - findfont: Matching :family=sans-serif:style=normal:variant=normal:weight=normal:stretch=normal:size=10.0 to DejaVu Sans ('/usr/share/matplotlib/mpl-data/fonts/ttf/DejaVuSans.ttf') with score of 0.050000\n",
      "2018-12-11 22:38:20,885 - matplotlib.font_manager - DEBUG - font_manager - findfont: Matching :family=sans-serif:style=normal:variant=normal:weight=normal:stretch=normal:size=14.0 to DejaVu Sans ('/usr/share/matplotlib/mpl-data/fonts/ttf/DejaVuSans.ttf') with score of 0.050000\n",
      "2018-12-11 22:38:20,913 - matplotlib.font_manager - DEBUG - font_manager - findfont: Matching :family=sans-serif:style=normal:variant=normal:weight=normal:stretch=normal:size=12.0 to DejaVu Sans ('/usr/share/matplotlib/mpl-data/fonts/ttf/DejaVuSans.ttf') with score of 0.050000\n"
     ]
    },
    {
     "name": "stdout",
     "output_type": "stream",
     "text": [
      "final loss is 6382.060546875\n"
     ]
    },
    {
     "data": {
      "image/png": "[encoded data removed]",
      "text/plain": [
       "<Figure size 432x288 with 1 Axes>"
      ]
     },
     "metadata": {
      "needs_background": "light"
     },
     "output_type": "display_data"
    }
   ],
   "source": [
    "color_map = plt.get_cmap('cubehelix')\n",
    "colors = color_map(np.linspace(0.1, 1, 10))\n",
    "\n",
    "losses_fig = plt.figure()\n",
    "n_iter = np.arange(np.shape(losses)[0])\n",
    "plt.plot(n_iter[:], losses[:], color = colors[0], linewidth = 1, linestyle = \"-\", marker = \"\",  label='Loss')\n",
    "\n",
    "plt.legend(bbox_to_anchor=(0., -0.3), loc=3, borderaxespad=0.)\n",
    "plt.xlabel('n iteration', fontsize=14)\n",
    "plt.ylabel('Loss', fontsize=14)\n",
    "plt.title('Loss')\n",
    "plt.grid(True, which = \"both\", linewidth = 0.5,  linestyle = \"--\")\n",
    "\n",
    "print(\"final loss is {0}\".format(losses[-1]))\n",
    "#losses_fig.savefig('gridSearch.eps', bbox_inches='tight')"
   ]
  },
  {
   "cell_type": "markdown",
   "metadata": {},
   "source": [
    "Train without using the class"
   ]
  },
  {
   "cell_type": "code",
   "execution_count": null,
   "metadata": {
    "ExecuteTime": {
     "end_time": "2018-12-11T21:37:00.034173Z",
     "start_time": "2018-12-11T21:36:51.126Z"
    }
   },
   "outputs": [],
   "source": [
    "# Solve the same problem, at each iteration the only thing changing are the weights, which are optimized\n",
    "# TODO why though? wouldn't it make much more sense to train it more times on different problems? isn't this the same as oversampling each training sample?\n",
    "\n",
    "for _ in range(100):\n",
    "    net.zero_grad()\n",
    "    loss = torch.zeros(1)\n",
    "    prev_total_loss = 0\n",
    "\n",
    "    batch_size = 1\n",
    "    u_list = [None] * batch_size\n",
    "    \n",
    "    # Sample problem_instances\n",
    "    problem_idx = np.random.choice(np.arange(nb_problem_instances), batch_size, replace = 0)\n",
    "\n",
    "    for i in range(batch_size):\n",
    "\n",
    "        idx = problem_idx[i]\n",
    "        problem_instance = problem_instances_list[idx]\n",
    "        \n",
    "        B_idx = problem_instance.B_idx\n",
    "        B = problem_instance.B\n",
    "        f = problem_instance.forcing_term\n",
    "        initial_u = problem_instance.initial_u\n",
    "        k = problem_instance.k\n",
    "        ground_truth = problem_instance.ground_truth\n",
    "        \n",
    "        # Compute the solution with the updated weights      \n",
    "        u_list[i] = im.H_method(net, B_idx, B, f, initial_u, k)\n",
    "        \n",
    "        H = helpers.build_diagH_from_net(net,N)\n",
    "        T = helpers.get_T(N)\n",
    "        \n",
    "        spectral_norm = helpers.calculate_spectral_radius(T,H)\n",
    "        ex = 0\n",
    "                \n",
    "        if spectral_norm > 1:\n",
    "            ex = np.nan_to_num(np.inf)\n",
    "\n",
    "        # Define the loss, CHECK if it is correct wrt paper\n",
    "        loss = loss + F.mse_loss(ground_truth, u_list[i])+ex\n",
    "    \n",
    "\n",
    "\n",
    "    # Backpropagation\n",
    "    loss.backward(retain_graph =  False)\n",
    "\n",
    "    # SGD step\n",
    "    optim.step()\n",
    "    \n",
    "    total_loss = helpers.compute_loss(net, problem_instances_list,N)\n",
    "    \n",
    "    # Exit optimization \n",
    "    tol = 1e-2\n",
    "    if total_loss.item() <= tol or total_loss.item() - prev_total_loss < tol:\n",
    "        break\n",
    "\n",
    "\n",
    "    # Store lossses for visualization\n",
    "    losses.append(total_loss.item())\n",
    "    prev_loss = total_loss.item()\n",
    "\n",
    "for name, param in net.named_parameters():\n",
    "    print(name, param)"
   ]
  },
  {
   "cell_type": "markdown",
   "metadata": {},
   "source": [
    "Plot the losses"
   ]
  },
  {
   "cell_type": "code",
   "execution_count": null,
   "metadata": {
    "ExecuteTime": {
     "end_time": "2018-12-11T21:37:00.036354Z",
     "start_time": "2018-12-11T21:36:51.132Z"
    }
   },
   "outputs": [],
   "source": [
    "color_map = plt.get_cmap('cubehelix')\n",
    "colors = color_map(np.linspace(0.1, 1, 10))\n",
    "\n",
    "losses_fig = plt.figure()\n",
    "n_iter = np.arange(np.shape(losses)[0])\n",
    "plt.plot(n_iter[:], losses[:], color = colors[0], linewidth = 1, linestyle = \"-\", marker = \"\",  label='Loss')\n",
    "\n",
    "plt.legend(bbox_to_anchor=(0., -0.3), loc=3, borderaxespad=0.)\n",
    "plt.xlabel('n iteration', fontsize=14)\n",
    "plt.ylabel('Loss', fontsize=14)\n",
    "plt.title('Loss')\n",
    "plt.grid(True, which = \"both\", linewidth = 0.5,  linestyle = \"--\")\n",
    "\n",
    "print(\"final loss is {0}\".format(losses[-1]))\n",
    "#losses_fig.savefig('gridSearch.eps', bbox_inches='tight')"
   ]
  },
  {
   "cell_type": "markdown",
   "metadata": {},
   "source": [
    "Test on a bigger grid"
   ]
  },
  {
   "cell_type": "code",
   "execution_count": null,
   "metadata": {
    "ExecuteTime": {
     "end_time": "2018-12-11T21:37:00.037917Z",
     "start_time": "2018-12-11T21:36:51.145Z"
    }
   },
   "outputs": [],
   "source": [
    "N = 50\n",
    "nb_iters = 2000\n",
    "\n",
    "B_idx, B = geometries.square_geometry(N)\n",
    "\n",
    "# Set forcing term\n",
    "f = torch.ones(1,1,N,N)*1.0\n",
    "\n",
    "# Obtain solutions\n",
    "gtt = im.jacobi_method(B_idx, B, f, torch.ones(1,1,N,N), k = 10000)\n",
    "output = im.H_method(net, B_idx, B, f, torch.ones(1,1,N,N), k = nb_iters)\n",
    "jacoby_pure = im.jacobi_method(B_idx, B, f, torch.ones(1,1,N,N), k = nb_iters)"
   ]
  },
  {
   "cell_type": "code",
   "execution_count": null,
   "metadata": {
    "ExecuteTime": {
     "end_time": "2018-12-11T21:37:00.039477Z",
     "start_time": "2018-12-11T21:36:51.150Z"
    }
   },
   "outputs": [],
   "source": [
    "loss_to_be_achieved = 1e-3\n",
    "\n",
    "u_0 = torch.ones(1, 1, N, N)"
   ]
  },
  {
   "cell_type": "code",
   "execution_count": null,
   "metadata": {
    "ExecuteTime": {
     "end_time": "2018-12-11T21:37:00.041076Z",
     "start_time": "2018-12-11T21:36:51.154Z"
    }
   },
   "outputs": [],
   "source": [
    "%%timeit\n",
    "\n",
    "u_k_old = im.jacobi_method(B_idx, B, f, u_0, k = 1)\n",
    "loss_of_old = F.mse_loss(gtt, u_k_old)\n",
    "k_count_old = 1\n",
    "count_old = 1\n",
    "# old method \n",
    "while loss_of_old >= loss_to_be_achieved:\n",
    "    u_k_old = im.jacobi_method(B_idx, B, f, u_k_old, k = 1)\n",
    "    loss_of_old = F.mse_loss(gtt, u_k_old)\n",
    "    k_count_old += 1"
   ]
  },
  {
   "cell_type": "code",
   "execution_count": null,
   "metadata": {
    "ExecuteTime": {
     "end_time": "2018-12-11T21:37:00.042660Z",
     "start_time": "2018-12-11T21:36:51.159Z"
    }
   },
   "outputs": [],
   "source": [
    "%%timeit\n",
    "\n",
    "u_k_new = im.H_method(net, B_idx, B, f, u_0, k=1)\n",
    "\n",
    "loss_new = F.mse_loss(gtt, u_k_new)\n",
    "k_count_new = 1\n",
    "\n",
    "\n",
    "# new method\n",
    "\n",
    "while loss_new >= loss_to_be_achieved:\n",
    "    u_k_new = im.H_method(net, B_idx, B, f, u_k_new, k=1)\n",
    "    loss_new = F.mse_loss(gtt, u_k_new)\n",
    "    k_count_new += 1"
   ]
  },
  {
   "cell_type": "code",
   "execution_count": null,
   "metadata": {
    "ExecuteTime": {
     "end_time": "2018-12-11T21:37:00.044399Z",
     "start_time": "2018-12-11T21:36:51.165Z"
    }
   },
   "outputs": [],
   "source": [
    "# This is not correct, but we have to look for a way to access the variables inside timeit\n",
    "\n",
    "print(\"needed {0} iterations (compared to {1}), ratio: {2}\".format(k_count_old, k_count_new, k_count_old/k_count_new))"
   ]
  },
  {
   "cell_type": "code",
   "execution_count": null,
   "metadata": {
    "ExecuteTime": {
     "end_time": "2018-12-11T21:37:00.046108Z",
     "start_time": "2018-12-11T21:36:51.169Z"
    }
   },
   "outputs": [],
   "source": [
    "print(\"the loss of the new method is {0}, compared to the pure-jacoby one: {1}. computed with {2} iterations\".format(F.mse_loss(gtt, output), F.mse_loss(gtt, jacoby_pure), nb_iters))"
   ]
  },
  {
   "cell_type": "code",
   "execution_count": null,
   "metadata": {
    "ExecuteTime": {
     "end_time": "2018-12-11T21:37:00.047846Z",
     "start_time": "2018-12-11T21:36:51.180Z"
    }
   },
   "outputs": [],
   "source": [
    "helpers.plot_solution(gtt,output,N)"
   ]
  },
  {
   "cell_type": "code",
   "execution_count": null,
   "metadata": {
    "ExecuteTime": {
     "end_time": "2018-12-11T21:37:00.050240Z",
     "start_time": "2018-12-11T21:36:51.186Z"
    }
   },
   "outputs": [],
   "source": [
    "(gtt.view(N,N) - output.view(N,N)).mean()"
   ]
  },
  {
   "cell_type": "markdown",
   "metadata": {},
   "source": [
    "Test on L-shape domain"
   ]
  },
  {
   "cell_type": "code",
   "execution_count": null,
   "metadata": {
    "ExecuteTime": {
     "end_time": "2018-12-11T21:37:00.052542Z",
     "start_time": "2018-12-11T21:36:51.193Z"
    }
   },
   "outputs": [],
   "source": [
    "B_idx, B = geometries.l_shaped_geometry(N)\n",
    "\n",
    "# Set forcing term\n",
    "f = torch.ones(1,1,N,N)*1.0\n",
    "\n",
    "# Obtain solutions\n",
    "gtt = im.jacobi_method(B_idx, B, f, torch.ones(1,1,N,N), k = 10000)\n",
    "output = im.H_method(net, B_idx, B, f, torch.ones(1,1,N,N), k = 2000)"
   ]
  },
  {
   "cell_type": "code",
   "execution_count": null,
   "metadata": {
    "ExecuteTime": {
     "end_time": "2018-12-11T21:37:00.054227Z",
     "start_time": "2018-12-11T21:36:51.197Z"
    }
   },
   "outputs": [],
   "source": [
    "helpers.plot_solution(gtt,output,N)"
   ]
  }
 ],
 "metadata": {
  "kernelspec": {
   "display_name": "Python 3",
   "language": "python",
   "name": "python3"
  },
  "language_info": {
   "codemirror_mode": {
    "name": "ipython",
    "version": 3
   },
   "file_extension": ".py",
   "mimetype": "text/x-python",
   "name": "python",
   "nbconvert_exporter": "python",
   "pygments_lexer": "ipython3",
   "version": "3.6.7"
  },
  "toc": {
   "base_numbering": 1,
   "nav_menu": {},
   "number_sections": true,
   "sideBar": true,
   "skip_h1_title": false,
   "title_cell": "Table of Contents",
   "title_sidebar": "Contents",
   "toc_cell": false,
   "toc_position": {},
   "toc_section_display": true,
   "toc_window_display": false
  }
 },
 "nbformat": 4,
 "nbformat_minor": 2
}

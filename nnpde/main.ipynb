{
 "cells": [
  {
   "cell_type": "code",
   "execution_count": 31,
   "metadata": {
    "ExecuteTime": {
     "end_time": "2018-11-29T16:32:14.197121Z",
     "start_time": "2018-11-29T16:32:14.186748Z"
    }
   },
   "outputs": [
    {
     "data": {
      "text/html": [
       "<style>.container { width:95% !important; }</style>"
      ],
      "text/plain": [
       "<IPython.core.display.HTML object>"
      ]
     },
     "metadata": {},
     "output_type": "display_data"
    }
   ],
   "source": [
    "def fix_layout(width:int=95):\n",
    "    from IPython.core.display import display, HTML\n",
    "    display(HTML('<style>.container { width:' + str(width) + '% !important; }</style>'))\n",
    "    \n",
    "fix_layout()"
   ]
  },
  {
   "cell_type": "markdown",
   "metadata": {},
   "source": [
    "# Notes\n",
    "\n",
    "- **the model represents H**\n",
    "- H is learned for one, and only one iteration. But the same H is used for every iteration.\n",
    "- H should satisfy $H0 = 0$\n",
    "- H is a circulant matrix (in theory...) so we should be able to expand or shrink it according to the required dimensions. This is not clear to me, H can be anything... **TODO** we need to check this. Otherwise I don't know how to *expand* to the test dimensions.\n",
    "- The layers are defined as Convolutional Layers only. With a kernel size of (3, 3), a strife of (1, 1), without any bias and linear activation (equal to no activation). See below.\n",
    "\n",
    "```\n",
    "from keras.layers import Conv2D\n",
    "\n",
    "Conv2D(<filters>,\n",
    "       kernel_size=(3, 3), \n",
    "       strides=(1, 1), \n",
    "       use_bias=False,\n",
    "       activation='linear')\n",
    "```\n",
    "\n",
    "- The learning objective, or loss is the mean_square_error off the model being used in the iteration.\n",
    "- X is $u^k$ (given the constrains, and for some iteration $k$)\n",
    "- y is $u^*$\n",
    "\n",
    "T = some constant update matrix, c = some constant vector, $\\psi$ an iterator\n",
    "$$u^{k + 1} = \\psi(u^k) ) = T u^k + c$$\n",
    "$$w = \\psi(u) - u$$\n",
    "$$\\phi(u) = G(\\psi(u) + H w) = G(\\psi(u) + H(\\psi(u) - u))$$\n",
    "\n",
    "- But since the model tries to optimise the residuals... maybe the input of the model should be something different?"
   ]
  },
  {
   "cell_type": "code",
   "execution_count": 10,
   "metadata": {
    "ExecuteTime": {
     "end_time": "2018-11-29T15:47:48.124006Z",
     "start_time": "2018-11-29T15:47:48.114820Z"
    }
   },
   "outputs": [],
   "source": [
    "import torch\n",
    "import torch.nn as nn\n",
    "import torch.nn.functional as F"
   ]
  },
  {
   "cell_type": "code",
   "execution_count": 16,
   "metadata": {
    "ExecuteTime": {
     "end_time": "2018-11-29T16:09:47.285006Z",
     "start_time": "2018-11-29T16:09:47.279811Z"
    }
   },
   "outputs": [],
   "source": [
    "class Net(nn.Module):\n",
    "    def __init__(self):\n",
    "        super(Net, self).__init__()\n",
    "        \n",
    "        # should be `nn.Conv2d(???, ???, 3, bias=False)` in our case\n",
    "        self.conv1 = nn.Conv2d(1, 1, 3, bias=False) \n",
    "        \n",
    "    def forward(self, x):\n",
    "        x = self.conv1(x)\n",
    "        \n",
    "        return x"
   ]
  },
  {
   "cell_type": "code",
   "execution_count": 44,
   "metadata": {
    "ExecuteTime": {
     "end_time": "2018-11-29T16:50:46.423712Z",
     "start_time": "2018-11-29T16:50:46.418728Z"
    }
   },
   "outputs": [],
   "source": [
    "from nnpde.functions import iterativeMethods as im\n",
    "import numpy as np"
   ]
  },
  {
   "cell_type": "code",
   "execution_count": 50,
   "metadata": {
    "ExecuteTime": {
     "end_time": "2018-11-29T16:52:16.566944Z",
     "start_time": "2018-11-29T16:52:16.549620Z"
    }
   },
   "outputs": [],
   "source": [
    "N = 10\n",
    "a = np.ones(N**2)\n",
    "b = -np.ones(N**2-1)*0.25\n",
    "c = -np.ones(N**2-N)*0.25\n",
    "\n",
    "A = np.diag(a) + np.diag(b, 1) + np.diag(b, -1) + np.diag(c, N) + np.diag(c, -N)\n",
    "\n",
    "\n",
    "b_top_idx = np.arange(N)\n",
    "b_bottom_idx = np.arange(N**2-N, N**2)\n",
    "b_left_idx = np.linspace(N, N**2-2*N, N-2, dtype = int)\n",
    "b_right_idx = np.linspace(2*N-1, N**2-N, N-2, dtype = int)\n",
    "\n",
    "b_idx = np.append(b_top_idx, b_bottom_idx)\n",
    "b_idx = np.append(b_idx, b_left_idx)\n",
    "b_idx = np.append(b_idx, b_right_idx)\n",
    "b = np.ones(np.shape(b_idx))*1\n",
    "f = np.zeros(N**2)\n",
    "\n",
    "u, res = im.jacobi(A, f, b_idx = b_idx, b = b, max_iters=200,tol = 1e-2)"
   ]
  },
  {
   "cell_type": "code",
   "execution_count": 76,
   "metadata": {
    "ExecuteTime": {
     "end_time": "2018-11-29T17:08:08.461787Z",
     "start_time": "2018-11-29T17:08:08.452023Z"
    }
   },
   "outputs": [
    {
     "data": {
      "text/plain": [
       "array([1.        , 1.        , 1.        , 1.        , 1.        ,\n",
       "       1.        , 1.        , 1.        , 1.        , 1.        ,\n",
       "       1.        , 0.99580306, 0.99212513, 0.98937139, 0.98793255,\n",
       "       0.98791036, 0.98938504, 0.99210673, 0.99580684, 1.        ,\n",
       "       1.        , 0.99212513, 0.98517426, 0.980057  , 0.97728015,\n",
       "       0.97731498, 0.98001348, 0.98518827, 0.99210428, 1.        ,\n",
       "       1.        , 0.98937139, 0.980057  , 0.97308213, 0.96943693,\n",
       "       0.96937834, 0.97311127, 0.9800032 , 0.98937605, 1.        ,\n",
       "       1.        , 0.98793255, 0.97728015, 0.96943693, 0.96517802,\n",
       "       0.96522736, 0.96935772, 0.97728621, 0.98788862, 1.        ,\n",
       "       1.        , 0.98791036, 0.97731498, 0.96937834, 0.96522736,\n",
       "       0.96515244, 0.96938983, 0.97722269, 0.98789014, 1.        ,\n",
       "       1.        , 0.98938504, 0.98001348, 0.97311127, 0.96935772,\n",
       "       0.96938983, 0.97300579, 0.97996289, 0.98928913, 1.        ,\n",
       "       1.        , 0.99210673, 0.98518827, 0.9800032 , 0.97728621,\n",
       "       0.97722269, 0.97996289, 0.98503267, 0.9919553 , 1.        ,\n",
       "       1.        , 0.99580684, 0.99210428, 0.98937605, 0.98788862,\n",
       "       0.98789014, 0.98928913, 0.9919553 , 0.99538565, 0.99877459,\n",
       "       1.        , 1.        , 1.        , 1.        , 1.        ,\n",
       "       1.        , 1.        , 1.        , 1.        , 1.        ])"
      ]
     },
     "execution_count": 76,
     "metadata": {},
     "output_type": "execute_result"
    }
   ],
   "source": [
    "u"
   ]
  },
  {
   "cell_type": "code",
   "execution_count": 56,
   "metadata": {
    "ExecuteTime": {
     "end_time": "2018-11-29T16:53:42.825890Z",
     "start_time": "2018-11-29T16:53:42.818954Z"
    }
   },
   "outputs": [],
   "source": [
    "T = torch.eye(N**2) - torch.from_numpy(A).float()\n",
    "G = torch.eye(N**2) \n",
    "\n",
    "def reset_boundaries(X, G=G):\n",
    "    # TODO \n",
    "    return X\n",
    "\n",
    "\n",
    "def iterator_step(H, T=T, G=G):\n",
    "    return reset_boundaries(T + H@T - H, G=G)\n",
    "    \n",
    "    \n",
    "def iterations(u0, k, H, T=T, G=G):\n",
    "    X = iterator_step(H, T=T, G=G)\n",
    "    return F.reduce(lambda acc, el: el(acc), [(lambda u: X.mm(u)) for _ in range(k)], u0)\n",
    "\n",
    "\n",
    "class CustLoss(nn.Module):\n",
    "    def __init__(self, u_stars, k=5):\n",
    "        super(CustLoss, self).__init__()\n",
    "        \n",
    "        self.k = k\n",
    "        # should be u0 and u*\n",
    "        # TODO `0` is the initial value, is this correct?\n",
    "        self.u_stars = [(0, u_star) for u_star in u_stars]\n",
    "        \n",
    "    def forward(self, yPred, yTrue):\n",
    "        # we don't care about y, as this would be y_true??? or is it x???\n",
    "        \n",
    "        H = torch.from_numpy(yPred).requires_grad(True)\n",
    "    \n",
    "        # since we doing for all u_stars we can do it probably in a better way (vectorised)\n",
    "        return torch.sum[(torch.abs(iterations(u0, k=self.k, H=yPred) - u_star) for u0, u_star in self.u_stars)]"
   ]
  },
  {
   "cell_type": "code",
   "execution_count": 75,
   "metadata": {
    "ExecuteTime": {
     "end_time": "2018-11-29T17:07:51.563050Z",
     "start_time": "2018-11-29T17:07:51.559331Z"
    }
   },
   "outputs": [],
   "source": [
    "loss_fn = CustLoss(u)\n",
    "\n",
    "\n",
    "prediction = jacobi(A, b, H)\n",
    "loss = loss_fn(prediction, ground_truth)\n",
    "loss.backward()\n",
    "optimizer.step()\n",
    "H.zero_grad() # H is the model"
   ]
  },
  {
   "cell_type": "code",
   "execution_count": 59,
   "metadata": {
    "ExecuteTime": {
     "end_time": "2018-11-29T16:53:49.938012Z",
     "start_time": "2018-11-29T16:53:49.934620Z"
    }
   },
   "outputs": [],
   "source": [
    "net = Net()"
   ]
  },
  {
   "cell_type": "code",
   "execution_count": 60,
   "metadata": {
    "ExecuteTime": {
     "end_time": "2018-11-29T16:53:50.187545Z",
     "start_time": "2018-11-29T16:53:50.180001Z"
    }
   },
   "outputs": [
    {
     "data": {
      "text/plain": [
       "Net(\n",
       "  (conv1): Conv2d(1, 1, kernel_size=(3, 3), stride=(1, 1), bias=False)\n",
       ")"
      ]
     },
     "execution_count": 60,
     "metadata": {},
     "output_type": "execute_result"
    }
   ],
   "source": [
    "net"
   ]
  },
  {
   "cell_type": "code",
   "execution_count": 61,
   "metadata": {
    "ExecuteTime": {
     "end_time": "2018-11-29T16:53:50.687977Z",
     "start_time": "2018-11-29T16:53:50.682924Z"
    }
   },
   "outputs": [],
   "source": [
    "input = torch.ones(1, 1, 5, 5) # what to pluck here???\n",
    "out = net(input)"
   ]
  },
  {
   "cell_type": "code",
   "execution_count": 77,
   "metadata": {
    "ExecuteTime": {
     "end_time": "2018-11-29T17:09:32.732247Z",
     "start_time": "2018-11-29T17:09:32.723157Z"
    }
   },
   "outputs": [
    {
     "data": {
      "text/plain": [
       "tensor([[[[0.0162, 0.0162, 0.0162],\n",
       "          [0.0162, 0.0162, 0.0162],\n",
       "          [0.0162, 0.0162, 0.0162]]]], grad_fn=<ThnnConv2DBackward>)"
      ]
     },
     "execution_count": 77,
     "metadata": {},
     "output_type": "execute_result"
    }
   ],
   "source": [
    "out"
   ]
  },
  {
   "cell_type": "code",
   "execution_count": 63,
   "metadata": {
    "ExecuteTime": {
     "end_time": "2018-11-29T16:53:55.557264Z",
     "start_time": "2018-11-29T16:53:55.546367Z"
    }
   },
   "outputs": [
    {
     "data": {
      "text/plain": [
       "tensor([[[[0.0162, 0.0162, 0.0162],\n",
       "          [0.0162, 0.0162, 0.0162],\n",
       "          [0.0162, 0.0162, 0.0162]]]], grad_fn=<ThnnConv2DBackward>)"
      ]
     },
     "execution_count": 63,
     "metadata": {},
     "output_type": "execute_result"
    }
   ],
   "source": [
    "out"
   ]
  },
  {
   "cell_type": "code",
   "execution_count": null,
   "metadata": {},
   "outputs": [],
   "source": []
  }
 ],
 "metadata": {
  "kernelspec": {
   "display_name": "Python 3",
   "language": "python",
   "name": "python3"
  },
  "language_info": {
   "codemirror_mode": {
    "name": "ipython",
    "version": 3
   },
   "file_extension": ".py",
   "mimetype": "text/x-python",
   "name": "python",
   "nbconvert_exporter": "python",
   "pygments_lexer": "ipython3",
   "version": "3.6.7"
  },
  "toc": {
   "base_numbering": 1,
   "nav_menu": {},
   "number_sections": true,
   "sideBar": true,
   "skip_h1_title": false,
   "title_cell": "Table of Contents",
   "title_sidebar": "Contents",
   "toc_cell": false,
   "toc_position": {},
   "toc_section_display": true,
   "toc_window_display": false
  }
 },
 "nbformat": 4,
 "nbformat_minor": 2
}

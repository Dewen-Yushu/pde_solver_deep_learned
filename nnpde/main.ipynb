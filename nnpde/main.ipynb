{
 "cells": [
  {
   "cell_type": "code",
   "execution_count": null,
   "metadata": {
    "ExecuteTime": {
     "end_time": "2018-12-13T15:52:27.714439Z",
     "start_time": "2018-12-13T15:52:27.699737Z"
    },
    "autoscroll": false,
    "ein.hycell": false,
    "ein.tags": "worksheet-0",
    "slideshow": {
     "slide_type": "-"
    }
   },
   "outputs": [],
   "source": [
    "def fix_layout(width:int=95):\n",
    "    from IPython.core.display import display, HTML\n",
    "    display(HTML('<style>.container { width:' + str(width) + '% !important; }</style>'))\n",
    "    \n",
    "fix_layout()"
   ]
  },
  {
   "cell_type": "code",
   "execution_count": null,
   "metadata": {
    "ExecuteTime": {
     "end_time": "2018-12-13T15:52:28.193154Z",
     "start_time": "2018-12-13T15:52:27.716847Z"
    },
    "autoscroll": false,
    "ein.hycell": false,
    "ein.tags": "worksheet-0",
    "slideshow": {
     "slide_type": "-"
    }
   },
   "outputs": [],
   "source": [
    "import sys\n",
    "\n",
    "import numpy as np\n",
    "import matplotlib.pyplot as plt\n",
    "from nnpde.utils.logs import enable_logging, logging \n",
    "from importlib import reload\n",
    "import nnpde.functions.iterative_methods as im\n",
    "from nnpde.functions import geometries, helpers\n",
    "from nnpde.problems import DirichletProblem "
   ]
  },
  {
   "cell_type": "code",
   "execution_count": null,
   "metadata": {
    "ExecuteTime": {
     "end_time": "2018-12-13T15:52:28.203186Z",
     "start_time": "2018-12-13T15:52:28.195666Z"
    },
    "autoscroll": false,
    "ein.hycell": false,
    "ein.tags": "worksheet-0",
    "slideshow": {
     "slide_type": "-"
    }
   },
   "outputs": [],
   "source": [
    "enable_logging(10)"
   ]
  },
  {
   "cell_type": "code",
   "execution_count": null,
   "metadata": {
    "ExecuteTime": {
     "end_time": "2018-12-13T15:52:28.232517Z",
     "start_time": "2018-12-13T15:52:28.205392Z"
    },
    "autoscroll": false,
    "ein.hycell": false,
    "ein.tags": "worksheet-0",
    "slideshow": {
     "slide_type": "-"
    }
   },
   "outputs": [],
   "source": [
    "import torch\n",
    "import torch.nn as nn\n",
    "import torch.nn.functional as F"
   ]
  },
  {
   "cell_type": "code",
   "execution_count": null,
   "metadata": {
    "ExecuteTime": {
     "end_time": "2018-12-13T15:52:58.511562Z",
     "start_time": "2018-12-13T15:52:28.239022Z"
    },
    "autoscroll": false,
    "ein.hycell": false,
    "ein.tags": "worksheet-0",
    "slideshow": {
     "slide_type": "-"
    }
   },
   "outputs": [],
   "source": [
    "# Define train dimension\n",
    "N = 16\n",
    "\n",
    "# Initialize f: we use a zero forcing term for training\n",
    "f = torch.zeros(1, 1, N, N)\n",
    "\n",
    "# For each problem instance define number of iteration to perform to obtain the solution\n",
    "nb_problem_instances = 30\n",
    "problem_instances = [DirichletProblem(k=k) for k in np.random.randint(1, 20, nb_problem_instances)]"
   ]
  },
  {
   "cell_type": "code",
   "execution_count": null,
   "metadata": {},
   "outputs": [],
   "source": [
    "B_idx = problem_instances[1].B_idx"
   ]
  },
  {
   "cell_type": "code",
   "execution_count": null,
   "metadata": {},
   "outputs": [],
   "source": [
    "net = nn.Conv2d(1, 1, 3, padding=1, bias=False)\n",
    "G = helpers.build_G(B_idx)\n",
    "T = helpers.build_T(N)\n",
    "H = helpers.conv_net_to_matrix(net, N)\n",
    "I = np.eye(N)"
   ]
  },
  {
   "cell_type": "code",
   "execution_count": null,
   "metadata": {},
   "outputs": [],
   "source": [
    "helpers.spectral_radius(T+G.dot(H).dot(T)-G.dot(H))"
   ]
  },
  {
   "cell_type": "markdown",
   "metadata": {
    "ein.tags": "worksheet-0",
    "slideshow": {
     "slide_type": "-"
    }
   },
   "source": [
    "Train using the class"
   ]
  },
  {
   "cell_type": "code",
   "execution_count": null,
   "metadata": {
    "ExecuteTime": {
     "end_time": "2018-12-13T15:54:54.532244Z",
     "start_time": "2018-12-13T15:52:58.512993Z"
    },
    "autoscroll": false,
    "ein.hycell": false,
    "ein.tags": "worksheet-0",
    "slideshow": {
     "slide_type": "-"
    }
   },
   "outputs": [],
   "source": [
    "import nnpde.model as M \n",
    "\n",
    "# TODO fit would idealy take X, y, (u_0 and u_*)\n",
    "model = M.JacobyWithConv(max_iters=300, batch_size=10, learning_rate = 1e-5, net=net).fit(problem_instances)\n",
    "losses = model.losses"
   ]
  },
  {
   "cell_type": "code",
   "execution_count": null,
   "metadata": {
    "ExecuteTime": {
     "end_time": "2018-12-13T15:54:54.533846Z",
     "start_time": "2018-12-13T15:52:27.735Z"
    },
    "autoscroll": false,
    "ein.hycell": false,
    "ein.tags": "worksheet-0",
    "slideshow": {
     "slide_type": "-"
    }
   },
   "outputs": [],
   "source": [
    "print(losses)"
   ]
  },
  {
   "cell_type": "code",
   "execution_count": null,
   "metadata": {
    "ExecuteTime": {
     "end_time": "2018-12-13T15:54:54.535076Z",
     "start_time": "2018-12-13T15:52:27.739Z"
    },
    "autoscroll": false,
    "ein.hycell": false,
    "ein.tags": "worksheet-0",
    "slideshow": {
     "slide_type": "-"
    }
   },
   "outputs": [],
   "source": [
    "# TODO conv_u and Hu should be more or less the same, right? but they are clearly not...\n",
    "some_u = problem_instances[0].initial_u\n",
    "\n",
    "conv_u = im.reset_boundary(model.net(some_u)\n",
    "\n",
    "H = helpers.conv_net_to_matrix(model.net, model.N)\n",
    "\n",
    "GHu = g.dot(np.dot(H, some_u.view(-1).detach().numpy()))\n",
    "\n",
    "all((conv_u.view(-1).detach().numpy() - Hu) < 1e-4)"
   ]
  },
  {
   "cell_type": "markdown",
   "metadata": {
    "ein.tags": "worksheet-0",
    "slideshow": {
     "slide_type": "-"
    }
   },
   "source": [
    "CHECK VALUES, now the error is very small , only problems may be at boundary nodes"
   ]
  },
  {
   "cell_type": "code",
   "execution_count": null,
   "metadata": {
    "ExecuteTime": {
     "end_time": "2018-12-13T15:54:54.536641Z",
     "start_time": "2018-12-13T15:52:27.744Z"
    },
    "autoscroll": false,
    "ein.hycell": false,
    "ein.tags": "worksheet-0",
    "scrolled": false,
    "slideshow": {
     "slide_type": "-"
    }
   },
   "outputs": [],
   "source": [
    "print(conv_u.view(-1).detach().numpy() - Hu)"
   ]
  },
  {
   "cell_type": "code",
   "execution_count": null,
   "metadata": {
    "ExecuteTime": {
     "end_time": "2018-12-13T15:54:54.537802Z",
     "start_time": "2018-12-13T15:52:27.748Z"
    },
    "autoscroll": false,
    "ein.hycell": false,
    "ein.tags": "worksheet-0",
    "slideshow": {
     "slide_type": "-"
    }
   },
   "outputs": [],
   "source": [
    "color_map = plt.get_cmap('cubehelix')\n",
    "colors = color_map(np.linspace(0.1, 1, 10))\n",
    "\n",
    "losses_fig = plt.figure()\n",
    "n_iter = np.arange(np.shape(losses)[0])\n",
    "plt.plot(n_iter[:], losses[:], color = colors[0], linewidth = 1, linestyle = \"-\", marker = \"\",  label='Loss')\n",
    "\n",
    "plt.legend(bbox_to_anchor=(0., -0.3), loc=3, borderaxespad=0.)\n",
    "plt.xlabel('n iteration', fontsize=14)\n",
    "plt.ylabel('Loss', fontsize=14)\n",
    "plt.title('Loss')\n",
    "plt.grid(True, which = \"both\", linewidth = 0.5,  linestyle = \"--\")\n",
    "\n",
    "print(\"final loss is {0}\".format(losses[-1]))\n",
    "#losses_fig.savefig('gridSearch.eps', bbox_inches='tight')"
   ]
  },
  {
   "cell_type": "markdown",
   "metadata": {
    "ein.tags": "worksheet-0",
    "slideshow": {
     "slide_type": "-"
    }
   },
   "source": [
    "Train without using the class"
   ]
  },
  {
   "cell_type": "code",
   "execution_count": null,
   "metadata": {
    "ExecuteTime": {
     "end_time": "2018-12-13T15:58:33.521953Z",
     "start_time": "2018-12-13T15:57:33.397580Z"
    },
    "autoscroll": false,
    "ein.hycell": false,
    "ein.tags": "worksheet-0",
    "slideshow": {
     "slide_type": "-"
    }
   },
   "outputs": [],
   "source": [
    "from nnpde import metrics \n",
    "# Solve the same problem, at each iteration the only thing changing are the weights, which are optimized\n",
    "# TODO why though? wouldn't it make much more sense to train it more times on different problems? isn't this the same as oversampling each training sample?\n",
    "model = M.JacobyWithConv(max_iters=1000, batch_size=10)\n",
    "net = model.net\n",
    "optim = model.optim\n",
    "losses = []\n",
    "for _ in range(100):\n",
    "    net.zero_grad()\n",
    "    loss = torch.zeros(1)\n",
    "    prev_total_loss = 0\n",
    "\n",
    "    batch_size = 1\n",
    "    u_list = [None] * batch_size\n",
    "    \n",
    "    # Sample problem_instances\n",
    "    problem_idx = np.random.choice(np.arange(nb_problem_instances), batch_size, replace = 0)\n",
    "\n",
    "    for i in range(batch_size):\n",
    "\n",
    "        idx = problem_idx[i]\n",
    "        problem_instance = problem_instances[idx]\n",
    "        \n",
    "        B_idx = problem_instance.B_idx\n",
    "        B = problem_instance.B\n",
    "        f = problem_instance.f\n",
    "        initial_u = problem_instance.initial_u\n",
    "        k = problem_instance.k\n",
    "        ground_truth = problem_instance.ground_truth\n",
    "        \n",
    "        # Compute the solution with the updated weights      \n",
    "        u_list[i] = im.H_method(net, B_idx, B, f, initial_u, k)\n",
    "        \n",
    "        #H = helpers.build_diagH_from_net(net,N)\n",
    "        #T = helpers.get_T(N)\n",
    "        #\n",
    "        #spectral_norm = helpers.calculate_spectral_radius(T,H)\n",
    "        #ex = 0\n",
    "        #        \n",
    "        #if spectral_norm > 1:\n",
    "        #    ex = np.nan_to_num(np.inf)\n",
    "\n",
    "        # Define the loss, CHECK if it is correct wrt paper\n",
    "        loss = loss + F.mse_loss(ground_truth, u_list[i])#+ex\n",
    "    \n",
    "\n",
    "\n",
    "    # Backpropagation\n",
    "    loss.backward(retain_graph =  False)\n",
    "\n",
    "    # SGD step\n",
    "    optim.step()\n",
    "    \n",
    "    total_loss = metrics.compute_loss(net, problem_instances)\n",
    "    \n",
    "    # Exit optimization \n",
    "    tol = 1e-2\n",
    "    if total_loss.item() <= tol or total_loss.item() - prev_total_loss < tol:\n",
    "        break\n",
    "\n",
    "\n",
    "    # Store lossses for visualization\n",
    "    losses.append(total_loss.item())\n",
    "    prev_loss = total_loss.item()\n",
    "\n",
    "for name, param in net.named_parameters():\n",
    "    print(name, param)"
   ]
  },
  {
   "cell_type": "markdown",
   "metadata": {
    "ein.tags": "worksheet-0",
    "slideshow": {
     "slide_type": "-"
    }
   },
   "source": [
    "Plot the losses"
   ]
  },
  {
   "cell_type": "code",
   "execution_count": null,
   "metadata": {
    "ExecuteTime": {
     "end_time": "2018-12-13T15:58:40.547089Z",
     "start_time": "2018-12-13T15:58:40.222434Z"
    },
    "autoscroll": false,
    "ein.hycell": false,
    "ein.tags": "worksheet-0",
    "slideshow": {
     "slide_type": "-"
    }
   },
   "outputs": [],
   "source": [
    "color_map = plt.get_cmap('cubehelix')\n",
    "colors = color_map(np.linspace(0.1, 1, 10))\n",
    "\n",
    "losses_fig = plt.figure()\n",
    "n_iter = np.arange(np.shape(losses)[0])\n",
    "plt.plot(n_iter[:], losses[:], color = colors[0], linewidth = 1, linestyle = \"-\", marker = \"\",  label='Loss')\n",
    "\n",
    "plt.legend(bbox_to_anchor=(0., -0.3), loc=3, borderaxespad=0.)\n",
    "plt.xlabel('n iteration', fontsize=14)\n",
    "plt.ylabel('Loss', fontsize=14)\n",
    "plt.title('Loss')\n",
    "plt.grid(True, which = \"both\", linewidth = 0.5,  linestyle = \"--\")\n",
    "\n",
    "print(\"final loss is {0}\".format(losses[-1]))\n",
    "#losses_fig.savefig('gridSearch.eps', bbox_inches='tight')"
   ]
  },
  {
   "cell_type": "markdown",
   "metadata": {
    "ein.tags": "worksheet-0",
    "slideshow": {
     "slide_type": "-"
    }
   },
   "source": [
    "Test on a bigger grid"
   ]
  },
  {
   "cell_type": "code",
   "execution_count": null,
   "metadata": {
    "ExecuteTime": {
     "end_time": "2018-12-13T15:58:53.604238Z",
     "start_time": "2018-12-13T15:58:50.855168Z"
    },
    "autoscroll": false,
    "ein.hycell": false,
    "ein.tags": "worksheet-0",
    "slideshow": {
     "slide_type": "-"
    }
   },
   "outputs": [],
   "source": [
    "N = 50\n",
    "nb_iters = 2000\n",
    "\n",
    "B_idx, B = geometries.square_geometry(N)\n",
    "\n",
    "# Set forcing term\n",
    "f = torch.ones(1,1,N,N)*1.0\n",
    "\n",
    "# Obtain solutions\n",
    "gtt = im.jacobi_method(B_idx, B, f, torch.ones(1,1,N,N), k = 10000)\n",
    "output = im.H_method(model.net, B_idx, B, f, torch.ones(1,1,N,N), k = nb_iters)\n",
    "jacoby_pure = im.jacobi_method(B_idx, B, f, torch.ones(1,1,N,N), k = nb_iters)"
   ]
  },
  {
   "cell_type": "code",
   "execution_count": null,
   "metadata": {
    "ExecuteTime": {
     "end_time": "2018-12-13T15:58:54.883608Z",
     "start_time": "2018-12-13T15:58:54.872412Z"
    },
    "autoscroll": false,
    "ein.hycell": false,
    "ein.tags": "worksheet-0",
    "slideshow": {
     "slide_type": "-"
    }
   },
   "outputs": [],
   "source": [
    "loss_to_be_achieved = 1e-3\n",
    "\n",
    "u_0 = torch.ones(1, 1, N, N)\n",
    "net = model.net"
   ]
  },
  {
   "cell_type": "code",
   "execution_count": null,
   "metadata": {
    "ExecuteTime": {
     "end_time": "2018-12-13T15:59:06.176248Z",
     "start_time": "2018-12-13T15:58:58.619516Z"
    },
    "autoscroll": false,
    "ein.hycell": false,
    "ein.tags": "worksheet-0",
    "slideshow": {
     "slide_type": "-"
    }
   },
   "outputs": [],
   "source": [
    "%%timeit\n",
    "\n",
    "u_k_old = im.jacobi_method(B_idx, B, f, u_0, k = 1)\n",
    "loss_of_old = F.mse_loss(gtt, u_k_old)\n",
    "k_count_old = 1\n",
    "count_old = 1\n",
    "# old method \n",
    "while loss_of_old >= loss_to_be_achieved:\n",
    "    u_k_old = im.jacobi_method(B_idx, B, f, u_k_old, k = 1)\n",
    "    loss_of_old = F.mse_loss(gtt, u_k_old)\n",
    "    k_count_old += 1"
   ]
  },
  {
   "cell_type": "code",
   "execution_count": null,
   "metadata": {
    "ExecuteTime": {
     "end_time": "2018-12-13T15:54:54.543729Z",
     "start_time": "2018-12-13T15:52:27.779Z"
    },
    "autoscroll": false,
    "ein.hycell": false,
    "ein.tags": "worksheet-0",
    "slideshow": {
     "slide_type": "-"
    }
   },
   "outputs": [],
   "source": [
    "%%timeit\n",
    "\n",
    "u_k_new = im.H_method(net, B_idx, B, f, u_0, k=1)\n",
    "\n",
    "loss_new = F.mse_loss(gtt, u_k_new)\n",
    "k_count_new = 1\n",
    "\n",
    "\n",
    "# new method\n",
    "\n",
    "while loss_new >= loss_to_be_achieved:\n",
    "    u_k_new = im.H_method(net, B_idx, B, f, u_k_new, k=1)\n",
    "    loss_new = F.mse_loss(gtt, u_k_new)\n",
    "    k_count_new += 1"
   ]
  },
  {
   "cell_type": "code",
   "execution_count": null,
   "metadata": {
    "ExecuteTime": {
     "end_time": "2018-12-13T15:54:54.544716Z",
     "start_time": "2018-12-13T15:52:27.784Z"
    },
    "autoscroll": false,
    "ein.hycell": false,
    "ein.tags": "worksheet-0",
    "slideshow": {
     "slide_type": "-"
    }
   },
   "outputs": [],
   "source": [
    "# This is not correct, but we have to look for a way to access the variables inside timeit\n",
    "\n",
    "print(\"needed {0} iterations (compared to {1}), ratio: {2}\".format(k_count_old, k_count_new, k_count_old/k_count_new))"
   ]
  },
  {
   "cell_type": "code",
   "execution_count": null,
   "metadata": {
    "ExecuteTime": {
     "end_time": "2018-12-13T15:54:54.545644Z",
     "start_time": "2018-12-13T15:52:27.786Z"
    },
    "autoscroll": false,
    "ein.hycell": false,
    "ein.tags": "worksheet-0",
    "slideshow": {
     "slide_type": "-"
    }
   },
   "outputs": [],
   "source": [
    "print(\"the loss of the new method is {0}, compared to the pure-jacoby one: {1}. computed with {2} iterations\".format(F.mse_loss(gtt, output), F.mse_loss(gtt, jacoby_pure), nb_iters))"
   ]
  },
  {
   "cell_type": "code",
   "execution_count": null,
   "metadata": {
    "ExecuteTime": {
     "end_time": "2018-12-13T15:54:54.546631Z",
     "start_time": "2018-12-13T15:52:27.788Z"
    },
    "autoscroll": false,
    "ein.hycell": false,
    "ein.tags": "worksheet-0",
    "slideshow": {
     "slide_type": "-"
    }
   },
   "outputs": [],
   "source": [
    "helpers.plot_solution(gtt,output,N)"
   ]
  },
  {
   "cell_type": "code",
   "execution_count": null,
   "metadata": {
    "ExecuteTime": {
     "end_time": "2018-12-13T15:54:54.547645Z",
     "start_time": "2018-12-13T15:52:27.791Z"
    },
    "autoscroll": false,
    "ein.hycell": false,
    "ein.tags": "worksheet-0",
    "slideshow": {
     "slide_type": "-"
    }
   },
   "outputs": [],
   "source": [
    "(gtt.view(N,N) - output.view(N,N)).mean()"
   ]
  },
  {
   "cell_type": "markdown",
   "metadata": {
    "ein.tags": "worksheet-0",
    "slideshow": {
     "slide_type": "-"
    }
   },
   "source": [
    "Test on L-shape domain"
   ]
  },
  {
   "cell_type": "code",
   "execution_count": null,
   "metadata": {
    "ExecuteTime": {
     "end_time": "2018-12-13T15:54:54.548594Z",
     "start_time": "2018-12-13T15:52:27.795Z"
    },
    "autoscroll": false,
    "ein.hycell": false,
    "ein.tags": "worksheet-0",
    "slideshow": {
     "slide_type": "-"
    }
   },
   "outputs": [],
   "source": [
    "B_idx, B = geometries.l_shaped_geometry(N)\n",
    "\n",
    "# Set forcing term\n",
    "f = torch.ones(1,1,N,N)*1.0\n",
    "\n",
    "# Obtain solutions\n",
    "gtt = im.jacobi_method(B_idx, B, f, torch.ones(1,1,N,N), k = 10000)\n",
    "output = im.H_method(net, B_idx, B, f, torch.ones(1,1,N,N), k = 2000)"
   ]
  },
  {
   "cell_type": "code",
   "execution_count": null,
   "metadata": {
    "ExecuteTime": {
     "end_time": "2018-12-13T15:54:54.549570Z",
     "start_time": "2018-12-13T15:52:27.798Z"
    },
    "autoscroll": false,
    "ein.hycell": false,
    "ein.tags": "worksheet-0",
    "slideshow": {
     "slide_type": "-"
    }
   },
   "outputs": [],
   "source": [
    "helpers.plot_solution(gtt,output,N)"
   ]
  },
  {
   "cell_type": "code",
   "execution_count": null,
   "metadata": {},
   "outputs": [],
   "source": [
    "multiply_adds = 1\n",
    "\n",
    "def count_conv2d(shapex, shapey,in_channels = 1,out_channels = 1,kernel_size = (3,3)):\n",
    "    \n",
    "    cin = in_channels\n",
    "    cout = out_channels\n",
    "    kh, kw = kernel_size\n",
    "    batch_size = shapex[0]\n",
    "\n",
    "    out_w = shapey[2]\n",
    "    out_h = shapey[3]\n",
    "\n",
    "    # ops per output element\n",
    "    # kernel_mul = kh * kw * cin\n",
    "    # kernel_add = kh * kw * cin - 1\n",
    "    \n",
    "    kernel_ops = multiply_adds * kh * kw * cin\n",
    "    ops_per_element = kernel_ops\n",
    "\n",
    "    # total ops\n",
    "    # num_out_elements = y.numel()\n",
    "    output_elements = batch_size * out_w * out_h * cout\n",
    "    total_ops = output_elements * ops_per_element\n",
    "\n",
    "    # in case same conv is used multiple times\n",
    "    total_ops += torch.Tensor([int(total_ops)])\n",
    "    \n",
    "    return total_ops"
   ]
  },
  {
   "cell_type": "code",
   "execution_count": null,
   "metadata": {},
   "outputs": [],
   "source": [
    "def compare_flops(n,n_iter_conv,n_iter_jac,layers):\n",
    "    #flops, params = profile(net, input_size=input_shape)\n",
    "    flop_conv = (count_conv2d((1,1,256,256),(1,1,3,3)) + 2*n**2 + 4) * n_iter_conv # 9 operations for each convolution, and we perform n^2 convolutions in total for each layer + 6 operations for the jacobi iteration step\n",
    "    flop_jac = (7 * n**2) * n_iter_jac # For each u_ij, we add its 4 neighbors + forcing term + resetting the boundaries\n",
    "    return flop_conv/flop_jac"
   ]
  },
  {
   "cell_type": "code",
   "execution_count": null,
   "metadata": {},
   "outputs": [],
   "source": [
    "compare_flops(16,k_count_new,k_count_old,3)"
   ]
  }
 ],
 "metadata": {
  "kernelspec": {
   "display_name": "Python 3",
   "language": "python",
   "name": "python3"
  },
  "language_info": {
   "codemirror_mode": {
    "name": "ipython",
    "version": 3
   },
   "file_extension": ".py",
   "mimetype": "text/x-python",
   "name": "python",
   "nbconvert_exporter": "python",
   "pygments_lexer": "ipython3",
   "version": "3.7.1"
  },
  "name": "main.ipynb",
  "toc": {
   "base_numbering": 1,
   "nav_menu": null,
   "number_sections": true,
   "sideBar": true,
   "skip_h1_title": false,
   "title_cell": "Table of Contents",
   "title_sidebar": "Contents",
   "toc_cell": false,
   "toc_position": null,
   "toc_section_display": true,
   "toc_window_display": false
  }
 },
 "nbformat": 4,
 "nbformat_minor": 2
}

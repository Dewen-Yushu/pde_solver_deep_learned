{
 "cells": [
  {
   "cell_type": "code",
   "execution_count": 1,
   "metadata": {
    "ExecuteTime": {
     "end_time": "2018-12-09T22:20:48.091231Z",
     "start_time": "2018-12-09T22:20:48.062783Z"
    }
   },
   "outputs": [
    {
     "data": {
      "text/html": [
       "<style>.container { width:95% !important; }</style>"
      ],
      "text/plain": [
       "<IPython.core.display.HTML object>"
      ]
     },
     "metadata": {},
     "output_type": "display_data"
    }
   ],
   "source": [
    "def fix_layout(width:int=95):\n",
    "    from IPython.core.display import display, HTML\n",
    "    display(HTML('<style>.container { width:' + str(width) + '% !important; }</style>'))\n",
    "    \n",
    "fix_layout()"
   ]
  },
  {
   "cell_type": "code",
   "execution_count": 2,
   "metadata": {
    "ExecuteTime": {
     "end_time": "2018-12-09T22:20:49.443783Z",
     "start_time": "2018-12-09T22:20:48.356077Z"
    }
   },
   "outputs": [],
   "source": [
    "import sys\n",
    "\n",
    "import numpy as np\n",
    "import matplotlib.pyplot as plt\n",
    "#from logs import enable_logging, logging \n",
    "from importlib import reload\n",
    "import nnpde.functions.iterative_methods as im\n",
    "from nnpde.functions import geometries\n",
    "from nnpde.functions import helpers"
   ]
  },
  {
   "cell_type": "code",
   "execution_count": 3,
   "metadata": {
    "ExecuteTime": {
     "end_time": "2018-12-09T22:20:49.509031Z",
     "start_time": "2018-12-09T22:20:49.445779Z"
    }
   },
   "outputs": [
    {
     "name": "stdout",
     "output_type": "stream",
     "text": [
      "0.weight Parameter containing:\n",
      "tensor([[[[ 0.2274, -0.0089, -0.1305],\n",
      "          [ 0.0541,  0.2024, -0.0456],\n",
      "          [ 0.2344, -0.1296,  0.3106]]]], requires_grad=True)\n",
      "1.weight Parameter containing:\n",
      "tensor([[[[ 0.0194, -0.2598, -0.2926],\n",
      "          [ 0.1117,  0.0224,  0.0932],\n",
      "          [ 0.2278,  0.0886,  0.3332]]]], requires_grad=True)\n",
      "2.weight Parameter containing:\n",
      "tensor([[[[-0.2591, -0.1149, -0.0808],\n",
      "          [-0.0338,  0.2629,  0.1549],\n",
      "          [-0.2991, -0.1965, -0.1655]]]], requires_grad=True)\n"
     ]
    }
   ],
   "source": [
    "import torch\n",
    "import torch.nn as nn\n",
    "import torch.nn.functional as F\n",
    "\n",
    "net = nn.Sequential(\n",
    "    nn.Conv2d(1, 1, 3, padding=1, bias=False),\n",
    "    nn.Conv2d(1, 1, 3, padding=1, bias=False),\n",
    "    nn.Conv2d(1, 1, 3, padding=1, bias=False),\n",
    ")\n",
    "\n",
    "\n",
    "# Set the optimizer, you have to play with lr: if too big nan\n",
    "optim = torch.optim.SGD(net.parameters(), lr = 1e-6)\n",
    "##optim = torch.optim.Adadelta(net.parameters())\n",
    "#optim = torch.optim.Adam(net.parameters(), lr=1e-6)\n",
    "#optim = torch.optim.ASGD(net.parameters())\n",
    "# SGD seems much faster\n",
    "\n",
    "for name, param in net.named_parameters():\n",
    "    print(name, param)"
   ]
  },
  {
   "cell_type": "code",
   "execution_count": 4,
   "metadata": {},
   "outputs": [],
   "source": [
    "class dirichlet_problem:\n",
    "    \"\"\"A class for setting a problem instance\"\"\"\n",
    "    \n",
    "    def __init__(self, B_idx=None, B=None, forcing_term=None, k=20, k_ground_truth = 1000, initial_u=None, domain_type=\"Square\", N=16):\n",
    "        \n",
    "        if B_idx is None:\n",
    "            self.B_idx, self.B = geometries.square_geometry(N)\n",
    "        else:\n",
    "            self.B_idx = B_idx\n",
    "            self.B = B\n",
    "            \n",
    "        if forcing_term is None:\n",
    "            self.forcing_term = torch.zeros(1, 1, N, N)\n",
    "        else:\n",
    "            self.forcing_term = forcing_term\n",
    "        \n",
    "        if initial_u is None:\n",
    "            self.initial_u = torch.rand(1, 1, N, N, requires_grad=True)\n",
    "        else:\n",
    "            self.initial_u = initial_u\n",
    "        \n",
    "        self.k = k \n",
    "        \n",
    "        # Initial_u_jacobi is different, it must not require grad\n",
    "        self.initial_u_jacobi = torch.zeros(1, 1, N, N)\n",
    "        self.k_ground_truth = k_ground_truth\n",
    "        self.ground_truth = im.jacobi_method(self.B_idx, self.B, self.forcing_term, self.initial_u_jacobi, self.k_ground_truth)\n"
   ]
  },
  {
   "cell_type": "code",
   "execution_count": 5,
   "metadata": {},
   "outputs": [],
   "source": [
    "class train_iterativeMethod:\n",
    "    \"\"\"A class to obtain the optimal weights\"\"\"\n",
    "    def __init__(self, net, problem_instances_list, batch_size=1, learning_rate = 1e-6,max_iters = 1000, tol = 1e-6, k_range = [1, 20],N=16):\n",
    "        \n",
    "        self.net = net\n",
    "        self.learning_rate = learning_rate\n",
    "        optim = torch.optim.SGD(net.parameters(), learning_rate)\n",
    "\n",
    "        self.batch_size = batch_size\n",
    "        self.max_iters = max_iters\n",
    "        self.tol = tol\n",
    "        self.k_range = k_range\n",
    "        \n",
    "        self.problem_instances_list = problem_instances_list\n",
    "        self.nb_problem_instances = len(problem_instances_list)\n",
    "        self.T = helpers.get_T(N)\n",
    "        self.H = helpers.build_diagH_from_net(net,N)\n",
    "        self.N = N\n",
    "        \n",
    "    def _optimization_step_(self):\n",
    "            net.zero_grad()\n",
    "            loss = torch.zeros(1)\n",
    "\n",
    "            u_list = [None] * self.batch_size\n",
    "\n",
    "            # Sample problem_instances\n",
    "            problem_idx = np.random.choice(np.arange(self.nb_problem_instances), self.batch_size, replace = 0)\n",
    "\n",
    "            for i in range(self.batch_size):\n",
    "\n",
    "                idx = problem_idx[i]\n",
    "                problem_instance = self.problem_instances_list[idx]\n",
    "\n",
    "                B_idx = problem_instance.B_idx\n",
    "                B = problem_instance.B\n",
    "                f = problem_instance.forcing_term\n",
    "                initial_u = problem_instance.initial_u\n",
    "                k = problem_instance.k\n",
    "                ground_truth = problem_instance.ground_truth\n",
    "\n",
    "                # Compute the solution with the updated weights      \n",
    "                u_list[i] = im.H_method(net, B_idx, B, f, initial_u, k)\n",
    "                \n",
    "                # Compute the spectral norm and set the loss to infinity if spectral norm > 1\n",
    "                spectral_norm = helpers.calculate_spectral_radius(self.T,self.H)\n",
    "                ex = 0\n",
    "                \n",
    "                if spectral_norm > 1:\n",
    "                    ex = np.nan_to_num(np.inf)\n",
    "\n",
    "                # Define the loss, CHECK if it is correct wrt paper\n",
    "                loss = loss + F.mse_loss(ground_truth, u_list[i]) + ex\n",
    "                \n",
    "                # Backpropagation\n",
    "                loss.backward(retain_graph =  False)\n",
    "\n",
    "                # SGD step\n",
    "                optim.step()\n",
    "                \n",
    "                \n",
    "    def _optimal_weights_(self):\n",
    "        losses = []\n",
    "        prev_total_loss = 0 \n",
    "        #print(prev_total_loss)\n",
    "        for n_iter in range(self.max_iters):\n",
    "            \n",
    "            self._optimization_step_()\n",
    "\n",
    "            total_loss = helpers.compute_loss(net, problem_instances_list,self.N)\n",
    "\n",
    "            # Exit optimization \n",
    "            if total_loss.item() <= self.tol or total_loss.item() - prev_total_loss < self.tol:\n",
    "                break\n",
    "\n",
    "\n",
    "            # Store lossses for visualization\n",
    "            losses.append(total_loss.item())\n",
    "            prev_total_loss = total_loss.item()\n",
    "            \n",
    "        return losses\n",
    "\n",
    "    \n",
    "   \n",
    "        "
   ]
  },
  {
   "cell_type": "code",
   "execution_count": 6,
   "metadata": {},
   "outputs": [],
   "source": [
    "# Initialize list of problem instances\n",
    "nb_problem_instances = 50\n",
    "problem_instances_list = [None] * nb_problem_instances\n",
    "\n",
    "# Define train dimension\n",
    "N = 16\n",
    "\n",
    "# Initialize f: we use a zero forcing term for training\n",
    "f = torch.zeros(1, 1, N, N)\n",
    "\n",
    "# For each problem instance define number of iteration to perform to obtain the solution\n",
    "k = np.random.randint(1, 20, nb_problem_instances)\n",
    "\n",
    "for i in range(nb_problem_instances):\n",
    "     problem_instances_list[i] = dirichlet_problem(k = k[i])"
   ]
  },
  {
   "cell_type": "markdown",
   "metadata": {},
   "source": [
    "Train using the class"
   ]
  },
  {
   "cell_type": "code",
   "execution_count": 7,
   "metadata": {},
   "outputs": [],
   "source": [
    "train_net = train_iterativeMethod(net, problem_instances_list, max_iters=10)\n",
    "losses = train_net._optimal_weights_()"
   ]
  },
  {
   "cell_type": "code",
   "execution_count": 8,
   "metadata": {},
   "outputs": [
    {
     "name": "stdout",
     "output_type": "stream",
     "text": [
      "0.weight Parameter containing:\n",
      "tensor([[[[ 0.2274, -0.0089, -0.1305],\n",
      "          [ 0.0541,  0.2024, -0.0456],\n",
      "          [ 0.2344, -0.1296,  0.3106]]]], requires_grad=True)\n",
      "1.weight Parameter containing:\n",
      "tensor([[[[ 0.0194, -0.2598, -0.2926],\n",
      "          [ 0.1117,  0.0224,  0.0932],\n",
      "          [ 0.2278,  0.0886,  0.3332]]]], requires_grad=True)\n",
      "2.weight Parameter containing:\n",
      "tensor([[[[-0.2591, -0.1149, -0.0808],\n",
      "          [-0.0338,  0.2629,  0.1549],\n",
      "          [-0.2991, -0.1965, -0.1655]]]], requires_grad=True)\n"
     ]
    }
   ],
   "source": [
    "for name, param in train_net.net.named_parameters():\n",
    "    print(name, param)"
   ]
  },
  {
   "cell_type": "code",
   "execution_count": 9,
   "metadata": {},
   "outputs": [
    {
     "name": "stdout",
     "output_type": "stream",
     "text": [
      "final loss is 26.172771453857422\n"
     ]
    },
    {
     "data": {
      "image/png": "[encoded data removed]",
      "text/plain": [
       "<Figure size 432x288 with 1 Axes>"
      ]
     },
     "metadata": {
      "needs_background": "light"
     },
     "output_type": "display_data"
    }
   ],
   "source": [
    "color_map = plt.get_cmap('cubehelix')\n",
    "colors = color_map(np.linspace(0.1, 1, 10))\n",
    "\n",
    "losses_fig = plt.figure()\n",
    "n_iter = np.arange(np.shape(losses)[0])\n",
    "plt.plot(n_iter[:], losses[:], color = colors[0], linewidth = 1, linestyle = \"-\", marker = \"\",  label='Loss')\n",
    "\n",
    "plt.legend(bbox_to_anchor=(0., -0.3), loc=3, borderaxespad=0.)\n",
    "plt.xlabel('n iteration', fontsize=14)\n",
    "plt.ylabel('Loss', fontsize=14)\n",
    "plt.title('Loss')\n",
    "plt.grid(True, which = \"both\", linewidth = 0.5,  linestyle = \"--\")\n",
    "\n",
    "print(\"final loss is {0}\".format(losses[-1]))\n",
    "#losses_fig.savefig('gridSearch.eps', bbox_inches='tight')"
   ]
  },
  {
   "cell_type": "markdown",
   "metadata": {},
   "source": [
    "Train without using the class"
   ]
  },
  {
   "cell_type": "code",
   "execution_count": 10,
   "metadata": {},
   "outputs": [
    {
     "name": "stdout",
     "output_type": "stream",
     "text": [
      "0.weight Parameter containing:\n",
      "tensor([[[[ 0.2274, -0.0089, -0.1305],\n",
      "          [ 0.0541,  0.2024, -0.0456],\n",
      "          [ 0.2344, -0.1297,  0.3106]]]], requires_grad=True)\n",
      "1.weight Parameter containing:\n",
      "tensor([[[[ 0.0194, -0.2598, -0.2926],\n",
      "          [ 0.1117,  0.0224,  0.0932],\n",
      "          [ 0.2278,  0.0886,  0.3332]]]], requires_grad=True)\n",
      "2.weight Parameter containing:\n",
      "tensor([[[[-0.2591, -0.1149, -0.0808],\n",
      "          [-0.0338,  0.2629,  0.1549],\n",
      "          [-0.2991, -0.1965, -0.1655]]]], requires_grad=True)\n"
     ]
    }
   ],
   "source": [
    "# Solve the same problem, at each iteration the only thing changing are the weights, which are optimized\n",
    "# TODO why though? wouldn't it make much more sense to train it more times on different problems? isn't this the same as oversampling each training sample?\n",
    "\n",
    "for _ in range(100):\n",
    "    net.zero_grad()\n",
    "    loss = torch.zeros(1)\n",
    "    prev_total_loss = 0\n",
    "\n",
    "    batch_size = 1\n",
    "    u_list = [None] * batch_size\n",
    "    \n",
    "    # Sample problem_instances\n",
    "    problem_idx = np.random.choice(np.arange(nb_problem_instances), batch_size, replace = 0)\n",
    "\n",
    "    for i in range(batch_size):\n",
    "\n",
    "        idx = problem_idx[i]\n",
    "        problem_instance = problem_instances_list[idx]\n",
    "        \n",
    "        B_idx = problem_instance.B_idx\n",
    "        B = problem_instance.B\n",
    "        f = problem_instance.forcing_term\n",
    "        initial_u = problem_instance.initial_u\n",
    "        k = problem_instance.k\n",
    "        ground_truth = problem_instance.ground_truth\n",
    "        \n",
    "        # Compute the solution with the updated weights      \n",
    "        u_list[i] = im.H_method(net, B_idx, B, f, initial_u, k)\n",
    "        \n",
    "        H = helpers.build_diagH_from_net(net,N)\n",
    "        T = helpers.get_T(N)\n",
    "        \n",
    "        spectral_norm = helpers.calculate_spectral_radius(T,H)\n",
    "        ex = 0\n",
    "                \n",
    "        if spectral_norm > 1:\n",
    "            ex = np.nan_to_num(np.inf)\n",
    "\n",
    "        # Define the loss, CHECK if it is correct wrt paper\n",
    "        loss = loss + F.mse_loss(ground_truth, u_list[i])+ex\n",
    "    \n",
    "\n",
    "\n",
    "    # Backpropagation\n",
    "    loss.backward(retain_graph =  False)\n",
    "\n",
    "    # SGD step\n",
    "    optim.step()\n",
    "    \n",
    "    total_loss = helpers.compute_loss(net, problem_instances_list,N)\n",
    "    \n",
    "    # Exit optimization \n",
    "    tol = 1e-2\n",
    "    if total_loss.item() <= tol or total_loss.item() - prev_total_loss < tol:\n",
    "        break\n",
    "\n",
    "\n",
    "    # Store lossses for visualization\n",
    "    losses.append(total_loss.item())\n",
    "    prev_loss = total_loss.item()\n",
    "\n",
    "for name, param in net.named_parameters():\n",
    "    print(name, param)"
   ]
  },
  {
   "cell_type": "markdown",
   "metadata": {},
   "source": [
    "Plot the losses"
   ]
  },
  {
   "cell_type": "code",
   "execution_count": 11,
   "metadata": {
    "ExecuteTime": {
     "end_time": "2018-12-09T22:20:56.886744Z",
     "start_time": "2018-12-09T22:20:56.608908Z"
    }
   },
   "outputs": [
    {
     "name": "stdout",
     "output_type": "stream",
     "text": [
      "final loss is 26.17232322692871\n"
     ]
    },
    {
     "data": {
      "image/png": "[encoded data removed]",
      "text/plain": [
       "<Figure size 432x288 with 1 Axes>"
      ]
     },
     "metadata": {
      "needs_background": "light"
     },
     "output_type": "display_data"
    }
   ],
   "source": [
    "color_map = plt.get_cmap('cubehelix')\n",
    "colors = color_map(np.linspace(0.1, 1, 10))\n",
    "\n",
    "losses_fig = plt.figure()\n",
    "n_iter = np.arange(np.shape(losses)[0])\n",
    "plt.plot(n_iter[:], losses[:], color = colors[0], linewidth = 1, linestyle = \"-\", marker = \"\",  label='Loss')\n",
    "\n",
    "plt.legend(bbox_to_anchor=(0., -0.3), loc=3, borderaxespad=0.)\n",
    "plt.xlabel('n iteration', fontsize=14)\n",
    "plt.ylabel('Loss', fontsize=14)\n",
    "plt.title('Loss')\n",
    "plt.grid(True, which = \"both\", linewidth = 0.5,  linestyle = \"--\")\n",
    "\n",
    "print(\"final loss is {0}\".format(losses[-1]))\n",
    "#losses_fig.savefig('gridSearch.eps', bbox_inches='tight')"
   ]
  },
  {
   "cell_type": "markdown",
   "metadata": {},
   "source": [
    "Test on a bigger grid"
   ]
  },
  {
   "cell_type": "code",
   "execution_count": 12,
   "metadata": {
    "ExecuteTime": {
     "end_time": "2018-12-09T22:20:59.829589Z",
     "start_time": "2018-12-09T22:20:56.889100Z"
    }
   },
   "outputs": [],
   "source": [
    "N = 50\n",
    "nb_iters = 2000\n",
    "\n",
    "B_idx, B = geometries.square_geometry(N)\n",
    "\n",
    "# Set forcing term\n",
    "f = torch.ones(1,1,N,N)*1.0\n",
    "\n",
    "# Obtain solutions\n",
    "gtt = im.jacobi_method(B_idx, B, f, torch.ones(1,1,N,N), k = 10000)\n",
    "output = im.H_method(net, B_idx, B, f, torch.ones(1,1,N,N), k = nb_iters)\n",
    "jacoby_pure = im.jacobi_method(B_idx, B, f, torch.ones(1,1,N,N), k = nb_iters)"
   ]
  },
  {
   "cell_type": "code",
   "execution_count": 14,
   "metadata": {
    "ExecuteTime": {
     "end_time": "2018-12-09T22:21:52.456154Z",
     "start_time": "2018-12-09T22:21:51.366664Z"
    }
   },
   "outputs": [],
   "source": [
    "loss_to_be_achieved = 1e-3\n",
    "\n",
    "u_0 = torch.ones(1, 1, N, N)"
   ]
  },
  {
   "cell_type": "code",
   "execution_count": 50,
   "metadata": {},
   "outputs": [
    {
     "name": "stdout",
     "output_type": "stream",
     "text": [
      "820 ms ± 98.2 ms per loop (mean ± std. dev. of 7 runs, 1 loop each)\n"
     ]
    }
   ],
   "source": [
    "%%timeit\n",
    "\n",
    "u_k_old = im.jacobi_method(B_idx, B, f, u_0, k = 1)\n",
    "loss_of_old = F.mse_loss(gtt, u_k_old)\n",
    "k_count_old = 1\n",
    "count_old = 1\n",
    "# old method \n",
    "while loss_of_old >= loss_to_be_achieved:\n",
    "    u_k_old = im.jacobi_method(B_idx, B, f, u_k_old, k = 1)\n",
    "    loss_of_old = F.mse_loss(gtt, u_k_old)\n",
    "    k_count_old += 1"
   ]
  },
  {
   "cell_type": "code",
   "execution_count": 52,
   "metadata": {
    "ExecuteTime": {
     "end_time": "2018-12-09T22:25:26.030157Z",
     "start_time": "2018-12-09T22:25:15.312259Z"
    }
   },
   "outputs": [
    {
     "name": "stdout",
     "output_type": "stream",
     "text": [
      "3.32 s ± 878 ms per loop (mean ± std. dev. of 7 runs, 1 loop each)\n"
     ]
    }
   ],
   "source": [
    "%%timeit\n",
    "\n",
    "u_k_new = im.H_method(net, B_idx, B, f, u_0, k=1)\n",
    "\n",
    "loss_new = F.mse_loss(gtt, u_k_new)\n",
    "k_count_new = 1\n",
    "\n",
    "\n",
    "# new method\n",
    "\n",
    "while loss_new >= loss_to_be_achieved:\n",
    "    u_k_new = im.H_method(net, B_idx, B, f, u_k_new, k=1)\n",
    "    loss_new = F.mse_loss(gtt, u_k_new)\n",
    "    k_count_new += 1"
   ]
  },
  {
   "cell_type": "code",
   "execution_count": 54,
   "metadata": {
    "ExecuteTime": {
     "end_time": "2018-12-09T22:25:26.037555Z",
     "start_time": "2018-12-09T22:25:26.033317Z"
    }
   },
   "outputs": [
    {
     "name": "stdout",
     "output_type": "stream",
     "text": [
      "needed 1 iterations (compared to 1), ratio: 1.0\n"
     ]
    }
   ],
   "source": [
    "# This is not correct, but we have to look for a way to access the variables inside timeit\n",
    "\n",
    "print(\"needed {0} iterations (compared to {1}), ratio: {2}\".format(k_count_old, k_count_new, k_count_old/k_count_new))"
   ]
  },
  {
   "cell_type": "code",
   "execution_count": 28,
   "metadata": {
    "ExecuteTime": {
     "end_time": "2018-12-09T22:21:00.166239Z",
     "start_time": "2018-12-09T22:20:56.714Z"
    }
   },
   "outputs": [
    {
     "name": "stdout",
     "output_type": "stream",
     "text": [
      "the loss of the new method is 164.0253448486328, compared to the pure-jacoby one: 39.881065368652344. computed with 2000 iterations\n"
     ]
    }
   ],
   "source": [
    "print(\"the loss of the new method is {0}, compared to the pure-jacoby one: {1}. computed with {2} iterations\".format(F.mse_loss(gtt, output), F.mse_loss(gtt, jacoby_pure), nb_iters))"
   ]
  },
  {
   "cell_type": "code",
   "execution_count": 30,
   "metadata": {},
   "outputs": [
    {
     "data": {
      "image/png": "[encoded data removed]",
      "text/plain": [
       "<Figure size 432x288 with 3 Axes>"
      ]
     },
     "metadata": {
      "needs_background": "light"
     },
     "output_type": "display_data"
    }
   ],
   "source": [
    "helpers.plot_solution(gtt,output,N)"
   ]
  },
  {
   "cell_type": "code",
   "execution_count": 31,
   "metadata": {
    "ExecuteTime": {
     "end_time": "2018-12-09T22:21:00.167481Z",
     "start_time": "2018-12-09T22:20:58.506Z"
    }
   },
   "outputs": [
    {
     "data": {
      "text/plain": [
       "tensor(10.1657, grad_fn=<MeanBackward1>)"
      ]
     },
     "execution_count": 31,
     "metadata": {},
     "output_type": "execute_result"
    }
   ],
   "source": [
    "(gtt.view(N,N) - output.view(N,N)).mean()"
   ]
  },
  {
   "cell_type": "markdown",
   "metadata": {},
   "source": [
    "Test on L-shape domain"
   ]
  },
  {
   "cell_type": "code",
   "execution_count": 33,
   "metadata": {
    "ExecuteTime": {
     "end_time": "2018-12-09T21:15:00.596811Z",
     "start_time": "2018-12-09T21:14:57.877127Z"
    }
   },
   "outputs": [],
   "source": [
    "B_idx, B = geometries.l_shaped_geometry(N)\n",
    "\n",
    "# Set forcing term\n",
    "f = torch.ones(1,1,N,N)*1.0\n",
    "\n",
    "# Obtain solutions\n",
    "gtt = im.jacobi_method(B_idx, B, f, torch.ones(1,1,N,N), k = 10000)\n",
    "output = im.H_method(net, B_idx, B, f, torch.ones(1,1,N,N), k = 2000)"
   ]
  },
  {
   "cell_type": "code",
   "execution_count": 35,
   "metadata": {
    "ExecuteTime": {
     "end_time": "2018-12-09T21:15:03.050023Z",
     "start_time": "2018-12-09T21:15:02.642928Z"
    }
   },
   "outputs": [
    {
     "data": {
      "image/png": "[encoded data removed]",
      "text/plain": [
       "<Figure size 432x288 with 3 Axes>"
      ]
     },
     "metadata": {
      "needs_background": "light"
     },
     "output_type": "display_data"
    }
   ],
   "source": [
    "helpers.plot_solution(gtt,output,N)"
   ]
  }
 ],
 "metadata": {
  "kernelspec": {
   "display_name": "Python 3",
   "language": "python",
   "name": "python3"
  },
  "language_info": {
   "codemirror_mode": {
    "name": "ipython",
    "version": 3
   },
   "file_extension": ".py",
   "mimetype": "text/x-python",
   "name": "python",
   "nbconvert_exporter": "python",
   "pygments_lexer": "ipython3",
   "version": "3.7.1"
  },
  "toc": {
   "base_numbering": 1,
   "nav_menu": {},
   "number_sections": true,
   "sideBar": true,
   "skip_h1_title": false,
   "title_cell": "Table of Contents",
   "title_sidebar": "Contents",
   "toc_cell": false,
   "toc_position": {},
   "toc_section_display": true,
   "toc_window_display": false
  }
 },
 "nbformat": 4,
 "nbformat_minor": 2
}

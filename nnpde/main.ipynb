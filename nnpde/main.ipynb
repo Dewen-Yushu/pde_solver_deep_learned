{
 "cells": [
  {
   "cell_type": "markdown",
   "metadata": {
    "ExecuteTime": {
     "end_time": "2018-12-18T11:12:37.978677Z",
     "start_time": "2018-12-18T11:12:37.976016Z"
    }
   },
   "source": [
    "# Imports"
   ]
  },
  {
   "cell_type": "code",
   "execution_count": null,
   "metadata": {
    "ExecuteTime": {
     "end_time": "2018-12-18T13:32:27.401613Z",
     "start_time": "2018-12-18T13:32:27.390296Z"
    },
    "autoscroll": false,
    "ein.hycell": false,
    "ein.tags": "worksheet-0",
    "slideshow": {
     "slide_type": "-"
    }
   },
   "outputs": [],
   "source": [
    "def fix_layout(width:int=95):\n",
    "    from IPython.core.display import display, HTML\n",
    "    display(HTML('<style>.container { width:' + str(width) + '% !important; }</style>'))\n",
    "    \n",
    "fix_layout()"
   ]
  },
  {
   "cell_type": "code",
   "execution_count": null,
   "metadata": {
    "ExecuteTime": {
     "end_time": "2018-12-18T13:32:28.292558Z",
     "start_time": "2018-12-18T13:32:27.403427Z"
    },
    "autoscroll": false,
    "ein.hycell": false,
    "ein.tags": "worksheet-0",
    "slideshow": {
     "slide_type": "-"
    }
   },
   "outputs": [],
   "source": [
    "from importlib import reload\n",
    "\n",
    "import numpy as np\n",
    "import matplotlib.pyplot as plt\n",
    "import torch\n",
    "import torch.nn as nn\n",
    "import torch.nn.functional as F\n",
    "\n",
    "import nnpde.functions.iterative_methods as im\n",
    "from nnpde.functions import geometries, helpers\n",
    "from nnpde.utils.logs import enable_logging, logging \n",
    "from nnpde.problems import DirichletProblem \n",
    "from nnpde.utils import plots"
   ]
  },
  {
   "cell_type": "code",
   "execution_count": null,
   "metadata": {
    "ExecuteTime": {
     "end_time": "2018-12-18T13:32:28.312317Z",
     "start_time": "2018-12-18T13:32:28.294698Z"
    },
    "autoscroll": false,
    "ein.hycell": false,
    "ein.tags": "worksheet-0",
    "slideshow": {
     "slide_type": "-"
    }
   },
   "outputs": [],
   "source": [
    "enable_logging(20)\n",
    "\n",
    "seed = 42\n",
    "torch.manual_seed(seed)\n",
    "np.random.seed(seed)"
   ]
  },
  {
   "cell_type": "markdown",
   "metadata": {},
   "source": [
    "# Setup"
   ]
  },
  {
   "cell_type": "code",
   "execution_count": null,
   "metadata": {
    "ExecuteTime": {
     "end_time": "2018-12-18T13:32:28.340746Z",
     "start_time": "2018-12-18T13:32:28.315047Z"
    },
    "autoscroll": false,
    "ein.hycell": false,
    "ein.tags": "worksheet-0",
    "slideshow": {
     "slide_type": "-"
    }
   },
   "outputs": [],
   "source": [
    "# Define train dimension: NxN\n",
    "N = 16\n",
    "\n",
    "# For each problem instance define number of iteration to perform to obtain the solution\n",
    "nb_problem_instances = 30\n",
    "problem_instances = [DirichletProblem(k=k) for k in np.random.randint(1, 20, nb_problem_instances)]"
   ]
  },
  {
   "cell_type": "markdown",
   "metadata": {},
   "source": [
    "# Hyper-parameter search learning rate"
   ]
  },
  {
   "cell_type": "code",
   "execution_count": null,
   "metadata": {},
   "outputs": [],
   "source": [
    "import nnpde.model as M \n",
    "reload(M)\n",
    "\n",
    "nb_layers = 3\n",
    "max_epochs = 100\n",
    "batch_size = 10\n",
    "losses = []\n",
    "\n",
    "# SGD\n",
    "learning_rates = np.logspace(start=-6, stop=-4, num=7) #num=7 is good since it contains 1e-5\n",
    "hyper_models = [M.JacobyWithConv(max_epochs=max_epochs, batch_size=batch_size, learning_rate=learning_rate, nb_layers=nb_layers)\n",
    "          for learning_rate in learning_rates]\n",
    "#Adadelta\n",
    "hyper_models.append(M.JacobyWithConv(max_epochs=max_epochs, batch_size=batch_size, optimizer=\"Adadelta\", nb_layers=nb_layers))\n",
    "  \n",
    "for model in hyper_models:\n",
    "    model.fit(problem_instances)"
   ]
  },
  {
   "cell_type": "code",
   "execution_count": null,
   "metadata": {},
   "outputs": [],
   "source": [
    "# Colors for plotting\n",
    "color_map = plt.get_cmap('cubehelix')\n",
    "colors = color_map(np.linspace(0.1, 1, 10))\n",
    "\n",
    "# Initilize figure\n",
    "hyper_fig = plt.figure()\n",
    "\n",
    "# Plot SGD\n",
    "i = 0\n",
    "for model in hyper_models[:-1]:  \n",
    "    n_epoch = np.arange(np.shape(model.losses)[0])\n",
    "    plt.semilogy(n_epoch, model.losses, color=colors[i], linewidth=1, linestyle=\"-\", marker=(i+2, 0, 0), markevery=10, label = '$\\gamma= {0:.2e} $'.format(learning_rates[i]))\n",
    "    i += 1\n",
    "\n",
    "# Plot Adadelta\n",
    "n_epoch = np.arange(np.shape(hyper_model[-1].losses)[0])\n",
    "plt.semilogy(n_epoch, hyper_model[-1].losses, color=colors[i], linewidth=1, linestyle=\"-\", marker=(i+2, 0, 0), markevery=10,label='Adadelta')\n",
    "\n",
    "# Additional settings\n",
    "plt.legend(bbox_to_anchor=(1.05, 0.31), loc=3, borderaxespad=0.)\n",
    "plt.xlabel('n epochs', fontsize=14)\n",
    "plt.ylabel('Total loss [-]', fontsize=14)\n",
    "plt.xlim([0, max_epochs])\n",
    "plt.ylim([0, 800])\n",
    "plt.title('Loss evolution for different learning rates, $K=3$, batchSize=10')\n",
    "plt.grid(True, which = \"both\", linewidth = 0.5,  linestyle = \"--\")\n",
    "\n",
    "#hyper_fig.savefig('../report/fig/hyper.eps', bbox_inches='tight')\n",
    "plt.draw()\n",
    "plt.show()"
   ]
  },
  {
   "cell_type": "markdown",
   "metadata": {},
   "source": [
    "# Train model using K = 1,2,3,4,5"
   ]
  },
  {
   "cell_type": "code",
   "execution_count": null,
   "metadata": {},
   "outputs": [],
   "source": [
    "max_epochs = 100\n",
    "batch_size = 10\n",
    "models = [M.JacobyWithConv(max_epochs=max_epochs, batch_size=batch_size, optimizer=\"Adadelta\", nb_layers=nb_layers)\n",
    "          for nb_layers in [1,2,3,4,5]]\n",
    "\n",
    "for model in models:\n",
    "    model.fit(problem_instances)"
   ]
  },
  {
   "cell_type": "code",
   "execution_count": null,
   "metadata": {},
   "outputs": [],
   "source": [
    "# Colors for plotting\n",
    "color_map = plt.get_cmap('cubehelix')\n",
    "colors = color_map(np.linspace(0.1, 1, 10))\n",
    "\n",
    "# Initilize figure\n",
    "comparison_K_fig = plt.figure()\n",
    "\n",
    "# Plot SGD\n",
    "i = 0\n",
    "for model in models[:]:  \n",
    "    n_epoch = np.arange(np.shape(model.losses)[0])\n",
    "    plt.semilogy(n_epoch, model.losses, color=colors[i], linewidth=1, linestyle=\"-\", marker=(i+2, 0, 0), markevery=10, label = '$K= {0} $'.format(model.nb_layers))\n",
    "    print(\"For K={0} final loss is {1}\".format(model.nb_layers, model.losses[-1]))\n",
    "    i += 1\n",
    "\n",
    "# Additional settings\n",
    "plt.legend(bbox_to_anchor=(1.05, 0.31), loc=3, borderaxespad=0.)\n",
    "plt.xlabel('n epochs', fontsize=14)\n",
    "plt.ylabel('Total loss [-]', fontsize=14)\n",
    "plt.xlim([0, max_epochs])\n",
    "#plt.ylim([0, 800])\n",
    "plt.title('Loss evolution for different learning rates, $K=3$, batchSize=10')\n",
    "plt.grid(True, which = \"both\", linewidth = 0.5,  linestyle = \"--\")\n",
    "\n",
    "#hyper_fig.savefig('../report/fig/comparison_K.eps', bbox_inches='tight')\n",
    "plt.draw()\n",
    "plt.show()"
   ]
  },
  {
   "cell_type": "markdown",
   "metadata": {
    "ein.tags": "worksheet-0",
    "slideshow": {
     "slide_type": "-"
    }
   },
   "source": [
    "# Train using the class"
   ]
  },
  {
   "cell_type": "markdown",
   "metadata": {
    "ein.tags": "worksheet-0",
    "slideshow": {
     "slide_type": "-"
    }
   },
   "source": [
    "# Test on a bigger grid"
   ]
  },
  {
   "cell_type": "code",
   "execution_count": null,
   "metadata": {
    "ExecuteTime": {
     "end_time": "2018-12-18T13:32:53.423669Z",
     "start_time": "2018-12-18T13:32:53.419355Z"
    }
   },
   "outputs": [],
   "source": [
    "from nnpde.metrics import least_squares_loss as LSE"
   ]
  },
  {
   "cell_type": "code",
   "execution_count": null,
   "metadata": {
    "ExecuteTime": {
     "end_time": "2018-12-18T13:38:54.018812Z",
     "start_time": "2018-12-18T13:38:50.992107Z"
    },
    "autoscroll": false,
    "ein.hycell": false,
    "ein.tags": "worksheet-0",
    "slideshow": {
     "slide_type": "-"
    }
   },
   "outputs": [],
   "source": [
    "N = 50\n",
    "nb_iters = 2000\n",
    "net = models[4].net\n",
    "\n",
    "B_idx, B = geometries.square_geometry(N)\n",
    "\n",
    "# Set forcing term\n",
    "f = torch.ones(1,1,N,N)*1.0\n",
    "\n",
    "# Obtain solutions\n",
    "gtt = im.jacobi_method(B_idx, B, f, torch.ones(1,1,N,N), k = 10000)\n",
    "jacoby_pure = im.jacobi_method(B_idx, B, f, torch.ones(1,1,N,N), k = nb_iters)\n",
    "output = im.H_method(net, B_idx, B, f, torch.ones(1,1,N,N), k = nb_iters)\n",
    "\n",
    "print(f\"error after {nb_iters} for both methods: {LSE(output, gtt)}, and ground truth and jacoby {LSE(gtt, jacoby_pure)}\")"
   ]
  },
  {
   "cell_type": "code",
   "execution_count": null,
   "metadata": {
    "ExecuteTime": {
     "end_time": "2018-12-18T13:39:04.858178Z",
     "start_time": "2018-12-18T13:39:04.850454Z"
    },
    "autoscroll": false,
    "ein.hycell": false,
    "ein.tags": "worksheet-0",
    "slideshow": {
     "slide_type": "-"
    }
   },
   "outputs": [],
   "source": [
    "loss_to_be_achieved = 1e-3\n",
    "\n",
    "u_0 = torch.ones(1, 1, N, N)\n",
    "net = model.net"
   ]
  },
  {
   "cell_type": "code",
   "execution_count": null,
   "metadata": {
    "ExecuteTime": {
     "end_time": "2018-12-18T13:39:24.100072Z",
     "start_time": "2018-12-18T13:39:15.030521Z"
    },
    "autoscroll": false,
    "ein.hycell": false,
    "ein.tags": "worksheet-0",
    "slideshow": {
     "slide_type": "-"
    }
   },
   "outputs": [],
   "source": [
    "%%timeit\n",
    "\n",
    "u_k_old = im.jacobi_method(B_idx, B, f, u_0, k = 1)\n",
    "loss_of_old = LSE(gtt, u_k_old)\n",
    "k_count_old = 1\n",
    "count_old = 1\n",
    "# old method \n",
    "while loss_of_old >= loss_to_be_achieved:\n",
    "    u_k_old = im.jacobi_method(B_idx, B, f, u_k_old, k = 1)\n",
    "    loss_of_old = LSE(gtt, u_k_old)\n",
    "    k_count_old += 1\n",
    "    \n",
    "print(k_count_old)"
   ]
  },
  {
   "cell_type": "code",
   "execution_count": null,
   "metadata": {
    "ExecuteTime": {
     "end_time": "2018-12-18T13:39:51.821114Z",
     "start_time": "2018-12-18T13:39:50.664243Z"
    },
    "autoscroll": false,
    "ein.hycell": false,
    "ein.tags": "worksheet-0",
    "slideshow": {
     "slide_type": "-"
    }
   },
   "outputs": [],
   "source": [
    "%%timeit\n",
    "\n",
    "u_k_new = im.H_method(net, B_idx, B, f, u_0, k=1)\n",
    "\n",
    "loss_new = LSE(gtt, u_k_new)\n",
    "k_count_new = 1\n",
    "\n",
    "\n",
    "# new method\n",
    "\n",
    "while loss_new >= loss_to_be_achieved:\n",
    "    u_k_new = im.H_method(net, B_idx, B, f, u_k_new, k=1)\n",
    "    loss_new = LSE(gtt, u_k_new)\n",
    "    k_count_new += 1\n",
    "    \n",
    "print(k_count_new)"
   ]
  },
  {
   "cell_type": "code",
   "execution_count": null,
   "metadata": {
    "ExecuteTime": {
     "end_time": "2018-12-18T13:32:57.531942Z",
     "start_time": "2018-12-18T13:32:27.488Z"
    },
    "autoscroll": false,
    "ein.hycell": false,
    "ein.tags": "worksheet-0",
    "slideshow": {
     "slide_type": "-"
    }
   },
   "outputs": [],
   "source": [
    "# This is not correct, but we have to look for a way to access the variables inside timeit\n",
    "\n",
    "print(\"needed {0} iterations (compared to {1}), ratio: {2}\".format(k_count_old, k_count_new, k_count_old/k_count_new))"
   ]
  },
  {
   "cell_type": "code",
   "execution_count": null,
   "metadata": {
    "ExecuteTime": {
     "end_time": "2018-12-18T13:32:57.533202Z",
     "start_time": "2018-12-18T13:32:27.494Z"
    },
    "autoscroll": false,
    "ein.hycell": false,
    "ein.tags": "worksheet-0",
    "slideshow": {
     "slide_type": "-"
    }
   },
   "outputs": [],
   "source": [
    "print(\"the loss of the new method is {0}, compared to the pure-jacoby one: {1}. computed with {2} iterations\".format(F.mse_loss(gtt, output), F.mse_loss(gtt, jacoby_pure), nb_iters))"
   ]
  },
  {
   "cell_type": "code",
   "execution_count": null,
   "metadata": {
    "ExecuteTime": {
     "end_time": "2018-12-18T13:32:57.534573Z",
     "start_time": "2018-12-18T13:32:27.499Z"
    },
    "autoscroll": false,
    "ein.hycell": false,
    "ein.tags": "worksheet-0",
    "slideshow": {
     "slide_type": "-"
    }
   },
   "outputs": [],
   "source": [
    "helpers.plot_solution(gtt,output,N)"
   ]
  },
  {
   "cell_type": "code",
   "execution_count": null,
   "metadata": {
    "ExecuteTime": {
     "end_time": "2018-12-18T13:32:57.535773Z",
     "start_time": "2018-12-18T13:32:27.504Z"
    },
    "autoscroll": false,
    "ein.hycell": false,
    "ein.tags": "worksheet-0",
    "slideshow": {
     "slide_type": "-"
    }
   },
   "outputs": [],
   "source": [
    "(gtt.view(N,N) - output.view(N,N)).mean()"
   ]
  },
  {
   "cell_type": "markdown",
   "metadata": {
    "ein.tags": "worksheet-0",
    "slideshow": {
     "slide_type": "-"
    }
   },
   "source": [
    "Test on L-shape domain"
   ]
  },
  {
   "cell_type": "code",
   "execution_count": null,
   "metadata": {
    "ExecuteTime": {
     "end_time": "2018-12-18T13:32:57.537084Z",
     "start_time": "2018-12-18T13:32:27.509Z"
    },
    "autoscroll": false,
    "ein.hycell": false,
    "ein.tags": "worksheet-0",
    "slideshow": {
     "slide_type": "-"
    }
   },
   "outputs": [],
   "source": [
    "B_idx, B = geometries.l_shaped_geometry(N)\n",
    "\n",
    "# Set forcing term\n",
    "f = torch.ones(1,1,N,N)*1.0\n",
    "\n",
    "# Obtain solutions\n",
    "gtt = im.jacobi_method(B_idx, B, f, torch.ones(1,1,N,N), k = 10000)\n",
    "output = im.H_method(net, B_idx, B, f, torch.ones(1,1,N,N), k = 2000)"
   ]
  },
  {
   "cell_type": "code",
   "execution_count": null,
   "metadata": {
    "ExecuteTime": {
     "end_time": "2018-12-18T13:32:57.538405Z",
     "start_time": "2018-12-18T13:32:27.514Z"
    },
    "autoscroll": false,
    "ein.hycell": false,
    "ein.tags": "worksheet-0",
    "slideshow": {
     "slide_type": "-"
    }
   },
   "outputs": [],
   "source": [
    "helpers.plot_solution(gtt,output,N)"
   ]
  },
  {
   "cell_type": "code",
   "execution_count": null,
   "metadata": {
    "ExecuteTime": {
     "end_time": "2018-12-18T13:32:57.543750Z",
     "start_time": "2018-12-18T13:32:27.529Z"
    }
   },
   "outputs": [],
   "source": [
    "compare_flops(16,k_count_new,k_count_old,3)"
   ]
  },
  {
   "cell_type": "code",
   "execution_count": null,
   "metadata": {},
   "outputs": [],
   "source": [
    "Spectral radius. Don't remove Francesco will delete me"
   ]
  },
  {
   "cell_type": "code",
   "execution_count": null,
   "metadata": {},
   "outputs": [],
   "source": [
    "B_idx = problem_instances[1].B_idx\n",
    "net = nn.Sequential(nn.Conv2d(1, 1, 3, padding=1, bias=False))\n",
    "G = helpers.build_G(B_idx)\n",
    "T = helpers.build_T(N)\n",
    "H = helpers.conv_net_to_matrix(net, N)\n",
    "I = np.eye(N)\n",
    "helpers.spectral_radius(T+G.dot(H).dot(T)-G.dot(H))"
   ]
  }
 ],
 "metadata": {
  "kernelspec": {
   "display_name": "Python 3",
   "language": "python",
   "name": "python3"
  },
  "language_info": {
   "codemirror_mode": {
    "name": "ipython",
    "version": 3
   },
   "file_extension": ".py",
   "mimetype": "text/x-python",
   "name": "python",
   "nbconvert_exporter": "python",
   "pygments_lexer": "ipython3",
   "version": "3.6.7"
  },
  "name": "main.ipynb",
  "toc": {
   "base_numbering": 1,
   "nav_menu": {
    "height": "67.7px",
    "width": "252px"
   },
   "number_sections": true,
   "sideBar": true,
   "skip_h1_title": false,
   "title_cell": "Table of Contents",
   "title_sidebar": "Contents",
   "toc_cell": false,
   "toc_position": null,
   "toc_section_display": true,
   "toc_window_display": false
  }
 },
 "nbformat": 4,
 "nbformat_minor": 2
}

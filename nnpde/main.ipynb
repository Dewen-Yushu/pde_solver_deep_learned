{
 "cells": [
  {
   "cell_type": "markdown",
   "metadata": {
    "ExecuteTime": {
     "end_time": "2018-12-18T11:12:37.978677Z",
     "start_time": "2018-12-18T11:12:37.976016Z"
    }
   },
   "source": [
    "# Imports"
   ]
  },
  {
   "cell_type": "code",
   "execution_count": null,
   "metadata": {
    "ExecuteTime": {
     "end_time": "2018-12-18T13:32:27.401613Z",
     "start_time": "2018-12-18T13:32:27.390296Z"
    },
    "autoscroll": false,
    "ein.hycell": false,
    "ein.tags": "worksheet-0",
    "slideshow": {
     "slide_type": "-"
    }
   },
   "outputs": [],
   "source": [
    "def fix_layout(width:int=95):\n",
    "    from IPython.core.display import display, HTML\n",
    "    display(HTML('<style>.container { width:' + str(width) + '% !important; }</style>'))\n",
    "    \n",
    "fix_layout()"
   ]
  },
  {
   "cell_type": "code",
   "execution_count": null,
   "metadata": {
    "ExecuteTime": {
     "end_time": "2018-12-18T13:32:28.292558Z",
     "start_time": "2018-12-18T13:32:27.403427Z"
    },
    "autoscroll": false,
    "ein.hycell": false,
    "ein.tags": "worksheet-0",
    "slideshow": {
     "slide_type": "-"
    }
   },
   "outputs": [],
   "source": [
    "from importlib import reload\n",
    "\n",
    "import numpy as np\n",
    "import matplotlib.pyplot as plt\n",
    "import torch\n",
    "import torch.nn as nn\n",
    "import torch.nn.functional as F\n",
    "\n",
    "import nnpde.functions.iterative_methods as im\n",
    "from nnpde.functions import geometries, helpers\n",
    "from nnpde.utils.logs import enable_logging, logging \n",
    "from nnpde.problems import DirichletProblem \n",
    "from nnpde.utils import plots\n",
    "import nnpde.model as M "
   ]
  },
  {
   "cell_type": "code",
   "execution_count": null,
   "metadata": {
    "ExecuteTime": {
     "end_time": "2018-12-18T13:32:28.312317Z",
     "start_time": "2018-12-18T13:32:28.294698Z"
    },
    "autoscroll": false,
    "ein.hycell": false,
    "ein.tags": "worksheet-0",
    "slideshow": {
     "slide_type": "-"
    }
   },
   "outputs": [],
   "source": [
    "enable_logging(20)\n",
    "\n",
    "seed = 9 # Does not give problems\n",
    "torch.manual_seed(seed)\n",
    "np.random.seed(seed)"
   ]
  },
  {
   "cell_type": "markdown",
   "metadata": {},
   "source": [
    "# Setup"
   ]
  },
  {
   "cell_type": "code",
   "execution_count": null,
   "metadata": {
    "ExecuteTime": {
     "end_time": "2018-12-18T13:32:28.340746Z",
     "start_time": "2018-12-18T13:32:28.315047Z"
    },
    "autoscroll": false,
    "ein.hycell": false,
    "ein.tags": "worksheet-0",
    "slideshow": {
     "slide_type": "-"
    }
   },
   "outputs": [],
   "source": [
    "# Define train dimension: NxN\n",
    "N = 16\n",
    "\n",
    "# For each problem instance define number of iteration to perform to obtain the solution\n",
    "nb_problem_instances = 30\n",
    "problem_instances = [DirichletProblem(k=k) for k in np.random.randint(1, 20, nb_problem_instances)]"
   ]
  },
  {
   "cell_type": "markdown",
   "metadata": {},
   "source": [
    "# Hyper-parameter search learning rate"
   ]
  },
  {
   "cell_type": "code",
   "execution_count": null,
   "metadata": {},
   "outputs": [],
   "source": [
    "reload(M)\n",
    "\n",
    "# Net parameters\n",
    "nb_layers = 3\n",
    "max_epochs = 100\n",
    "batch_size = 10\n",
    "losses = []\n",
    "\n",
    "# SGD\n",
    "learning_rates = np.logspace(start=-6, stop=-4, num=7) #num=7 is good since it contains 1e-5\n",
    "hyper_models = [M.JacobyWithConv(max_epochs=max_epochs, batch_size=batch_size, learning_rate=learning_rate, nb_layers=nb_layers)\n",
    "          for learning_rate in learning_rates]\n",
    "#Adadelta\n",
    "hyper_models.append(M.JacobyWithConv(max_epochs=max_epochs, batch_size=batch_size, optimizer=\"Adadelta\", nb_layers=nb_layers))\n",
    "  \n",
    "for model in hyper_models:\n",
    "    model.fit(problem_instances)"
   ]
  },
  {
   "cell_type": "code",
   "execution_count": null,
   "metadata": {},
   "outputs": [],
   "source": [
    "# Colors for plotting\n",
    "color_map = plt.get_cmap('cubehelix')\n",
    "colors = color_map(np.linspace(0.1, 1, 10))\n",
    "\n",
    "# Initilize figure\n",
    "hyper_fig = plt.figure()\n",
    "\n",
    "# Plot SGD\n",
    "i = 0\n",
    "for model in hyper_models[:-1]:  \n",
    "    n_epoch = np.arange(np.shape(model.losses)[0])\n",
    "    plt.semilogy(n_epoch, model.losses, color=colors[i], linewidth=1, linestyle=\"-\", marker=(i+2, 0, 0), markevery=10, label = '$\\gamma= {0:.2e} $'.format(learning_rates[i]))\n",
    "    i += 1\n",
    "\n",
    "# Plot Adadelta\n",
    "n_epoch = np.arange(np.shape(hyper_models[-1].losses)[0])\n",
    "plt.semilogy(n_epoch, hyper_models[-1].losses, color=colors[i], linewidth=1, linestyle=\"-\", marker=(i+2, 0, 0), markevery=10,label='Adadelta')\n",
    "\n",
    "# Additional settings\n",
    "plt.legend(bbox_to_anchor=(1.05, 0.31), loc=3, borderaxespad=0.)\n",
    "plt.xlabel('n epochs', fontsize=14)\n",
    "plt.ylabel('Total loss [-]', fontsize=14)\n",
    "plt.xlim([0, max_epochs])\n",
    "#plt.ylim([0, 200])\n",
    "plt.title('Loss evolution for different learning rates, $K=3$, batchSize=10')\n",
    "plt.grid(True, which = \"both\", linewidth = 0.5,  linestyle = \"--\")\n",
    "\n",
    "#hyper_fig.savefig('../report/fig/hyper.eps', bbox_inches='tight')\n",
    "plt.draw()\n",
    "plt.show()"
   ]
  },
  {
   "cell_type": "markdown",
   "metadata": {},
   "source": [
    "# Train model using K = 1,2,3,4,5"
   ]
  },
  {
   "cell_type": "code",
   "execution_count": null,
   "metadata": {},
   "outputs": [],
   "source": [
    "reload(M)\n",
    "\n",
    "max_epochs = 200\n",
    "batch_size = 10\n",
    "models = [M.JacobyWithConv(max_epochs=max_epochs, batch_size=batch_size, optimizer=\"Adadelta\", nb_layers=nb_layers)\n",
    "          for nb_layers in [1,2,3,4,5]]\n",
    "\n",
    "for model in models:\n",
    "    model.fit(problem_instances)"
   ]
  },
  {
   "cell_type": "code",
   "execution_count": null,
   "metadata": {},
   "outputs": [],
   "source": [
    "# Colors for plotting\n",
    "color_map = plt.get_cmap('cubehelix')\n",
    "colors = color_map(np.linspace(0.1, 1, 10))\n",
    "\n",
    "# Initilize figure\n",
    "comparison_K_fig = plt.figure()\n",
    "\n",
    "# Plot SGD\n",
    "i = 0\n",
    "for model in models[:]:  \n",
    "    n_epoch = np.arange(np.shape(model.losses)[0])\n",
    "    plt.semilogy(n_epoch, model.losses, color=colors[i], linewidth=1, linestyle=\"-\", marker=(i+2, 0, 0), markevery=100, label = '$K= {0} $'.format(model.nb_layers))\n",
    "    print(\"For K={0} final loss is {1}\".format(model.nb_layers, model.losses[-1]))\n",
    "    i += 1\n",
    "\n",
    "# Additional settings\n",
    "plt.legend(bbox_to_anchor=(1.05, 0.31), loc=3, borderaxespad=0.)\n",
    "plt.xlabel('n epochs', fontsize=14)\n",
    "plt.ylabel('Total loss [-]', fontsize=14)\n",
    "plt.xlim([0, max_epochs])\n",
    "plt.ylim([0, 800])\n",
    "plt.title('Loss evolution for different learning rates, $K=3$, batchSize=10')\n",
    "plt.grid(True, which = \"both\", linewidth = 0.5,  linestyle = \"--\")\n",
    "\n",
    "#hyper_fig.savefig('../report/fig/comparison_K.eps', bbox_inches='tight')\n",
    "plt.draw()\n",
    "plt.show()"
   ]
  },
  {
   "cell_type": "code",
   "execution_count": null,
   "metadata": {},
   "outputs": [],
   "source": [
    "models[1].max_epochs = 300\n",
    "models[1].fit(problem_instances)"
   ]
  },
  {
   "cell_type": "markdown",
   "metadata": {
    "ein.tags": "worksheet-0",
    "slideshow": {
     "slide_type": "-"
    }
   },
   "source": [
    "# Test on a bigger grid"
   ]
  },
  {
   "cell_type": "code",
   "execution_count": null,
   "metadata": {
    "ExecuteTime": {
     "end_time": "2018-12-18T13:32:53.423669Z",
     "start_time": "2018-12-18T13:32:53.419355Z"
    }
   },
   "outputs": [],
   "source": [
    "from nnpde.metrics import least_squares_loss as LSE"
   ]
  },
  {
   "cell_type": "code",
   "execution_count": null,
   "metadata": {
    "ExecuteTime": {
     "end_time": "2018-12-18T13:38:54.018812Z",
     "start_time": "2018-12-18T13:38:50.992107Z"
    },
    "autoscroll": false,
    "ein.hycell": false,
    "ein.tags": "worksheet-0",
    "slideshow": {
     "slide_type": "-"
    }
   },
   "outputs": [],
   "source": [
    "# Grid size NxN\n",
    "N = 64\n",
    "\n",
    "# Use sufficiently high number of iterations to get ground truth solution\n",
    "k_ground_truth = 20000\n",
    "\n",
    "# Initialize Laplace problem on Square geometry\n",
    "problem = DirichletProblem(N=N, k_ground_truth=20000)\n",
    "B_idx = problem.B_idx\n",
    "B = problem.B\n",
    "f = problem.f\n",
    "\n",
    "# Obtain solutions\n",
    "ground_truth = problem.ground_truth\n",
    "\n",
    "# Set initial_u equal for Jacobi method and for H method\n",
    "initial_u = torch.ones(1,1,N,N)\n",
    "k = 2000\n",
    "\n",
    "# Obtain solution with Jacobi method\n",
    "u_jacobi = im.jacobi_method(B_idx, B, f, initial_u, k = 2000)\n",
    "print(f\"Error after {k} iterations for Jacobi method: {LSE(ground_truth, u_jacobi)}\")\n",
    "\n",
    "# For each K obtain \n",
    "for model in models:\n",
    "    u_H = im.H_method(model.net, B_idx, B, f, initial_u, k = 2000)\n",
    "    print(f\"Error after {k} iterations for H method with K={model.nb_layers}: {LSE(ground_truth, u_H)}\")"
   ]
  },
  {
   "cell_type": "markdown",
   "metadata": {},
   "source": [
    "# Error evolution with iterations"
   ]
  },
  {
   "cell_type": "code",
   "execution_count": null,
   "metadata": {
    "ExecuteTime": {
     "end_time": "2018-12-18T13:39:04.858178Z",
     "start_time": "2018-12-18T13:39:04.850454Z"
    },
    "autoscroll": false,
    "ein.hycell": false,
    "ein.tags": "worksheet-0",
    "slideshow": {
     "slide_type": "-"
    }
   },
   "outputs": [],
   "source": [
    "tol = 1e-6\n",
    "net = models[2].net"
   ]
  },
  {
   "cell_type": "code",
   "execution_count": null,
   "metadata": {
    "ExecuteTime": {
     "end_time": "2018-12-18T13:39:24.100072Z",
     "start_time": "2018-12-18T13:39:15.030521Z"
    },
    "autoscroll": false,
    "ein.hycell": false,
    "ein.tags": "worksheet-0",
    "slideshow": {
     "slide_type": "-"
    }
   },
   "outputs": [],
   "source": [
    "u_jacobi = initial_u\n",
    "err_jacobi = LSE(ground_truth, u_jacobi).item()\n",
    "errs_jacobi = [err_jacobi] \n",
    "k_jacobi = 0\n",
    "\n",
    "while err_jacobi >= tol:\n",
    "    u_jacobi = im.jacobi_method(B_idx, B, f, u_jacobi, k = 1)\n",
    "    err_jacobi = LSE(ground_truth, u_jacobi).item()\n",
    "    errs_jacobi.append(err_jacobi)\n",
    "    k_jacobi += 1\n",
    "    \n",
    "print(f\"Jacobi method: error of {err_to_be_achieved} achieved after {k_jacobi} iterations.\")"
   ]
  },
  {
   "cell_type": "code",
   "execution_count": null,
   "metadata": {
    "ExecuteTime": {
     "end_time": "2018-12-18T13:39:51.821114Z",
     "start_time": "2018-12-18T13:39:50.664243Z"
    },
    "autoscroll": false,
    "ein.hycell": false,
    "ein.tags": "worksheet-0",
    "slideshow": {
     "slide_type": "-"
    }
   },
   "outputs": [],
   "source": [
    "errors_H = []\n",
    "max_iters = 10000\n",
    "\n",
    "for model in models:\n",
    "    u_H = initial_u\n",
    "    err_H = LSE(ground_truth, u_H).item()\n",
    "    errs_H = [err_H] \n",
    "    k_H = 0\n",
    "\n",
    "    while err_H >= tol:\n",
    "        u_H = im.H_method(model.net, B_idx, B, f, u_H, k = 1)\n",
    "        err_H = LSE(ground_truth, u_H).item()\n",
    "        errs_H.append(err_H)\n",
    "        k_H += 1\n",
    "        if k_H > max_iters or err_H == np.inf:\n",
    "            print(f\"H method, K = {model.nb_layers}: convergence not reached after {max_iters}, final error is {err_H}.\")\n",
    "            break\n",
    "    \n",
    "    print(f\"H method, K = {model.nb_layers}: error of {err_to_be_achieved} achieved after {k_H} iterations.\")\n",
    "    errors_H.append(errs_H)"
   ]
  },
  {
   "cell_type": "code",
   "execution_count": null,
   "metadata": {},
   "outputs": [],
   "source": [
    "# Colors for plotting\n",
    "color_map = plt.get_cmap('cubehelix')\n",
    "colors = color_map(np.linspace(0.1, 1, 10))\n",
    "\n",
    "# Initilize figure\n",
    "error_k_fig = plt.figure()\n",
    "\n",
    "i = 0\n",
    "for error in errors_H:  \n",
    "    n_iter = np.arange(np.shape(error)[0])\n",
    "    plt.loglog(n_iter, error, color=colors[i], linewidth=1, linestyle=\"-\", marker=(i+2, 0, 0), markevery=100, label = '$K= {0} $'.format(models[i].nb_layers))\n",
    "    i += 1\n",
    "\n",
    "# Plot error evolution for Jacobi \n",
    "n_iter = np.arange(np.shape(errs_jacobi)[0])\n",
    "plt.loglog(n_iter, errs_jacobi, color=colors[i], linewidth=1, linestyle=\"-\", marker=(i+2, 0, 0), markevery=1000, label = 'Jacobi')\n",
    "\n",
    "# Additional settings\n",
    "plt.legend(bbox_to_anchor=(1.05, 0.31), loc=3, borderaxespad=0.)\n",
    "plt.xlabel('n iterations', fontsize=14)\n",
    "plt.ylabel('Error [-]', fontsize=14)\n",
    "#plt.xlim([0, max_epochs])\n",
    "plt.ylim([tol, errors_H[0][0]])\n",
    "plt.title('Error evolution for different $K$, $N={0}$'.format(N))\n",
    "plt.grid(True, which = \"both\", linewidth = 0.5,  linestyle = \"--\")\n",
    "\n",
    "#error_k_fig.savefig('../report/fig/error_k.eps', bbox_inches='tight')\n",
    "plt.draw()\n",
    "plt.show()"
   ]
  },
  {
   "cell_type": "code",
   "execution_count": null,
   "metadata": {
    "ExecuteTime": {
     "end_time": "2018-12-18T13:32:57.531942Z",
     "start_time": "2018-12-18T13:32:27.488Z"
    },
    "autoscroll": false,
    "ein.hycell": false,
    "ein.tags": "worksheet-0",
    "slideshow": {
     "slide_type": "-"
    }
   },
   "outputs": [],
   "source": [
    "# This is not correct, but we have to look for a way to access the variables inside timeit\n",
    "\n",
    "print(\"needed {0} iterations (compared to {1}), ratio: {2}\".format(k_count_old, k_count_new, k_count_old/k_count_new))"
   ]
  },
  {
   "cell_type": "code",
   "execution_count": null,
   "metadata": {
    "ExecuteTime": {
     "end_time": "2018-12-18T13:32:57.533202Z",
     "start_time": "2018-12-18T13:32:27.494Z"
    },
    "autoscroll": false,
    "ein.hycell": false,
    "ein.tags": "worksheet-0",
    "slideshow": {
     "slide_type": "-"
    }
   },
   "outputs": [],
   "source": [
    "print(\"the loss of the new method is {0}, compared to the pure-jacoby one: {1}. computed with {2} iterations\".format(F.mse_loss(gtt, output), F.mse_loss(gtt, jacoby_pure), nb_iters))"
   ]
  },
  {
   "cell_type": "code",
   "execution_count": null,
   "metadata": {
    "ExecuteTime": {
     "end_time": "2018-12-18T13:32:57.534573Z",
     "start_time": "2018-12-18T13:32:27.499Z"
    },
    "autoscroll": false,
    "ein.hycell": false,
    "ein.tags": "worksheet-0",
    "slideshow": {
     "slide_type": "-"
    }
   },
   "outputs": [],
   "source": [
    "helpers.plot_solution(gtt,output,N)"
   ]
  },
  {
   "cell_type": "code",
   "execution_count": null,
   "metadata": {
    "ExecuteTime": {
     "end_time": "2018-12-18T13:32:57.535773Z",
     "start_time": "2018-12-18T13:32:27.504Z"
    },
    "autoscroll": false,
    "ein.hycell": false,
    "ein.tags": "worksheet-0",
    "slideshow": {
     "slide_type": "-"
    }
   },
   "outputs": [],
   "source": [
    "(gtt.view(N,N) - output.view(N,N)).mean()"
   ]
  },
  {
   "cell_type": "markdown",
   "metadata": {
    "ein.tags": "worksheet-0",
    "slideshow": {
     "slide_type": "-"
    }
   },
   "source": [
    "Test on L-shape domain"
   ]
  },
  {
   "cell_type": "code",
   "execution_count": null,
   "metadata": {
    "ExecuteTime": {
     "end_time": "2018-12-18T13:32:57.537084Z",
     "start_time": "2018-12-18T13:32:27.509Z"
    },
    "autoscroll": false,
    "ein.hycell": false,
    "ein.tags": "worksheet-0",
    "slideshow": {
     "slide_type": "-"
    }
   },
   "outputs": [],
   "source": [
    "B_idx, B = geometries.l_shaped_geometry(N)\n",
    "\n",
    "# Set forcing term\n",
    "f = torch.ones(1,1,N,N)*1.0\n",
    "\n",
    "# Obtain solutions\n",
    "gtt = im.jacobi_method(B_idx, B, f, torch.ones(1,1,N,N), k = 10000)\n",
    "output = im.H_method(net, B_idx, B, f, torch.ones(1,1,N,N), k = 2000)"
   ]
  },
  {
   "cell_type": "code",
   "execution_count": null,
   "metadata": {
    "ExecuteTime": {
     "end_time": "2018-12-18T13:32:57.538405Z",
     "start_time": "2018-12-18T13:32:27.514Z"
    },
    "autoscroll": false,
    "ein.hycell": false,
    "ein.tags": "worksheet-0",
    "slideshow": {
     "slide_type": "-"
    }
   },
   "outputs": [],
   "source": [
    "helpers.plot_solution(gtt,output,N)"
   ]
  },
  {
   "cell_type": "code",
   "execution_count": null,
   "metadata": {
    "ExecuteTime": {
     "end_time": "2018-12-18T13:32:57.543750Z",
     "start_time": "2018-12-18T13:32:27.529Z"
    }
   },
   "outputs": [],
   "source": [
    "compare_flops(16,k_count_new,k_count_old,3)"
   ]
  },
  {
   "cell_type": "code",
   "execution_count": null,
   "metadata": {},
   "outputs": [],
   "source": [
    "Spectral radius. Don't remove Francesco will delete me"
   ]
  },
  {
   "cell_type": "code",
   "execution_count": null,
   "metadata": {},
   "outputs": [],
   "source": [
    "B_idx = problem_instances[1].B_idx\n",
    "net = nn.Sequential(nn.Conv2d(1, 1, 3, padding=1, bias=False))\n",
    "G = helpers.build_G(B_idx)\n",
    "T = helpers.build_T(N)\n",
    "H = helpers.conv_net_to_matrix(net, N)\n",
    "I = np.eye(N)\n",
    "helpers.spectral_radius(T+G.dot(H).dot(T)-G.dot(H))"
   ]
  }
 ],
 "metadata": {
  "kernelspec": {
   "display_name": "Python 3",
   "language": "python",
   "name": "python3"
  },
  "language_info": {
   "codemirror_mode": {
    "name": "ipython",
    "version": 3
   },
   "file_extension": ".py",
   "mimetype": "text/x-python",
   "name": "python",
   "nbconvert_exporter": "python",
   "pygments_lexer": "ipython3",
   "version": "3.6.7"
  },
  "name": "main.ipynb",
  "toc": {
   "base_numbering": 1,
   "nav_menu": {
    "height": "67.7px",
    "width": "252px"
   },
   "number_sections": true,
   "sideBar": true,
   "skip_h1_title": false,
   "title_cell": "Table of Contents",
   "title_sidebar": "Contents",
   "toc_cell": false,
   "toc_position": null,
   "toc_section_display": true,
   "toc_window_display": false
  }
 },
 "nbformat": 4,
 "nbformat_minor": 2
}

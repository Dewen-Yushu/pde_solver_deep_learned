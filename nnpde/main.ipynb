{
 "cells": [
  {
   "cell_type": "markdown",
   "metadata": {},
   "source": [
    "# Notes\n",
    "\n",
    "- **the model represents H**\n",
    "- H is learned for one, and only one iteration. But the same H is used for every iteration.\n",
    "- H should satisfy $H0 = 0$\n",
    "- H is a circulant matrix (in theory...) so we should be able to expand or shrink it according to the required dimensions. This is not clear to me, H can be anything... **TODO** we need to check this. Otherwise I don't know how to *expand* to the test dimensions.\n",
    "- The layers are defined as Convolutional Layers only. With a kernel size of (3, 3), a strife of (1, 1), without any bias and linear activation (equal to no activation). See below.\n",
    "\n",
    "```\n",
    "from keras.layers import Conv2D\n",
    "\n",
    "Conv2D(<filters>,\n",
    "       kernel_size=(3, 3), \n",
    "       strides=(1, 1), \n",
    "       use_bias=False,\n",
    "       activation='linear')\n",
    "```\n",
    "\n",
    "- The learning objective, or loss is the mean_square_error off the model being used in the iteration.\n",
    "- X is $u^k$ (given the constrains, and for some iteration $k$)\n",
    "- y is $u^*$\n",
    "\n",
    "T = some constant update matrix, c = some constant vector, $\\psi$ an iterator\n",
    "$$u^{k + 1} = \\psi(u^k) ) = T u^k + c$$\n",
    "$$w = \\psi(u) - u$$\n",
    "$$\\phi(u) = G(\\psi(u) + H w) = G(\\psi(u) + H(\\psi(u) - u))$$\n",
    "\n",
    "- But since the model tries to optimise the residuals... maybe the input of the model should be something different?"
   ]
  },
  {
   "cell_type": "code",
   "execution_count": 5,
   "metadata": {
    "ExecuteTime": {
     "end_time": "2018-11-25T16:46:40.553628Z",
     "start_time": "2018-11-25T16:46:40.550932Z"
    }
   },
   "outputs": [],
   "source": [
    "from sklearn.metrics import mean_squared_error"
   ]
  },
  {
   "cell_type": "code",
   "execution_count": 8,
   "metadata": {
    "ExecuteTime": {
     "end_time": "2018-11-25T17:04:58.261344Z",
     "start_time": "2018-11-25T17:04:58.252782Z"
    }
   },
   "outputs": [],
   "source": [
    "def inner_jacoby(u):\n",
    "    raise NotImplementedError\n",
    "    pass\n",
    "\n",
    "\n",
    "def reset_boundaries(u, boundaries):\n",
    "    raise NotImplementedError\n",
    "    pass\n",
    "    \n",
    "    \n",
    "def jacoby_step(u, H):\n",
    "    raise NotImplementedError\n",
    "    w = inner_jacoby(u) - u\n",
    "    return reset_boundaries(inner_jacoby(u) + np.dot(H, w))"
   ]
  },
  {
   "cell_type": "code",
   "execution_count": 7,
   "metadata": {
    "ExecuteTime": {
     "end_time": "2018-11-25T17:00:24.043271Z",
     "start_time": "2018-11-25T17:00:24.040395Z"
    }
   },
   "outputs": [],
   "source": [
    "def our_loss(y_true, y_pred):\n",
    "    \"\"\"y_true is the u*\n",
    "    y_pred is H\n",
    "    \"\"\"\n",
    "    raise NotImplementedError\n",
    "    \n",
    "    # TODO how to get u?\n",
    "    return mean_squared_error(y_true, jacoby_step(u, y_pred))"
   ]
  }
 ],
 "metadata": {
  "kernelspec": {
   "display_name": "Python 3",
   "language": "python",
   "name": "python3"
  },
  "language_info": {
   "codemirror_mode": {
    "name": "ipython",
    "version": 3
   },
   "file_extension": ".py",
   "mimetype": "text/x-python",
   "name": "python",
   "nbconvert_exporter": "python",
   "pygments_lexer": "ipython3",
   "version": "3.6.6"
  },
  "toc": {
   "base_numbering": 1,
   "nav_menu": {},
   "number_sections": true,
   "sideBar": true,
   "skip_h1_title": false,
   "title_cell": "Table of Contents",
   "title_sidebar": "Contents",
   "toc_cell": false,
   "toc_position": {},
   "toc_section_display": true,
   "toc_window_display": false
  }
 },
 "nbformat": 4,
 "nbformat_minor": 2
}

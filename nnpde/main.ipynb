{
 "cells": [
  {
   "cell_type": "markdown",
   "metadata": {
    "ExecuteTime": {
     "end_time": "2018-12-18T11:12:37.978677Z",
     "start_time": "2018-12-18T11:12:37.976016Z"
    }
   },
   "source": [
    "# Imports"
   ]
  },
  {
   "cell_type": "code",
   "execution_count": 1,
   "metadata": {
    "ExecuteTime": {
     "end_time": "2018-12-18T10:14:18.351840Z",
     "start_time": "2018-12-18T10:14:18.335267Z"
    },
    "autoscroll": false,
    "ein.hycell": false,
    "ein.tags": "worksheet-0",
    "slideshow": {
     "slide_type": "-"
    }
   },
   "outputs": [
    {
     "data": {
      "text/html": [
       "<style>.container { width:95% !important; }</style>"
      ],
      "text/plain": [
       "<IPython.core.display.HTML object>"
      ]
     },
     "metadata": {},
     "output_type": "display_data"
    }
   ],
   "source": [
    "def fix_layout(width:int=95):\n",
    "    from IPython.core.display import display, HTML\n",
    "    display(HTML('<style>.container { width:' + str(width) + '% !important; }</style>'))\n",
    "    \n",
    "fix_layout()"
   ]
  },
  {
   "cell_type": "code",
   "execution_count": 125,
   "metadata": {
    "ExecuteTime": {
     "end_time": "2018-12-18T11:12:08.844059Z",
     "start_time": "2018-12-18T11:12:08.833469Z"
    },
    "autoscroll": false,
    "ein.hycell": false,
    "ein.tags": "worksheet-0",
    "slideshow": {
     "slide_type": "-"
    }
   },
   "outputs": [],
   "source": [
    "from importlib import reload\n",
    "\n",
    "import numpy as np\n",
    "import matplotlib.pyplot as plt\n",
    "import torch\n",
    "import torch.nn as nn\n",
    "import torch.nn.functional as F\n",
    "\n",
    "import nnpde.functions.iterative_methods as im\n",
    "from nnpde.functions import geometries, helpers\n",
    "from nnpde.utils.logs import enable_logging, logging \n",
    "from nnpde.problems import DirichletProblem "
   ]
  },
  {
   "cell_type": "code",
   "execution_count": 136,
   "metadata": {
    "ExecuteTime": {
     "end_time": "2018-12-18T11:16:49.925563Z",
     "start_time": "2018-12-18T11:16:49.902667Z"
    },
    "autoscroll": false,
    "ein.hycell": false,
    "ein.tags": "worksheet-0",
    "slideshow": {
     "slide_type": "-"
    }
   },
   "outputs": [
    {
     "name": "stderr",
     "output_type": "stream",
     "text": [
      "2018-12-18 12:16:49,907 - root - INFO - logs - logging enabled for level: 10\n"
     ]
    }
   ],
   "source": [
    "enable_logging(10)\n",
    "\n",
    "seed = 42\n",
    "torch.manual_seed(seed)\n",
    "np.random.seed(seed)"
   ]
  },
  {
   "cell_type": "markdown",
   "metadata": {},
   "source": [
    "# Setup"
   ]
  },
  {
   "cell_type": "code",
   "execution_count": 128,
   "metadata": {
    "ExecuteTime": {
     "end_time": "2018-12-18T11:12:25.486577Z",
     "start_time": "2018-12-18T11:12:20.614957Z"
    },
    "autoscroll": false,
    "ein.hycell": false,
    "ein.tags": "worksheet-0",
    "slideshow": {
     "slide_type": "-"
    }
   },
   "outputs": [],
   "source": [
    "# Define train dimension\n",
    "N = 16\n",
    "\n",
    "# Initialize f: we use a zero forcing term for training\n",
    "f = torch.zeros(1, 1, N, N)\n",
    "\n",
    "# For each problem instance define number of iteration to perform to obtain the solution\n",
    "nb_problem_instances = 30\n",
    "problem_instances = [DirichletProblem(k=k) for k in np.random.randint(1, 20, nb_problem_instances)]"
   ]
  },
  {
   "cell_type": "code",
   "execution_count": 129,
   "metadata": {
    "ExecuteTime": {
     "end_time": "2018-12-18T11:12:25.490527Z",
     "start_time": "2018-12-18T11:12:25.488043Z"
    }
   },
   "outputs": [],
   "source": [
    "B_idx = problem_instances[1].B_idx"
   ]
  },
  {
   "cell_type": "code",
   "execution_count": 130,
   "metadata": {
    "ExecuteTime": {
     "end_time": "2018-12-18T11:12:25.538087Z",
     "start_time": "2018-12-18T11:12:25.493020Z"
    }
   },
   "outputs": [],
   "source": [
    "net = nn.Sequential(nn.Conv2d(1, 1, 3, padding=1, bias=False))\n",
    "G = helpers.build_G(B_idx)\n",
    "T = helpers.build_T(N)\n",
    "H = helpers.conv_net_to_matrix(net, N)\n",
    "I = np.eye(N)"
   ]
  },
  {
   "cell_type": "code",
   "execution_count": 86,
   "metadata": {
    "ExecuteTime": {
     "end_time": "2018-12-18T10:58:41.674097Z",
     "start_time": "2018-12-18T10:58:41.604791Z"
    }
   },
   "outputs": [
    {
     "data": {
      "text/plain": [
       "1.2129688926293802"
      ]
     },
     "execution_count": 86,
     "metadata": {},
     "output_type": "execute_result"
    }
   ],
   "source": [
    "helpers.spectral_radius(T+G.dot(H).dot(T)-G.dot(H))"
   ]
  },
  {
   "cell_type": "markdown",
   "metadata": {
    "ein.tags": "worksheet-0",
    "slideshow": {
     "slide_type": "-"
    }
   },
   "source": [
    "# Train using the class"
   ]
  },
  {
   "cell_type": "code",
   "execution_count": 137,
   "metadata": {
    "ExecuteTime": {
     "end_time": "2018-12-18T11:17:05.444757Z",
     "start_time": "2018-12-18T11:16:53.894925Z"
    },
    "autoscroll": false,
    "ein.hycell": false,
    "ein.tags": "worksheet-0",
    "slideshow": {
     "slide_type": "-"
    }
   },
   "outputs": [
    {
     "name": "stderr",
     "output_type": "stream",
     "text": [
      "2018-12-18 12:16:54,041 - root - INFO - model - iter 0 with total loss 936.13330078125\n"
     ]
    },
    {
     "data": {
      "text/plain": [
       "[936.13330078125,\n",
       " 813.20556640625,\n",
       " 701.6061401367188,\n",
       " 667.4849853515625,\n",
       " 640.8649291992188,\n",
       " 612.9937133789062,\n",
       " 598.1324462890625,\n",
       " 581.2841186523438,\n",
       " 569.0789794921875,\n",
       " 560.7681274414062,\n",
       " 552.1292724609375,\n",
       " 546.2914428710938,\n",
       " 539.993896484375,\n",
       " 534.6087646484375,\n",
       " 527.9120483398438,\n",
       " 522.8011474609375,\n",
       " 518.2753295898438,\n",
       " 512.0675659179688,\n",
       " 507.2275085449219,\n",
       " 503.1369323730469,\n",
       " 500.8008117675781,\n",
       " 498.5404052734375,\n",
       " 494.8836669921875,\n",
       " 492.93145751953125,\n",
       " 490.49700927734375,\n",
       " 486.6615295410156,\n",
       " 483.4446716308594,\n",
       " 481.01861572265625,\n",
       " 479.3982238769531,\n",
       " 476.223876953125,\n",
       " 473.8343200683594,\n",
       " 471.64208984375,\n",
       " 468.30059814453125,\n",
       " 465.6372375488281,\n",
       " 463.4850769042969,\n",
       " 461.0035705566406,\n",
       " 458.8819274902344,\n",
       " 456.94720458984375,\n",
       " 453.36199951171875,\n",
       " 450.70208740234375,\n",
       " 448.6743469238281,\n",
       " 446.5971374511719,\n",
       " 443.330322265625,\n",
       " 441.28564453125,\n",
       " 438.2698059082031,\n",
       " 436.38818359375,\n",
       " 433.635498046875,\n",
       " 430.51953125,\n",
       " 427.42431640625,\n",
       " 424.0999755859375,\n",
       " 421.446533203125,\n",
       " 419.51788330078125,\n",
       " 417.8323669433594,\n",
       " 415.1189270019531,\n",
       " 413.0709228515625,\n",
       " 412.0550537109375,\n",
       " 408.64654541015625,\n",
       " 407.5340270996094,\n",
       " 405.5089416503906,\n",
       " 401.7262878417969,\n",
       " 400.0633850097656,\n",
       " 398.8109436035156,\n",
       " 396.4808044433594,\n",
       " 393.67059326171875,\n",
       " 392.0835876464844,\n",
       " 390.9439697265625,\n",
       " 388.4229736328125,\n",
       " 386.8634338378906,\n",
       " 383.3121337890625,\n",
       " 380.40081787109375,\n",
       " 379.5307922363281,\n",
       " 377.703125,\n",
       " 376.14947509765625,\n",
       " 373.69232177734375,\n",
       " 371.7044982910156,\n",
       " 369.8637390136719,\n",
       " 366.3497009277344,\n",
       " 363.38629150390625,\n",
       " 362.53436279296875,\n",
       " 359.0938415527344,\n",
       " 356.648193359375,\n",
       " 354.6551513671875,\n",
       " 352.95623779296875,\n",
       " 349.53607177734375,\n",
       " 348.6923522949219,\n",
       " 347.29095458984375,\n",
       " 345.2501220703125,\n",
       " 344.0466003417969,\n",
       " 341.95513916015625,\n",
       " 339.3524475097656,\n",
       " 338.3837585449219,\n",
       " 336.09344482421875,\n",
       " 333.86798095703125,\n",
       " 332.85906982421875,\n",
       " 329.8375244140625,\n",
       " 327.69818115234375,\n",
       " 325.14984130859375,\n",
       " 322.9590759277344,\n",
       " 321.890869140625,\n",
       " 320.77587890625]"
      ]
     },
     "execution_count": 137,
     "metadata": {},
     "output_type": "execute_result"
    }
   ],
   "source": [
    "import nnpde.model as M \n",
    "reload(M)\n",
    "\n",
    "# TODO fit would idealy take X, y, (u_0 and u_*)\n",
    "model = M.JacobyWithConv(max_iters=100, batch_size=10, learning_rate = 1e-6, nb_layers=1).fit(problem_instances)\n",
    "losses = model.losses\n",
    "losses"
   ]
  },
  {
   "cell_type": "code",
   "execution_count": 75,
   "metadata": {
    "ExecuteTime": {
     "end_time": "2018-12-18T10:56:45.523493Z",
     "start_time": "2018-12-18T10:56:45.520604Z"
    },
    "autoscroll": false,
    "ein.hycell": false,
    "ein.tags": "worksheet-0",
    "slideshow": {
     "slide_type": "-"
    }
   },
   "outputs": [
    {
     "name": "stdout",
     "output_type": "stream",
     "text": [
      "[nan, nan, nan, nan, nan, nan, nan, nan, nan, nan, nan, nan, nan, nan, nan, nan, nan, nan, nan, nan, nan, nan, nan, nan, nan, nan, nan, nan, nan, nan, nan, nan, nan, nan, nan, nan, nan, nan, nan, nan, nan, nan, nan, nan, nan, nan, nan, nan, nan, nan, nan, nan, nan, nan, nan, nan, nan, nan, nan, nan, nan, nan, nan, nan, nan, nan, nan, nan, nan, nan, nan, nan, nan, nan, nan, nan, nan, nan, nan, nan, nan, nan, nan, nan, nan, nan, nan, nan, nan, nan, nan, nan, nan, nan, nan, nan, nan, nan, nan, nan, nan, nan, nan, nan, nan, nan, nan, nan, nan, nan, nan, nan, nan, nan, nan, nan, nan, nan, nan, nan, nan, nan, nan, nan, nan, nan, nan, nan, nan, nan, nan, nan, nan, nan, nan, nan, nan, nan, nan, nan, nan, nan, nan, nan, nan, nan, nan, nan, nan, nan, nan, nan, nan, nan, nan, nan, nan, nan, nan, nan, nan, nan, nan, nan, nan, nan, nan, nan, nan, nan, nan, nan, nan, nan, nan, nan, nan, nan, nan, nan, nan, nan, nan, nan, nan, nan, nan, nan, nan, nan, nan, nan, nan, nan, nan, nan, nan, nan, nan, nan, nan, nan, nan, nan, nan, nan, nan, nan, nan, nan, nan, nan, nan, nan, nan, nan, nan, nan, nan, nan, nan, nan, nan, nan, nan, nan, nan, nan, nan, nan, nan, nan, nan, nan, nan, nan, nan, nan, nan, nan, nan, nan, nan, nan, nan, nan, nan, nan, nan, nan, nan, nan, nan, nan, nan, nan, nan, nan, nan, nan, nan, nan, nan, nan, nan, nan, nan, nan, nan, nan, nan, nan, nan, nan, nan, nan, nan, nan, nan, nan, nan, nan, nan, nan, nan, nan, nan, nan, nan, nan, nan, nan, nan, nan, nan, nan, nan, nan, nan, nan]\n"
     ]
    }
   ],
   "source": [
    "print(losses)"
   ]
  },
  {
   "cell_type": "code",
   "execution_count": 11,
   "metadata": {
    "ExecuteTime": {
     "end_time": "2018-12-18T10:14:58.976830Z",
     "start_time": "2018-12-18T10:14:58.913125Z"
    },
    "autoscroll": false,
    "ein.hycell": false,
    "ein.tags": "worksheet-0",
    "slideshow": {
     "slide_type": "-"
    }
   },
   "outputs": [
    {
     "ename": "SyntaxError",
     "evalue": "invalid syntax (<ipython-input-11-1515b1a39e0d>, line 5)",
     "output_type": "error",
     "traceback": [
      "\u001b[0;36m  File \u001b[0;32m\"<ipython-input-11-1515b1a39e0d>\"\u001b[0;36m, line \u001b[0;32m5\u001b[0m\n\u001b[0;31m    H = helpers.conv_net_to_matrix(model.net, model.N)\u001b[0m\n\u001b[0m    ^\u001b[0m\n\u001b[0;31mSyntaxError\u001b[0m\u001b[0;31m:\u001b[0m invalid syntax\n"
     ]
    }
   ],
   "source": [
    "# TODO conv_u and Hu should be more or less the same, right? but they are clearly not...\n",
    "some_u = problem_instances[0].initial_u\n",
    "\n",
    "conv_u = im.reset_boundary(model.net(some_u)\n",
    "\n",
    "H = helpers.conv_net_to_matrix(model.net, model.N)\n",
    "\n",
    "GHu = g.dot(np.dot(H, some_u.view(-1).detach().numpy()))\n",
    "\n",
    "all((conv_u.view(-1).detach().numpy() - Hu) < 1e-4)"
   ]
  },
  {
   "cell_type": "markdown",
   "metadata": {
    "ein.tags": "worksheet-0",
    "slideshow": {
     "slide_type": "-"
    }
   },
   "source": [
    "CHECK VALUES, now the error is very small , only problems may be at boundary nodes"
   ]
  },
  {
   "cell_type": "code",
   "execution_count": null,
   "metadata": {
    "ExecuteTime": {
     "end_time": "2018-12-18T10:14:58.979511Z",
     "start_time": "2018-12-18T10:14:18.403Z"
    },
    "autoscroll": false,
    "ein.hycell": false,
    "ein.tags": "worksheet-0",
    "scrolled": false,
    "slideshow": {
     "slide_type": "-"
    }
   },
   "outputs": [],
   "source": [
    "print(conv_u.view(-1).detach().numpy() - Hu)"
   ]
  },
  {
   "cell_type": "code",
   "execution_count": 135,
   "metadata": {
    "ExecuteTime": {
     "end_time": "2018-12-18T11:14:00.584525Z",
     "start_time": "2018-12-18T11:14:00.418484Z"
    },
    "autoscroll": false,
    "ein.hycell": false,
    "ein.tags": "worksheet-0",
    "slideshow": {
     "slide_type": "-"
    }
   },
   "outputs": [
    {
     "name": "stdout",
     "output_type": "stream",
     "text": [
      "final loss is 159376.453125\n"
     ]
    },
    {
     "data": {
      "image/png": "[encoded data removed]",
      "text/plain": [
       "<Figure size 432x288 with 1 Axes>"
      ]
     },
     "metadata": {
      "needs_background": "light"
     },
     "output_type": "display_data"
    }
   ],
   "source": [
    "color_map = plt.get_cmap('cubehelix')\n",
    "colors = color_map(np.linspace(0.1, 1, 10))\n",
    "\n",
    "losses_fig = plt.figure()\n",
    "n_iter = np.arange(np.shape(losses)[0])\n",
    "plt.plot(n_iter[:], losses[:], color = colors[0], linewidth = 1, linestyle = \"-\", marker = \"\",  label='Loss')\n",
    "\n",
    "plt.legend(bbox_to_anchor=(0., -0.3), loc=3, borderaxespad=0.)\n",
    "plt.xlabel('n iteration', fontsize=14)\n",
    "plt.ylabel('Loss', fontsize=14)\n",
    "plt.title('Loss')\n",
    "plt.grid(True, which = \"both\", linewidth = 0.5,  linestyle = \"--\")\n",
    "\n",
    "print(\"final loss is {0}\".format(losses[-1]))\n",
    "#losses_fig.savefig('gridSearch.eps', bbox_inches='tight')"
   ]
  },
  {
   "cell_type": "markdown",
   "metadata": {
    "ein.tags": "worksheet-0",
    "slideshow": {
     "slide_type": "-"
    }
   },
   "source": [
    "Train without using the class"
   ]
  },
  {
   "cell_type": "code",
   "execution_count": null,
   "metadata": {
    "ExecuteTime": {
     "end_time": "2018-12-18T10:14:58.985838Z",
     "start_time": "2018-12-18T10:14:18.420Z"
    },
    "autoscroll": false,
    "ein.hycell": false,
    "ein.tags": "worksheet-0",
    "slideshow": {
     "slide_type": "-"
    }
   },
   "outputs": [],
   "source": [
    "from nnpde import metrics \n",
    "# Solve the same problem, at each iteration the only thing changing are the weights, which are optimized\n",
    "# TODO why though? wouldn't it make much more sense to train it more times on different problems? isn't this the same as oversampling each training sample?\n",
    "model = M.JacobyWithConv(max_iters=1000, batch_size=10)\n",
    "net = model.net\n",
    "optim = model.optim\n",
    "losses = []\n",
    "for _ in range(100):\n",
    "    net.zero_grad()\n",
    "    loss = torch.zeros(1)\n",
    "    prev_total_loss = 0\n",
    "\n",
    "    batch_size = 1\n",
    "    u_list = [None] * batch_size\n",
    "    \n",
    "    # Sample problem_instances\n",
    "    problem_idx = np.random.choice(np.arange(nb_problem_instances), batch_size, replace = 0)\n",
    "\n",
    "    for i in range(batch_size):\n",
    "\n",
    "        idx = problem_idx[i]\n",
    "        problem_instance = problem_instances[idx]\n",
    "        \n",
    "        B_idx = problem_instance.B_idx\n",
    "        B = problem_instance.B\n",
    "        f = problem_instance.f\n",
    "        initial_u = problem_instance.initial_u\n",
    "        k = problem_instance.k\n",
    "        ground_truth = problem_instance.ground_truth\n",
    "        \n",
    "        # Compute the solution with the updated weights      \n",
    "        u_list[i] = im.H_method(net, B_idx, B, f, initial_u, k)\n",
    "        \n",
    "        #H = helpers.build_diagH_from_net(net,N)\n",
    "        #T = helpers.get_T(N)\n",
    "        #\n",
    "        #spectral_norm = helpers.calculate_spectral_radius(T,H)\n",
    "        #ex = 0\n",
    "        #        \n",
    "        #if spectral_norm > 1:\n",
    "        #    ex = np.nan_to_num(np.inf)\n",
    "\n",
    "        # Define the loss, CHECK if it is correct wrt paper\n",
    "        loss = loss + F.mse_loss(ground_truth, u_list[i])#+ex\n",
    "    \n",
    "\n",
    "\n",
    "    # Backpropagation\n",
    "    loss.backward(retain_graph =  False)\n",
    "\n",
    "    # SGD step\n",
    "    optim.step()\n",
    "    \n",
    "    total_loss = metrics.compute_loss(net, problem_instances)\n",
    "    \n",
    "    # Exit optimization \n",
    "    tol = 1e-2\n",
    "    if total_loss.item() <= tol or total_loss.item() - prev_total_loss < tol:\n",
    "        break\n",
    "\n",
    "\n",
    "    # Store lossses for visualization\n",
    "    losses.append(total_loss.item())\n",
    "    prev_loss = total_loss.item()\n",
    "\n",
    "for name, param in net.named_parameters():\n",
    "    print(name, param)"
   ]
  },
  {
   "cell_type": "markdown",
   "metadata": {
    "ein.tags": "worksheet-0",
    "slideshow": {
     "slide_type": "-"
    }
   },
   "source": [
    "Plot the losses"
   ]
  },
  {
   "cell_type": "code",
   "execution_count": null,
   "metadata": {
    "ExecuteTime": {
     "end_time": "2018-12-18T10:14:58.987641Z",
     "start_time": "2018-12-18T10:14:18.425Z"
    },
    "autoscroll": false,
    "ein.hycell": false,
    "ein.tags": "worksheet-0",
    "slideshow": {
     "slide_type": "-"
    }
   },
   "outputs": [],
   "source": [
    "color_map = plt.get_cmap('cubehelix')\n",
    "colors = color_map(np.linspace(0.1, 1, 10))\n",
    "\n",
    "losses_fig = plt.figure()\n",
    "n_iter = np.arange(np.shape(losses)[0])\n",
    "plt.plot(n_iter[:], losses[:], color = colors[0], linewidth = 1, linestyle = \"-\", marker = \"\",  label='Loss')\n",
    "\n",
    "plt.legend(bbox_to_anchor=(0., -0.3), loc=3, borderaxespad=0.)\n",
    "plt.xlabel('n iteration', fontsize=14)\n",
    "plt.ylabel('Loss', fontsize=14)\n",
    "plt.title('Loss')\n",
    "plt.grid(True, which = \"both\", linewidth = 0.5,  linestyle = \"--\")\n",
    "\n",
    "print(\"final loss is {0}\".format(losses[-1]))\n",
    "#losses_fig.savefig('gridSearch.eps', bbox_inches='tight')"
   ]
  },
  {
   "cell_type": "markdown",
   "metadata": {
    "ein.tags": "worksheet-0",
    "slideshow": {
     "slide_type": "-"
    }
   },
   "source": [
    "Test on a bigger grid"
   ]
  },
  {
   "cell_type": "code",
   "execution_count": null,
   "metadata": {
    "ExecuteTime": {
     "end_time": "2018-12-18T10:14:58.988460Z",
     "start_time": "2018-12-18T10:14:18.429Z"
    },
    "autoscroll": false,
    "ein.hycell": false,
    "ein.tags": "worksheet-0",
    "slideshow": {
     "slide_type": "-"
    }
   },
   "outputs": [],
   "source": [
    "N = 50\n",
    "nb_iters = 2000\n",
    "\n",
    "B_idx, B = geometries.square_geometry(N)\n",
    "\n",
    "# Set forcing term\n",
    "f = torch.ones(1,1,N,N)*1.0\n",
    "\n",
    "# Obtain solutions\n",
    "gtt = im.jacobi_method(B_idx, B, f, torch.ones(1,1,N,N), k = 10000)\n",
    "output = im.H_method(model.net, B_idx, B, f, torch.ones(1,1,N,N), k = nb_iters)\n",
    "jacoby_pure = im.jacobi_method(B_idx, B, f, torch.ones(1,1,N,N), k = nb_iters)"
   ]
  },
  {
   "cell_type": "code",
   "execution_count": null,
   "metadata": {
    "ExecuteTime": {
     "end_time": "2018-12-18T10:14:58.989471Z",
     "start_time": "2018-12-18T10:14:18.433Z"
    },
    "autoscroll": false,
    "ein.hycell": false,
    "ein.tags": "worksheet-0",
    "slideshow": {
     "slide_type": "-"
    }
   },
   "outputs": [],
   "source": [
    "loss_to_be_achieved = 1e-3\n",
    "\n",
    "u_0 = torch.ones(1, 1, N, N)\n",
    "net = model.net"
   ]
  },
  {
   "cell_type": "code",
   "execution_count": null,
   "metadata": {
    "ExecuteTime": {
     "end_time": "2018-12-18T10:14:58.993932Z",
     "start_time": "2018-12-18T10:14:18.439Z"
    },
    "autoscroll": false,
    "ein.hycell": false,
    "ein.tags": "worksheet-0",
    "slideshow": {
     "slide_type": "-"
    }
   },
   "outputs": [],
   "source": [
    "%%timeit\n",
    "\n",
    "u_k_old = im.jacobi_method(B_idx, B, f, u_0, k = 1)\n",
    "loss_of_old = F.mse_loss(gtt, u_k_old)\n",
    "k_count_old = 1\n",
    "count_old = 1\n",
    "# old method \n",
    "while loss_of_old >= loss_to_be_achieved:\n",
    "    u_k_old = im.jacobi_method(B_idx, B, f, u_k_old, k = 1)\n",
    "    loss_of_old = F.mse_loss(gtt, u_k_old)\n",
    "    k_count_old += 1"
   ]
  },
  {
   "cell_type": "code",
   "execution_count": null,
   "metadata": {
    "ExecuteTime": {
     "end_time": "2018-12-18T10:14:58.995061Z",
     "start_time": "2018-12-18T10:14:18.443Z"
    },
    "autoscroll": false,
    "ein.hycell": false,
    "ein.tags": "worksheet-0",
    "slideshow": {
     "slide_type": "-"
    }
   },
   "outputs": [],
   "source": [
    "%%timeit\n",
    "\n",
    "u_k_new = im.H_method(net, B_idx, B, f, u_0, k=1)\n",
    "\n",
    "loss_new = F.mse_loss(gtt, u_k_new)\n",
    "k_count_new = 1\n",
    "\n",
    "\n",
    "# new method\n",
    "\n",
    "while loss_new >= loss_to_be_achieved:\n",
    "    u_k_new = im.H_method(net, B_idx, B, f, u_k_new, k=1)\n",
    "    loss_new = F.mse_loss(gtt, u_k_new)\n",
    "    k_count_new += 1"
   ]
  },
  {
   "cell_type": "code",
   "execution_count": null,
   "metadata": {
    "ExecuteTime": {
     "end_time": "2018-12-18T10:14:59.004526Z",
     "start_time": "2018-12-18T10:14:18.446Z"
    },
    "autoscroll": false,
    "ein.hycell": false,
    "ein.tags": "worksheet-0",
    "slideshow": {
     "slide_type": "-"
    }
   },
   "outputs": [],
   "source": [
    "# This is not correct, but we have to look for a way to access the variables inside timeit\n",
    "\n",
    "print(\"needed {0} iterations (compared to {1}), ratio: {2}\".format(k_count_old, k_count_new, k_count_old/k_count_new))"
   ]
  },
  {
   "cell_type": "code",
   "execution_count": null,
   "metadata": {
    "ExecuteTime": {
     "end_time": "2018-12-18T10:14:59.005992Z",
     "start_time": "2018-12-18T10:14:18.450Z"
    },
    "autoscroll": false,
    "ein.hycell": false,
    "ein.tags": "worksheet-0",
    "slideshow": {
     "slide_type": "-"
    }
   },
   "outputs": [],
   "source": [
    "print(\"the loss of the new method is {0}, compared to the pure-jacoby one: {1}. computed with {2} iterations\".format(F.mse_loss(gtt, output), F.mse_loss(gtt, jacoby_pure), nb_iters))"
   ]
  },
  {
   "cell_type": "code",
   "execution_count": null,
   "metadata": {
    "ExecuteTime": {
     "end_time": "2018-12-18T10:14:59.007109Z",
     "start_time": "2018-12-18T10:14:18.453Z"
    },
    "autoscroll": false,
    "ein.hycell": false,
    "ein.tags": "worksheet-0",
    "slideshow": {
     "slide_type": "-"
    }
   },
   "outputs": [],
   "source": [
    "helpers.plot_solution(gtt,output,N)"
   ]
  },
  {
   "cell_type": "code",
   "execution_count": null,
   "metadata": {
    "ExecuteTime": {
     "end_time": "2018-12-18T10:14:59.008172Z",
     "start_time": "2018-12-18T10:14:18.456Z"
    },
    "autoscroll": false,
    "ein.hycell": false,
    "ein.tags": "worksheet-0",
    "slideshow": {
     "slide_type": "-"
    }
   },
   "outputs": [],
   "source": [
    "(gtt.view(N,N) - output.view(N,N)).mean()"
   ]
  },
  {
   "cell_type": "markdown",
   "metadata": {
    "ein.tags": "worksheet-0",
    "slideshow": {
     "slide_type": "-"
    }
   },
   "source": [
    "Test on L-shape domain"
   ]
  },
  {
   "cell_type": "code",
   "execution_count": null,
   "metadata": {
    "ExecuteTime": {
     "end_time": "2018-12-18T10:14:59.010088Z",
     "start_time": "2018-12-18T10:14:18.460Z"
    },
    "autoscroll": false,
    "ein.hycell": false,
    "ein.tags": "worksheet-0",
    "slideshow": {
     "slide_type": "-"
    }
   },
   "outputs": [],
   "source": [
    "B_idx, B = geometries.l_shaped_geometry(N)\n",
    "\n",
    "# Set forcing term\n",
    "f = torch.ones(1,1,N,N)*1.0\n",
    "\n",
    "# Obtain solutions\n",
    "gtt = im.jacobi_method(B_idx, B, f, torch.ones(1,1,N,N), k = 10000)\n",
    "output = im.H_method(net, B_idx, B, f, torch.ones(1,1,N,N), k = 2000)"
   ]
  },
  {
   "cell_type": "code",
   "execution_count": null,
   "metadata": {
    "ExecuteTime": {
     "end_time": "2018-12-18T10:14:59.012852Z",
     "start_time": "2018-12-18T10:14:18.462Z"
    },
    "autoscroll": false,
    "ein.hycell": false,
    "ein.tags": "worksheet-0",
    "slideshow": {
     "slide_type": "-"
    }
   },
   "outputs": [],
   "source": [
    "helpers.plot_solution(gtt,output,N)"
   ]
  },
  {
   "cell_type": "code",
   "execution_count": null,
   "metadata": {
    "ExecuteTime": {
     "end_time": "2018-12-18T10:14:59.014574Z",
     "start_time": "2018-12-18T10:14:18.465Z"
    }
   },
   "outputs": [],
   "source": [
    "multiply_adds = 1\n",
    "\n",
    "def count_conv2d(shapex, shapey,in_channels = 1,out_channels = 1,kernel_size = (3,3)):\n",
    "    \n",
    "    cin = in_channels\n",
    "    cout = out_channels\n",
    "    kh, kw = kernel_size\n",
    "    batch_size = shapex[0]\n",
    "\n",
    "    out_w = shapey[2]\n",
    "    out_h = shapey[3]\n",
    "\n",
    "    # ops per output element\n",
    "    # kernel_mul = kh * kw * cin\n",
    "    # kernel_add = kh * kw * cin - 1\n",
    "    \n",
    "    kernel_ops = multiply_adds * kh * kw * cin\n",
    "    ops_per_element = kernel_ops\n",
    "\n",
    "    # total ops\n",
    "    # num_out_elements = y.numel()\n",
    "    output_elements = batch_size * out_w * out_h * cout\n",
    "    total_ops = output_elements * ops_per_element\n",
    "\n",
    "    # in case same conv is used multiple times\n",
    "    total_ops += torch.Tensor([int(total_ops)])\n",
    "    \n",
    "    return total_ops"
   ]
  },
  {
   "cell_type": "code",
   "execution_count": null,
   "metadata": {
    "ExecuteTime": {
     "end_time": "2018-12-18T10:14:59.016831Z",
     "start_time": "2018-12-18T10:14:18.467Z"
    }
   },
   "outputs": [],
   "source": [
    "def compare_flops(n,n_iter_conv,n_iter_jac,layers):\n",
    "    #flops, params = profile(net, input_size=input_shape)\n",
    "    flop_conv = (count_conv2d((1,1,256,256),(1,1,3,3)) + 2*n**2 + 4) * n_iter_conv # 9 operations for each convolution, and we perform n^2 convolutions in total for each layer + 6 operations for the jacobi iteration step\n",
    "    flop_jac = (7 * n**2) * n_iter_jac # For each u_ij, we add its 4 neighbors + forcing term + resetting the boundaries\n",
    "    return flop_conv/flop_jac"
   ]
  },
  {
   "cell_type": "code",
   "execution_count": null,
   "metadata": {
    "ExecuteTime": {
     "end_time": "2018-12-18T10:14:59.018989Z",
     "start_time": "2018-12-18T10:14:18.472Z"
    }
   },
   "outputs": [],
   "source": [
    "compare_flops(16,k_count_new,k_count_old,3)"
   ]
  }
 ],
 "metadata": {
  "kernelspec": {
   "display_name": "Python 3",
   "language": "python",
   "name": "python3"
  },
  "language_info": {
   "codemirror_mode": {
    "name": "ipython",
    "version": 3
   },
   "file_extension": ".py",
   "mimetype": "text/x-python",
   "name": "python",
   "nbconvert_exporter": "python",
   "pygments_lexer": "ipython3",
   "version": "3.6.7"
  },
  "name": "main.ipynb",
  "toc": {
   "base_numbering": 1,
   "nav_menu": {
    "height": "67.7px",
    "width": "252px"
   },
   "number_sections": true,
   "sideBar": true,
   "skip_h1_title": false,
   "title_cell": "Table of Contents",
   "title_sidebar": "Contents",
   "toc_cell": false,
   "toc_position": null,
   "toc_section_display": true,
   "toc_window_display": false
  }
 },
 "nbformat": 4,
 "nbformat_minor": 2
}

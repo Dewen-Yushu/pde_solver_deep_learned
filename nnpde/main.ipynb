{
 "cells": [
  {
   "cell_type": "markdown",
   "metadata": {
    "ExecuteTime": {
     "end_time": "2018-12-18T11:12:37.978677Z",
     "start_time": "2018-12-18T11:12:37.976016Z"
    }
   },
   "source": [
    "# Imports"
   ]
  },
  {
   "cell_type": "code",
   "execution_count": 1,
   "metadata": {
    "ExecuteTime": {
     "end_time": "2018-12-18T13:32:27.401613Z",
     "start_time": "2018-12-18T13:32:27.390296Z"
    },
    "autoscroll": false,
    "ein.hycell": false,
    "ein.tags": "worksheet-0",
    "slideshow": {
     "slide_type": "-"
    }
   },
   "outputs": [
    {
     "data": {
      "text/html": [
       "<style>.container { width:95% !important; }</style>"
      ],
      "text/plain": [
       "<IPython.core.display.HTML object>"
      ]
     },
     "metadata": {},
     "output_type": "display_data"
    }
   ],
   "source": [
    "def fix_layout(width:int=95):\n",
    "    from IPython.core.display import display, HTML\n",
    "    display(HTML('<style>.container { width:' + str(width) + '% !important; }</style>'))\n",
    "    \n",
    "fix_layout()"
   ]
  },
  {
   "cell_type": "code",
   "execution_count": 2,
   "metadata": {
    "ExecuteTime": {
     "end_time": "2018-12-18T13:32:28.292558Z",
     "start_time": "2018-12-18T13:32:27.403427Z"
    },
    "autoscroll": false,
    "ein.hycell": false,
    "ein.tags": "worksheet-0",
    "slideshow": {
     "slide_type": "-"
    }
   },
   "outputs": [],
   "source": [
    "from importlib import reload\n",
    "\n",
    "import numpy as np\n",
    "import matplotlib.pyplot as plt\n",
    "import torch\n",
    "import torch.nn as nn\n",
    "import torch.nn.functional as F\n",
    "\n",
    "import nnpde.functions.iterative_methods as im\n",
    "from nnpde.functions import geometries, helpers\n",
    "from nnpde.utils.logs import enable_logging, logging \n",
    "from nnpde.problems import DirichletProblem \n",
    "from nnpde.utils import plots"
   ]
  },
  {
   "cell_type": "code",
   "execution_count": 3,
   "metadata": {
    "ExecuteTime": {
     "end_time": "2018-12-18T13:32:28.312317Z",
     "start_time": "2018-12-18T13:32:28.294698Z"
    },
    "autoscroll": false,
    "ein.hycell": false,
    "ein.tags": "worksheet-0",
    "slideshow": {
     "slide_type": "-"
    }
   },
   "outputs": [
    {
     "name": "stderr",
     "output_type": "stream",
     "text": [
      "2018-12-18 14:32:28,296 - root - INFO - logs - logging enabled for level: 10\n"
     ]
    }
   ],
   "source": [
    "enable_logging(10)\n",
    "\n",
    "seed = 42\n",
    "torch.manual_seed(seed)\n",
    "np.random.seed(seed)"
   ]
  },
  {
   "cell_type": "markdown",
   "metadata": {},
   "source": [
    "# Setup"
   ]
  },
  {
   "cell_type": "code",
   "execution_count": 4,
   "metadata": {
    "ExecuteTime": {
     "end_time": "2018-12-18T13:32:28.340746Z",
     "start_time": "2018-12-18T13:32:28.315047Z"
    },
    "autoscroll": false,
    "ein.hycell": false,
    "ein.tags": "worksheet-0",
    "slideshow": {
     "slide_type": "-"
    }
   },
   "outputs": [],
   "source": [
    "# Define train dimension\n",
    "N = 16\n",
    "\n",
    "# Initialize f: we use a zero forcing term for training\n",
    "f = torch.zeros(1, 1, N, N)\n",
    "\n",
    "# For each problem instance define number of iteration to perform to obtain the solution\n",
    "nb_problem_instances = 30\n",
    "problem_instances = [DirichletProblem(k=k) for k in np.random.randint(1, 20, nb_problem_instances)]"
   ]
  },
  {
   "cell_type": "code",
   "execution_count": null,
   "metadata": {},
   "outputs": [],
   "source": []
  },
  {
   "cell_type": "code",
   "execution_count": 5,
   "metadata": {
    "ExecuteTime": {
     "end_time": "2018-12-18T13:32:28.360692Z",
     "start_time": "2018-12-18T13:32:28.343782Z"
    }
   },
   "outputs": [],
   "source": [
    "B_idx = problem_instances[1].B_idx"
   ]
  },
  {
   "cell_type": "code",
   "execution_count": 6,
   "metadata": {
    "ExecuteTime": {
     "end_time": "2018-12-18T13:32:28.397181Z",
     "start_time": "2018-12-18T13:32:28.370380Z"
    }
   },
   "outputs": [],
   "source": [
    "net = nn.Sequential(nn.Conv2d(1, 1, 3, padding=1, bias=False))\n",
    "G = helpers.build_G(B_idx)\n",
    "T = helpers.build_T(N)\n",
    "H = helpers.conv_net_to_matrix(net, N)\n",
    "I = np.eye(N)"
   ]
  },
  {
   "cell_type": "code",
   "execution_count": 7,
   "metadata": {
    "ExecuteTime": {
     "end_time": "2018-12-18T13:32:28.472503Z",
     "start_time": "2018-12-18T13:32:28.400087Z"
    }
   },
   "outputs": [
    {
     "data": {
      "text/plain": [
       "1.068310480424216"
      ]
     },
     "execution_count": 7,
     "metadata": {},
     "output_type": "execute_result"
    }
   ],
   "source": [
    "helpers.spectral_radius(T+G.dot(H).dot(T)-G.dot(H))"
   ]
  },
  {
   "cell_type": "markdown",
   "metadata": {
    "ein.tags": "worksheet-0",
    "slideshow": {
     "slide_type": "-"
    }
   },
   "source": [
    "# Train using the class"
   ]
  },
  {
   "cell_type": "code",
   "execution_count": 13,
   "metadata": {
    "ExecuteTime": {
     "end_time": "2018-12-18T13:36:46.386283Z",
     "start_time": "2018-12-18T13:33:57.676497Z"
    },
    "autoscroll": false,
    "ein.hycell": false,
    "ein.tags": "worksheet-0",
    "scrolled": true,
    "slideshow": {
     "slide_type": "-"
    }
   },
   "outputs": [
    {
     "name": "stderr",
     "output_type": "stream",
     "text": [
      "2018-12-18 14:33:57,910 - root - INFO - model - iter 0 with total loss 1351.6844482421875\n",
      "2018-12-18 14:34:16,837 - root - INFO - model - iter 100 with total loss 575.4085693359375\n",
      "2018-12-18 14:34:34,760 - root - INFO - model - iter 200 with total loss 91.37628173828125\n",
      "2018-12-18 14:34:55,504 - root - INFO - model - iter 300 with total loss 28.220571517944336\n",
      "2018-12-18 14:35:10,802 - root - INFO - model - iter 400 with total loss 26.332304000854492\n",
      "2018-12-18 14:35:25,809 - root - INFO - model - iter 500 with total loss 25.655384063720703\n",
      "2018-12-18 14:35:41,262 - root - INFO - model - iter 600 with total loss 25.18518829345703\n",
      "2018-12-18 14:35:57,443 - root - INFO - model - iter 700 with total loss 25.23937225341797\n",
      "2018-12-18 14:36:13,649 - root - INFO - model - iter 800 with total loss 24.86842155456543\n",
      "2018-12-18 14:36:29,990 - root - INFO - model - iter 900 with total loss 24.888568878173828\n"
     ]
    },
    {
     "name": "stdout",
     "output_type": "stream",
     "text": [
      "final loss is 24.792564392089844\n",
      "final loss is 24.792564392089844\n"
     ]
    },
    {
     "data": {
      "image/png": "[encoded data removed]",
      "text/plain": [
       "<Figure size 432x288 with 1 Axes>"
      ]
     },
     "metadata": {
      "needs_background": "light"
     },
     "output_type": "display_data"
    }
   ],
   "source": [
    "import nnpde.model as M \n",
    "reload(M)\n",
    "\n",
    "# TODO fit would idealy take X, y, (u_0 and u_*)\n",
    "model = M.JacobyWithConv(max_iters=1000, batch_size=10, learning_rate = 1e-6, nb_layers=3).fit(problem_instances)\n",
    "losses = model.losses\n",
    "plots.plot_loss(losses)\n",
    "\n",
    "print(\"final loss is {0}\".format(losses[-1]))"
   ]
  },
  {
   "cell_type": "markdown",
   "metadata": {
    "ein.tags": "worksheet-0",
    "slideshow": {
     "slide_type": "-"
    }
   },
   "source": [
    "# Test on a bigger grid"
   ]
  },
  {
   "cell_type": "code",
   "execution_count": 11,
   "metadata": {
    "ExecuteTime": {
     "end_time": "2018-12-18T13:32:53.423669Z",
     "start_time": "2018-12-18T13:32:53.419355Z"
    }
   },
   "outputs": [],
   "source": [
    "from nnpde.metrics import least_squares_loss as LSE"
   ]
  },
  {
   "cell_type": "code",
   "execution_count": 14,
   "metadata": {
    "ExecuteTime": {
     "end_time": "2018-12-18T13:38:54.018812Z",
     "start_time": "2018-12-18T13:38:50.992107Z"
    },
    "autoscroll": false,
    "ein.hycell": false,
    "ein.tags": "worksheet-0",
    "slideshow": {
     "slide_type": "-"
    }
   },
   "outputs": [
    {
     "name": "stdout",
     "output_type": "stream",
     "text": [
      "error after 2000 for both methods: 99473.75, and ground truth and jacoby 99349.3515625\n"
     ]
    }
   ],
   "source": [
    "N = 50\n",
    "nb_iters = 2000\n",
    "\n",
    "B_idx, B = geometries.square_geometry(N)\n",
    "\n",
    "# Set forcing term\n",
    "f = torch.ones(1,1,N,N)*1.0\n",
    "\n",
    "# Obtain solutions\n",
    "gtt = im.jacobi_method(B_idx, B, f, torch.ones(1,1,N,N), k = 10000)\n",
    "output = im.H_method(model.net, B_idx, B, f, torch.ones(1,1,N,N), k = nb_iters)\n",
    "jacoby_pure = im.jacobi_method(B_idx, B, f, torch.ones(1,1,N,N), k = nb_iters)\n",
    "\n",
    "print(f\"error after {nb_iters} for both methods: {LSE(output, jacoby_pure)}, and ground truth and jacoby {LSE(gtt, jacoby_pure)}\")"
   ]
  },
  {
   "cell_type": "code",
   "execution_count": 16,
   "metadata": {
    "ExecuteTime": {
     "end_time": "2018-12-18T13:39:04.858178Z",
     "start_time": "2018-12-18T13:39:04.850454Z"
    },
    "autoscroll": false,
    "ein.hycell": false,
    "ein.tags": "worksheet-0",
    "slideshow": {
     "slide_type": "-"
    }
   },
   "outputs": [],
   "source": [
    "loss_to_be_achieved = 1e-3\n",
    "\n",
    "u_0 = torch.ones(1, 1, N, N)\n",
    "net = model.net"
   ]
  },
  {
   "cell_type": "code",
   "execution_count": 18,
   "metadata": {
    "ExecuteTime": {
     "end_time": "2018-12-18T13:39:24.100072Z",
     "start_time": "2018-12-18T13:39:15.030521Z"
    },
    "autoscroll": false,
    "ein.hycell": false,
    "ein.tags": "worksheet-0",
    "slideshow": {
     "slide_type": "-"
    }
   },
   "outputs": [
    {
     "name": "stdout",
     "output_type": "stream",
     "text": [
      "5583\n",
      "5583\n",
      "5583\n",
      "5583\n",
      "5583\n",
      "5583\n",
      "5583\n",
      "5583\n",
      "1.14 s ± 87.6 ms per loop (mean ± std. dev. of 7 runs, 1 loop each)\n"
     ]
    }
   ],
   "source": [
    "%%timeit\n",
    "\n",
    "u_k_old = im.jacobi_method(B_idx, B, f, u_0, k = 1)\n",
    "loss_of_old = LSE(gtt, u_k_old)\n",
    "k_count_old = 1\n",
    "count_old = 1\n",
    "# old method \n",
    "while loss_of_old >= loss_to_be_achieved:\n",
    "    u_k_old = im.jacobi_method(B_idx, B, f, u_k_old, k = 1)\n",
    "    loss_of_old = LSE(gtt, u_k_old)\n",
    "    k_count_old += 1\n",
    "    \n",
    "print(k_count_old)"
   ]
  },
  {
   "cell_type": "code",
   "execution_count": 20,
   "metadata": {
    "ExecuteTime": {
     "end_time": "2018-12-18T13:39:51.821114Z",
     "start_time": "2018-12-18T13:39:50.664243Z"
    },
    "autoscroll": false,
    "ein.hycell": false,
    "ein.tags": "worksheet-0",
    "slideshow": {
     "slide_type": "-"
    }
   },
   "outputs": [
    {
     "name": "stdout",
     "output_type": "stream",
     "text": [
      "323\n",
      "323\n",
      "323\n",
      "323\n",
      "323\n",
      "323\n",
      "323\n",
      "323\n",
      "122 ms ± 9.52 ms per loop (mean ± std. dev. of 7 runs, 1 loop each)\n"
     ]
    }
   ],
   "source": [
    "%%timeit\n",
    "\n",
    "u_k_new = im.H_method(net, B_idx, B, f, u_0, k=1)\n",
    "\n",
    "loss_new = LSE(gtt, u_k_new)\n",
    "k_count_new = 1\n",
    "\n",
    "\n",
    "# new method\n",
    "\n",
    "while loss_new >= loss_to_be_achieved:\n",
    "    u_k_new = im.H_method(net, B_idx, B, f, u_k_new, k=1)\n",
    "    loss_new = LSE(gtt, u_k_new)\n",
    "    k_count_new += 1\n",
    "    \n",
    "print(k_count_new)"
   ]
  },
  {
   "cell_type": "code",
   "execution_count": null,
   "metadata": {
    "ExecuteTime": {
     "end_time": "2018-12-18T13:32:57.531942Z",
     "start_time": "2018-12-18T13:32:27.488Z"
    },
    "autoscroll": false,
    "ein.hycell": false,
    "ein.tags": "worksheet-0",
    "slideshow": {
     "slide_type": "-"
    }
   },
   "outputs": [],
   "source": [
    "# This is not correct, but we have to look for a way to access the variables inside timeit\n",
    "\n",
    "print(\"needed {0} iterations (compared to {1}), ratio: {2}\".format(k_count_old, k_count_new, k_count_old/k_count_new))"
   ]
  },
  {
   "cell_type": "code",
   "execution_count": null,
   "metadata": {
    "ExecuteTime": {
     "end_time": "2018-12-18T13:32:57.533202Z",
     "start_time": "2018-12-18T13:32:27.494Z"
    },
    "autoscroll": false,
    "ein.hycell": false,
    "ein.tags": "worksheet-0",
    "slideshow": {
     "slide_type": "-"
    }
   },
   "outputs": [],
   "source": [
    "print(\"the loss of the new method is {0}, compared to the pure-jacoby one: {1}. computed with {2} iterations\".format(F.mse_loss(gtt, output), F.mse_loss(gtt, jacoby_pure), nb_iters))"
   ]
  },
  {
   "cell_type": "code",
   "execution_count": null,
   "metadata": {
    "ExecuteTime": {
     "end_time": "2018-12-18T13:32:57.534573Z",
     "start_time": "2018-12-18T13:32:27.499Z"
    },
    "autoscroll": false,
    "ein.hycell": false,
    "ein.tags": "worksheet-0",
    "slideshow": {
     "slide_type": "-"
    }
   },
   "outputs": [],
   "source": [
    "helpers.plot_solution(gtt,output,N)"
   ]
  },
  {
   "cell_type": "code",
   "execution_count": null,
   "metadata": {
    "ExecuteTime": {
     "end_time": "2018-12-18T13:32:57.535773Z",
     "start_time": "2018-12-18T13:32:27.504Z"
    },
    "autoscroll": false,
    "ein.hycell": false,
    "ein.tags": "worksheet-0",
    "slideshow": {
     "slide_type": "-"
    }
   },
   "outputs": [],
   "source": [
    "(gtt.view(N,N) - output.view(N,N)).mean()"
   ]
  },
  {
   "cell_type": "markdown",
   "metadata": {
    "ein.tags": "worksheet-0",
    "slideshow": {
     "slide_type": "-"
    }
   },
   "source": [
    "Test on L-shape domain"
   ]
  },
  {
   "cell_type": "code",
   "execution_count": null,
   "metadata": {
    "ExecuteTime": {
     "end_time": "2018-12-18T13:32:57.537084Z",
     "start_time": "2018-12-18T13:32:27.509Z"
    },
    "autoscroll": false,
    "ein.hycell": false,
    "ein.tags": "worksheet-0",
    "slideshow": {
     "slide_type": "-"
    }
   },
   "outputs": [],
   "source": [
    "B_idx, B = geometries.l_shaped_geometry(N)\n",
    "\n",
    "# Set forcing term\n",
    "f = torch.ones(1,1,N,N)*1.0\n",
    "\n",
    "# Obtain solutions\n",
    "gtt = im.jacobi_method(B_idx, B, f, torch.ones(1,1,N,N), k = 10000)\n",
    "output = im.H_method(net, B_idx, B, f, torch.ones(1,1,N,N), k = 2000)"
   ]
  },
  {
   "cell_type": "code",
   "execution_count": null,
   "metadata": {
    "ExecuteTime": {
     "end_time": "2018-12-18T13:32:57.538405Z",
     "start_time": "2018-12-18T13:32:27.514Z"
    },
    "autoscroll": false,
    "ein.hycell": false,
    "ein.tags": "worksheet-0",
    "slideshow": {
     "slide_type": "-"
    }
   },
   "outputs": [],
   "source": [
    "helpers.plot_solution(gtt,output,N)"
   ]
  },
  {
   "cell_type": "code",
   "execution_count": null,
   "metadata": {
    "ExecuteTime": {
     "end_time": "2018-12-18T13:32:57.539720Z",
     "start_time": "2018-12-18T13:32:27.519Z"
    }
   },
   "outputs": [],
   "source": [
    "multiply_adds = 1\n",
    "\n",
    "def count_conv2d(shapex, shapey,in_channels = 1,out_channels = 1,kernel_size = (3,3)):\n",
    "    \n",
    "    cin = in_channels\n",
    "    cout = out_channels\n",
    "    kh, kw = kernel_size\n",
    "    batch_size = shapex[0]\n",
    "\n",
    "    out_w = shapey[2]\n",
    "    out_h = shapey[3]\n",
    "\n",
    "    # ops per output element\n",
    "    # kernel_mul = kh * kw * cin\n",
    "    # kernel_add = kh * kw * cin - 1\n",
    "    \n",
    "    kernel_ops = multiply_adds * kh * kw * cin\n",
    "    ops_per_element = kernel_ops\n",
    "\n",
    "    # total ops\n",
    "    # num_out_elements = y.numel()\n",
    "    output_elements = batch_size * out_w * out_h * cout\n",
    "    total_ops = output_elements * ops_per_element\n",
    "\n",
    "    # in case same conv is used multiple times\n",
    "    total_ops += torch.Tensor([int(total_ops)])\n",
    "    \n",
    "    return total_ops"
   ]
  },
  {
   "cell_type": "code",
   "execution_count": null,
   "metadata": {
    "ExecuteTime": {
     "end_time": "2018-12-18T13:32:57.542226Z",
     "start_time": "2018-12-18T13:32:27.524Z"
    }
   },
   "outputs": [],
   "source": [
    "def compare_flops(n,n_iter_conv,n_iter_jac,layers):\n",
    "    #flops, params = profile(net, input_size=input_shape)\n",
    "    flop_conv = (count_conv2d((1,1,256,256),(1,1,3,3)) + 2*n**2 + 4) * n_iter_conv # 9 operations for each convolution, and we perform n^2 convolutions in total for each layer + 6 operations for the jacobi iteration step\n",
    "    flop_jac = (7 * n**2) * n_iter_jac # For each u_ij, we add its 4 neighbors + forcing term + resetting the boundaries\n",
    "    return flop_conv/flop_jac"
   ]
  },
  {
   "cell_type": "code",
   "execution_count": null,
   "metadata": {
    "ExecuteTime": {
     "end_time": "2018-12-18T13:32:57.543750Z",
     "start_time": "2018-12-18T13:32:27.529Z"
    }
   },
   "outputs": [],
   "source": [
    "compare_flops(16,k_count_new,k_count_old,3)"
   ]
  }
 ],
 "metadata": {
  "kernelspec": {
   "display_name": "Python 3",
   "language": "python",
   "name": "python3"
  },
  "language_info": {
   "codemirror_mode": {
    "name": "ipython",
    "version": 3
   },
   "file_extension": ".py",
   "mimetype": "text/x-python",
   "name": "python",
   "nbconvert_exporter": "python",
   "pygments_lexer": "ipython3",
   "version": "3.6.7"
  },
  "name": "main.ipynb",
  "toc": {
   "base_numbering": 1,
   "nav_menu": {
    "height": "67.7px",
    "width": "252px"
   },
   "number_sections": true,
   "sideBar": true,
   "skip_h1_title": false,
   "title_cell": "Table of Contents",
   "title_sidebar": "Contents",
   "toc_cell": false,
   "toc_position": null,
   "toc_section_display": true,
   "toc_window_display": false
  }
 },
 "nbformat": 4,
 "nbformat_minor": 2
}

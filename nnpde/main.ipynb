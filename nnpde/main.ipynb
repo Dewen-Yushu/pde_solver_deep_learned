{
 "cells": [
  {
   "cell_type": "code",
   "execution_count": null,
   "metadata": {
    "ExecuteTime": {
     "end_time": "2018-12-09T22:20:48.091231Z",
     "start_time": "2018-12-09T22:20:48.062783Z"
    }
   },
   "outputs": [],
   "source": [
    "def fix_layout(width:int=95):\n",
    "    from IPython.core.display import display, HTML\n",
    "    display(HTML('<style>.container { width:' + str(width) + '% !important; }</style>'))\n",
    "    \n",
    "fix_layout()"
   ]
  },
  {
   "cell_type": "code",
   "execution_count": null,
   "metadata": {
    "ExecuteTime": {
     "end_time": "2018-12-09T22:20:49.443783Z",
     "start_time": "2018-12-09T22:20:48.356077Z"
    }
   },
   "outputs": [],
   "source": [
    "import sys\n",
    "\n",
    "import numpy as np\n",
    "import matplotlib.pyplot as plt\n",
    "#from logs import enable_logging, logging \n",
    "from importlib import reload\n",
    "import nnpde.functions.iterative_methods as im\n",
    "from nnpde.functions import geometries"
   ]
  },
  {
   "cell_type": "code",
   "execution_count": null,
   "metadata": {
    "ExecuteTime": {
     "end_time": "2018-12-09T22:20:49.509031Z",
     "start_time": "2018-12-09T22:20:49.445779Z"
    }
   },
   "outputs": [],
   "source": [
    "import torch\n",
    "import torch.nn as nn\n",
    "import torch.nn.functional as F\n",
    "\n",
    "net = nn.Sequential(\n",
    "    nn.Conv2d(1, 1, 3, padding=1, bias=False),\n",
    "    #nn.Conv2d(1, 1, 3, padding=1, bias=False),\n",
    "    #nn.Conv2d(1, 1, 3, padding=1, bias=False),\n",
    ")\n",
    "\n",
    "\n",
    "# Set the optimizer, you have to play with lr: if too big nan\n",
    "optim = torch.optim.SGD(net.parameters(), lr = 1e-6)\n",
    "##optim = torch.optim.Adadelta(net.parameters())\n",
    "#optim = torch.optim.Adam(net.parameters(), lr=1e-6)\n",
    "#optim = torch.optim.ASGD(net.parameters())\n",
    "# SGD seems much faster\n",
    "\n",
    "for name, param in net.named_parameters():\n",
    "    print(name, param)"
   ]
  },
  {
   "cell_type": "code",
   "execution_count": null,
   "metadata": {},
   "outputs": [],
   "source": [
    "class dirichlet_problem:\n",
    "    \"\"\"A class for setting a problem instance\"\"\"\n",
    "    \n",
    "    def __init__(self, B_idx=None, B=None, f=torch.zeros(1, 1, N, N), k=100, initial_u=torch.zeros(1, 1, N, N), domain_type=\"Square\", N=16):\n",
    "        \n",
    "        if B_idx is None:\n",
    "            self.B_idx, self.B = geometries.square_geometry(N)\n",
    "        else:\n",
    "            self.B_idx = B_idx\n",
    "            self.B = B\n",
    "        \n",
    "        self.initial_u = initial_u\n",
    "        self.f = f\n",
    "        self.k = k \n",
    "        \n",
    "        "
   ]
  },
  {
   "cell_type": "code",
   "execution_count": null,
   "metadata": {},
   "outputs": [],
   "source": [
    "A = dirichlet_problem()\n",
    "B = dirichlet_problem()"
   ]
  },
  {
   "cell_type": "code",
   "execution_count": null,
   "metadata": {},
   "outputs": [],
   "source": [
    "C = list([A, B])\n"
   ]
  },
  {
   "cell_type": "code",
   "execution_count": null,
   "metadata": {},
   "outputs": [],
   "source": [
    "l = [None]*10\n",
    "l[0] = A\n",
    "print(l[0].B)"
   ]
  },
  {
   "cell_type": "markdown",
   "metadata": {},
   "source": [
    "New one based only on convolutions and pointwise tensor operations, see iterativeMethods.py"
   ]
  },
  {
   "cell_type": "markdown",
   "metadata": {
    "ExecuteTime": {
     "end_time": "2018-12-09T22:20:51.440981Z",
     "start_time": "2018-12-09T22:20:51.437633Z"
    }
   },
   "source": [
    "Define a set of problem instances"
   ]
  },
  {
   "cell_type": "code",
   "execution_count": null,
   "metadata": {},
   "outputs": [],
   "source": [
    "def compute_loss(net, k, B_idx, B, f, initial_u, ground_truth, nb_problem_instances):\n",
    "    \n",
    "    loss = torch.zeros(1, requires_grad=False)\n",
    "    u = torch.zeros(1, 1, N, N, nb_problem_instances)\n",
    "    \n",
    "    for i in range(nb_problem_instances):\n",
    "        u[:, :, :, :, i] = im.H_method(net, B_idx[:, :, :, :, i], B[:, :, :, :, i], f, initial_u[:, :, :, :, i], k[i])\n",
    "        loss = loss + F.mse_loss(ground_truth[:, :, :, :, i], u[:, :, :, :, i])\n",
    "        \n",
    "    return loss"
   ]
  },
  {
   "cell_type": "code",
   "execution_count": null,
   "metadata": {},
   "outputs": [],
   "source": [
    "nb_problem_instances = 50\n",
    "\n",
    "problem_instances_list = [None]*nb_problem_instances"
   ]
  },
  {
   "cell_type": "code",
   "execution_count": null,
   "metadata": {
    "ExecuteTime": {
     "end_time": "2018-12-09T22:20:56.605965Z",
     "start_time": "2018-12-09T22:20:51.932366Z"
    }
   },
   "outputs": [],
   "source": [
    "# Define train dimension\n",
    "N = 16\n",
    "\n",
    "# Define batch_size problem instances\n",
    "nb_problem_instances = 50\n",
    "\n",
    "# Sample k\n",
    "##k = np.random.randint(1, 20)\n",
    "k = np.random.randint(1, 20, nb_problem_instances)\n",
    "\n",
    "# Initialize f: we use a zero forcing term for training\n",
    "f = torch.zeros(1, 1, N, N)\n",
    "\n",
    "# Initialize boundary conditions\n",
    "B = torch.zeros(1, 1, N, N, nb_problem_instances)\n",
    "B_idx = torch.zeros(1, 1, N, N, nb_problem_instances)\n",
    "\n",
    "# Initialize initial solution\n",
    "initial_u = torch.randn(1, 1, N, N, nb_problem_instances, requires_grad = True)\n",
    "\n",
    "# Initialize ground truth solution\n",
    "ground_truth = torch.zeros(1, 1, N, N, nb_problem_instances)\n",
    "\n",
    "# Define problems\n",
    "for i in range(nb_problem_instances):\n",
    "\n",
    "    B[:, :, :, :, i], B_idx[:, :, :, :, i] = geometries.square_geometry(N)    \n",
    "\n",
    "    # Compute ustar = ground_truth solution torch \n",
    "    ground_truth[:, :, :, :, i] = im.jacobi_method(B_idx[:, :, :, :, i], B[:, :, :, :, i], f, initial_u = None, k = 1000)\n"
   ]
  },
  {
   "cell_type": "code",
   "execution_count": null,
   "metadata": {},
   "outputs": [],
   "source": [
    "losses = []\n",
    "prev_total_loss = compute_loss(net, k, B_idx, B, f, initial_u, ground_truth, nb_problem_instances)\n",
    "print(prev_total_loss)"
   ]
  },
  {
   "cell_type": "code",
   "execution_count": null,
   "metadata": {},
   "outputs": [],
   "source": [
    "# Solve the same problem, at each iteration the only thing changing are the weights, which are optimized\n",
    "# TODO why though? wouldn't it make much more sense to train it more times on different problems? isn't this the same as oversampling each training sample?\n",
    "\n",
    "for _ in range(1000):\n",
    "    net.zero_grad()\n",
    "    loss = torch.zeros(1)\n",
    "\n",
    "    batch_size = 10\n",
    "    u = torch.zeros(1, 1, N, N, batch_size)\n",
    "\n",
    "\n",
    "    problem_idx = np.random.choice(np.arange(nb_problem_instances), batch_size, replace = 0)\n",
    "\n",
    "    for i in range(batch_size):\n",
    "        # Compute the solution with the updated weights\n",
    "        idx = problem_idx[i]\n",
    "        u[:, :, :, :, i] = im.H_method(net, B_idx[:, :, :, :, idx], B[:, :, :, :, idx], f, initial_u[:, :, :, :, idx], k[idx])\n",
    "\n",
    "        # Define the loss, CHECK if it is correct wrt paper\n",
    "        loss = loss + F.mse_loss(ground_truth[:, :, :, :, idx], u[:, :, :, :, i])\n",
    "    \n",
    "   \n",
    "    \"\"\" TODO \n",
    "    spectral_radius = TODO\n",
    "    regularization = 1e10\n",
    "    if spectral_radius > 1\n",
    "       loss += regularization\n",
    "    \"\"\"\n",
    "\n",
    "    # Backpropagation\n",
    "    loss.backward(retain_graph =  False)\n",
    "\n",
    "    # SGD step\n",
    "    optim.step()\n",
    "    \n",
    "    total_loss = compute_loss(net, k, B_idx, B, f, initial_u, ground_truth, nb_problem_instances)\n",
    "    \n",
    "    # Exit optimization \n",
    "    tol = 1e-2\n",
    "    if total_loss.item() <= tol or np.abs(total_loss.item() - prev_total_loss.item()) < tol:\n",
    "        break\n",
    "\n",
    "\n",
    "    # Store lossses for visualization\n",
    "    losses.append(total_loss.item())\n",
    "    prev_loss = total_loss.item()\n",
    "\n",
    "for name, param in net.named_parameters():\n",
    "    print(name, param)"
   ]
  },
  {
   "cell_type": "markdown",
   "metadata": {},
   "source": [
    "Plot the losses"
   ]
  },
  {
   "cell_type": "code",
   "execution_count": null,
   "metadata": {},
   "outputs": [],
   "source": [
    "np.abs(total_loss.item() - prev_total_loss.item())"
   ]
  },
  {
   "cell_type": "code",
   "execution_count": null,
   "metadata": {
    "ExecuteTime": {
     "end_time": "2018-12-09T22:20:56.886744Z",
     "start_time": "2018-12-09T22:20:56.608908Z"
    }
   },
   "outputs": [],
   "source": [
    "color_map = plt.get_cmap('cubehelix')\n",
    "colors = color_map(np.linspace(0.1, 1, 10))\n",
    "\n",
    "losses_fig = plt.figure()\n",
    "n_iter = np.arange(np.shape(losses)[0])\n",
    "plt.plot(n_iter[2500:], losses[2500:], color = colors[0], linewidth = 1, linestyle = \"-\", marker = \"\",  label='Loss')\n",
    "\n",
    "plt.legend(bbox_to_anchor=(0., -0.3), loc=3, borderaxespad=0.)\n",
    "plt.xlabel('n iteration', fontsize=14)\n",
    "plt.ylabel('Loss', fontsize=14)\n",
    "plt.title('Loss')\n",
    "plt.grid(True, which = \"both\", linewidth = 0.5,  linestyle = \"--\")\n",
    "\n",
    "print(\"final loss is {0}\".format(losses[-1]))\n",
    "#losses_fig.savefig('gridSearch.eps', bbox_inches='tight')"
   ]
  },
  {
   "cell_type": "markdown",
   "metadata": {},
   "source": [
    "Test on a bigger grid"
   ]
  },
  {
   "cell_type": "code",
   "execution_count": null,
   "metadata": {
    "ExecuteTime": {
     "end_time": "2018-12-09T22:20:59.829589Z",
     "start_time": "2018-12-09T22:20:56.889100Z"
    }
   },
   "outputs": [],
   "source": [
    "N = 50\n",
    "nb_iters = 2000\n",
    "\n",
    "B, B_idx = geometries.square_geometry(N)\n",
    "\n",
    "# Set forcing term\n",
    "f = torch.ones(1,1,N,N)*1.0\n",
    "\n",
    "# Obtain solutions\n",
    "gtt = im.jacobi_method(B_idx, B, f, torch.ones(1,1,N,N), k = 10000)\n",
    "output = im.H_method(net, B_idx, B, f, torch.ones(1,1,N,N), k = nb_iters)\n",
    "jacoby_pure = im.jacobi_method(B_idx, B, f, torch.ones(1,1,N,N), k = nb_iters)"
   ]
  },
  {
   "cell_type": "code",
   "execution_count": null,
   "metadata": {
    "ExecuteTime": {
     "end_time": "2018-12-09T22:21:52.456154Z",
     "start_time": "2018-12-09T22:21:51.366664Z"
    }
   },
   "outputs": [],
   "source": [
    "loss_to_be_achieved = 1e-3\n",
    "\n",
    "u_0 = torch.ones(1, 1, N, N)"
   ]
  },
  {
   "cell_type": "code",
   "execution_count": null,
   "metadata": {
    "ExecuteTime": {
     "end_time": "2018-12-09T22:25:15.309599Z",
     "start_time": "2018-12-09T22:25:08.013755Z"
    }
   },
   "outputs": [],
   "source": [
    "%%timeit\n",
    "# old method \n",
    "u_k_old = im.jacobi_method(B_idx, B, f, u_0, k = 1)\n",
    "loss_of_old = F.mse_loss(gtt, u_k_old)\n",
    "k_count_old = 1\n",
    "while loss_of_old >= loss_to_be_achieved:\n",
    "    u_k_old = im.jacobi_method(B_idx, B, f, u_k_old, k = 1)\n",
    "    loss_of_old = F.mse_loss(gtt, u_k_old)\n",
    "    k_count_old += 1"
   ]
  },
  {
   "cell_type": "code",
   "execution_count": null,
   "metadata": {
    "ExecuteTime": {
     "end_time": "2018-12-09T22:25:26.030157Z",
     "start_time": "2018-12-09T22:25:15.312259Z"
    }
   },
   "outputs": [],
   "source": [
    "%%timeit\n",
    "# new method\n",
    "u_k_new = im.H_method(net, B_idx, B, f, u_0, k=1)\n",
    "\n",
    "loss_new = F.mse_loss(gtt, u_k_new)\n",
    "k_count_new = 1\n",
    "while loss_new >= loss_to_be_achieved:\n",
    "    u_k_new = im.H_method(net, B_idx, B, f, u_k_new, k=1)\n",
    "    loss_new = F.mse_loss(gtt, u_k_new)\n",
    "    k_count_new += 1"
   ]
  },
  {
   "cell_type": "code",
   "execution_count": null,
   "metadata": {
    "ExecuteTime": {
     "end_time": "2018-12-09T22:25:26.037555Z",
     "start_time": "2018-12-09T22:25:26.033317Z"
    }
   },
   "outputs": [],
   "source": [
    "print(\"needed {0} iterations (compared to {1}), ratio: {2}\".format(k_count_old, k_count_new, k_count_old/k_count_new))"
   ]
  },
  {
   "cell_type": "code",
   "execution_count": null,
   "metadata": {
    "ExecuteTime": {
     "end_time": "2018-12-09T22:21:00.166239Z",
     "start_time": "2018-12-09T22:20:56.714Z"
    }
   },
   "outputs": [],
   "source": [
    "print(\"the loss of the new method is {0}, compared to the pure-jacoby one: {1}. computed with {2} iterations\".format(F.mse_loss(gtt, output), F.mse_loss(gtt, jacoby_pure), nb_iters))\n",
    "\n",
    "Z_gtt = gtt.view(N,N).numpy() \n",
    "Z_output = output.detach().view(N, N).numpy()\n",
    "\n",
    "fig, axes = plt.subplots(nrows = 1, ncols = 2)\n",
    "\n",
    "fig.suptitle(\"Comparison\")\n",
    "\n",
    "im_gtt = axes[0].imshow(Z_gtt)\n",
    "axes[0].set_title(\"Ground truth solution\")\n",
    "\n",
    "im_output = axes[1].imshow(Z_output)\n",
    "axes[1].set_title(\"H method solution\")\n",
    "\n",
    "fig.colorbar(im_gtt)\n",
    "fig.tight_layout()\n",
    "\n",
    "plt.show()"
   ]
  },
  {
   "cell_type": "code",
   "execution_count": null,
   "metadata": {
    "ExecuteTime": {
     "end_time": "2018-12-09T22:21:00.167481Z",
     "start_time": "2018-12-09T22:20:58.506Z"
    }
   },
   "outputs": [],
   "source": [
    "np.mean(Z_gtt - Z_output)"
   ]
  },
  {
   "cell_type": "code",
   "execution_count": null,
   "metadata": {
    "ExecuteTime": {
     "end_time": "2018-12-09T21:55:57.827508Z",
     "start_time": "2018-12-09T21:55:57.570718Z"
    }
   },
   "outputs": [],
   "source": []
  },
  {
   "cell_type": "code",
   "execution_count": null,
   "metadata": {
    "ExecuteTime": {
     "end_time": "2018-12-09T21:56:07.799229Z",
     "start_time": "2018-12-09T21:56:07.657800Z"
    }
   },
   "outputs": [],
   "source": [
    "np.mean(Z_gtt - Z_jacoby)"
   ]
  },
  {
   "cell_type": "markdown",
   "metadata": {},
   "source": [
    "Test on L-shape domain"
   ]
  },
  {
   "cell_type": "code",
   "execution_count": null,
   "metadata": {
    "ExecuteTime": {
     "end_time": "2018-12-09T21:15:00.596811Z",
     "start_time": "2018-12-09T21:14:57.877127Z"
    }
   },
   "outputs": [],
   "source": [
    "B, B_idx = geometries.l_shaped_geometry(N)\n",
    "\n",
    "# Set forcing term\n",
    "f = torch.ones(1,1,N,N)*1.0\n",
    "\n",
    "# Obtain solutions\n",
    "gtt = im.jacobi_method(B_idx, B, f, torch.ones(1,1,N,N), k = 10000)\n",
    "output = im.H_method(net, B_idx, B, f, torch.ones(1,1,N,N), k = 2000)"
   ]
  },
  {
   "cell_type": "code",
   "execution_count": null,
   "metadata": {
    "ExecuteTime": {
     "end_time": "2018-12-09T21:15:03.050023Z",
     "start_time": "2018-12-09T21:15:02.642928Z"
    }
   },
   "outputs": [],
   "source": [
    "print(F.mse_loss(gtt, output))\n",
    "\n",
    "Z_gtt = gtt.view(N,N).numpy() \n",
    "Z_output = output.detach().view(N, N).numpy()\n",
    "\n",
    "fig, axes = plt.subplots(nrows = 1, ncols = 2)\n",
    "\n",
    "fig.suptitle(\"Comparison\")\n",
    "\n",
    "im_gtt = axes[0].imshow(Z_gtt)\n",
    "axes[0].set_title(\"Ground truth solution\")\n",
    "\n",
    "im_output = axes[1].imshow(Z_output)\n",
    "axes[1].set_title(\"H method solution\")\n",
    "\n",
    "fig.colorbar(im_gtt)\n",
    "fig.tight_layout()\n",
    "\n",
    "plt.show()"
   ]
  }
 ],
 "metadata": {
  "kernelspec": {
   "display_name": "Python 3",
   "language": "python",
   "name": "python3"
  },
  "language_info": {
   "codemirror_mode": {
    "name": "ipython",
    "version": 3
   },
   "file_extension": ".py",
   "mimetype": "text/x-python",
   "name": "python",
   "nbconvert_exporter": "python",
   "pygments_lexer": "ipython3",
   "version": "3.6.7"
  },
  "toc": {
   "base_numbering": 1,
   "nav_menu": {},
   "number_sections": true,
   "sideBar": true,
   "skip_h1_title": false,
   "title_cell": "Table of Contents",
   "title_sidebar": "Contents",
   "toc_cell": false,
   "toc_position": {},
   "toc_section_display": true,
   "toc_window_display": false
  }
 },
 "nbformat": 4,
 "nbformat_minor": 2
}

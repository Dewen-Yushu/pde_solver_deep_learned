{
 "cells": [
  {
   "cell_type": "code",
   "execution_count": 1,
   "metadata": {
    "ExecuteTime": {
     "end_time": "2018-12-13T15:52:27.714439Z",
     "start_time": "2018-12-13T15:52:27.699737Z"
    },
    "autoscroll": false,
    "ein.hycell": false,
    "ein.tags": "worksheet-0",
    "slideshow": {
     "slide_type": "-"
    }
   },
   "outputs": [
    {
     "data": {
      "text/html": [
       "<style>.container { width:95% !important; }</style>"
      ],
      "text/plain": [
       "<IPython.core.display.HTML object>"
      ]
     },
     "metadata": {},
     "output_type": "display_data"
    }
   ],
   "source": [
    "def fix_layout(width:int=95):\n",
    "    from IPython.core.display import display, HTML\n",
    "    display(HTML('<style>.container { width:' + str(width) + '% !important; }</style>'))\n",
    "    \n",
    "fix_layout()"
   ]
  },
  {
   "cell_type": "code",
   "execution_count": 2,
   "metadata": {
    "ExecuteTime": {
     "end_time": "2018-12-13T15:52:28.193154Z",
     "start_time": "2018-12-13T15:52:27.716847Z"
    },
    "autoscroll": false,
    "ein.hycell": false,
    "ein.tags": "worksheet-0",
    "slideshow": {
     "slide_type": "-"
    }
   },
   "outputs": [],
   "source": [
    "import sys\n",
    "\n",
    "import numpy as np\n",
    "import matplotlib.pyplot as plt\n",
    "from nnpde.utils.logs import enable_logging, logging \n",
    "from importlib import reload\n",
    "import nnpde.functions.iterative_methods as im\n",
    "from nnpde.functions import geometries, helpers\n",
    "from nnpde.problems import DirichletProblem "
   ]
  },
  {
   "cell_type": "code",
   "execution_count": 3,
   "metadata": {
    "ExecuteTime": {
     "end_time": "2018-12-13T15:52:28.203186Z",
     "start_time": "2018-12-13T15:52:28.195666Z"
    },
    "autoscroll": false,
    "ein.hycell": false,
    "ein.tags": "worksheet-0",
    "slideshow": {
     "slide_type": "-"
    }
   },
   "outputs": [
    {
     "name": "stderr",
     "output_type": "stream",
     "text": [
      "2018-12-16 19:12:12,402 - root - INFO - logs - logging enabled for level: 10\n"
     ]
    }
   ],
   "source": [
    "enable_logging(10)"
   ]
  },
  {
   "cell_type": "code",
   "execution_count": 4,
   "metadata": {
    "ExecuteTime": {
     "end_time": "2018-12-13T15:52:28.232517Z",
     "start_time": "2018-12-13T15:52:28.205392Z"
    },
    "autoscroll": false,
    "ein.hycell": false,
    "ein.tags": "worksheet-0",
    "slideshow": {
     "slide_type": "-"
    }
   },
   "outputs": [],
   "source": [
    "import torch\n",
    "import torch.nn as nn\n",
    "import torch.nn.functional as F"
   ]
  },
  {
   "cell_type": "code",
   "execution_count": 5,
   "metadata": {
    "ExecuteTime": {
     "end_time": "2018-12-13T15:52:58.511562Z",
     "start_time": "2018-12-13T15:52:28.239022Z"
    },
    "autoscroll": false,
    "ein.hycell": false,
    "ein.tags": "worksheet-0",
    "slideshow": {
     "slide_type": "-"
    }
   },
   "outputs": [],
   "source": [
    "# Define train dimension\n",
    "N = 16\n",
    "\n",
    "# Initialize f: we use a zero forcing term for training\n",
    "f = torch.zeros(1, 1, N, N)\n",
    "\n",
    "# For each problem instance define number of iteration to perform to obtain the solution\n",
    "nb_problem_instances = 30\n",
    "problem_instances = [DirichletProblem(k=k) for k in np.random.randint(1, 20, nb_problem_instances)]"
   ]
  },
  {
   "cell_type": "markdown",
   "metadata": {
    "ein.tags": "worksheet-0",
    "slideshow": {
     "slide_type": "-"
    }
   },
   "source": [
    "Train using the class"
   ]
  },
  {
   "cell_type": "code",
   "execution_count": 6,
   "metadata": {
    "ExecuteTime": {
     "end_time": "2018-12-13T15:54:54.532244Z",
     "start_time": "2018-12-13T15:52:58.512993Z"
    },
    "autoscroll": false,
    "ein.hycell": false,
    "ein.tags": "worksheet-0",
    "slideshow": {
     "slide_type": "-"
    }
   },
   "outputs": [
    {
     "name": "stderr",
     "output_type": "stream",
     "text": [
      "2018-12-16 19:12:21,257 - root - INFO - model - iter 0 with total loss 1710.0416259765625\n",
      "2018-12-16 19:12:33,448 - root - INFO - model - iter 100 with total loss 1636.8768310546875\n",
      "2018-12-16 19:12:44,071 - root - INFO - model - iter 200 with total loss 605.9943237304688\n"
     ]
    }
   ],
   "source": [
    "import nnpde.model as M \n",
    "\n",
    "# TODO fit would idealy take X, y, (u_0 and u_*)\n",
    "model = M.JacobyWithConv(max_iters=300, batch_size=10, learning_rate = 1e-5).fit(problem_instances)\n",
    "losses = model.losses"
   ]
  },
  {
   "cell_type": "code",
   "execution_count": null,
   "metadata": {
    "ExecuteTime": {
     "end_time": "2018-12-13T15:54:54.533846Z",
     "start_time": "2018-12-13T15:52:27.735Z"
    },
    "autoscroll": false,
    "ein.hycell": false,
    "ein.tags": "worksheet-0",
    "slideshow": {
     "slide_type": "-"
    }
   },
   "outputs": [],
   "source": [
    "print(losses)"
   ]
  },
  {
   "cell_type": "code",
   "execution_count": null,
   "metadata": {
    "ExecuteTime": {
     "end_time": "2018-12-13T15:54:54.535076Z",
     "start_time": "2018-12-13T15:52:27.739Z"
    },
    "autoscroll": false,
    "ein.hycell": false,
    "ein.tags": "worksheet-0",
    "slideshow": {
     "slide_type": "-"
    }
   },
   "outputs": [],
   "source": [
    "# TODO conv_u and Hu should be more or less the same, right? but they are clearly not...\n",
    "some_u = problem_instances[0].initial_u\n",
    "\n",
    "conv_u = model.net(some_u)\n",
    "\n",
    "H = helpers.conv_net_to_matrix(model.net, model.N)\n",
    "\n",
    "Hu = np.dot(H, some_u.view(-1).detach().numpy())\n",
    "\n",
    "all((conv_u.view(-1).detach().numpy() - Hu) < 1e-4)"
   ]
  },
  {
   "cell_type": "markdown",
   "metadata": {
    "ein.tags": "worksheet-0",
    "slideshow": {
     "slide_type": "-"
    }
   },
   "source": [
    "CHECK VALUES, now the error is very small , only problems may be at boundary nodes"
   ]
  },
  {
   "cell_type": "code",
   "execution_count": null,
   "metadata": {
    "ExecuteTime": {
     "end_time": "2018-12-13T15:54:54.536641Z",
     "start_time": "2018-12-13T15:52:27.744Z"
    },
    "autoscroll": false,
    "ein.hycell": false,
    "ein.tags": "worksheet-0",
    "scrolled": false,
    "slideshow": {
     "slide_type": "-"
    }
   },
   "outputs": [],
   "source": [
    "print(conv_u.view(-1).detach().numpy() - Hu)"
   ]
  },
  {
   "cell_type": "code",
   "execution_count": 7,
   "metadata": {
    "ExecuteTime": {
     "end_time": "2018-12-13T15:54:54.537802Z",
     "start_time": "2018-12-13T15:52:27.748Z"
    },
    "autoscroll": false,
    "ein.hycell": false,
    "ein.tags": "worksheet-0",
    "slideshow": {
     "slide_type": "-"
    }
   },
   "outputs": [
    {
     "name": "stderr",
     "output_type": "stream",
     "text": [
      "2018-12-16 19:13:21,679 - matplotlib.axes._base - DEBUG - _base - update_title_pos\n",
      "2018-12-16 19:13:21,692 - matplotlib.font_manager - DEBUG - font_manager - findfont: Matching :family=sans-serif:style=normal:variant=normal:weight=normal:stretch=normal:size=10.0 to DejaVu Sans ('/home/francesco/miniconda3/lib/python3.6/site-packages/matplotlib/mpl-data/fonts/ttf/DejaVuSans.ttf') with score of 0.050000.\n",
      "2018-12-16 19:13:21,710 - matplotlib.font_manager - DEBUG - font_manager - findfont: Matching :family=sans-serif:style=normal:variant=normal:weight=normal:stretch=normal:size=14.0 to DejaVu Sans ('/home/francesco/miniconda3/lib/python3.6/site-packages/matplotlib/mpl-data/fonts/ttf/DejaVuSans.ttf') with score of 0.050000.\n",
      "2018-12-16 19:13:21,740 - matplotlib.font_manager - DEBUG - font_manager - findfont: Matching :family=sans-serif:style=normal:variant=normal:weight=normal:stretch=normal:size=12.0 to DejaVu Sans ('/home/francesco/miniconda3/lib/python3.6/site-packages/matplotlib/mpl-data/fonts/ttf/DejaVuSans.ttf') with score of 0.050000.\n",
      "2018-12-16 19:13:21,752 - matplotlib.axes._base - DEBUG - _base - update_title_pos\n",
      "2018-12-16 19:13:21,807 - matplotlib.axes._base - DEBUG - _base - update_title_pos\n",
      "2018-12-16 19:13:21,842 - matplotlib.axes._base - DEBUG - _base - update_title_pos\n",
      "2018-12-16 19:13:21,859 - matplotlib.axes._base - DEBUG - _base - update_title_pos\n"
     ]
    },
    {
     "name": "stdout",
     "output_type": "stream",
     "text": [
      "final loss is 117.51187896728516\n"
     ]
    },
    {
     "data": {
      "image/png": "[encoded data removed]",
      "text/plain": [
       "<Figure size 432x288 with 1 Axes>"
      ]
     },
     "metadata": {
      "needs_background": "light"
     },
     "output_type": "display_data"
    }
   ],
   "source": [
    "color_map = plt.get_cmap('cubehelix')\n",
    "colors = color_map(np.linspace(0.1, 1, 10))\n",
    "\n",
    "losses_fig = plt.figure()\n",
    "n_iter = np.arange(np.shape(losses)[0])\n",
    "plt.plot(n_iter[:], losses[:], color = colors[0], linewidth = 1, linestyle = \"-\", marker = \"\",  label='Loss')\n",
    "\n",
    "plt.legend(bbox_to_anchor=(0., -0.3), loc=3, borderaxespad=0.)\n",
    "plt.xlabel('n iteration', fontsize=14)\n",
    "plt.ylabel('Loss', fontsize=14)\n",
    "plt.title('Loss')\n",
    "plt.grid(True, which = \"both\", linewidth = 0.5,  linestyle = \"--\")\n",
    "\n",
    "print(\"final loss is {0}\".format(losses[-1]))\n",
    "#losses_fig.savefig('gridSearch.eps', bbox_inches='tight')"
   ]
  },
  {
   "cell_type": "markdown",
   "metadata": {
    "ein.tags": "worksheet-0",
    "slideshow": {
     "slide_type": "-"
    }
   },
   "source": [
    "Train without using the class"
   ]
  },
  {
   "cell_type": "code",
   "execution_count": null,
   "metadata": {
    "ExecuteTime": {
     "end_time": "2018-12-13T15:58:33.521953Z",
     "start_time": "2018-12-13T15:57:33.397580Z"
    },
    "autoscroll": false,
    "ein.hycell": false,
    "ein.tags": "worksheet-0",
    "slideshow": {
     "slide_type": "-"
    }
   },
   "outputs": [],
   "source": [
    "from nnpde import metrics \n",
    "# Solve the same problem, at each iteration the only thing changing are the weights, which are optimized\n",
    "# TODO why though? wouldn't it make much more sense to train it more times on different problems? isn't this the same as oversampling each training sample?\n",
    "model = M.JacobyWithConv(max_iters=1000, batch_size=10)\n",
    "net = model.net\n",
    "optim = model.optim\n",
    "losses = []\n",
    "for _ in range(100):\n",
    "    net.zero_grad()\n",
    "    loss = torch.zeros(1)\n",
    "    prev_total_loss = 0\n",
    "\n",
    "    batch_size = 1\n",
    "    u_list = [None] * batch_size\n",
    "    \n",
    "    # Sample problem_instances\n",
    "    problem_idx = np.random.choice(np.arange(nb_problem_instances), batch_size, replace = 0)\n",
    "\n",
    "    for i in range(batch_size):\n",
    "\n",
    "        idx = problem_idx[i]\n",
    "        problem_instance = problem_instances[idx]\n",
    "        \n",
    "        B_idx = problem_instance.B_idx\n",
    "        B = problem_instance.B\n",
    "        f = problem_instance.f\n",
    "        initial_u = problem_instance.initial_u\n",
    "        k = problem_instance.k\n",
    "        ground_truth = problem_instance.ground_truth\n",
    "        \n",
    "        # Compute the solution with the updated weights      \n",
    "        u_list[i] = im.H_method(net, B_idx, B, f, initial_u, k)\n",
    "        \n",
    "        #H = helpers.build_diagH_from_net(net,N)\n",
    "        #T = helpers.get_T(N)\n",
    "        #\n",
    "        #spectral_norm = helpers.calculate_spectral_radius(T,H)\n",
    "        #ex = 0\n",
    "        #        \n",
    "        #if spectral_norm > 1:\n",
    "        #    ex = np.nan_to_num(np.inf)\n",
    "\n",
    "        # Define the loss, CHECK if it is correct wrt paper\n",
    "        loss = loss + F.mse_loss(ground_truth, u_list[i])#+ex\n",
    "    \n",
    "\n",
    "\n",
    "    # Backpropagation\n",
    "    loss.backward(retain_graph =  False)\n",
    "\n",
    "    # SGD step\n",
    "    optim.step()\n",
    "    \n",
    "    total_loss = metrics.compute_loss(net, problem_instances)\n",
    "    \n",
    "    # Exit optimization \n",
    "    tol = 1e-2\n",
    "    if total_loss.item() <= tol or total_loss.item() - prev_total_loss < tol:\n",
    "        break\n",
    "\n",
    "\n",
    "    # Store lossses for visualization\n",
    "    losses.append(total_loss.item())\n",
    "    prev_loss = total_loss.item()\n",
    "\n",
    "for name, param in net.named_parameters():\n",
    "    print(name, param)"
   ]
  },
  {
   "cell_type": "markdown",
   "metadata": {
    "ein.tags": "worksheet-0",
    "slideshow": {
     "slide_type": "-"
    }
   },
   "source": [
    "Plot the losses"
   ]
  },
  {
   "cell_type": "code",
   "execution_count": null,
   "metadata": {
    "ExecuteTime": {
     "end_time": "2018-12-13T15:58:40.547089Z",
     "start_time": "2018-12-13T15:58:40.222434Z"
    },
    "autoscroll": false,
    "ein.hycell": false,
    "ein.tags": "worksheet-0",
    "slideshow": {
     "slide_type": "-"
    }
   },
   "outputs": [],
   "source": [
    "color_map = plt.get_cmap('cubehelix')\n",
    "colors = color_map(np.linspace(0.1, 1, 10))\n",
    "\n",
    "losses_fig = plt.figure()\n",
    "n_iter = np.arange(np.shape(losses)[0])\n",
    "plt.plot(n_iter[:], losses[:], color = colors[0], linewidth = 1, linestyle = \"-\", marker = \"\",  label='Loss')\n",
    "\n",
    "plt.legend(bbox_to_anchor=(0., -0.3), loc=3, borderaxespad=0.)\n",
    "plt.xlabel('n iteration', fontsize=14)\n",
    "plt.ylabel('Loss', fontsize=14)\n",
    "plt.title('Loss')\n",
    "plt.grid(True, which = \"both\", linewidth = 0.5,  linestyle = \"--\")\n",
    "\n",
    "print(\"final loss is {0}\".format(losses[-1]))\n",
    "#losses_fig.savefig('gridSearch.eps', bbox_inches='tight')"
   ]
  },
  {
   "cell_type": "markdown",
   "metadata": {
    "ein.tags": "worksheet-0",
    "slideshow": {
     "slide_type": "-"
    }
   },
   "source": [
    "Test on a bigger grid"
   ]
  },
  {
   "cell_type": "code",
   "execution_count": 8,
   "metadata": {
    "ExecuteTime": {
     "end_time": "2018-12-13T15:58:53.604238Z",
     "start_time": "2018-12-13T15:58:50.855168Z"
    },
    "autoscroll": false,
    "ein.hycell": false,
    "ein.tags": "worksheet-0",
    "slideshow": {
     "slide_type": "-"
    }
   },
   "outputs": [],
   "source": [
    "N = 50\n",
    "nb_iters = 2000\n",
    "\n",
    "B_idx, B = geometries.square_geometry(N)\n",
    "\n",
    "# Set forcing term\n",
    "f = torch.ones(1,1,N,N)*1.0\n",
    "\n",
    "# Obtain solutions\n",
    "gtt = im.jacobi_method(B_idx, B, f, torch.ones(1,1,N,N), k = 10000)\n",
    "output = im.H_method(model.net, B_idx, B, f, torch.ones(1,1,N,N), k = nb_iters)\n",
    "jacoby_pure = im.jacobi_method(B_idx, B, f, torch.ones(1,1,N,N), k = nb_iters)"
   ]
  },
  {
   "cell_type": "code",
   "execution_count": 9,
   "metadata": {
    "ExecuteTime": {
     "end_time": "2018-12-13T15:58:54.883608Z",
     "start_time": "2018-12-13T15:58:54.872412Z"
    },
    "autoscroll": false,
    "ein.hycell": false,
    "ein.tags": "worksheet-0",
    "slideshow": {
     "slide_type": "-"
    }
   },
   "outputs": [],
   "source": [
    "loss_to_be_achieved = 1e-3\n",
    "\n",
    "u_0 = torch.ones(1, 1, N, N)\n",
    "net = model.net"
   ]
  },
  {
   "cell_type": "code",
   "execution_count": 10,
   "metadata": {
    "ExecuteTime": {
     "end_time": "2018-12-13T15:59:06.176248Z",
     "start_time": "2018-12-13T15:58:58.619516Z"
    },
    "autoscroll": false,
    "ein.hycell": false,
    "ein.tags": "worksheet-0",
    "slideshow": {
     "slide_type": "-"
    }
   },
   "outputs": [
    {
     "name": "stdout",
     "output_type": "stream",
     "text": [
      "788 ms ± 6.69 ms per loop (mean ± std. dev. of 7 runs, 1 loop each)\n"
     ]
    }
   ],
   "source": [
    "%%timeit\n",
    "\n",
    "u_k_old = im.jacobi_method(B_idx, B, f, u_0, k = 1)\n",
    "loss_of_old = F.mse_loss(gtt, u_k_old)\n",
    "k_count_old = 1\n",
    "count_old = 1\n",
    "# old method \n",
    "while loss_of_old >= loss_to_be_achieved:\n",
    "    u_k_old = im.jacobi_method(B_idx, B, f, u_k_old, k = 1)\n",
    "    loss_of_old = F.mse_loss(gtt, u_k_old)\n",
    "    k_count_old += 1"
   ]
  },
  {
   "cell_type": "code",
   "execution_count": 11,
   "metadata": {
    "ExecuteTime": {
     "end_time": "2018-12-13T15:54:54.543729Z",
     "start_time": "2018-12-13T15:52:27.779Z"
    },
    "autoscroll": false,
    "ein.hycell": false,
    "ein.tags": "worksheet-0",
    "slideshow": {
     "slide_type": "-"
    }
   },
   "outputs": [
    {
     "name": "stdout",
     "output_type": "stream",
     "text": [
      "176 ms ± 4.28 ms per loop (mean ± std. dev. of 7 runs, 1 loop each)\n"
     ]
    }
   ],
   "source": [
    "%%timeit\n",
    "\n",
    "u_k_new = im.H_method(net, B_idx, B, f, u_0, k=1)\n",
    "\n",
    "loss_new = F.mse_loss(gtt, u_k_new)\n",
    "k_count_new = 1\n",
    "\n",
    "\n",
    "# new method\n",
    "\n",
    "while loss_new >= loss_to_be_achieved:\n",
    "    u_k_new = im.H_method(net, B_idx, B, f, u_k_new, k=1)\n",
    "    loss_new = F.mse_loss(gtt, u_k_new)\n",
    "    k_count_new += 1"
   ]
  },
  {
   "cell_type": "code",
   "execution_count": null,
   "metadata": {
    "ExecuteTime": {
     "end_time": "2018-12-13T15:54:54.544716Z",
     "start_time": "2018-12-13T15:52:27.784Z"
    },
    "autoscroll": false,
    "ein.hycell": false,
    "ein.tags": "worksheet-0",
    "slideshow": {
     "slide_type": "-"
    }
   },
   "outputs": [],
   "source": [
    "# This is not correct, but we have to look for a way to access the variables inside timeit\n",
    "\n",
    "print(\"needed {0} iterations (compared to {1}), ratio: {2}\".format(k_count_old, k_count_new, k_count_old/k_count_new))"
   ]
  },
  {
   "cell_type": "code",
   "execution_count": null,
   "metadata": {
    "ExecuteTime": {
     "end_time": "2018-12-13T15:54:54.545644Z",
     "start_time": "2018-12-13T15:52:27.786Z"
    },
    "autoscroll": false,
    "ein.hycell": false,
    "ein.tags": "worksheet-0",
    "slideshow": {
     "slide_type": "-"
    }
   },
   "outputs": [],
   "source": [
    "print(\"the loss of the new method is {0}, compared to the pure-jacoby one: {1}. computed with {2} iterations\".format(F.mse_loss(gtt, output), F.mse_loss(gtt, jacoby_pure), nb_iters))"
   ]
  },
  {
   "cell_type": "code",
   "execution_count": null,
   "metadata": {
    "ExecuteTime": {
     "end_time": "2018-12-13T15:54:54.546631Z",
     "start_time": "2018-12-13T15:52:27.788Z"
    },
    "autoscroll": false,
    "ein.hycell": false,
    "ein.tags": "worksheet-0",
    "slideshow": {
     "slide_type": "-"
    }
   },
   "outputs": [],
   "source": [
    "helpers.plot_solution(gtt,output,N)"
   ]
  },
  {
   "cell_type": "code",
   "execution_count": null,
   "metadata": {
    "ExecuteTime": {
     "end_time": "2018-12-13T15:54:54.547645Z",
     "start_time": "2018-12-13T15:52:27.791Z"
    },
    "autoscroll": false,
    "ein.hycell": false,
    "ein.tags": "worksheet-0",
    "slideshow": {
     "slide_type": "-"
    }
   },
   "outputs": [],
   "source": [
    "(gtt.view(N,N) - output.view(N,N)).mean()"
   ]
  },
  {
   "cell_type": "markdown",
   "metadata": {
    "ein.tags": "worksheet-0",
    "slideshow": {
     "slide_type": "-"
    }
   },
   "source": [
    "Test on L-shape domain"
   ]
  },
  {
   "cell_type": "code",
   "execution_count": null,
   "metadata": {
    "ExecuteTime": {
     "end_time": "2018-12-13T15:54:54.548594Z",
     "start_time": "2018-12-13T15:52:27.795Z"
    },
    "autoscroll": false,
    "ein.hycell": false,
    "ein.tags": "worksheet-0",
    "slideshow": {
     "slide_type": "-"
    }
   },
   "outputs": [],
   "source": [
    "B_idx, B = geometries.l_shaped_geometry(N)\n",
    "\n",
    "# Set forcing term\n",
    "f = torch.ones(1,1,N,N)*1.0\n",
    "\n",
    "# Obtain solutions\n",
    "gtt = im.jacobi_method(B_idx, B, f, torch.ones(1,1,N,N), k = 10000)\n",
    "output = im.H_method(net, B_idx, B, f, torch.ones(1,1,N,N), k = 2000)"
   ]
  },
  {
   "cell_type": "code",
   "execution_count": null,
   "metadata": {
    "ExecuteTime": {
     "end_time": "2018-12-13T15:54:54.549570Z",
     "start_time": "2018-12-13T15:52:27.798Z"
    },
    "autoscroll": false,
    "ein.hycell": false,
    "ein.tags": "worksheet-0",
    "slideshow": {
     "slide_type": "-"
    }
   },
   "outputs": [],
   "source": [
    "helpers.plot_solution(gtt,output,N)"
   ]
  }
 ],
 "metadata": {
  "kernelspec": {
   "display_name": "Python 3",
   "language": "python",
   "name": "python3"
  },
  "language_info": {
   "codemirror_mode": {
    "name": "ipython",
    "version": 3
   },
   "file_extension": ".py",
   "mimetype": "text/x-python",
   "name": "python",
   "nbconvert_exporter": "python",
   "pygments_lexer": "ipython3",
   "version": "3.6.7"
  },
  "name": "main.ipynb",
  "toc": {
   "base_numbering": 1,
   "nav_menu": null,
   "number_sections": true,
   "sideBar": true,
   "skip_h1_title": false,
   "title_cell": "Table of Contents",
   "title_sidebar": "Contents",
   "toc_cell": false,
   "toc_position": null,
   "toc_section_display": true,
   "toc_window_display": false
  }
 },
 "nbformat": 4,
 "nbformat_minor": 2
}

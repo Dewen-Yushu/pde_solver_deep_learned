{
 "cells": [
  {
   "cell_type": "code",
   "execution_count": 85,
   "metadata": {
    "ExecuteTime": {
     "end_time": "2018-12-09T22:20:48.091231Z",
     "start_time": "2018-12-09T22:20:48.062783Z"
    }
   },
   "outputs": [
    {
     "data": {
      "text/html": [
       "<style>.container { width:95% !important; }</style>"
      ],
      "text/plain": [
       "<IPython.core.display.HTML object>"
      ]
     },
     "metadata": {},
     "output_type": "display_data"
    }
   ],
   "source": [
    "def fix_layout(width:int=95):\n",
    "    from IPython.core.display import display, HTML\n",
    "    display(HTML('<style>.container { width:' + str(width) + '% !important; }</style>'))\n",
    "    \n",
    "fix_layout()"
   ]
  },
  {
   "cell_type": "code",
   "execution_count": 86,
   "metadata": {
    "ExecuteTime": {
     "end_time": "2018-12-09T22:20:49.443783Z",
     "start_time": "2018-12-09T22:20:48.356077Z"
    }
   },
   "outputs": [],
   "source": [
    "import sys\n",
    "\n",
    "import numpy as np\n",
    "import matplotlib.pyplot as plt\n",
    "#from logs import enable_logging, logging \n",
    "from importlib import reload\n",
    "import nnpde.functions.iterative_methods as im\n",
    "from nnpde.functions import geometries"
   ]
  },
  {
   "cell_type": "code",
   "execution_count": 87,
   "metadata": {
    "ExecuteTime": {
     "end_time": "2018-12-09T22:20:49.509031Z",
     "start_time": "2018-12-09T22:20:49.445779Z"
    }
   },
   "outputs": [
    {
     "name": "stdout",
     "output_type": "stream",
     "text": [
      "0.weight Parameter containing:\n",
      "tensor([[[[-0.2992,  0.3257, -0.2604],\n",
      "          [ 0.1558, -0.2104, -0.2195],\n",
      "          [-0.2171, -0.0021,  0.0108]]]], requires_grad=True)\n",
      "1.weight Parameter containing:\n",
      "tensor([[[[ 0.1266, -0.2485,  0.1651],\n",
      "          [-0.0218,  0.2788, -0.1038],\n",
      "          [-0.1612, -0.2442, -0.0046]]]], requires_grad=True)\n",
      "2.weight Parameter containing:\n",
      "tensor([[[[-0.1638,  0.2232, -0.1772],\n",
      "          [-0.0397,  0.1054,  0.0481],\n",
      "          [-0.0194, -0.0955, -0.1199]]]], requires_grad=True)\n"
     ]
    }
   ],
   "source": [
    "import torch\n",
    "import torch.nn as nn\n",
    "import torch.nn.functional as F\n",
    "\n",
    "net = nn.Sequential(\n",
    "    nn.Conv2d(1, 1, 3, padding=1, bias=False),\n",
    "    nn.Conv2d(1, 1, 3, padding=1, bias=False),\n",
    "    nn.Conv2d(1, 1, 3, padding=1, bias=False),\n",
    ")\n",
    "\n",
    "\n",
    "# Set the optimizer, you have to play with lr: if too big nan\n",
    "optim = torch.optim.SGD(net.parameters(), lr = 1e-6)\n",
    "##optim = torch.optim.Adadelta(net.parameters())\n",
    "#optim = torch.optim.Adam(net.parameters(), lr=1e-6)\n",
    "#optim = torch.optim.ASGD(net.parameters())\n",
    "# SGD seems much faster\n",
    "\n",
    "for name, param in net.named_parameters():\n",
    "    print(name, param)"
   ]
  },
  {
   "cell_type": "code",
   "execution_count": 88,
   "metadata": {},
   "outputs": [],
   "source": [
    "class dirichlet_problem:\n",
    "    \"\"\"A class for setting a problem instance\"\"\"\n",
    "    \n",
    "    def __init__(self, B_idx=None, B=None, forcing_term=None, k=20, k_ground_truth = 1000, initial_u=None, domain_type=\"Square\", N=16):\n",
    "        \n",
    "        if B_idx is None:\n",
    "            self.B_idx, self.B = geometries.square_geometry(N)\n",
    "        else:\n",
    "            self.B_idx = B_idx\n",
    "            self.B = B\n",
    "            \n",
    "        if forcing_term is None:\n",
    "            self.forcing_term = torch.zeros(1, 1, N, N)\n",
    "        else:\n",
    "            self.forcing_term = forcing_term\n",
    "        \n",
    "        if initial_u is None:\n",
    "            self.initial_u = torch.rand(1, 1, N, N, requires_grad=True)\n",
    "        else:\n",
    "            self.initial_u = initial_u\n",
    "        \n",
    "        self.k = k \n",
    "        \n",
    "        # Initial_u_jacobi is different, it must not require grad\n",
    "        self.initial_u_jacobi = torch.zeros(1, 1, N, N)\n",
    "        self.k_ground_truth = k_ground_truth\n",
    "        self.ground_truth = im.jacobi_method(self.B_idx, self.B, self.forcing_term, self.initial_u_jacobi, self.k_ground_truth)\n"
   ]
  },
  {
   "cell_type": "code",
   "execution_count": 89,
   "metadata": {},
   "outputs": [],
   "source": [
    "def compute_loss(net, problem_instances_list):\n",
    "    \"\"\" Fucntion to compute the total loss given a set of problem instances\"\"\"\n",
    "    \n",
    "    loss = torch.zeros(1, requires_grad = False)\n",
    "    u = torch.zeros(1, 1, N, N, nb_problem_instances)\n",
    "    \n",
    "    for problem_instance in problem_instances_list:\n",
    "\n",
    "        B_idx = problem_instance.B_idx\n",
    "        B = problem_instance.B\n",
    "        f = problem_instance.forcing_term\n",
    "        initial_u = problem_instance.initial_u\n",
    "        k = problem_instance.k\n",
    "        ground_truth = problem_instance.ground_truth\n",
    "        \n",
    "        u = im.H_method(net, B_idx, B, f, initial_u, k)\n",
    "        loss = loss + F.mse_loss(ground_truth, u)\n",
    "        \n",
    "    return loss"
   ]
  },
  {
   "cell_type": "code",
   "execution_count": 90,
   "metadata": {},
   "outputs": [],
   "source": [
    "class train_iterativeMethod:\n",
    "    \"\"\"A class to obtain the optimal weights\"\"\"\n",
    "    def __init__(self, net, problem_instances_list, batch_size=1, learning_rate = 1e-6,max_iters = 1000, tol = 1e-6, k_range = [1, 20]):\n",
    "        \n",
    "        self.net = net\n",
    "        self.learning_rate = learning_rate\n",
    "        optim = torch.optim.SGD(net.parameters(), learning_rate)\n",
    "\n",
    "        self.batch_size = batch_size\n",
    "        self.max_iters = max_iters\n",
    "        self.tol = tol\n",
    "        self.k_range = k_range\n",
    "        \n",
    "        self.problem_instances_list = problem_instances_list\n",
    "        self.nb_problem_instances = len(problem_instances_list)\n",
    "        \n",
    "    def _optimization_step_(self):\n",
    "            net.zero_grad()\n",
    "            loss = torch.zeros(1)\n",
    "\n",
    "            u_list = [None] * self.batch_size\n",
    "\n",
    "            # Sample problem_instances\n",
    "            problem_idx = np.random.choice(np.arange(self.nb_problem_instances), self.batch_size, replace = 0)\n",
    "\n",
    "            for i in range(self.batch_size):\n",
    "\n",
    "                idx = problem_idx[i]\n",
    "                problem_instance = self.problem_instances_list[idx]\n",
    "\n",
    "                B_idx = problem_instance.B_idx\n",
    "                B = problem_instance.B\n",
    "                f = problem_instance.forcing_term\n",
    "                initial_u = problem_instance.initial_u\n",
    "                k = problem_instance.k\n",
    "                ground_truth = problem_instance.ground_truth\n",
    "\n",
    "                # Compute the solution with the updated weights      \n",
    "                u_list[i] = im.H_method(net, B_idx, B, f, initial_u, k)\n",
    "\n",
    "                # Define the loss, CHECK if it is correct wrt paper\n",
    "                loss = loss + F.mse_loss(ground_truth, u_list[i])\n",
    "                \n",
    "                # Backpropagation\n",
    "                loss.backward(retain_graph =  False)\n",
    "\n",
    "                # SGD step\n",
    "                optim.step()\n",
    "                \n",
    "                \"\"\" TODO: add check on spectral radius\"\"\"\n",
    "                \n",
    "    def _optimal_weights_(self):\n",
    "        losses = []\n",
    "        prev_total_loss = 0 \n",
    "        #print(prev_total_loss)\n",
    "        for n_iter in range(self.max_iters):\n",
    "            \n",
    "            self._optimization_step_()\n",
    "\n",
    "            total_loss = compute_loss(net, problem_instances_list)\n",
    "\n",
    "            # Exit optimization \n",
    "            if total_loss.item() <= self.tol or total_loss.item() - prev_total_loss < self.tol:\n",
    "                break\n",
    "\n",
    "\n",
    "            # Store lossses for visualization\n",
    "            losses.append(total_loss.item())\n",
    "            prev_total_loss = total_loss.item()\n",
    "            \n",
    "        return losses\n",
    "\n",
    "    \n",
    "   \n",
    "        "
   ]
  },
  {
   "cell_type": "code",
   "execution_count": 91,
   "metadata": {},
   "outputs": [],
   "source": [
    "# Initialize list of problem instances\n",
    "nb_problem_instances = 50\n",
    "problem_instances_list = [None] * nb_problem_instances\n",
    "\n",
    "# Define train dimension\n",
    "N = 16\n",
    "\n",
    "# Initialize f: we use a zero forcing term for training\n",
    "f = torch.zeros(1, 1, N, N)\n",
    "\n",
    "# For each problem instance define number of iteration to perform to obtain the solution\n",
    "k = np.random.randint(1, 20, nb_problem_instances)\n",
    "\n",
    "for i in range(nb_problem_instances):\n",
    "     problem_instances_list[i] = dirichlet_problem(k = k[i])"
   ]
  },
  {
   "cell_type": "markdown",
   "metadata": {},
   "source": [
    "Train using the class"
   ]
  },
  {
   "cell_type": "code",
   "execution_count": 92,
   "metadata": {},
   "outputs": [],
   "source": [
    "train_net = train_iterativeMethod(net, problem_instances_list, max_iters=10)\n",
    "losses = train_net._optimal_weights_()"
   ]
  },
  {
   "cell_type": "code",
   "execution_count": 93,
   "metadata": {},
   "outputs": [
    {
     "name": "stdout",
     "output_type": "stream",
     "text": [
      "0.weight Parameter containing:\n",
      "tensor([[[[-0.2886,  0.3152, -0.2505],\n",
      "          [ 0.1425, -0.1972, -0.2319],\n",
      "          [-0.2010, -0.0182,  0.0260]]]], requires_grad=True)\n",
      "1.weight Parameter containing:\n",
      "tensor([[[[ 0.1146, -0.2359,  0.1526],\n",
      "          [-0.0067,  0.2629, -0.0881],\n",
      "          [-0.1793, -0.2251, -0.0236]]]], requires_grad=True)\n",
      "2.weight Parameter containing:\n",
      "tensor([[[[-0.1289,  0.1858, -0.1396],\n",
      "          [-0.0828,  0.1516,  0.0014],\n",
      "          [ 0.0312, -0.1500, -0.0645]]]], requires_grad=True)\n"
     ]
    }
   ],
   "source": [
    "for name, param in train_net.net.named_parameters():\n",
    "    print(name, param)"
   ]
  },
  {
   "cell_type": "code",
   "execution_count": 94,
   "metadata": {},
   "outputs": [
    {
     "name": "stdout",
     "output_type": "stream",
     "text": [
      "final loss is 1699.8089599609375\n"
     ]
    },
    {
     "data": {
      "image/png": "[encoded data removed]",
      "text/plain": [
       "<Figure size 432x288 with 1 Axes>"
      ]
     },
     "metadata": {
      "needs_background": "light"
     },
     "output_type": "display_data"
    }
   ],
   "source": [
    "color_map = plt.get_cmap('cubehelix')\n",
    "colors = color_map(np.linspace(0.1, 1, 10))\n",
    "\n",
    "losses_fig = plt.figure()\n",
    "n_iter = np.arange(np.shape(losses)[0])\n",
    "plt.plot(n_iter[:], losses[:], color = colors[0], linewidth = 1, linestyle = \"-\", marker = \"\",  label='Loss')\n",
    "\n",
    "plt.legend(bbox_to_anchor=(0., -0.3), loc=3, borderaxespad=0.)\n",
    "plt.xlabel('n iteration', fontsize=14)\n",
    "plt.ylabel('Loss', fontsize=14)\n",
    "plt.title('Loss')\n",
    "plt.grid(True, which = \"both\", linewidth = 0.5,  linestyle = \"--\")\n",
    "\n",
    "print(\"final loss is {0}\".format(losses[-1]))\n",
    "#losses_fig.savefig('gridSearch.eps', bbox_inches='tight')"
   ]
  },
  {
   "cell_type": "markdown",
   "metadata": {},
   "source": [
    "Train without using the class"
   ]
  },
  {
   "cell_type": "code",
   "execution_count": 95,
   "metadata": {},
   "outputs": [
    {
     "name": "stdout",
     "output_type": "stream",
     "text": [
      "0.weight Parameter containing:\n",
      "tensor([[[[-0.2886,  0.3152, -0.2505],\n",
      "          [ 0.1426, -0.1972, -0.2319],\n",
      "          [-0.2010, -0.0182,  0.0260]]]], requires_grad=True)\n",
      "1.weight Parameter containing:\n",
      "tensor([[[[ 0.1146, -0.2359,  0.1526],\n",
      "          [-0.0067,  0.2630, -0.0881],\n",
      "          [-0.1793, -0.2251, -0.0236]]]], requires_grad=True)\n",
      "2.weight Parameter containing:\n",
      "tensor([[[[-0.1289,  0.1859, -0.1396],\n",
      "          [-0.0827,  0.1516,  0.0015],\n",
      "          [ 0.0313, -0.1500, -0.0644]]]], requires_grad=True)\n"
     ]
    }
   ],
   "source": [
    "# Solve the same problem, at each iteration the only thing changing are the weights, which are optimized\n",
    "# TODO why though? wouldn't it make much more sense to train it more times on different problems? isn't this the same as oversampling each training sample?\n",
    "\n",
    "for _ in range(100):\n",
    "    net.zero_grad()\n",
    "    loss = torch.zeros(1)\n",
    "    prev_total_loss = 0\n",
    "\n",
    "    batch_size = 1\n",
    "    u_list = [None] * batch_size\n",
    "    \n",
    "    # Sample problem_instances\n",
    "    problem_idx = np.random.choice(np.arange(nb_problem_instances), batch_size, replace = 0)\n",
    "\n",
    "    for i in range(batch_size):\n",
    "\n",
    "        idx = problem_idx[i]\n",
    "        problem_instance = problem_instances_list[idx]\n",
    "        \n",
    "        B_idx = problem_instance.B_idx\n",
    "        B = problem_instance.B\n",
    "        f = problem_instance.forcing_term\n",
    "        initial_u = problem_instance.initial_u\n",
    "        k = problem_instance.k\n",
    "        ground_truth = problem_instance.ground_truth\n",
    "        \n",
    "        # Compute the solution with the updated weights      \n",
    "        u_list[i] = im.H_method(net, B_idx, B, f, initial_u, k)\n",
    "\n",
    "        # Define the loss, CHECK if it is correct wrt paper\n",
    "        loss = loss + F.mse_loss(ground_truth, u_list[i])\n",
    "    \n",
    "   \n",
    "    \"\"\" TODO \n",
    "    spectral_radius = TODO\n",
    "    regularization = 1e10\n",
    "    if spectral_radius > 1\n",
    "       loss += regularization\n",
    "    \"\"\"\n",
    "\n",
    "    # Backpropagation\n",
    "    loss.backward(retain_graph =  False)\n",
    "\n",
    "    # SGD step\n",
    "    optim.step()\n",
    "    \n",
    "    total_loss = compute_loss(net, problem_instances_list)\n",
    "    \n",
    "    # Exit optimization \n",
    "    tol = 1e-2\n",
    "    if total_loss.item() <= tol or total_loss.item() - prev_total_loss < tol:\n",
    "        break\n",
    "\n",
    "\n",
    "    # Store lossses for visualization\n",
    "    losses.append(total_loss.item())\n",
    "    prev_loss = total_loss.item()\n",
    "\n",
    "for name, param in net.named_parameters():\n",
    "    print(name, param)"
   ]
  },
  {
   "cell_type": "markdown",
   "metadata": {},
   "source": [
    "Plot the losses"
   ]
  },
  {
   "cell_type": "code",
   "execution_count": 96,
   "metadata": {},
   "outputs": [
    {
     "name": "stdout",
     "output_type": "stream",
     "text": [
      "[1699.8089599609375, 304.0516052246094, 304.0514831542969, 304.05145263671875, 304.0513916015625, 304.0512390136719, 304.0508728027344, 304.0507507324219, 304.0505676269531, 304.05047607421875, 304.0503845214844, 304.05029296875, 304.05023193359375, 304.0501403808594, 304.0500793457031, 304.0499572753906, 304.0498352050781, 304.0496520996094, 304.049560546875, 304.0495300292969, 304.0492248535156, 304.0491638183594, 304.0490417480469, 304.0489807128906, 304.0489501953125, 304.04876708984375, 304.0487365722656, 304.0487060546875, 304.0486755371094, 304.04840087890625, 304.04833984375, 304.0483093261719, 304.04827880859375, 304.0482177734375, 304.0479736328125, 304.0478210449219, 304.04779052734375, 304.0476989746094, 304.0476379394531, 304.04754638671875, 304.04742431640625, 304.04736328125, 304.04718017578125, 304.04718017578125, 304.0471496582031, 304.04705810546875, 304.0468444824219, 304.0468444824219, 304.0467834472656, 304.0467224121094, 304.0466613769531, 304.0465087890625, 304.04644775390625, 304.0463562011719, 304.046142578125, 304.0460510253906, 304.0456848144531, 304.0455627441406, 304.0452575683594, 304.0452575683594, 304.0450744628906, 304.0450744628906, 304.0447692871094, 304.04473876953125, 304.0445251464844, 304.0445251464844, 304.04437255859375, 304.0442199707031, 304.0439758300781, 304.0437927246094, 304.0436706542969, 304.0433044433594, 304.04327392578125, 304.04315185546875, 304.0428771972656, 304.0426330566406, 304.0425109863281, 304.04241943359375, 304.04241943359375, 304.0423583984375, 304.0421142578125, 304.0419921875, 304.041748046875, 304.0416259765625, 304.04150390625, 304.0413818359375, 304.04132080078125, 304.0411376953125, 304.04095458984375, 304.0408935546875, 304.040771484375, 304.0406494140625, 304.04034423828125, 304.0402526855469, 304.0400390625, 304.0400085449219, 304.0399475097656, 304.039794921875, 304.03973388671875, 304.0396423339844, 304.0395202636719]\n"
     ]
    }
   ],
   "source": [
    "print(losses)"
   ]
  },
  {
   "cell_type": "code",
   "execution_count": 97,
   "metadata": {
    "ExecuteTime": {
     "end_time": "2018-12-09T22:20:56.886744Z",
     "start_time": "2018-12-09T22:20:56.608908Z"
    }
   },
   "outputs": [
    {
     "name": "stdout",
     "output_type": "stream",
     "text": [
      "final loss is 304.0395202636719\n"
     ]
    },
    {
     "data": {
      "image/png": "[encoded data removed]",
      "text/plain": [
       "<Figure size 432x288 with 1 Axes>"
      ]
     },
     "metadata": {
      "needs_background": "light"
     },
     "output_type": "display_data"
    }
   ],
   "source": [
    "color_map = plt.get_cmap('cubehelix')\n",
    "colors = color_map(np.linspace(0.1, 1, 10))\n",
    "\n",
    "losses_fig = plt.figure()\n",
    "n_iter = np.arange(np.shape(losses)[0])\n",
    "plt.plot(n_iter[:], losses[:], color = colors[0], linewidth = 1, linestyle = \"-\", marker = \"\",  label='Loss')\n",
    "\n",
    "plt.legend(bbox_to_anchor=(0., -0.3), loc=3, borderaxespad=0.)\n",
    "plt.xlabel('n iteration', fontsize=14)\n",
    "plt.ylabel('Loss', fontsize=14)\n",
    "plt.title('Loss')\n",
    "plt.grid(True, which = \"both\", linewidth = 0.5,  linestyle = \"--\")\n",
    "\n",
    "print(\"final loss is {0}\".format(losses[-1]))\n",
    "#losses_fig.savefig('gridSearch.eps', bbox_inches='tight')"
   ]
  },
  {
   "cell_type": "markdown",
   "metadata": {},
   "source": [
    "Test on a bigger grid"
   ]
  },
  {
   "cell_type": "code",
   "execution_count": 125,
   "metadata": {
    "ExecuteTime": {
     "end_time": "2018-12-09T22:20:59.829589Z",
     "start_time": "2018-12-09T22:20:56.889100Z"
    }
   },
   "outputs": [],
   "source": [
    "N = 50\n",
    "nb_iters = 2000\n",
    "\n",
    "B_idx, B = geometries.square_geometry(N)\n",
    "\n",
    "# Set forcing term\n",
    "f = torch.ones(1,1,N,N)*1.0\n",
    "\n",
    "# Obtain solutions\n",
    "gtt = im.jacobi_method(B_idx, B, f, torch.ones(1,1,N,N), k = 10000)\n",
    "output = im.H_method(net, B_idx, B, f, torch.ones(1,1,N,N), k = nb_iters)\n",
    "jacoby_pure = im.jacobi_method(B_idx, B, f, torch.ones(1,1,N,N), k = nb_iters)"
   ]
  },
  {
   "cell_type": "code",
   "execution_count": 113,
   "metadata": {
    "ExecuteTime": {
     "end_time": "2018-12-09T22:21:52.456154Z",
     "start_time": "2018-12-09T22:21:51.366664Z"
    }
   },
   "outputs": [],
   "source": [
    "loss_to_be_achieved = 1e-3\n",
    "\n",
    "u_0 = torch.ones(1, 1, N, N)"
   ]
  },
  {
   "cell_type": "code",
   "execution_count": 114,
   "metadata": {
    "ExecuteTime": {
     "end_time": "2018-12-09T22:25:15.309599Z",
     "start_time": "2018-12-09T22:25:08.013755Z"
    }
   },
   "outputs": [
    {
     "name": "stdout",
     "output_type": "stream",
     "text": [
      "1.23 s ± 4.18 ms per loop (mean ± std. dev. of 7 runs, 1 loop each)\n"
     ]
    }
   ],
   "source": [
    "%%timeit\n",
    "\n",
    "u_k_old = im.jacobi_method(B_idx, B, f, u_0, k = 1)\n",
    "loss_of_old = F.mse_loss(gtt, u_k_old)\n",
    "k_count_old = 1\n",
    "\n",
    "# old method \n",
    "while loss_of_old >= loss_to_be_achieved:\n",
    "    u_k_old = im.jacobi_method(B_idx, B, f, u_k_old, k = 1)\n",
    "    loss_of_old = F.mse_loss(gtt, u_k_old)\n",
    "    k_count_old += 1"
   ]
  },
  {
   "cell_type": "code",
   "execution_count": 101,
   "metadata": {
    "ExecuteTime": {
     "end_time": "2018-12-09T22:25:26.030157Z",
     "start_time": "2018-12-09T22:25:15.312259Z"
    }
   },
   "outputs": [
    {
     "name": "stdout",
     "output_type": "stream",
     "text": [
      "4.94 s ± 736 ms per loop (mean ± std. dev. of 7 runs, 1 loop each)\n"
     ]
    }
   ],
   "source": [
    "%%timeit\n",
    "\n",
    "u_k_new = im.H_method(net, B_idx, B, f, u_0, k=1)\n",
    "\n",
    "loss_new = F.mse_loss(gtt, u_k_new)\n",
    "k_count_new = 1\n",
    "\n",
    "\n",
    "# new method\n",
    "\n",
    "while loss_new >= loss_to_be_achieved:\n",
    "    u_k_new = im.H_method(net, B_idx, B, f, u_k_new, k=1)\n",
    "    loss_new = F.mse_loss(gtt, u_k_new)\n",
    "    k_count_new += 1"
   ]
  },
  {
   "cell_type": "code",
   "execution_count": 102,
   "metadata": {
    "ExecuteTime": {
     "end_time": "2018-12-09T22:25:26.037555Z",
     "start_time": "2018-12-09T22:25:26.033317Z"
    }
   },
   "outputs": [
    {
     "name": "stdout",
     "output_type": "stream",
     "text": [
      "needed 1 iterations (compared to 1), ratio: 1.0\n"
     ]
    }
   ],
   "source": [
    "print(\"needed {0} iterations (compared to {1}), ratio: {2}\".format(k_count_old, k_count_new, k_count_old/k_count_new))"
   ]
  },
  {
   "cell_type": "code",
   "execution_count": 118,
   "metadata": {
    "ExecuteTime": {
     "end_time": "2018-12-09T22:21:00.166239Z",
     "start_time": "2018-12-09T22:20:56.714Z"
    }
   },
   "outputs": [
    {
     "name": "stdout",
     "output_type": "stream",
     "text": [
      "the loss of the new method is 52.146270751953125, compared to the pure-jacoby one: 40.43793487548828. computed with 2000 iterations\n"
     ]
    },
    {
     "data": {
      "image/png": "[encoded data removed]",
      "text/plain": [
       "<Figure size 432x288 with 3 Axes>"
      ]
     },
     "metadata": {
      "needs_background": "light"
     },
     "output_type": "display_data"
    }
   ],
   "source": [
    "print(\"the loss of the new method is {0}, compared to the pure-jacoby one: {1}. computed with {2} iterations\".format(F.mse_loss(gtt, output), F.mse_loss(gtt, jacoby_pure), nb_iters))\n",
    "\n",
    "Z_gtt = gtt.view(N,N).numpy() \n",
    "Z_output = output.detach().view(N, N).numpy()\n",
    "\n",
    "fig, axes = plt.subplots(nrows = 1, ncols = 2)\n",
    "\n",
    "fig.suptitle(\"Comparison\")\n",
    "\n",
    "im_gtt = axes[0].imshow(Z_gtt)\n",
    "axes[0].set_title(\"Ground truth solution\")\n",
    "\n",
    "im_output = axes[1].imshow(Z_output)\n",
    "axes[1].set_title(\"H method solution\")\n",
    "\n",
    "fig.colorbar(im_gtt)\n",
    "fig.tight_layout()\n",
    "\n",
    "plt.show()"
   ]
  },
  {
   "cell_type": "code",
   "execution_count": 121,
   "metadata": {
    "ExecuteTime": {
     "end_time": "2018-12-09T22:21:00.167481Z",
     "start_time": "2018-12-09T22:20:58.506Z"
    }
   },
   "outputs": [
    {
     "data": {
      "text/plain": [
       "5.732326"
      ]
     },
     "execution_count": 121,
     "metadata": {},
     "output_type": "execute_result"
    }
   ],
   "source": [
    "np.mean(Z_gtt - Z_output)"
   ]
  },
  {
   "cell_type": "markdown",
   "metadata": {},
   "source": [
    "Test on L-shape domain"
   ]
  },
  {
   "cell_type": "code",
   "execution_count": 132,
   "metadata": {},
   "outputs": [],
   "source": [
    "B_idx,B = geometries.l_shaped_geometry(N)"
   ]
  },
  {
   "cell_type": "code",
   "execution_count": 134,
   "metadata": {
    "ExecuteTime": {
     "end_time": "2018-12-09T21:15:00.596811Z",
     "start_time": "2018-12-09T21:14:57.877127Z"
    }
   },
   "outputs": [],
   "source": [
    "B_idx, B = geometries.l_shaped_geometry(N)\n",
    "\n",
    "# Set forcing term\n",
    "f = torch.ones(1,1,N,N)*1.0\n",
    "\n",
    "# Obtain solutions\n",
    "gtt = im.jacobi_method(B_idx, B, f, torch.ones(1,1,N,N), k = 10000)\n",
    "output = im.H_method(net, B_idx, B, f, torch.ones(1,1,N,N), k = 2000)"
   ]
  },
  {
   "cell_type": "code",
   "execution_count": 137,
   "metadata": {
    "ExecuteTime": {
     "end_time": "2018-12-09T21:15:03.050023Z",
     "start_time": "2018-12-09T21:15:02.642928Z"
    }
   },
   "outputs": [
    {
     "data": {
      "image/png": "[encoded data removed]",
      "text/plain": [
       "<Figure size 432x288 with 3 Axes>"
      ]
     },
     "metadata": {
      "needs_background": "light"
     },
     "output_type": "display_data"
    }
   ],
   "source": [
    "Z_gtt = gtt.view(N,N).numpy() \n",
    "Z_output = output.detach().view(N, N).numpy()\n",
    "\n",
    "fig, axes = plt.subplots(nrows = 1, ncols = 2)\n",
    "\n",
    "fig.suptitle(\"Comparison\")\n",
    "\n",
    "im_gtt = axes[0].imshow(Z_gtt)\n",
    "axes[0].set_title(\"Ground truth solution\")\n",
    "\n",
    "im_output = axes[1].imshow(Z_output)\n",
    "axes[1].set_title(\"H method solution\")\n",
    "\n",
    "fig.colorbar(im_gtt)\n",
    "fig.tight_layout()\n",
    "\n",
    "plt.show()"
   ]
  }
 ],
 "metadata": {
  "kernelspec": {
   "display_name": "Python 3",
   "language": "python",
   "name": "python3"
  },
  "language_info": {
   "codemirror_mode": {
    "name": "ipython",
    "version": 3
   },
   "file_extension": ".py",
   "mimetype": "text/x-python",
   "name": "python",
   "nbconvert_exporter": "python",
   "pygments_lexer": "ipython3",
   "version": "3.7.1"
  },
  "toc": {
   "base_numbering": 1,
   "nav_menu": {},
   "number_sections": true,
   "sideBar": true,
   "skip_h1_title": false,
   "title_cell": "Table of Contents",
   "title_sidebar": "Contents",
   "toc_cell": false,
   "toc_position": {},
   "toc_section_display": true,
   "toc_window_display": false
  }
 },
 "nbformat": 4,
 "nbformat_minor": 2
}

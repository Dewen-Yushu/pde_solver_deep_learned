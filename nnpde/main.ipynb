{
 "cells": [
  {
   "cell_type": "markdown",
   "metadata": {
    "ExecuteTime": {
     "end_time": "2018-12-18T11:12:37.978677Z",
     "start_time": "2018-12-18T11:12:37.976016Z"
    }
   },
   "source": [
    "# Imports"
   ]
  },
  {
   "cell_type": "code",
   "execution_count": 1,
   "metadata": {
    "ExecuteTime": {
     "end_time": "2018-12-20T07:10:29.559161Z",
     "start_time": "2018-12-20T07:10:29.550174Z"
    },
    "autoscroll": false,
    "ein.hycell": false,
    "ein.tags": "worksheet-0",
    "slideshow": {
     "slide_type": "-"
    }
   },
   "outputs": [
    {
     "data": {
      "text/html": [
       "<style>.container { width:95% !important; }</style>"
      ],
      "text/plain": [
       "<IPython.core.display.HTML object>"
      ]
     },
     "metadata": {},
     "output_type": "display_data"
    }
   ],
   "source": [
    "def fix_layout(width:int=95):\n",
    "    from IPython.core.display import display, HTML\n",
    "    display(HTML('<style>.container { width:' + str(width) + '% !important; }</style>'))\n",
    "    \n",
    "fix_layout()"
   ]
  },
  {
   "cell_type": "code",
   "execution_count": 2,
   "metadata": {
    "ExecuteTime": {
     "end_time": "2018-12-20T07:10:30.733979Z",
     "start_time": "2018-12-20T07:10:29.707290Z"
    },
    "autoscroll": false,
    "ein.hycell": false,
    "ein.tags": "worksheet-0",
    "slideshow": {
     "slide_type": "-"
    }
   },
   "outputs": [
    {
     "name": "stderr",
     "output_type": "stream",
     "text": [
      "/home/francesco/miniconda3/lib/python3.6/site-packages/matplotlib/__init__.py:886: MatplotlibDeprecationWarning: \n",
      "examples.directory is deprecated; in the future, examples will be found relative to the 'datapath' directory.\n",
      "  \"found relative to the 'datapath' directory.\".format(key))\n"
     ]
    }
   ],
   "source": [
    "from importlib import reload\n",
    "\n",
    "import numpy as np\n",
    "import matplotlib.pyplot as plt\n",
    "import torch\n",
    "import torch.nn as nn\n",
    "import torch.nn.functional as F\n",
    "\n",
    "import nnpde.iterative_methods as im\n",
    "from nnpde import geometries, helpers\n",
    "from nnpde.utils.logs import enable_logging, logging \n",
    "from nnpde.problems import DirichletProblem \n",
    "from nnpde.utils import plots\n",
    "import nnpde.model as M "
   ]
  },
  {
   "cell_type": "code",
   "execution_count": 3,
   "metadata": {
    "ExecuteTime": {
     "end_time": "2018-12-20T07:10:30.741794Z",
     "start_time": "2018-12-20T07:10:30.735364Z"
    },
    "autoscroll": false,
    "ein.hycell": false,
    "ein.tags": "worksheet-0",
    "slideshow": {
     "slide_type": "-"
    }
   },
   "outputs": [
    {
     "name": "stderr",
     "output_type": "stream",
     "text": [
      "2018-12-20 20:10:19,535 - root - INFO - logs - logging enabled for level: 10\n"
     ]
    }
   ],
   "source": [
    "enable_logging(10)\n",
    "\n",
    "seed = 9 # Does not give problems\n",
    "torch.manual_seed(seed)\n",
    "np.random.seed(seed)"
   ]
  },
  {
   "cell_type": "markdown",
   "metadata": {},
   "source": [
    "# Setup"
   ]
  },
  {
   "cell_type": "code",
   "execution_count": 4,
   "metadata": {
    "ExecuteTime": {
     "end_time": "2018-12-20T07:10:40.396877Z",
     "start_time": "2018-12-20T07:10:30.961260Z"
    },
    "autoscroll": false,
    "ein.hycell": false,
    "ein.tags": "worksheet-0",
    "slideshow": {
     "slide_type": "-"
    }
   },
   "outputs": [],
   "source": [
    "# Define train dimension: NxN\n",
    "N = 16\n",
    "\n",
    "# For each problem instance define number of iteration to perform to obtain the solution\n",
    "nb_problem_instances = 50\n",
    "problem_instances = [DirichletProblem(k=k) for k in np.random.randint(1, 20, nb_problem_instances)]"
   ]
  },
  {
   "cell_type": "markdown",
   "metadata": {},
   "source": [
    "# Hyper-parameter search learning rate"
   ]
  },
  {
   "cell_type": "code",
   "execution_count": 5,
   "metadata": {
    "ExecuteTime": {
     "end_time": "2018-12-19T23:45:11.499480Z",
     "start_time": "2018-12-19T23:45:11.489182Z"
    }
   },
   "outputs": [],
   "source": [
    "from itertools import product\n",
    "import logging\n",
    "\n",
    "def grid_search(mdl, base_parameters, grid_search_parameters, problem_instances):\n",
    "    \"\"\"\n",
    "    Parameters\n",
    "    ==========\n",
    "    \n",
    "        mdl                     Model Class, \n",
    "                                expected interface: `mdl(parameters).fit(problem_instances)`\n",
    "        base_parameters         dictonary of parameters which will applied for all models\n",
    "        grid_search_parameters  dictonary of <parameter>: [<value for parameter key>]\n",
    "        problem_instances       list of problems to train on\n",
    "    \"\"\"\n",
    "    # the `list` is necessary if you want to print the below message\n",
    "    #parameters = list(product(*grid_search_parameters.values()))\n",
    "    #logging.debug('testing {} models! make sure that you have the power to run this!'.format(len(parameters)))\n",
    "    # `product` is equivalent to a nested for loop\n",
    "    parameters = product(*grid_search_parameters.values())\n",
    "\n",
    "    # the dict(zip(...)) part is necessary to ensure correct assignment\n",
    "    res = [mdl(**{**base_parameters, **dict(zip(grid_search_parameters.keys(), p))}).fit(problem_instances) for p in parameters]\n",
    "    return res"
   ]
  },
  {
   "cell_type": "code",
   "execution_count": 6,
   "metadata": {
    "ExecuteTime": {
     "end_time": "2018-12-19T23:46:22.067894Z",
     "start_time": "2018-12-19T23:46:22.060377Z"
    }
   },
   "outputs": [],
   "source": [
    "def grid_search_wrapper(base_parameters, grid_search_parameters):\n",
    "    return grid_search(mdl=M.JacobyWithConv,\n",
    "                       base_parameters=base_parameters,\n",
    "                       grid_search_parameters=grid_search_parameters,\n",
    "                       problem_instances=problem_instances)"
   ]
  },
  {
   "cell_type": "code",
   "execution_count": 7,
   "metadata": {
    "ExecuteTime": {
     "end_time": "2018-12-20T07:10:40.408585Z",
     "start_time": "2018-12-20T07:10:40.398422Z"
    }
   },
   "outputs": [],
   "source": [
    "# Net parameters\n",
    "base_parameters = {\n",
    "    \"nb_layers\": 3,\n",
    "    \"max_epochs\": 200,\n",
    "    \"batch_size\": 10,\n",
    "    \"stable_count\": 10,\n",
    "    \"random_seed\": 9,\n",
    "}\n",
    "\n",
    "# SGD\n",
    "grid_parameters = {\n",
    "    \"learning_rate\": np.logspace(start=-6, stop=-4, num=7), #num=7 is good since it contains 1e-5\n",
    "}"
   ]
  },
  {
   "cell_type": "code",
   "execution_count": null,
   "metadata": {
    "ExecuteTime": {
     "end_time": "2018-12-19T23:54:27.150000Z",
     "start_time": "2018-12-19T23:51:14.436602Z"
    }
   },
   "outputs": [],
   "source": [
    "reload(M)\n",
    "\n",
    "# Took 3m 13s on a Intel(R) Core(TM) i7-6700K CPU @ 4.00GHz\n",
    "\n",
    "hyper_models = grid_search_wrapper(base_parameters, grid_parameters) \\\n",
    "    + grid_search_wrapper(base_parameters, {\"optimizer\": [\"Adadelta\"]})"
   ]
  },
  {
   "cell_type": "code",
   "execution_count": null,
   "metadata": {
    "ExecuteTime": {
     "end_time": "2018-12-19T23:54:27.609410Z",
     "start_time": "2018-12-19T23:54:27.151785Z"
    }
   },
   "outputs": [],
   "source": [
    "# Colors for plotting\n",
    "color_map = plt.get_cmap('cubehelix')\n",
    "colors = color_map(np.linspace(0.1, 1, 10))\n",
    "\n",
    "# Initilize figure\n",
    "hyper_fig = plt.figure()\n",
    "\n",
    "# Plot SGD\n",
    "i = 0\n",
    "for model in hyper_models[:-1]:  \n",
    "    n_epoch = np.arange(np.shape(model.losses)[0])\n",
    "    plt.semilogy(n_epoch, \n",
    "                 model.losses, \n",
    "                 color=colors[i], \n",
    "                 linewidth=1, \n",
    "                 linestyle=\"-\", \n",
    "                 marker=(i+2, 0, 0), \n",
    "                 markevery=10, \n",
    "                 label = f'$\\gamma= {model.learning_rate:.2e} $')\n",
    "    i += 1\n",
    "\n",
    "# Plot Adadelta\n",
    "n_epoch = np.arange(np.shape(hyper_models[-1].losses)[0])\n",
    "plt.semilogy(n_epoch, hyper_models[-1].losses, color=colors[i], linewidth=1, linestyle=\"-\", marker=(i+2, 0, 0), markevery=10,label='Adadelta')\n",
    "\n",
    "# Additional settings\n",
    "plt.legend(bbox_to_anchor=(1.05, 0.31), loc=3, borderaxespad=0.)\n",
    "plt.xlabel('n epochs', fontsize=14)\n",
    "plt.ylabel('Total loss [-]', fontsize=14)\n",
    "#plt.xlim([0, base_parameters['max_epochs']])\n",
    "#plt.ylim([0, 200])\n",
    "plt.title('Loss evolution for different learning rates $\\gamma$ \\n $K=3$, $|\\mathcal{D}|=50$, $|\\mathcal{B}|=10$, max epochs=200')\n",
    "plt.grid(True, which = \"both\", linewidth = 0.5,  linestyle = \"--\")\n",
    "\n",
    "hyper_fig.savefig('../report/figs/hyper.eps', bbox_inches='tight')\n",
    "plt.draw()\n",
    "plt.show()"
   ]
  },
  {
   "cell_type": "markdown",
   "metadata": {},
   "source": [
    "# Train model using K = 1,2,3,4,5"
   ]
  },
  {
   "cell_type": "code",
   "execution_count": 8,
   "metadata": {
    "ExecuteTime": {
     "end_time": "2018-12-20T06:55:14.360643Z",
     "start_time": "2018-12-20T06:55:14.296094Z"
    }
   },
   "outputs": [
    {
     "data": {
      "text/plain": [
       "{'nb_layers': 3,\n",
       " 'max_epochs': 200,\n",
       " 'batch_size': 10,\n",
       " 'stable_count': 10,\n",
       " 'random_seed': 9}"
      ]
     },
     "execution_count": 8,
     "metadata": {},
     "output_type": "execute_result"
    }
   ],
   "source": [
    "base_parameters"
   ]
  },
  {
   "cell_type": "code",
   "execution_count": 11,
   "metadata": {
    "ExecuteTime": {
     "end_time": "2018-12-20T00:05:07.260050Z",
     "start_time": "2018-12-20T00:04:04.273443Z"
    }
   },
   "outputs": [
    {
     "name": "stderr",
     "output_type": "stream",
     "text": [
      "2018-12-20 20:28:56,548 - root - INFO - model - Using optimizer Adadelta\n",
      "2018-12-20 20:28:56,725 - root - INFO - model - Training with max_epochs: 500, tol: 1e-06. Initial loss is 16156.76171875\n",
      "2018-12-20 20:28:57,022 - root - INFO - model - iter 0 with total loss 4020.325927734375\n",
      "2018-12-20 20:29:28,979 - root - INFO - model - iter 100 with total loss 330.5577392578125\n",
      "2018-12-20 20:30:00,568 - root - INFO - model - iter 200 with total loss 330.51593017578125\n",
      "2018-12-20 20:30:28,184 - root - INFO - model - iter 300 with total loss 330.52191162109375\n",
      "2018-12-20 20:30:59,289 - root - INFO - model - iter 400 with total loss 330.525146484375\n",
      "2018-12-20 20:31:37,099 - root - INFO - model - Convergence reached in 499 epochs with total loss 330.5162353515625\n",
      "2018-12-20 20:31:37,101 - root - INFO - model - Using optimizer Adadelta\n",
      "2018-12-20 20:31:37,278 - root - INFO - model - Training with max_epochs: 500, tol: 1e-06. Initial loss is 1111510.625\n",
      "2018-12-20 20:31:37,807 - root - INFO - model - iter 0 with total loss 57557.74609375\n",
      "2018-12-20 20:32:22,818 - root - INFO - model - iter 100 with total loss 160.8571319580078\n",
      "2018-12-20 20:33:05,654 - root - INFO - model - iter 200 with total loss 146.26608276367188\n",
      "2018-12-20 20:33:50,701 - root - INFO - model - iter 300 with total loss 145.5672607421875\n",
      "2018-12-20 20:34:30,590 - root - INFO - model - iter 400 with total loss 136.31167602539062\n",
      "2018-12-20 20:35:06,288 - root - INFO - model - Convergence reached in 499 epochs with total loss 134.05599975585938\n",
      "2018-12-20 20:35:06,290 - root - INFO - model - Using optimizer Adadelta\n",
      "2018-12-20 20:35:06,479 - root - INFO - model - Training with max_epochs: 500, tol: 1e-06. Initial loss is 2754.449462890625\n",
      "2018-12-20 20:35:06,913 - root - INFO - model - iter 0 with total loss 1539.9169921875\n",
      "2018-12-20 20:35:44,752 - root - INFO - model - iter 100 with total loss 81.43997192382812\n",
      "2018-12-20 20:36:24,057 - root - INFO - model - iter 200 with total loss 74.87944030761719\n",
      "2018-12-20 20:37:00,639 - root - INFO - model - iter 300 with total loss 73.74588775634766\n",
      "2018-12-20 20:37:36,409 - root - INFO - model - iter 400 with total loss 73.66825103759766\n",
      "2018-12-20 20:38:14,577 - root - INFO - model - Convergence reached in 499 epochs with total loss 73.68553924560547\n",
      "2018-12-20 20:38:14,580 - root - INFO - model - Using optimizer Adadelta\n",
      "2018-12-20 20:38:14,753 - root - INFO - model - Training with max_epochs: 500, tol: 1e-06. Initial loss is 1346.889404296875\n",
      "2018-12-20 20:38:15,240 - root - INFO - model - iter 0 with total loss 1251.7584228515625\n",
      "2018-12-20 20:38:58,279 - root - INFO - model - iter 100 with total loss 60.05453109741211\n",
      "2018-12-20 20:39:40,744 - root - INFO - model - iter 200 with total loss 57.559566497802734\n",
      "2018-12-20 20:40:23,115 - root - INFO - model - iter 300 with total loss 56.826072692871094\n",
      "2018-12-20 20:41:08,863 - root - INFO - model - iter 400 with total loss 56.52799606323242\n",
      "2018-12-20 20:41:55,715 - root - INFO - model - Convergence reached in 499 epochs with total loss 56.87120056152344\n",
      "2018-12-20 20:41:55,717 - root - INFO - model - Using optimizer Adadelta\n",
      "2018-12-20 20:41:55,898 - root - INFO - model - Training with max_epochs: 500, tol: 1e-06. Initial loss is 1254.5662841796875\n",
      "2018-12-20 20:41:56,344 - root - INFO - model - iter 0 with total loss 1213.55517578125\n",
      "2018-12-20 20:42:45,579 - root - INFO - model - iter 100 with total loss 54.51945877075195\n",
      "2018-12-20 20:43:36,626 - root - INFO - model - iter 200 with total loss 51.37683868408203\n",
      "2018-12-20 20:44:26,279 - root - INFO - model - iter 300 with total loss 49.83615493774414\n",
      "2018-12-20 20:45:20,076 - root - INFO - model - iter 400 with total loss 48.633155822753906\n",
      "2018-12-20 20:46:12,316 - root - INFO - model - Convergence reached in 499 epochs with total loss 49.117977142333984\n"
     ]
    }
   ],
   "source": [
    "reload(M)\n",
    "\n",
    "params = {**base_parameters, **{'max_epochs': 1000, 'optimizer': 'Adadelta'}}\n",
    "models = grid_search_wrapper(params, {'nb_layers': range(1, 6)})\n",
    "\n",
    "#models = [M.JacobyWithConv(**{**params, 'nb_layers': nb_layers}).fit(problem_instances) for nb_layers in [1,2,3,4,5]]\n",
    "#models = [M.JacobyWithConv(**{**params, 'nb_layers': nb_layers}).fit(problem_instances) for nb_layers in [1,2,3,4,5]]"
   ]
  },
  {
   "cell_type": "code",
   "execution_count": 18,
   "metadata": {
    "ExecuteTime": {
     "end_time": "2018-12-20T00:06:01.037853Z",
     "start_time": "2018-12-20T00:06:00.693699Z"
    }
   },
   "outputs": [
    {
     "name": "stderr",
     "output_type": "stream",
     "text": [
      "2018-12-20 20:49:14,363 - matplotlib.axes._base - DEBUG - _base - update_title_pos\n",
      "2018-12-20 20:49:14,398 - matplotlib.ticker - DEBUG - ticker - vmin 33.532488305316434 vmax 82060.50019627924\n",
      "2018-12-20 20:49:14,398 - matplotlib.ticker - DEBUG - ticker - ticklocs array([1.e+00, 1.e+01, 1.e+02, 1.e+03, 1.e+04, 1.e+05, 1.e+06])\n",
      "2018-12-20 20:49:14,409 - matplotlib.ticker - DEBUG - ticker - vmin 33.532488305316434 vmax 82060.50019627924\n",
      "2018-12-20 20:49:14,409 - matplotlib.ticker - DEBUG - ticker - ticklocs [2.0, 3.0, 4.0, 5.0, 6.0, 7.0, 8.0, 9.0, 20.0, 30.0, 40.0, 50.0, 60.0, 70.0, 80.0, 90.0, 200.0, 300.0, 400.0, 500.0, 600.0, 700.0, 800.0, 900.0, 2000.0, 3000.0, 4000.0, 5000.0, 6000.0, 7000.0, 8000.0, 9000.0, 20000.0, 30000.0, 40000.0, 50000.0, 60000.0, 70000.0, 80000.0, 90000.0, 200000.0, 300000.0, 400000.0, 500000.0, 600000.0, 700000.0, 800000.0, 900000.0, 2000000.0, 3000000.0, 4000000.0, 5000000.0, 6000000.0, 7000000.0, 8000000.0, 9000000.0]\n",
      "2018-12-20 20:49:14,506 - matplotlib.ticker - DEBUG - ticker - vmin 33.532488305316434 vmax 82060.50019627924\n",
      "2018-12-20 20:49:14,506 - matplotlib.ticker - DEBUG - ticker - ticklocs array([1.e+00, 1.e+01, 1.e+02, 1.e+03, 1.e+04, 1.e+05, 1.e+06])\n",
      "2018-12-20 20:49:14,509 - matplotlib.ticker - DEBUG - ticker - vmin 33.532488305316434 vmax 82060.50019627924\n",
      "2018-12-20 20:49:14,510 - matplotlib.ticker - DEBUG - ticker - ticklocs [2.0, 3.0, 4.0, 5.0, 6.0, 7.0, 8.0, 9.0, 20.0, 30.0, 40.0, 50.0, 60.0, 70.0, 80.0, 90.0, 200.0, 300.0, 400.0, 500.0, 600.0, 700.0, 800.0, 900.0, 2000.0, 3000.0, 4000.0, 5000.0, 6000.0, 7000.0, 8000.0, 9000.0, 20000.0, 30000.0, 40000.0, 50000.0, 60000.0, 70000.0, 80000.0, 90000.0, 200000.0, 300000.0, 400000.0, 500000.0, 600000.0, 700000.0, 800000.0, 900000.0, 2000000.0, 3000000.0, 4000000.0, 5000000.0, 6000000.0, 7000000.0, 8000000.0, 9000000.0]\n"
     ]
    },
    {
     "name": "stdout",
     "output_type": "stream",
     "text": [
      "For K=1 final loss is 330.5162353515625\n",
      "For K=2 final loss is 134.05599975585938\n",
      "For K=3 final loss is 73.68553924560547\n",
      "For K=4 final loss is 56.87120056152344\n",
      "For K=5 final loss is 49.117977142333984\n"
     ]
    },
    {
     "name": "stderr",
     "output_type": "stream",
     "text": [
      "2018-12-20 20:49:14,584 - matplotlib.axes._base - DEBUG - _base - update_title_pos\n",
      "2018-12-20 20:49:14,587 - matplotlib.ticker - DEBUG - ticker - vmin 33.532488305316434 vmax 82060.50019627924\n",
      "2018-12-20 20:49:14,588 - matplotlib.ticker - DEBUG - ticker - ticklocs array([1.e+00, 1.e+01, 1.e+02, 1.e+03, 1.e+04, 1.e+05, 1.e+06])\n",
      "2018-12-20 20:49:14,591 - matplotlib.ticker - DEBUG - ticker - vmin 33.532488305316434 vmax 82060.50019627924\n",
      "2018-12-20 20:49:14,592 - matplotlib.ticker - DEBUG - ticker - ticklocs [2.0, 3.0, 4.0, 5.0, 6.0, 7.0, 8.0, 9.0, 20.0, 30.0, 40.0, 50.0, 60.0, 70.0, 80.0, 90.0, 200.0, 300.0, 400.0, 500.0, 600.0, 700.0, 800.0, 900.0, 2000.0, 3000.0, 4000.0, 5000.0, 6000.0, 7000.0, 8000.0, 9000.0, 20000.0, 30000.0, 40000.0, 50000.0, 60000.0, 70000.0, 80000.0, 90000.0, 200000.0, 300000.0, 400000.0, 500000.0, 600000.0, 700000.0, 800000.0, 900000.0, 2000000.0, 3000000.0, 4000000.0, 5000000.0, 6000000.0, 7000000.0, 8000000.0, 9000000.0]\n",
      "2018-12-20 20:49:14,597 - matplotlib.ticker - DEBUG - ticker - vmin 33.532488305316434 vmax 82060.50019627924\n",
      "2018-12-20 20:49:14,598 - matplotlib.ticker - DEBUG - ticker - ticklocs array([1.e+00, 1.e+01, 1.e+02, 1.e+03, 1.e+04, 1.e+05, 1.e+06])\n",
      "2018-12-20 20:49:14,601 - matplotlib.ticker - DEBUG - ticker - vmin 33.532488305316434 vmax 82060.50019627924\n",
      "2018-12-20 20:49:14,602 - matplotlib.ticker - DEBUG - ticker - ticklocs [2.0, 3.0, 4.0, 5.0, 6.0, 7.0, 8.0, 9.0, 20.0, 30.0, 40.0, 50.0, 60.0, 70.0, 80.0, 90.0, 200.0, 300.0, 400.0, 500.0, 600.0, 700.0, 800.0, 900.0, 2000.0, 3000.0, 4000.0, 5000.0, 6000.0, 7000.0, 8000.0, 9000.0, 20000.0, 30000.0, 40000.0, 50000.0, 60000.0, 70000.0, 80000.0, 90000.0, 200000.0, 300000.0, 400000.0, 500000.0, 600000.0, 700000.0, 800000.0, 900000.0, 2000000.0, 3000000.0, 4000000.0, 5000000.0, 6000000.0, 7000000.0, 8000000.0, 9000000.0]\n",
      "2018-12-20 20:49:14,632 - matplotlib.ticker - DEBUG - ticker - vmin 33.532488305316434 vmax 82060.50019627924\n",
      "2018-12-20 20:49:14,633 - matplotlib.ticker - DEBUG - ticker - ticklocs array([1.e+00, 1.e+01, 1.e+02, 1.e+03, 1.e+04, 1.e+05, 1.e+06])\n",
      "2018-12-20 20:49:14,636 - matplotlib.ticker - DEBUG - ticker - vmin 33.532488305316434 vmax 82060.50019627924\n",
      "2018-12-20 20:49:14,637 - matplotlib.ticker - DEBUG - ticker - ticklocs [2.0, 3.0, 4.0, 5.0, 6.0, 7.0, 8.0, 9.0, 20.0, 30.0, 40.0, 50.0, 60.0, 70.0, 80.0, 90.0, 200.0, 300.0, 400.0, 500.0, 600.0, 700.0, 800.0, 900.0, 2000.0, 3000.0, 4000.0, 5000.0, 6000.0, 7000.0, 8000.0, 9000.0, 20000.0, 30000.0, 40000.0, 50000.0, 60000.0, 70000.0, 80000.0, 90000.0, 200000.0, 300000.0, 400000.0, 500000.0, 600000.0, 700000.0, 800000.0, 900000.0, 2000000.0, 3000000.0, 4000000.0, 5000000.0, 6000000.0, 7000000.0, 8000000.0, 9000000.0]\n",
      "2018-12-20 20:49:14,645 - matplotlib.ticker - DEBUG - ticker - vmin 33.532488305316434 vmax 82060.50019627924\n",
      "2018-12-20 20:49:14,646 - matplotlib.ticker - DEBUG - ticker - ticklocs array([1.e+00, 1.e+01, 1.e+02, 1.e+03, 1.e+04, 1.e+05, 1.e+06])\n",
      "2018-12-20 20:49:14,650 - matplotlib.ticker - DEBUG - ticker - vmin 33.532488305316434 vmax 82060.50019627924\n",
      "2018-12-20 20:49:14,651 - matplotlib.ticker - DEBUG - ticker - ticklocs [2.0, 3.0, 4.0, 5.0, 6.0, 7.0, 8.0, 9.0, 20.0, 30.0, 40.0, 50.0, 60.0, 70.0, 80.0, 90.0, 200.0, 300.0, 400.0, 500.0, 600.0, 700.0, 800.0, 900.0, 2000.0, 3000.0, 4000.0, 5000.0, 6000.0, 7000.0, 8000.0, 9000.0, 20000.0, 30000.0, 40000.0, 50000.0, 60000.0, 70000.0, 80000.0, 90000.0, 200000.0, 300000.0, 400000.0, 500000.0, 600000.0, 700000.0, 800000.0, 900000.0, 2000000.0, 3000000.0, 4000000.0, 5000000.0, 6000000.0, 7000000.0, 8000000.0, 9000000.0]\n",
      "2018-12-20 20:49:14,688 - matplotlib.ticker - DEBUG - ticker - vmin 33.532488305316434 vmax 82060.50019627924\n",
      "2018-12-20 20:49:14,689 - matplotlib.ticker - DEBUG - ticker - ticklocs array([1.e+00, 1.e+01, 1.e+02, 1.e+03, 1.e+04, 1.e+05, 1.e+06])\n",
      "2018-12-20 20:49:14,692 - matplotlib.ticker - DEBUG - ticker - vmin 33.532488305316434 vmax 82060.50019627924\n",
      "2018-12-20 20:49:14,694 - matplotlib.ticker - DEBUG - ticker - ticklocs [2.0, 3.0, 4.0, 5.0, 6.0, 7.0, 8.0, 9.0, 20.0, 30.0, 40.0, 50.0, 60.0, 70.0, 80.0, 90.0, 200.0, 300.0, 400.0, 500.0, 600.0, 700.0, 800.0, 900.0, 2000.0, 3000.0, 4000.0, 5000.0, 6000.0, 7000.0, 8000.0, 9000.0, 20000.0, 30000.0, 40000.0, 50000.0, 60000.0, 70000.0, 80000.0, 90000.0, 200000.0, 300000.0, 400000.0, 500000.0, 600000.0, 700000.0, 800000.0, 900000.0, 2000000.0, 3000000.0, 4000000.0, 5000000.0, 6000000.0, 7000000.0, 8000000.0, 9000000.0]\n",
      "2018-12-20 20:49:14,700 - matplotlib.ticker - DEBUG - ticker - vmin 33.532488305316434 vmax 82060.50019627924\n",
      "2018-12-20 20:49:14,701 - matplotlib.ticker - DEBUG - ticker - ticklocs array([1.e+00, 1.e+01, 1.e+02, 1.e+03, 1.e+04, 1.e+05, 1.e+06])\n",
      "2018-12-20 20:49:14,704 - matplotlib.ticker - DEBUG - ticker - vmin 33.532488305316434 vmax 82060.50019627924\n",
      "2018-12-20 20:49:14,705 - matplotlib.ticker - DEBUG - ticker - ticklocs [2.0, 3.0, 4.0, 5.0, 6.0, 7.0, 8.0, 9.0, 20.0, 30.0, 40.0, 50.0, 60.0, 70.0, 80.0, 90.0, 200.0, 300.0, 400.0, 500.0, 600.0, 700.0, 800.0, 900.0, 2000.0, 3000.0, 4000.0, 5000.0, 6000.0, 7000.0, 8000.0, 9000.0, 20000.0, 30000.0, 40000.0, 50000.0, 60000.0, 70000.0, 80000.0, 90000.0, 200000.0, 300000.0, 400000.0, 500000.0, 600000.0, 700000.0, 800000.0, 900000.0, 2000000.0, 3000000.0, 4000000.0, 5000000.0, 6000000.0, 7000000.0, 8000000.0, 9000000.0]\n",
      "2018-12-20 20:49:14,738 - matplotlib.axes._base - DEBUG - _base - update_title_pos\n",
      "2018-12-20 20:49:14,742 - matplotlib.ticker - DEBUG - ticker - vmin 33.532488305316434 vmax 82060.50019627924\n",
      "2018-12-20 20:49:14,746 - matplotlib.ticker - DEBUG - ticker - ticklocs array([1.e+00, 1.e+01, 1.e+02, 1.e+03, 1.e+04, 1.e+05, 1.e+06])\n",
      "2018-12-20 20:49:14,750 - matplotlib.ticker - DEBUG - ticker - vmin 33.532488305316434 vmax 82060.50019627924\n",
      "2018-12-20 20:49:14,751 - matplotlib.ticker - DEBUG - ticker - ticklocs [2.0, 3.0, 4.0, 5.0, 6.0, 7.0, 8.0, 9.0, 20.0, 30.0, 40.0, 50.0, 60.0, 70.0, 80.0, 90.0, 200.0, 300.0, 400.0, 500.0, 600.0, 700.0, 800.0, 900.0, 2000.0, 3000.0, 4000.0, 5000.0, 6000.0, 7000.0, 8000.0, 9000.0, 20000.0, 30000.0, 40000.0, 50000.0, 60000.0, 70000.0, 80000.0, 90000.0, 200000.0, 300000.0, 400000.0, 500000.0, 600000.0, 700000.0, 800000.0, 900000.0, 2000000.0, 3000000.0, 4000000.0, 5000000.0, 6000000.0, 7000000.0, 8000000.0, 9000000.0]\n",
      "2018-12-20 20:49:14,759 - matplotlib.ticker - DEBUG - ticker - vmin 33.532488305316434 vmax 82060.50019627924\n",
      "2018-12-20 20:49:14,760 - matplotlib.ticker - DEBUG - ticker - ticklocs array([1.e+00, 1.e+01, 1.e+02, 1.e+03, 1.e+04, 1.e+05, 1.e+06])\n",
      "2018-12-20 20:49:14,766 - matplotlib.ticker - DEBUG - ticker - vmin 33.532488305316434 vmax 82060.50019627924\n",
      "2018-12-20 20:49:14,775 - matplotlib.ticker - DEBUG - ticker - ticklocs [2.0, 3.0, 4.0, 5.0, 6.0, 7.0, 8.0, 9.0, 20.0, 30.0, 40.0, 50.0, 60.0, 70.0, 80.0, 90.0, 200.0, 300.0, 400.0, 500.0, 600.0, 700.0, 800.0, 900.0, 2000.0, 3000.0, 4000.0, 5000.0, 6000.0, 7000.0, 8000.0, 9000.0, 20000.0, 30000.0, 40000.0, 50000.0, 60000.0, 70000.0, 80000.0, 90000.0, 200000.0, 300000.0, 400000.0, 500000.0, 600000.0, 700000.0, 800000.0, 900000.0, 2000000.0, 3000000.0, 4000000.0, 5000000.0, 6000000.0, 7000000.0, 8000000.0, 9000000.0]\n",
      "2018-12-20 20:49:14,805 - matplotlib.ticker - DEBUG - ticker - vmin 33.532488305316434 vmax 82060.50019627924\n",
      "2018-12-20 20:49:14,806 - matplotlib.ticker - DEBUG - ticker - ticklocs array([1.e+00, 1.e+01, 1.e+02, 1.e+03, 1.e+04, 1.e+05, 1.e+06])\n",
      "2018-12-20 20:49:14,809 - matplotlib.ticker - DEBUG - ticker - vmin 33.532488305316434 vmax 82060.50019627924\n",
      "2018-12-20 20:49:14,811 - matplotlib.ticker - DEBUG - ticker - ticklocs [2.0, 3.0, 4.0, 5.0, 6.0, 7.0, 8.0, 9.0, 20.0, 30.0, 40.0, 50.0, 60.0, 70.0, 80.0, 90.0, 200.0, 300.0, 400.0, 500.0, 600.0, 700.0, 800.0, 900.0, 2000.0, 3000.0, 4000.0, 5000.0, 6000.0, 7000.0, 8000.0, 9000.0, 20000.0, 30000.0, 40000.0, 50000.0, 60000.0, 70000.0, 80000.0, 90000.0, 200000.0, 300000.0, 400000.0, 500000.0, 600000.0, 700000.0, 800000.0, 900000.0, 2000000.0, 3000000.0, 4000000.0, 5000000.0, 6000000.0, 7000000.0, 8000000.0, 9000000.0]\n",
      "2018-12-20 20:49:14,817 - matplotlib.ticker - DEBUG - ticker - vmin 33.532488305316434 vmax 82060.50019627924\n",
      "2018-12-20 20:49:14,818 - matplotlib.ticker - DEBUG - ticker - ticklocs array([1.e+00, 1.e+01, 1.e+02, 1.e+03, 1.e+04, 1.e+05, 1.e+06])\n"
     ]
    },
    {
     "name": "stderr",
     "output_type": "stream",
     "text": [
      "2018-12-20 20:49:14,821 - matplotlib.ticker - DEBUG - ticker - vmin 33.532488305316434 vmax 82060.50019627924\n",
      "2018-12-20 20:49:14,823 - matplotlib.ticker - DEBUG - ticker - ticklocs [2.0, 3.0, 4.0, 5.0, 6.0, 7.0, 8.0, 9.0, 20.0, 30.0, 40.0, 50.0, 60.0, 70.0, 80.0, 90.0, 200.0, 300.0, 400.0, 500.0, 600.0, 700.0, 800.0, 900.0, 2000.0, 3000.0, 4000.0, 5000.0, 6000.0, 7000.0, 8000.0, 9000.0, 20000.0, 30000.0, 40000.0, 50000.0, 60000.0, 70000.0, 80000.0, 90000.0, 200000.0, 300000.0, 400000.0, 500000.0, 600000.0, 700000.0, 800000.0, 900000.0, 2000000.0, 3000000.0, 4000000.0, 5000000.0, 6000000.0, 7000000.0, 8000000.0, 9000000.0]\n",
      "2018-12-20 20:49:14,848 - matplotlib.axes._base - DEBUG - _base - update_title_pos\n",
      "2018-12-20 20:49:14,881 - matplotlib.ticker - DEBUG - ticker - vmin 33.532488305316434 vmax 82060.50019627924\n",
      "2018-12-20 20:49:14,882 - matplotlib.ticker - DEBUG - ticker - ticklocs array([1.e+00, 1.e+01, 1.e+02, 1.e+03, 1.e+04, 1.e+05, 1.e+06])\n",
      "2018-12-20 20:49:14,887 - matplotlib.ticker - DEBUG - ticker - vmin 33.532488305316434 vmax 82060.50019627924\n",
      "2018-12-20 20:49:14,887 - matplotlib.ticker - DEBUG - ticker - ticklocs [2.0, 3.0, 4.0, 5.0, 6.0, 7.0, 8.0, 9.0, 20.0, 30.0, 40.0, 50.0, 60.0, 70.0, 80.0, 90.0, 200.0, 300.0, 400.0, 500.0, 600.0, 700.0, 800.0, 900.0, 2000.0, 3000.0, 4000.0, 5000.0, 6000.0, 7000.0, 8000.0, 9000.0, 20000.0, 30000.0, 40000.0, 50000.0, 60000.0, 70000.0, 80000.0, 90000.0, 200000.0, 300000.0, 400000.0, 500000.0, 600000.0, 700000.0, 800000.0, 900000.0, 2000000.0, 3000000.0, 4000000.0, 5000000.0, 6000000.0, 7000000.0, 8000000.0, 9000000.0]\n",
      "2018-12-20 20:49:14,948 - matplotlib.ticker - DEBUG - ticker - vmin 33.532488305316434 vmax 82060.50019627924\n",
      "2018-12-20 20:49:14,949 - matplotlib.ticker - DEBUG - ticker - ticklocs array([1.e+00, 1.e+01, 1.e+02, 1.e+03, 1.e+04, 1.e+05, 1.e+06])\n",
      "2018-12-20 20:49:14,952 - matplotlib.ticker - DEBUG - ticker - vmin 33.532488305316434 vmax 82060.50019627924\n",
      "2018-12-20 20:49:14,952 - matplotlib.ticker - DEBUG - ticker - ticklocs [2.0, 3.0, 4.0, 5.0, 6.0, 7.0, 8.0, 9.0, 20.0, 30.0, 40.0, 50.0, 60.0, 70.0, 80.0, 90.0, 200.0, 300.0, 400.0, 500.0, 600.0, 700.0, 800.0, 900.0, 2000.0, 3000.0, 4000.0, 5000.0, 6000.0, 7000.0, 8000.0, 9000.0, 20000.0, 30000.0, 40000.0, 50000.0, 60000.0, 70000.0, 80000.0, 90000.0, 200000.0, 300000.0, 400000.0, 500000.0, 600000.0, 700000.0, 800000.0, 900000.0, 2000000.0, 3000000.0, 4000000.0, 5000000.0, 6000000.0, 7000000.0, 8000000.0, 9000000.0]\n",
      "2018-12-20 20:49:15,012 - matplotlib.axes._base - DEBUG - _base - update_title_pos\n",
      "2018-12-20 20:49:15,032 - matplotlib.ticker - DEBUG - ticker - vmin 33.532488305316434 vmax 82060.50019627924\n",
      "2018-12-20 20:49:15,033 - matplotlib.ticker - DEBUG - ticker - ticklocs array([1.e+00, 1.e+01, 1.e+02, 1.e+03, 1.e+04, 1.e+05, 1.e+06])\n",
      "2018-12-20 20:49:15,035 - matplotlib.ticker - DEBUG - ticker - vmin 33.532488305316434 vmax 82060.50019627924\n",
      "2018-12-20 20:49:15,036 - matplotlib.ticker - DEBUG - ticker - ticklocs [2.0, 3.0, 4.0, 5.0, 6.0, 7.0, 8.0, 9.0, 20.0, 30.0, 40.0, 50.0, 60.0, 70.0, 80.0, 90.0, 200.0, 300.0, 400.0, 500.0, 600.0, 700.0, 800.0, 900.0, 2000.0, 3000.0, 4000.0, 5000.0, 6000.0, 7000.0, 8000.0, 9000.0, 20000.0, 30000.0, 40000.0, 50000.0, 60000.0, 70000.0, 80000.0, 90000.0, 200000.0, 300000.0, 400000.0, 500000.0, 600000.0, 700000.0, 800000.0, 900000.0, 2000000.0, 3000000.0, 4000000.0, 5000000.0, 6000000.0, 7000000.0, 8000000.0, 9000000.0]\n",
      "2018-12-20 20:49:15,090 - matplotlib.ticker - DEBUG - ticker - vmin 33.532488305316434 vmax 82060.50019627924\n",
      "2018-12-20 20:49:15,091 - matplotlib.ticker - DEBUG - ticker - ticklocs array([1.e+00, 1.e+01, 1.e+02, 1.e+03, 1.e+04, 1.e+05, 1.e+06])\n",
      "2018-12-20 20:49:15,093 - matplotlib.ticker - DEBUG - ticker - vmin 33.532488305316434 vmax 82060.50019627924\n",
      "2018-12-20 20:49:15,095 - matplotlib.ticker - DEBUG - ticker - ticklocs [2.0, 3.0, 4.0, 5.0, 6.0, 7.0, 8.0, 9.0, 20.0, 30.0, 40.0, 50.0, 60.0, 70.0, 80.0, 90.0, 200.0, 300.0, 400.0, 500.0, 600.0, 700.0, 800.0, 900.0, 2000.0, 3000.0, 4000.0, 5000.0, 6000.0, 7000.0, 8000.0, 9000.0, 20000.0, 30000.0, 40000.0, 50000.0, 60000.0, 70000.0, 80000.0, 90000.0, 200000.0, 300000.0, 400000.0, 500000.0, 600000.0, 700000.0, 800000.0, 900000.0, 2000000.0, 3000000.0, 4000000.0, 5000000.0, 6000000.0, 7000000.0, 8000000.0, 9000000.0]\n",
      "2018-12-20 20:49:15,151 - matplotlib.ticker - DEBUG - ticker - vmin 33.532488305316434 vmax 82060.50019627924\n",
      "2018-12-20 20:49:15,152 - matplotlib.ticker - DEBUG - ticker - ticklocs array([1.e+00, 1.e+01, 1.e+02, 1.e+03, 1.e+04, 1.e+05, 1.e+06])\n",
      "2018-12-20 20:49:15,154 - matplotlib.axes._base - DEBUG - _base - update_title_pos\n",
      "2018-12-20 20:49:15,173 - matplotlib.ticker - DEBUG - ticker - vmin 33.532488305316434 vmax 82060.50019627924\n",
      "2018-12-20 20:49:15,174 - matplotlib.ticker - DEBUG - ticker - ticklocs array([1.e+00, 1.e+01, 1.e+02, 1.e+03, 1.e+04, 1.e+05, 1.e+06])\n",
      "2018-12-20 20:49:15,176 - matplotlib.ticker - DEBUG - ticker - vmin 33.532488305316434 vmax 82060.50019627924\n",
      "2018-12-20 20:49:15,177 - matplotlib.ticker - DEBUG - ticker - ticklocs [2.0, 3.0, 4.0, 5.0, 6.0, 7.0, 8.0, 9.0, 20.0, 30.0, 40.0, 50.0, 60.0, 70.0, 80.0, 90.0, 200.0, 300.0, 400.0, 500.0, 600.0, 700.0, 800.0, 900.0, 2000.0, 3000.0, 4000.0, 5000.0, 6000.0, 7000.0, 8000.0, 9000.0, 20000.0, 30000.0, 40000.0, 50000.0, 60000.0, 70000.0, 80000.0, 90000.0, 200000.0, 300000.0, 400000.0, 500000.0, 600000.0, 700000.0, 800000.0, 900000.0, 2000000.0, 3000000.0, 4000000.0, 5000000.0, 6000000.0, 7000000.0, 8000000.0, 9000000.0]\n",
      "2018-12-20 20:49:15,212 - matplotlib.ticker - DEBUG - ticker - vmin 33.532488305316434 vmax 82060.50019627924\n",
      "2018-12-20 20:49:15,212 - matplotlib.ticker - DEBUG - ticker - ticklocs array([1.e+00, 1.e+01, 1.e+02, 1.e+03, 1.e+04, 1.e+05, 1.e+06])\n",
      "2018-12-20 20:49:15,215 - matplotlib.ticker - DEBUG - ticker - vmin 33.532488305316434 vmax 82060.50019627924\n",
      "2018-12-20 20:49:15,215 - matplotlib.ticker - DEBUG - ticker - ticklocs [2.0, 3.0, 4.0, 5.0, 6.0, 7.0, 8.0, 9.0, 20.0, 30.0, 40.0, 50.0, 60.0, 70.0, 80.0, 90.0, 200.0, 300.0, 400.0, 500.0, 600.0, 700.0, 800.0, 900.0, 2000.0, 3000.0, 4000.0, 5000.0, 6000.0, 7000.0, 8000.0, 9000.0, 20000.0, 30000.0, 40000.0, 50000.0, 60000.0, 70000.0, 80000.0, 90000.0, 200000.0, 300000.0, 400000.0, 500000.0, 600000.0, 700000.0, 800000.0, 900000.0, 2000000.0, 3000000.0, 4000000.0, 5000000.0, 6000000.0, 7000000.0, 8000000.0, 9000000.0]\n",
      "2018-12-20 20:49:15,266 - matplotlib.axes._base - DEBUG - _base - update_title_pos\n",
      "2018-12-20 20:49:15,268 - matplotlib.ticker - DEBUG - ticker - vmin 33.532488305316434 vmax 82060.50019627924\n",
      "2018-12-20 20:49:15,269 - matplotlib.ticker - DEBUG - ticker - ticklocs array([1.e+00, 1.e+01, 1.e+02, 1.e+03, 1.e+04, 1.e+05, 1.e+06])\n",
      "2018-12-20 20:49:15,271 - matplotlib.ticker - DEBUG - ticker - vmin 33.532488305316434 vmax 82060.50019627924\n",
      "2018-12-20 20:49:15,272 - matplotlib.ticker - DEBUG - ticker - ticklocs [2.0, 3.0, 4.0, 5.0, 6.0, 7.0, 8.0, 9.0, 20.0, 30.0, 40.0, 50.0, 60.0, 70.0, 80.0, 90.0, 200.0, 300.0, 400.0, 500.0, 600.0, 700.0, 800.0, 900.0, 2000.0, 3000.0, 4000.0, 5000.0, 6000.0, 7000.0, 8000.0, 9000.0, 20000.0, 30000.0, 40000.0, 50000.0, 60000.0, 70000.0, 80000.0, 90000.0, 200000.0, 300000.0, 400000.0, 500000.0, 600000.0, 700000.0, 800000.0, 900000.0, 2000000.0, 3000000.0, 4000000.0, 5000000.0, 6000000.0, 7000000.0, 8000000.0, 9000000.0]\n",
      "2018-12-20 20:49:15,276 - matplotlib.ticker - DEBUG - ticker - vmin 33.532488305316434 vmax 82060.50019627924\n",
      "2018-12-20 20:49:15,277 - matplotlib.ticker - DEBUG - ticker - ticklocs array([1.e+00, 1.e+01, 1.e+02, 1.e+03, 1.e+04, 1.e+05, 1.e+06])\n",
      "2018-12-20 20:49:15,279 - matplotlib.ticker - DEBUG - ticker - vmin 33.532488305316434 vmax 82060.50019627924\n",
      "2018-12-20 20:49:15,280 - matplotlib.ticker - DEBUG - ticker - ticklocs [2.0, 3.0, 4.0, 5.0, 6.0, 7.0, 8.0, 9.0, 20.0, 30.0, 40.0, 50.0, 60.0, 70.0, 80.0, 90.0, 200.0, 300.0, 400.0, 500.0, 600.0, 700.0, 800.0, 900.0, 2000.0, 3000.0, 4000.0, 5000.0, 6000.0, 7000.0, 8000.0, 9000.0, 20000.0, 30000.0, 40000.0, 50000.0, 60000.0, 70000.0, 80000.0, 90000.0, 200000.0, 300000.0, 400000.0, 500000.0, 600000.0, 700000.0, 800000.0, 900000.0, 2000000.0, 3000000.0, 4000000.0, 5000000.0, 6000000.0, 7000000.0, 8000000.0, 9000000.0]\n"
     ]
    },
    {
     "name": "stderr",
     "output_type": "stream",
     "text": [
      "2018-12-20 20:49:15,303 - matplotlib.ticker - DEBUG - ticker - vmin 33.532488305316434 vmax 82060.50019627924\n",
      "2018-12-20 20:49:15,303 - matplotlib.ticker - DEBUG - ticker - ticklocs array([1.e+00, 1.e+01, 1.e+02, 1.e+03, 1.e+04, 1.e+05, 1.e+06])\n",
      "2018-12-20 20:49:15,306 - matplotlib.ticker - DEBUG - ticker - vmin 33.532488305316434 vmax 82060.50019627924\n",
      "2018-12-20 20:49:15,307 - matplotlib.ticker - DEBUG - ticker - ticklocs [2.0, 3.0, 4.0, 5.0, 6.0, 7.0, 8.0, 9.0, 20.0, 30.0, 40.0, 50.0, 60.0, 70.0, 80.0, 90.0, 200.0, 300.0, 400.0, 500.0, 600.0, 700.0, 800.0, 900.0, 2000.0, 3000.0, 4000.0, 5000.0, 6000.0, 7000.0, 8000.0, 9000.0, 20000.0, 30000.0, 40000.0, 50000.0, 60000.0, 70000.0, 80000.0, 90000.0, 200000.0, 300000.0, 400000.0, 500000.0, 600000.0, 700000.0, 800000.0, 900000.0, 2000000.0, 3000000.0, 4000000.0, 5000000.0, 6000000.0, 7000000.0, 8000000.0, 9000000.0]\n",
      "2018-12-20 20:49:15,315 - matplotlib.ticker - DEBUG - ticker - vmin 33.532488305316434 vmax 82060.50019627924\n",
      "2018-12-20 20:49:15,315 - matplotlib.ticker - DEBUG - ticker - ticklocs array([1.e+00, 1.e+01, 1.e+02, 1.e+03, 1.e+04, 1.e+05, 1.e+06])\n",
      "2018-12-20 20:49:15,318 - matplotlib.ticker - DEBUG - ticker - vmin 33.532488305316434 vmax 82060.50019627924\n",
      "2018-12-20 20:49:15,320 - matplotlib.ticker - DEBUG - ticker - ticklocs [2.0, 3.0, 4.0, 5.0, 6.0, 7.0, 8.0, 9.0, 20.0, 30.0, 40.0, 50.0, 60.0, 70.0, 80.0, 90.0, 200.0, 300.0, 400.0, 500.0, 600.0, 700.0, 800.0, 900.0, 2000.0, 3000.0, 4000.0, 5000.0, 6000.0, 7000.0, 8000.0, 9000.0, 20000.0, 30000.0, 40000.0, 50000.0, 60000.0, 70000.0, 80000.0, 90000.0, 200000.0, 300000.0, 400000.0, 500000.0, 600000.0, 700000.0, 800000.0, 900000.0, 2000000.0, 3000000.0, 4000000.0, 5000000.0, 6000000.0, 7000000.0, 8000000.0, 9000000.0]\n",
      "2018-12-20 20:49:15,345 - matplotlib.ticker - DEBUG - ticker - vmin 33.532488305316434 vmax 82060.50019627924\n",
      "2018-12-20 20:49:15,346 - matplotlib.ticker - DEBUG - ticker - ticklocs array([1.e+00, 1.e+01, 1.e+02, 1.e+03, 1.e+04, 1.e+05, 1.e+06])\n",
      "2018-12-20 20:49:15,348 - matplotlib.ticker - DEBUG - ticker - vmin 33.532488305316434 vmax 82060.50019627924\n",
      "2018-12-20 20:49:15,350 - matplotlib.ticker - DEBUG - ticker - ticklocs [2.0, 3.0, 4.0, 5.0, 6.0, 7.0, 8.0, 9.0, 20.0, 30.0, 40.0, 50.0, 60.0, 70.0, 80.0, 90.0, 200.0, 300.0, 400.0, 500.0, 600.0, 700.0, 800.0, 900.0, 2000.0, 3000.0, 4000.0, 5000.0, 6000.0, 7000.0, 8000.0, 9000.0, 20000.0, 30000.0, 40000.0, 50000.0, 60000.0, 70000.0, 80000.0, 90000.0, 200000.0, 300000.0, 400000.0, 500000.0, 600000.0, 700000.0, 800000.0, 900000.0, 2000000.0, 3000000.0, 4000000.0, 5000000.0, 6000000.0, 7000000.0, 8000000.0, 9000000.0]\n",
      "2018-12-20 20:49:15,355 - matplotlib.ticker - DEBUG - ticker - vmin 33.532488305316434 vmax 82060.50019627924\n",
      "2018-12-20 20:49:15,356 - matplotlib.ticker - DEBUG - ticker - ticklocs array([1.e+00, 1.e+01, 1.e+02, 1.e+03, 1.e+04, 1.e+05, 1.e+06])\n",
      "2018-12-20 20:49:15,366 - matplotlib.ticker - DEBUG - ticker - vmin 33.532488305316434 vmax 82060.50019627924\n",
      "2018-12-20 20:49:15,367 - matplotlib.ticker - DEBUG - ticker - ticklocs [2.0, 3.0, 4.0, 5.0, 6.0, 7.0, 8.0, 9.0, 20.0, 30.0, 40.0, 50.0, 60.0, 70.0, 80.0, 90.0, 200.0, 300.0, 400.0, 500.0, 600.0, 700.0, 800.0, 900.0, 2000.0, 3000.0, 4000.0, 5000.0, 6000.0, 7000.0, 8000.0, 9000.0, 20000.0, 30000.0, 40000.0, 50000.0, 60000.0, 70000.0, 80000.0, 90000.0, 200000.0, 300000.0, 400000.0, 500000.0, 600000.0, 700000.0, 800000.0, 900000.0, 2000000.0, 3000000.0, 4000000.0, 5000000.0, 6000000.0, 7000000.0, 8000000.0, 9000000.0]\n",
      "2018-12-20 20:49:15,391 - matplotlib.axes._base - DEBUG - _base - update_title_pos\n",
      "2018-12-20 20:49:15,394 - matplotlib.ticker - DEBUG - ticker - vmin 33.532488305316434 vmax 82060.50019627924\n",
      "2018-12-20 20:49:15,395 - matplotlib.ticker - DEBUG - ticker - ticklocs array([1.e+00, 1.e+01, 1.e+02, 1.e+03, 1.e+04, 1.e+05, 1.e+06])\n",
      "2018-12-20 20:49:15,398 - matplotlib.ticker - DEBUG - ticker - vmin 33.532488305316434 vmax 82060.50019627924\n",
      "2018-12-20 20:49:15,398 - matplotlib.ticker - DEBUG - ticker - ticklocs [2.0, 3.0, 4.0, 5.0, 6.0, 7.0, 8.0, 9.0, 20.0, 30.0, 40.0, 50.0, 60.0, 70.0, 80.0, 90.0, 200.0, 300.0, 400.0, 500.0, 600.0, 700.0, 800.0, 900.0, 2000.0, 3000.0, 4000.0, 5000.0, 6000.0, 7000.0, 8000.0, 9000.0, 20000.0, 30000.0, 40000.0, 50000.0, 60000.0, 70000.0, 80000.0, 90000.0, 200000.0, 300000.0, 400000.0, 500000.0, 600000.0, 700000.0, 800000.0, 900000.0, 2000000.0, 3000000.0, 4000000.0, 5000000.0, 6000000.0, 7000000.0, 8000000.0, 9000000.0]\n",
      "2018-12-20 20:49:15,403 - matplotlib.ticker - DEBUG - ticker - vmin 33.532488305316434 vmax 82060.50019627924\n",
      "2018-12-20 20:49:15,404 - matplotlib.ticker - DEBUG - ticker - ticklocs array([1.e+00, 1.e+01, 1.e+02, 1.e+03, 1.e+04, 1.e+05, 1.e+06])\n",
      "2018-12-20 20:49:15,407 - matplotlib.ticker - DEBUG - ticker - vmin 33.532488305316434 vmax 82060.50019627924\n",
      "2018-12-20 20:49:15,410 - matplotlib.ticker - DEBUG - ticker - ticklocs [2.0, 3.0, 4.0, 5.0, 6.0, 7.0, 8.0, 9.0, 20.0, 30.0, 40.0, 50.0, 60.0, 70.0, 80.0, 90.0, 200.0, 300.0, 400.0, 500.0, 600.0, 700.0, 800.0, 900.0, 2000.0, 3000.0, 4000.0, 5000.0, 6000.0, 7000.0, 8000.0, 9000.0, 20000.0, 30000.0, 40000.0, 50000.0, 60000.0, 70000.0, 80000.0, 90000.0, 200000.0, 300000.0, 400000.0, 500000.0, 600000.0, 700000.0, 800000.0, 900000.0, 2000000.0, 3000000.0, 4000000.0, 5000000.0, 6000000.0, 7000000.0, 8000000.0, 9000000.0]\n",
      "2018-12-20 20:49:15,434 - matplotlib.ticker - DEBUG - ticker - vmin 33.532488305316434 vmax 82060.50019627924\n",
      "2018-12-20 20:49:15,435 - matplotlib.ticker - DEBUG - ticker - ticklocs array([1.e+00, 1.e+01, 1.e+02, 1.e+03, 1.e+04, 1.e+05, 1.e+06])\n",
      "2018-12-20 20:49:15,437 - matplotlib.ticker - DEBUG - ticker - vmin 33.532488305316434 vmax 82060.50019627924\n",
      "2018-12-20 20:49:15,438 - matplotlib.ticker - DEBUG - ticker - ticklocs [2.0, 3.0, 4.0, 5.0, 6.0, 7.0, 8.0, 9.0, 20.0, 30.0, 40.0, 50.0, 60.0, 70.0, 80.0, 90.0, 200.0, 300.0, 400.0, 500.0, 600.0, 700.0, 800.0, 900.0, 2000.0, 3000.0, 4000.0, 5000.0, 6000.0, 7000.0, 8000.0, 9000.0, 20000.0, 30000.0, 40000.0, 50000.0, 60000.0, 70000.0, 80000.0, 90000.0, 200000.0, 300000.0, 400000.0, 500000.0, 600000.0, 700000.0, 800000.0, 900000.0, 2000000.0, 3000000.0, 4000000.0, 5000000.0, 6000000.0, 7000000.0, 8000000.0, 9000000.0]\n",
      "2018-12-20 20:49:15,442 - matplotlib.ticker - DEBUG - ticker - vmin 33.532488305316434 vmax 82060.50019627924\n",
      "2018-12-20 20:49:15,444 - matplotlib.ticker - DEBUG - ticker - ticklocs array([1.e+00, 1.e+01, 1.e+02, 1.e+03, 1.e+04, 1.e+05, 1.e+06])\n",
      "2018-12-20 20:49:15,447 - matplotlib.ticker - DEBUG - ticker - vmin 33.532488305316434 vmax 82060.50019627924\n",
      "2018-12-20 20:49:15,448 - matplotlib.ticker - DEBUG - ticker - ticklocs [2.0, 3.0, 4.0, 5.0, 6.0, 7.0, 8.0, 9.0, 20.0, 30.0, 40.0, 50.0, 60.0, 70.0, 80.0, 90.0, 200.0, 300.0, 400.0, 500.0, 600.0, 700.0, 800.0, 900.0, 2000.0, 3000.0, 4000.0, 5000.0, 6000.0, 7000.0, 8000.0, 9000.0, 20000.0, 30000.0, 40000.0, 50000.0, 60000.0, 70000.0, 80000.0, 90000.0, 200000.0, 300000.0, 400000.0, 500000.0, 600000.0, 700000.0, 800000.0, 900000.0, 2000000.0, 3000000.0, 4000000.0, 5000000.0, 6000000.0, 7000000.0, 8000000.0, 9000000.0]\n",
      "2018-12-20 20:49:15,465 - matplotlib.axes._base - DEBUG - _base - update_title_pos\n",
      "2018-12-20 20:49:15,487 - matplotlib.ticker - DEBUG - ticker - vmin 33.532488305316434 vmax 82060.50019627924\n",
      "2018-12-20 20:49:15,488 - matplotlib.ticker - DEBUG - ticker - ticklocs array([1.e+00, 1.e+01, 1.e+02, 1.e+03, 1.e+04, 1.e+05, 1.e+06])\n",
      "2018-12-20 20:49:15,491 - matplotlib.ticker - DEBUG - ticker - vmin 33.532488305316434 vmax 82060.50019627924\n",
      "2018-12-20 20:49:15,492 - matplotlib.ticker - DEBUG - ticker - ticklocs [2.0, 3.0, 4.0, 5.0, 6.0, 7.0, 8.0, 9.0, 20.0, 30.0, 40.0, 50.0, 60.0, 70.0, 80.0, 90.0, 200.0, 300.0, 400.0, 500.0, 600.0, 700.0, 800.0, 900.0, 2000.0, 3000.0, 4000.0, 5000.0, 6000.0, 7000.0, 8000.0, 9000.0, 20000.0, 30000.0, 40000.0, 50000.0, 60000.0, 70000.0, 80000.0, 90000.0, 200000.0, 300000.0, 400000.0, 500000.0, 600000.0, 700000.0, 800000.0, 900000.0, 2000000.0, 3000000.0, 4000000.0, 5000000.0, 6000000.0, 7000000.0, 8000000.0, 9000000.0]\n",
      "2018-12-20 20:49:15,551 - matplotlib.ticker - DEBUG - ticker - vmin 33.532488305316434 vmax 82060.50019627924\n",
      "2018-12-20 20:49:15,552 - matplotlib.ticker - DEBUG - ticker - ticklocs array([1.e+00, 1.e+01, 1.e+02, 1.e+03, 1.e+04, 1.e+05, 1.e+06])\n"
     ]
    },
    {
     "name": "stderr",
     "output_type": "stream",
     "text": [
      "2018-12-20 20:49:15,554 - matplotlib.ticker - DEBUG - ticker - vmin 33.532488305316434 vmax 82060.50019627924\n",
      "2018-12-20 20:49:15,555 - matplotlib.ticker - DEBUG - ticker - ticklocs [2.0, 3.0, 4.0, 5.0, 6.0, 7.0, 8.0, 9.0, 20.0, 30.0, 40.0, 50.0, 60.0, 70.0, 80.0, 90.0, 200.0, 300.0, 400.0, 500.0, 600.0, 700.0, 800.0, 900.0, 2000.0, 3000.0, 4000.0, 5000.0, 6000.0, 7000.0, 8000.0, 9000.0, 20000.0, 30000.0, 40000.0, 50000.0, 60000.0, 70000.0, 80000.0, 90000.0, 200000.0, 300000.0, 400000.0, 500000.0, 600000.0, 700000.0, 800000.0, 900000.0, 2000000.0, 3000000.0, 4000000.0, 5000000.0, 6000000.0, 7000000.0, 8000000.0, 9000000.0]\n"
     ]
    },
    {
     "data": {
      "image/png": "[encoded data removed]",
      "text/plain": [
       "<Figure size 432x288 with 1 Axes>"
      ]
     },
     "metadata": {
      "needs_background": "light"
     },
     "output_type": "display_data"
    }
   ],
   "source": [
    "# Colors for plotting\n",
    "color_map = plt.get_cmap('cubehelix')\n",
    "colors = color_map(np.linspace(0.1, 1, 10))\n",
    "\n",
    "# Initilize figure\n",
    "comparison_K_fig = plt.figure()\n",
    "\n",
    "# Plot SGD\n",
    "i = 0\n",
    "for model in models[:]:  \n",
    "    n_epoch = np.arange(np.shape(model.losses)[0])\n",
    "    plt.semilogy(n_epoch, model.losses, color=colors[i], linewidth=1, linestyle=\"-\", marker=(i+2, 0, 0), markevery=100, label = '$K= {0} $'.format(model.nb_layers))\n",
    "    print(\"For K={0} final loss is {1}\".format(model.nb_layers, model.losses[-1]))\n",
    "    i += 1\n",
    "\n",
    "# Additional settings\n",
    "plt.legend(bbox_to_anchor=(1.05, 0.31), loc=3, borderaxespad=0.)\n",
    "plt.xlabel('n epochs', fontsize=14)\n",
    "plt.ylabel('Total loss [-]', fontsize=14)\n",
    "plt.xlim([0, 300])\n",
    "#plt.ylim([0, 800])\n",
    "plt.title('Loss evolution for different $K$ \\n $|\\mathcal{D}|=50$, $|\\mathcal{B}|=10$, Adadelta, max epochs=1000')\n",
    "plt.grid(True, which = \"both\", linewidth = 0.5,  linestyle = \"--\")\n",
    "\n",
    "comparison_K_fig.savefig('../report/figs/comparison_K.eps', bbox_inches='tight')\n",
    "plt.draw()\n",
    "plt.show()"
   ]
  },
  {
   "cell_type": "markdown",
   "metadata": {
    "ein.tags": "worksheet-0",
    "slideshow": {
     "slide_type": "-"
    }
   },
   "source": [
    "# Test on a bigger grid"
   ]
  },
  {
   "cell_type": "code",
   "execution_count": 19,
   "metadata": {
    "ExecuteTime": {
     "end_time": "2018-12-18T13:32:53.423669Z",
     "start_time": "2018-12-18T13:32:53.419355Z"
    }
   },
   "outputs": [],
   "source": [
    "from nnpde.metrics import least_squares_loss as LSE"
   ]
  },
  {
   "cell_type": "code",
   "execution_count": 20,
   "metadata": {
    "ExecuteTime": {
     "end_time": "2018-12-18T13:38:54.018812Z",
     "start_time": "2018-12-18T13:38:50.992107Z"
    },
    "autoscroll": false,
    "ein.hycell": false,
    "ein.tags": "worksheet-0",
    "slideshow": {
     "slide_type": "-"
    }
   },
   "outputs": [
    {
     "name": "stdout",
     "output_type": "stream",
     "text": [
      "Error after 2000 iterations for Jacobi method: 33.64340591430664\n",
      "Error after 2000 iterations for H method with K=1: 7.877284957658048e-08\n",
      "Error after 2000 iterations for H method with K=2: 1.012134731581682e-07\n",
      "Error after 2000 iterations for H method with K=3: 1.0014544926661983e-07\n",
      "Error after 2000 iterations for H method with K=4: 1.0188784216325075e-07\n",
      "Error after 2000 iterations for H method with K=5: 1.0089386393019595e-07\n"
     ]
    }
   ],
   "source": [
    "# Grid size NxN\n",
    "N = 64\n",
    "\n",
    "# Use sufficiently high number of iterations to get ground truth solution\n",
    "k_ground_truth = 20000\n",
    "\n",
    "# Initialize Laplace problem on Square geometry\n",
    "problem = DirichletProblem(N=N, k_ground_truth=20000)\n",
    "B_idx = problem.B_idx\n",
    "B = problem.B\n",
    "f = problem.f\n",
    "\n",
    "# Obtain solutions\n",
    "ground_truth = problem.ground_truth\n",
    "\n",
    "# Set initial_u equal for Jacobi method and for H method\n",
    "initial_u = torch.ones(1,1,N,N)\n",
    "k = 2000\n",
    "\n",
    "# Obtain solution with Jacobi method\n",
    "u_jacobi = im.jacobi_method(B_idx, B, f, initial_u, k = 2000)\n",
    "print(f\"Error after {k} iterations for Jacobi method: {LSE(ground_truth, u_jacobi)}\")\n",
    "\n",
    "# For each K obtain \n",
    "for model in models:\n",
    "    u_H = im.H_method(model.net, B_idx, B, f, initial_u, k = 2000)\n",
    "    print(f\"Error after {k} iterations for H method with K={model.nb_layers}: {LSE(ground_truth, u_H)}\")"
   ]
  },
  {
   "cell_type": "markdown",
   "metadata": {},
   "source": [
    "# Plot square"
   ]
  },
  {
   "cell_type": "code",
   "execution_count": 42,
   "metadata": {},
   "outputs": [
    {
     "name": "stderr",
     "output_type": "stream",
     "text": [
      "2018-12-20 21:27:59,098 - matplotlib.colorbar - DEBUG - colorbar - locator: <matplotlib.colorbar._ColorbarAutoLocator object at 0x7fecf075c6d8>\n",
      "2018-12-20 21:27:59,099 - matplotlib.colorbar - DEBUG - colorbar - Using auto colorbar locator on colorbar\n",
      "2018-12-20 21:27:59,100 - matplotlib.colorbar - DEBUG - colorbar - locator: <matplotlib.colorbar._ColorbarAutoLocator object at 0x7fecf075c6d8>\n",
      "2018-12-20 21:27:59,100 - matplotlib.colorbar - DEBUG - colorbar - Setting pcolormesh\n",
      "2018-12-20 21:27:59,104 - matplotlib.axes._base - DEBUG - _base - update_title_pos\n",
      "2018-12-20 21:27:59,163 - matplotlib.axes._base - DEBUG - _base - update_title_pos\n",
      "2018-12-20 21:27:59,189 - matplotlib.axes._base - DEBUG - _base - update_title_pos\n",
      "2018-12-20 21:27:59,205 - matplotlib.axes._base - DEBUG - _base - update_title_pos\n",
      "2018-12-20 21:27:59,251 - matplotlib.axes._base - DEBUG - _base - update_title_pos\n",
      "2018-12-20 21:27:59,270 - matplotlib.axes._base - DEBUG - _base - update_title_pos\n",
      "2018-12-20 21:27:59,287 - matplotlib.axes._base - DEBUG - _base - update_title_pos\n",
      "2018-12-20 21:27:59,325 - matplotlib.axes._base - DEBUG - _base - update_title_pos\n",
      "2018-12-20 21:27:59,352 - matplotlib.axes._base - DEBUG - _base - update_title_pos\n",
      "2018-12-20 21:27:59,394 - matplotlib.axes._base - DEBUG - _base - update_title_pos\n",
      "2018-12-20 21:27:59,411 - matplotlib.axes._base - DEBUG - _base - update_title_pos\n",
      "2018-12-20 21:27:59,440 - matplotlib.axes._base - DEBUG - _base - update_title_pos\n",
      "2018-12-20 21:27:59,480 - matplotlib.axes._base - DEBUG - _base - update_title_pos\n",
      "2018-12-20 21:27:59,500 - matplotlib.axes._base - DEBUG - _base - update_title_pos\n",
      "2018-12-20 21:27:59,536 - matplotlib.axes._base - DEBUG - _base - update_title_pos\n",
      "2018-12-20 21:27:59,556 - matplotlib.axes._base - DEBUG - _base - update_title_pos\n",
      "2018-12-20 21:27:59,568 - matplotlib.axes._base - DEBUG - _base - update_title_pos\n",
      "2018-12-20 21:27:59,595 - matplotlib.axes._base - DEBUG - _base - update_title_pos\n"
     ]
    },
    {
     "data": {
      "image/png": "[encoded data removed]",
      "text/plain": [
       "<Figure size 432x288 with 2 Axes>"
      ]
     },
     "metadata": {
      "needs_background": "light"
     },
     "output_type": "display_data"
    }
   ],
   "source": [
    "problem_square = DirichletProblem(N=N, k_ground_truth=20000)\n",
    "ground_truth_square = problem_square.ground_truth.view(N, N).numpy()\n",
    "\n",
    "square_fig = plt.figure()\n",
    "im = plt.imshow(ground_truth_square)\n",
    "plt.title(\"Square domain.\")\n",
    "plt.colorbar(im)\n",
    "\n",
    "square_fig.savefig('../report/figs/square.eps', bbox_inches='tight')\n",
    "plt.draw()\n",
    "plt.show()"
   ]
  },
  {
   "cell_type": "markdown",
   "metadata": {},
   "source": [
    "# Plot L shape"
   ]
  },
  {
   "cell_type": "code",
   "execution_count": 44,
   "metadata": {},
   "outputs": [
    {
     "name": "stderr",
     "output_type": "stream",
     "text": [
      "2018-12-20 21:28:41,364 - matplotlib.colorbar - DEBUG - colorbar - locator: <matplotlib.colorbar._ColorbarAutoLocator object at 0x7fecf0534080>\n",
      "2018-12-20 21:28:41,365 - matplotlib.colorbar - DEBUG - colorbar - Using auto colorbar locator on colorbar\n",
      "2018-12-20 21:28:41,365 - matplotlib.colorbar - DEBUG - colorbar - locator: <matplotlib.colorbar._ColorbarAutoLocator object at 0x7fecf0534080>\n",
      "2018-12-20 21:28:41,366 - matplotlib.colorbar - DEBUG - colorbar - Setting pcolormesh\n",
      "2018-12-20 21:28:41,370 - matplotlib.axes._base - DEBUG - _base - update_title_pos\n",
      "2018-12-20 21:28:41,416 - matplotlib.axes._base - DEBUG - _base - update_title_pos\n",
      "2018-12-20 21:28:41,445 - matplotlib.axes._base - DEBUG - _base - update_title_pos\n",
      "2018-12-20 21:28:41,468 - matplotlib.axes._base - DEBUG - _base - update_title_pos\n",
      "2018-12-20 21:28:41,515 - matplotlib.axes._base - DEBUG - _base - update_title_pos\n",
      "2018-12-20 21:28:41,539 - matplotlib.axes._base - DEBUG - _base - update_title_pos\n",
      "2018-12-20 21:28:41,554 - matplotlib.axes._base - DEBUG - _base - update_title_pos\n",
      "2018-12-20 21:28:41,599 - matplotlib.axes._base - DEBUG - _base - update_title_pos\n",
      "2018-12-20 21:28:41,621 - matplotlib.axes._base - DEBUG - _base - update_title_pos\n",
      "2018-12-20 21:28:41,660 - matplotlib.axes._base - DEBUG - _base - update_title_pos\n",
      "2018-12-20 21:28:41,687 - matplotlib.axes._base - DEBUG - _base - update_title_pos\n",
      "2018-12-20 21:28:41,715 - matplotlib.axes._base - DEBUG - _base - update_title_pos\n",
      "2018-12-20 21:28:41,761 - matplotlib.axes._base - DEBUG - _base - update_title_pos\n",
      "2018-12-20 21:28:41,779 - matplotlib.axes._base - DEBUG - _base - update_title_pos\n",
      "2018-12-20 21:28:41,809 - matplotlib.axes._base - DEBUG - _base - update_title_pos\n",
      "2018-12-20 21:28:41,826 - matplotlib.axes._base - DEBUG - _base - update_title_pos\n",
      "2018-12-20 21:28:41,841 - matplotlib.axes._base - DEBUG - _base - update_title_pos\n",
      "2018-12-20 21:28:41,871 - matplotlib.axes._base - DEBUG - _base - update_title_pos\n"
     ]
    },
    {
     "data": {
      "image/png": "[encoded data removed]",
      "text/plain": [
       "<Figure size 432x288 with 2 Axes>"
      ]
     },
     "metadata": {
      "needs_background": "light"
     },
     "output_type": "display_data"
    }
   ],
   "source": [
    "problem_l_shape = DirichletProblem(N=N, k_ground_truth=20000, domain_type = \"l_shape\")\n",
    "ground_truth_l_shape = problem_l_shape.ground_truth.view(N, N).numpy()\n",
    "\n",
    "square_fig = plt.figure()\n",
    "im = plt.imshow(ground_truth_l_shape)\n",
    "plt.title(\"L-shape domain.\")\n",
    "plt.colorbar(im)\n",
    "\n",
    "square_fig.savefig('../report/figs/l_shape.eps', bbox_inches='tight')\n",
    "plt.draw()\n",
    "plt.show()"
   ]
  },
  {
   "cell_type": "markdown",
   "metadata": {},
   "source": [
    "# Error evolution with iterations"
   ]
  },
  {
   "cell_type": "code",
   "execution_count": 21,
   "metadata": {
    "ExecuteTime": {
     "end_time": "2018-12-18T13:39:04.858178Z",
     "start_time": "2018-12-18T13:39:04.850454Z"
    },
    "autoscroll": false,
    "ein.hycell": false,
    "ein.tags": "worksheet-0",
    "slideshow": {
     "slide_type": "-"
    }
   },
   "outputs": [],
   "source": [
    "tol = 1e-6\n",
    "net = models[2].net"
   ]
  },
  {
   "cell_type": "code",
   "execution_count": 22,
   "metadata": {
    "ExecuteTime": {
     "end_time": "2018-12-18T13:39:24.100072Z",
     "start_time": "2018-12-18T13:39:15.030521Z"
    },
    "autoscroll": false,
    "ein.hycell": false,
    "ein.tags": "worksheet-0",
    "slideshow": {
     "slide_type": "-"
    }
   },
   "outputs": [
    {
     "ename": "NameError",
     "evalue": "name 'err_to_be_achieved' is not defined",
     "output_type": "error",
     "traceback": [
      "\u001b[0;31m---------------------------------------------------------------------------\u001b[0m",
      "\u001b[0;31mNameError\u001b[0m                                 Traceback (most recent call last)",
      "\u001b[0;32m<ipython-input-22-ee71870265f9>\u001b[0m in \u001b[0;36m<module>\u001b[0;34m\u001b[0m\n\u001b[1;32m     10\u001b[0m     \u001b[0mk_jacobi\u001b[0m \u001b[0;34m+=\u001b[0m \u001b[0;36m1\u001b[0m\u001b[0;34m\u001b[0m\u001b[0;34m\u001b[0m\u001b[0m\n\u001b[1;32m     11\u001b[0m \u001b[0;34m\u001b[0m\u001b[0m\n\u001b[0;32m---> 12\u001b[0;31m \u001b[0mprint\u001b[0m\u001b[0;34m(\u001b[0m\u001b[0;34mf\"Jacobi method: error of {err_to_be_achieved} achieved after {k_jacobi} iterations.\"\u001b[0m\u001b[0;34m)\u001b[0m\u001b[0;34m\u001b[0m\u001b[0;34m\u001b[0m\u001b[0m\n\u001b[0m",
      "\u001b[0;31mNameError\u001b[0m: name 'err_to_be_achieved' is not defined"
     ]
    }
   ],
   "source": [
    "u_jacobi = initial_u\n",
    "err_jacobi = LSE(ground_truth, u_jacobi).item()\n",
    "errs_jacobi = [err_jacobi] \n",
    "k_jacobi = 0\n",
    "\n",
    "while err_jacobi >= tol:\n",
    "    u_jacobi = im.jacobi_method(B_idx, B, f, u_jacobi, k = 1)\n",
    "    err_jacobi = LSE(ground_truth, u_jacobi).item()\n",
    "    errs_jacobi.append(err_jacobi)\n",
    "    k_jacobi += 1\n",
    "    \n",
    "print(f\"Jacobi method: error of {tol} achieved after {k_jacobi} iterations.\")"
   ]
  },
  {
   "cell_type": "code",
   "execution_count": 23,
   "metadata": {
    "ExecuteTime": {
     "end_time": "2018-12-18T13:39:51.821114Z",
     "start_time": "2018-12-18T13:39:50.664243Z"
    },
    "autoscroll": false,
    "ein.hycell": false,
    "ein.tags": "worksheet-0",
    "slideshow": {
     "slide_type": "-"
    }
   },
   "outputs": [
    {
     "name": "stdout",
     "output_type": "stream",
     "text": [
      "H method, K = 1: error of 1e-06 achieved after 1863 iterations.\n",
      "H method, K = 2: error of 1e-06 achieved after 840 iterations.\n",
      "H method, K = 3: error of 1e-06 achieved after 486 iterations.\n",
      "H method, K = 4: error of 1e-06 achieved after 379 iterations.\n",
      "H method, K = 5: error of 1e-06 achieved after 312 iterations.\n"
     ]
    }
   ],
   "source": [
    "errors_H = []\n",
    "max_iters = 10000\n",
    "\n",
    "for model in models:\n",
    "    u_H = initial_u\n",
    "    err_H = LSE(ground_truth, u_H).item()\n",
    "    errs_H = [err_H] \n",
    "    k_H = 0\n",
    "\n",
    "    while err_H >= tol:\n",
    "        u_H = im.H_method(model.net, B_idx, B, f, u_H, k = 1)\n",
    "        err_H = LSE(ground_truth, u_H).item()\n",
    "        errs_H.append(err_H)\n",
    "        k_H += 1\n",
    "        if k_H > max_iters or err_H == np.inf:\n",
    "            print(f\"H method, K = {model.nb_layers}: convergence not reached after {max_iters}, final error is {err_H}.\")\n",
    "            break\n",
    "    \n",
    "    print(f\"H method, K = {model.nb_layers}: error of {tol} achieved after {k_H} iterations.\")\n",
    "    errors_H.append(errs_H)"
   ]
  },
  {
   "cell_type": "code",
   "execution_count": 29,
   "metadata": {},
   "outputs": [
    {
     "name": "stderr",
     "output_type": "stream",
     "text": [
      "2018-12-20 20:53:44,524 - matplotlib.axes._base - DEBUG - _base - update_title_pos\n",
      "2018-12-20 20:53:44,526 - matplotlib.ticker - DEBUG - ticker - vmin 0.6351622995324107 vmax 13785.452956584368\n",
      "2018-12-20 20:53:44,527 - matplotlib.ticker - DEBUG - ticker - ticklocs array([1.e-02, 1.e-01, 1.e+00, 1.e+01, 1.e+02, 1.e+03, 1.e+04, 1.e+05,\n",
      "       1.e+06])\n",
      "2018-12-20 20:53:44,537 - matplotlib.ticker - DEBUG - ticker - vmin 0.6351622995324107 vmax 13785.452956584368\n",
      "2018-12-20 20:53:44,538 - matplotlib.ticker - DEBUG - ticker - ticklocs [0.02, 0.03, 0.04, 0.05, 0.06, 0.07, 0.08, 0.09, 0.2, 0.30000000000000004, 0.4, 0.5, 0.6000000000000001, 0.7000000000000001, 0.8, 0.9, 2.0, 3.0, 4.0, 5.0, 6.0, 7.0, 8.0, 9.0, 20.0, 30.0, 40.0, 50.0, 60.0, 70.0, 80.0, 90.0, 200.0, 300.0, 400.0, 500.0, 600.0, 700.0, 800.0, 900.0, 2000.0, 3000.0, 4000.0, 5000.0, 6000.0, 7000.0, 8000.0, 9000.0, 20000.0, 30000.0, 40000.0, 50000.0, 60000.0, 70000.0, 80000.0, 90000.0, 200000.0, 300000.0, 400000.0, 500000.0, 600000.0, 700000.0, 800000.0, 900000.0, 2000000.0, 3000000.0, 4000000.0, 5000000.0, 6000000.0, 7000000.0, 8000000.0, 9000000.0]\n",
      "2018-12-20 20:53:44,674 - matplotlib.ticker - DEBUG - ticker - vmin 0.6351622995324107 vmax 13785.452956584368\n",
      "2018-12-20 20:53:44,675 - matplotlib.ticker - DEBUG - ticker - ticklocs array([1.e-02, 1.e-01, 1.e+00, 1.e+01, 1.e+02, 1.e+03, 1.e+04, 1.e+05,\n",
      "       1.e+06])\n",
      "2018-12-20 20:53:44,677 - matplotlib.ticker - DEBUG - ticker - vmin 0.6351622995324107 vmax 13785.452956584368\n",
      "2018-12-20 20:53:44,678 - matplotlib.ticker - DEBUG - ticker - ticklocs [0.02, 0.03, 0.04, 0.05, 0.06, 0.07, 0.08, 0.09, 0.2, 0.30000000000000004, 0.4, 0.5, 0.6000000000000001, 0.7000000000000001, 0.8, 0.9, 2.0, 3.0, 4.0, 5.0, 6.0, 7.0, 8.0, 9.0, 20.0, 30.0, 40.0, 50.0, 60.0, 70.0, 80.0, 90.0, 200.0, 300.0, 400.0, 500.0, 600.0, 700.0, 800.0, 900.0, 2000.0, 3000.0, 4000.0, 5000.0, 6000.0, 7000.0, 8000.0, 9000.0, 20000.0, 30000.0, 40000.0, 50000.0, 60000.0, 70000.0, 80000.0, 90000.0, 200000.0, 300000.0, 400000.0, 500000.0, 600000.0, 700000.0, 800000.0, 900000.0, 2000000.0, 3000000.0, 4000000.0, 5000000.0, 6000000.0, 7000000.0, 8000000.0, 9000000.0]\n",
      "2018-12-20 20:53:44,695 - matplotlib.ticker - DEBUG - ticker - vmin 1e-06 vmax 7846.3623046875\n",
      "2018-12-20 20:53:44,696 - matplotlib.ticker - DEBUG - ticker - ticklocs array([1.e-07, 1.e-06, 1.e-05, 1.e-04, 1.e-03, 1.e-02, 1.e-01, 1.e+00,\n",
      "       1.e+01, 1.e+02, 1.e+03, 1.e+04, 1.e+05])\n",
      "2018-12-20 20:53:44,715 - matplotlib.ticker - DEBUG - ticker - vmin 1e-06 vmax 7846.3623046875\n",
      "2018-12-20 20:53:44,716 - matplotlib.ticker - DEBUG - ticker - ticklocs [2e-07, 3e-07, 4e-07, 5e-07, 6e-07, 7e-07, 8e-07, 9e-07, 2e-06, 3e-06, 4e-06, 4.9999999999999996e-06, 6e-06, 7e-06, 8e-06, 9e-06, 2e-05, 3.0000000000000004e-05, 4e-05, 5e-05, 6.000000000000001e-05, 7.000000000000001e-05, 8e-05, 9e-05, 0.0002, 0.00030000000000000003, 0.0004, 0.0005, 0.0006000000000000001, 0.0007, 0.0008, 0.0009000000000000001, 0.002, 0.003, 0.004, 0.005, 0.006, 0.007, 0.008, 0.009000000000000001, 0.02, 0.03, 0.04, 0.05, 0.06, 0.07, 0.08, 0.09, 0.2, 0.30000000000000004, 0.4, 0.5, 0.6000000000000001, 0.7000000000000001, 0.8, 0.9, 2.0, 3.0, 4.0, 5.0, 6.0, 7.0, 8.0, 9.0, 20.0, 30.0, 40.0, 50.0, 60.0, 70.0, 80.0, 90.0, 200.0, 300.0, 400.0, 500.0, 600.0, 700.0, 800.0, 900.0, 2000.0, 3000.0, 4000.0, 5000.0, 6000.0, 7000.0, 8000.0, 9000.0, 20000.0, 30000.0, 40000.0, 50000.0, 60000.0, 70000.0, 80000.0, 90000.0, 200000.0, 300000.0, 400000.0, 500000.0, 600000.0, 700000.0, 800000.0, 900000.0]\n",
      "2018-12-20 20:53:44,939 - matplotlib.ticker - DEBUG - ticker - vmin 1e-06 vmax 7846.3623046875\n",
      "2018-12-20 20:53:44,939 - matplotlib.ticker - DEBUG - ticker - ticklocs array([1.e-07, 1.e-06, 1.e-05, 1.e-04, 1.e-03, 1.e-02, 1.e-01, 1.e+00,\n",
      "       1.e+01, 1.e+02, 1.e+03, 1.e+04, 1.e+05])\n",
      "2018-12-20 20:53:44,942 - matplotlib.ticker - DEBUG - ticker - vmin 1e-06 vmax 7846.3623046875\n",
      "2018-12-20 20:53:44,944 - matplotlib.ticker - DEBUG - ticker - ticklocs [2e-07, 3e-07, 4e-07, 5e-07, 6e-07, 7e-07, 8e-07, 9e-07, 2e-06, 3e-06, 4e-06, 4.9999999999999996e-06, 6e-06, 7e-06, 8e-06, 9e-06, 2e-05, 3.0000000000000004e-05, 4e-05, 5e-05, 6.000000000000001e-05, 7.000000000000001e-05, 8e-05, 9e-05, 0.0002, 0.00030000000000000003, 0.0004, 0.0005, 0.0006000000000000001, 0.0007, 0.0008, 0.0009000000000000001, 0.002, 0.003, 0.004, 0.005, 0.006, 0.007, 0.008, 0.009000000000000001, 0.02, 0.03, 0.04, 0.05, 0.06, 0.07, 0.08, 0.09, 0.2, 0.30000000000000004, 0.4, 0.5, 0.6000000000000001, 0.7000000000000001, 0.8, 0.9, 2.0, 3.0, 4.0, 5.0, 6.0, 7.0, 8.0, 9.0, 20.0, 30.0, 40.0, 50.0, 60.0, 70.0, 80.0, 90.0, 200.0, 300.0, 400.0, 500.0, 600.0, 700.0, 800.0, 900.0, 2000.0, 3000.0, 4000.0, 5000.0, 6000.0, 7000.0, 8000.0, 9000.0, 20000.0, 30000.0, 40000.0, 50000.0, 60000.0, 70000.0, 80000.0, 90000.0, 200000.0, 300000.0, 400000.0, 500000.0, 600000.0, 700000.0, 800000.0, 900000.0]\n",
      "2018-12-20 20:53:45,009 - matplotlib.ticker - DEBUG - ticker - vmin 0.6351622995324107 vmax 13785.452956584368\n",
      "2018-12-20 20:53:45,010 - matplotlib.ticker - DEBUG - ticker - ticklocs array([1.e-02, 1.e-01, 1.e+00, 1.e+01, 1.e+02, 1.e+03, 1.e+04, 1.e+05,\n",
      "       1.e+06])\n",
      "2018-12-20 20:53:45,013 - matplotlib.ticker - DEBUG - ticker - vmin 0.6351622995324107 vmax 13785.452956584368\n",
      "2018-12-20 20:53:45,014 - matplotlib.ticker - DEBUG - ticker - ticklocs [0.02, 0.03, 0.04, 0.05, 0.06, 0.07, 0.08, 0.09, 0.2, 0.30000000000000004, 0.4, 0.5, 0.6000000000000001, 0.7000000000000001, 0.8, 0.9, 2.0, 3.0, 4.0, 5.0, 6.0, 7.0, 8.0, 9.0, 20.0, 30.0, 40.0, 50.0, 60.0, 70.0, 80.0, 90.0, 200.0, 300.0, 400.0, 500.0, 600.0, 700.0, 800.0, 900.0, 2000.0, 3000.0, 4000.0, 5000.0, 6000.0, 7000.0, 8000.0, 9000.0, 20000.0, 30000.0, 40000.0, 50000.0, 60000.0, 70000.0, 80000.0, 90000.0, 200000.0, 300000.0, 400000.0, 500000.0, 600000.0, 700000.0, 800000.0, 900000.0, 2000000.0, 3000000.0, 4000000.0, 5000000.0, 6000000.0, 7000000.0, 8000000.0, 9000000.0]\n",
      "2018-12-20 20:53:45,020 - matplotlib.ticker - DEBUG - ticker - vmin 0.6351622995324107 vmax 13785.452956584368\n",
      "2018-12-20 20:53:45,021 - matplotlib.ticker - DEBUG - ticker - ticklocs array([1.e-02, 1.e-01, 1.e+00, 1.e+01, 1.e+02, 1.e+03, 1.e+04, 1.e+05,\n",
      "       1.e+06])\n",
      "2018-12-20 20:53:45,025 - matplotlib.ticker - DEBUG - ticker - vmin 0.6351622995324107 vmax 13785.452956584368\n",
      "2018-12-20 20:53:45,026 - matplotlib.ticker - DEBUG - ticker - ticklocs [0.02, 0.03, 0.04, 0.05, 0.06, 0.07, 0.08, 0.09, 0.2, 0.30000000000000004, 0.4, 0.5, 0.6000000000000001, 0.7000000000000001, 0.8, 0.9, 2.0, 3.0, 4.0, 5.0, 6.0, 7.0, 8.0, 9.0, 20.0, 30.0, 40.0, 50.0, 60.0, 70.0, 80.0, 90.0, 200.0, 300.0, 400.0, 500.0, 600.0, 700.0, 800.0, 900.0, 2000.0, 3000.0, 4000.0, 5000.0, 6000.0, 7000.0, 8000.0, 9000.0, 20000.0, 30000.0, 40000.0, 50000.0, 60000.0, 70000.0, 80000.0, 90000.0, 200000.0, 300000.0, 400000.0, 500000.0, 600000.0, 700000.0, 800000.0, 900000.0, 2000000.0, 3000000.0, 4000000.0, 5000000.0, 6000000.0, 7000000.0, 8000000.0, 9000000.0]\n",
      "2018-12-20 20:53:45,049 - matplotlib.axes._base - DEBUG - _base - update_title_pos\n",
      "2018-12-20 20:53:45,051 - matplotlib.ticker - DEBUG - ticker - vmin 1e-06 vmax 7846.3623046875\n",
      "2018-12-20 20:53:45,052 - matplotlib.ticker - DEBUG - ticker - ticklocs array([1.e-07, 1.e-06, 1.e-05, 1.e-04, 1.e-03, 1.e-02, 1.e-01, 1.e+00,\n",
      "       1.e+01, 1.e+02, 1.e+03, 1.e+04, 1.e+05])\n",
      "2018-12-20 20:53:45,065 - matplotlib.ticker - DEBUG - ticker - vmin 1e-06 vmax 7846.3623046875\n",
      "2018-12-20 20:53:45,066 - matplotlib.ticker - DEBUG - ticker - ticklocs [2e-07, 3e-07, 4e-07, 5e-07, 6e-07, 7e-07, 8e-07, 9e-07, 2e-06, 3e-06, 4e-06, 4.9999999999999996e-06, 6e-06, 7e-06, 8e-06, 9e-06, 2e-05, 3.0000000000000004e-05, 4e-05, 5e-05, 6.000000000000001e-05, 7.000000000000001e-05, 8e-05, 9e-05, 0.0002, 0.00030000000000000003, 0.0004, 0.0005, 0.0006000000000000001, 0.0007, 0.0008, 0.0009000000000000001, 0.002, 0.003, 0.004, 0.005, 0.006, 0.007, 0.008, 0.009000000000000001, 0.02, 0.03, 0.04, 0.05, 0.06, 0.07, 0.08, 0.09, 0.2, 0.30000000000000004, 0.4, 0.5, 0.6000000000000001, 0.7000000000000001, 0.8, 0.9, 2.0, 3.0, 4.0, 5.0, 6.0, 7.0, 8.0, 9.0, 20.0, 30.0, 40.0, 50.0, 60.0, 70.0, 80.0, 90.0, 200.0, 300.0, 400.0, 500.0, 600.0, 700.0, 800.0, 900.0, 2000.0, 3000.0, 4000.0, 5000.0, 6000.0, 7000.0, 8000.0, 9000.0, 20000.0, 30000.0, 40000.0, 50000.0, 60000.0, 70000.0, 80000.0, 90000.0, 200000.0, 300000.0, 400000.0, 500000.0, 600000.0, 700000.0, 800000.0, 900000.0]\n"
     ]
    },
    {
     "name": "stderr",
     "output_type": "stream",
     "text": [
      "2018-12-20 20:53:45,080 - matplotlib.ticker - DEBUG - ticker - vmin 1e-06 vmax 7846.3623046875\n",
      "2018-12-20 20:53:45,081 - matplotlib.ticker - DEBUG - ticker - ticklocs array([1.e-07, 1.e-06, 1.e-05, 1.e-04, 1.e-03, 1.e-02, 1.e-01, 1.e+00,\n",
      "       1.e+01, 1.e+02, 1.e+03, 1.e+04, 1.e+05])\n",
      "2018-12-20 20:53:45,087 - matplotlib.ticker - DEBUG - ticker - vmin 1e-06 vmax 7846.3623046875\n",
      "2018-12-20 20:53:45,088 - matplotlib.ticker - DEBUG - ticker - ticklocs [2e-07, 3e-07, 4e-07, 5e-07, 6e-07, 7e-07, 8e-07, 9e-07, 2e-06, 3e-06, 4e-06, 4.9999999999999996e-06, 6e-06, 7e-06, 8e-06, 9e-06, 2e-05, 3.0000000000000004e-05, 4e-05, 5e-05, 6.000000000000001e-05, 7.000000000000001e-05, 8e-05, 9e-05, 0.0002, 0.00030000000000000003, 0.0004, 0.0005, 0.0006000000000000001, 0.0007, 0.0008, 0.0009000000000000001, 0.002, 0.003, 0.004, 0.005, 0.006, 0.007, 0.008, 0.009000000000000001, 0.02, 0.03, 0.04, 0.05, 0.06, 0.07, 0.08, 0.09, 0.2, 0.30000000000000004, 0.4, 0.5, 0.6000000000000001, 0.7000000000000001, 0.8, 0.9, 2.0, 3.0, 4.0, 5.0, 6.0, 7.0, 8.0, 9.0, 20.0, 30.0, 40.0, 50.0, 60.0, 70.0, 80.0, 90.0, 200.0, 300.0, 400.0, 500.0, 600.0, 700.0, 800.0, 900.0, 2000.0, 3000.0, 4000.0, 5000.0, 6000.0, 7000.0, 8000.0, 9000.0, 20000.0, 30000.0, 40000.0, 50000.0, 60000.0, 70000.0, 80000.0, 90000.0, 200000.0, 300000.0, 400000.0, 500000.0, 600000.0, 700000.0, 800000.0, 900000.0]\n",
      "2018-12-20 20:53:45,135 - matplotlib.ticker - DEBUG - ticker - vmin 0.6351622995324107 vmax 13785.452956584368\n",
      "2018-12-20 20:53:45,136 - matplotlib.ticker - DEBUG - ticker - ticklocs array([1.e-02, 1.e-01, 1.e+00, 1.e+01, 1.e+02, 1.e+03, 1.e+04, 1.e+05,\n",
      "       1.e+06])\n",
      "2018-12-20 20:53:45,138 - matplotlib.ticker - DEBUG - ticker - vmin 0.6351622995324107 vmax 13785.452956584368\n",
      "2018-12-20 20:53:45,141 - matplotlib.ticker - DEBUG - ticker - ticklocs [0.02, 0.03, 0.04, 0.05, 0.06, 0.07, 0.08, 0.09, 0.2, 0.30000000000000004, 0.4, 0.5, 0.6000000000000001, 0.7000000000000001, 0.8, 0.9, 2.0, 3.0, 4.0, 5.0, 6.0, 7.0, 8.0, 9.0, 20.0, 30.0, 40.0, 50.0, 60.0, 70.0, 80.0, 90.0, 200.0, 300.0, 400.0, 500.0, 600.0, 700.0, 800.0, 900.0, 2000.0, 3000.0, 4000.0, 5000.0, 6000.0, 7000.0, 8000.0, 9000.0, 20000.0, 30000.0, 40000.0, 50000.0, 60000.0, 70000.0, 80000.0, 90000.0, 200000.0, 300000.0, 400000.0, 500000.0, 600000.0, 700000.0, 800000.0, 900000.0, 2000000.0, 3000000.0, 4000000.0, 5000000.0, 6000000.0, 7000000.0, 8000000.0, 9000000.0]\n",
      "2018-12-20 20:53:45,149 - matplotlib.ticker - DEBUG - ticker - vmin 0.6351622995324107 vmax 13785.452956584368\n",
      "2018-12-20 20:53:45,149 - matplotlib.ticker - DEBUG - ticker - ticklocs array([1.e-02, 1.e-01, 1.e+00, 1.e+01, 1.e+02, 1.e+03, 1.e+04, 1.e+05,\n",
      "       1.e+06])\n",
      "2018-12-20 20:53:45,151 - matplotlib.ticker - DEBUG - ticker - vmin 0.6351622995324107 vmax 13785.452956584368\n",
      "2018-12-20 20:53:45,155 - matplotlib.ticker - DEBUG - ticker - ticklocs [0.02, 0.03, 0.04, 0.05, 0.06, 0.07, 0.08, 0.09, 0.2, 0.30000000000000004, 0.4, 0.5, 0.6000000000000001, 0.7000000000000001, 0.8, 0.9, 2.0, 3.0, 4.0, 5.0, 6.0, 7.0, 8.0, 9.0, 20.0, 30.0, 40.0, 50.0, 60.0, 70.0, 80.0, 90.0, 200.0, 300.0, 400.0, 500.0, 600.0, 700.0, 800.0, 900.0, 2000.0, 3000.0, 4000.0, 5000.0, 6000.0, 7000.0, 8000.0, 9000.0, 20000.0, 30000.0, 40000.0, 50000.0, 60000.0, 70000.0, 80000.0, 90000.0, 200000.0, 300000.0, 400000.0, 500000.0, 600000.0, 700000.0, 800000.0, 900000.0, 2000000.0, 3000000.0, 4000000.0, 5000000.0, 6000000.0, 7000000.0, 8000000.0, 9000000.0]\n",
      "2018-12-20 20:53:45,174 - matplotlib.ticker - DEBUG - ticker - vmin 1e-06 vmax 7846.3623046875\n",
      "2018-12-20 20:53:45,175 - matplotlib.ticker - DEBUG - ticker - ticklocs array([1.e-07, 1.e-06, 1.e-05, 1.e-04, 1.e-03, 1.e-02, 1.e-01, 1.e+00,\n",
      "       1.e+01, 1.e+02, 1.e+03, 1.e+04, 1.e+05])\n",
      "2018-12-20 20:53:45,179 - matplotlib.ticker - DEBUG - ticker - vmin 1e-06 vmax 7846.3623046875\n",
      "2018-12-20 20:53:45,179 - matplotlib.ticker - DEBUG - ticker - ticklocs [2e-07, 3e-07, 4e-07, 5e-07, 6e-07, 7e-07, 8e-07, 9e-07, 2e-06, 3e-06, 4e-06, 4.9999999999999996e-06, 6e-06, 7e-06, 8e-06, 9e-06, 2e-05, 3.0000000000000004e-05, 4e-05, 5e-05, 6.000000000000001e-05, 7.000000000000001e-05, 8e-05, 9e-05, 0.0002, 0.00030000000000000003, 0.0004, 0.0005, 0.0006000000000000001, 0.0007, 0.0008, 0.0009000000000000001, 0.002, 0.003, 0.004, 0.005, 0.006, 0.007, 0.008, 0.009000000000000001, 0.02, 0.03, 0.04, 0.05, 0.06, 0.07, 0.08, 0.09, 0.2, 0.30000000000000004, 0.4, 0.5, 0.6000000000000001, 0.7000000000000001, 0.8, 0.9, 2.0, 3.0, 4.0, 5.0, 6.0, 7.0, 8.0, 9.0, 20.0, 30.0, 40.0, 50.0, 60.0, 70.0, 80.0, 90.0, 200.0, 300.0, 400.0, 500.0, 600.0, 700.0, 800.0, 900.0, 2000.0, 3000.0, 4000.0, 5000.0, 6000.0, 7000.0, 8000.0, 9000.0, 20000.0, 30000.0, 40000.0, 50000.0, 60000.0, 70000.0, 80000.0, 90000.0, 200000.0, 300000.0, 400000.0, 500000.0, 600000.0, 700000.0, 800000.0, 900000.0]\n",
      "2018-12-20 20:53:45,189 - matplotlib.ticker - DEBUG - ticker - vmin 1e-06 vmax 7846.3623046875\n",
      "2018-12-20 20:53:45,191 - matplotlib.ticker - DEBUG - ticker - ticklocs array([1.e-07, 1.e-06, 1.e-05, 1.e-04, 1.e-03, 1.e-02, 1.e-01, 1.e+00,\n",
      "       1.e+01, 1.e+02, 1.e+03, 1.e+04, 1.e+05])\n",
      "2018-12-20 20:53:45,196 - matplotlib.ticker - DEBUG - ticker - vmin 1e-06 vmax 7846.3623046875\n",
      "2018-12-20 20:53:45,197 - matplotlib.ticker - DEBUG - ticker - ticklocs [2e-07, 3e-07, 4e-07, 5e-07, 6e-07, 7e-07, 8e-07, 9e-07, 2e-06, 3e-06, 4e-06, 4.9999999999999996e-06, 6e-06, 7e-06, 8e-06, 9e-06, 2e-05, 3.0000000000000004e-05, 4e-05, 5e-05, 6.000000000000001e-05, 7.000000000000001e-05, 8e-05, 9e-05, 0.0002, 0.00030000000000000003, 0.0004, 0.0005, 0.0006000000000000001, 0.0007, 0.0008, 0.0009000000000000001, 0.002, 0.003, 0.004, 0.005, 0.006, 0.007, 0.008, 0.009000000000000001, 0.02, 0.03, 0.04, 0.05, 0.06, 0.07, 0.08, 0.09, 0.2, 0.30000000000000004, 0.4, 0.5, 0.6000000000000001, 0.7000000000000001, 0.8, 0.9, 2.0, 3.0, 4.0, 5.0, 6.0, 7.0, 8.0, 9.0, 20.0, 30.0, 40.0, 50.0, 60.0, 70.0, 80.0, 90.0, 200.0, 300.0, 400.0, 500.0, 600.0, 700.0, 800.0, 900.0, 2000.0, 3000.0, 4000.0, 5000.0, 6000.0, 7000.0, 8000.0, 9000.0, 20000.0, 30000.0, 40000.0, 50000.0, 60000.0, 70000.0, 80000.0, 90000.0, 200000.0, 300000.0, 400000.0, 500000.0, 600000.0, 700000.0, 800000.0, 900000.0]\n",
      "2018-12-20 20:53:45,250 - matplotlib.ticker - DEBUG - ticker - vmin 0.6351622995324107 vmax 13785.452956584368\n",
      "2018-12-20 20:53:45,251 - matplotlib.ticker - DEBUG - ticker - ticklocs array([1.e-02, 1.e-01, 1.e+00, 1.e+01, 1.e+02, 1.e+03, 1.e+04, 1.e+05,\n",
      "       1.e+06])\n",
      "2018-12-20 20:53:45,257 - matplotlib.ticker - DEBUG - ticker - vmin 0.6351622995324107 vmax 13785.452956584368\n",
      "2018-12-20 20:53:45,259 - matplotlib.ticker - DEBUG - ticker - ticklocs [0.02, 0.03, 0.04, 0.05, 0.06, 0.07, 0.08, 0.09, 0.2, 0.30000000000000004, 0.4, 0.5, 0.6000000000000001, 0.7000000000000001, 0.8, 0.9, 2.0, 3.0, 4.0, 5.0, 6.0, 7.0, 8.0, 9.0, 20.0, 30.0, 40.0, 50.0, 60.0, 70.0, 80.0, 90.0, 200.0, 300.0, 400.0, 500.0, 600.0, 700.0, 800.0, 900.0, 2000.0, 3000.0, 4000.0, 5000.0, 6000.0, 7000.0, 8000.0, 9000.0, 20000.0, 30000.0, 40000.0, 50000.0, 60000.0, 70000.0, 80000.0, 90000.0, 200000.0, 300000.0, 400000.0, 500000.0, 600000.0, 700000.0, 800000.0, 900000.0, 2000000.0, 3000000.0, 4000000.0, 5000000.0, 6000000.0, 7000000.0, 8000000.0, 9000000.0]\n",
      "2018-12-20 20:53:45,266 - matplotlib.ticker - DEBUG - ticker - vmin 0.6351622995324107 vmax 13785.452956584368\n",
      "2018-12-20 20:53:45,271 - matplotlib.ticker - DEBUG - ticker - ticklocs array([1.e-02, 1.e-01, 1.e+00, 1.e+01, 1.e+02, 1.e+03, 1.e+04, 1.e+05,\n",
      "       1.e+06])\n",
      "2018-12-20 20:53:45,278 - matplotlib.ticker - DEBUG - ticker - vmin 0.6351622995324107 vmax 13785.452956584368\n",
      "2018-12-20 20:53:45,284 - matplotlib.ticker - DEBUG - ticker - ticklocs [0.02, 0.03, 0.04, 0.05, 0.06, 0.07, 0.08, 0.09, 0.2, 0.30000000000000004, 0.4, 0.5, 0.6000000000000001, 0.7000000000000001, 0.8, 0.9, 2.0, 3.0, 4.0, 5.0, 6.0, 7.0, 8.0, 9.0, 20.0, 30.0, 40.0, 50.0, 60.0, 70.0, 80.0, 90.0, 200.0, 300.0, 400.0, 500.0, 600.0, 700.0, 800.0, 900.0, 2000.0, 3000.0, 4000.0, 5000.0, 6000.0, 7000.0, 8000.0, 9000.0, 20000.0, 30000.0, 40000.0, 50000.0, 60000.0, 70000.0, 80000.0, 90000.0, 200000.0, 300000.0, 400000.0, 500000.0, 600000.0, 700000.0, 800000.0, 900000.0, 2000000.0, 3000000.0, 4000000.0, 5000000.0, 6000000.0, 7000000.0, 8000000.0, 9000000.0]\n"
     ]
    },
    {
     "name": "stderr",
     "output_type": "stream",
     "text": [
      "2018-12-20 20:53:45,302 - matplotlib.ticker - DEBUG - ticker - vmin 1e-06 vmax 7846.3623046875\n",
      "2018-12-20 20:53:45,302 - matplotlib.ticker - DEBUG - ticker - ticklocs array([1.e-07, 1.e-06, 1.e-05, 1.e-04, 1.e-03, 1.e-02, 1.e-01, 1.e+00,\n",
      "       1.e+01, 1.e+02, 1.e+03, 1.e+04, 1.e+05])\n",
      "2018-12-20 20:53:45,305 - matplotlib.ticker - DEBUG - ticker - vmin 1e-06 vmax 7846.3623046875\n",
      "2018-12-20 20:53:45,314 - matplotlib.ticker - DEBUG - ticker - ticklocs [2e-07, 3e-07, 4e-07, 5e-07, 6e-07, 7e-07, 8e-07, 9e-07, 2e-06, 3e-06, 4e-06, 4.9999999999999996e-06, 6e-06, 7e-06, 8e-06, 9e-06, 2e-05, 3.0000000000000004e-05, 4e-05, 5e-05, 6.000000000000001e-05, 7.000000000000001e-05, 8e-05, 9e-05, 0.0002, 0.00030000000000000003, 0.0004, 0.0005, 0.0006000000000000001, 0.0007, 0.0008, 0.0009000000000000001, 0.002, 0.003, 0.004, 0.005, 0.006, 0.007, 0.008, 0.009000000000000001, 0.02, 0.03, 0.04, 0.05, 0.06, 0.07, 0.08, 0.09, 0.2, 0.30000000000000004, 0.4, 0.5, 0.6000000000000001, 0.7000000000000001, 0.8, 0.9, 2.0, 3.0, 4.0, 5.0, 6.0, 7.0, 8.0, 9.0, 20.0, 30.0, 40.0, 50.0, 60.0, 70.0, 80.0, 90.0, 200.0, 300.0, 400.0, 500.0, 600.0, 700.0, 800.0, 900.0, 2000.0, 3000.0, 4000.0, 5000.0, 6000.0, 7000.0, 8000.0, 9000.0, 20000.0, 30000.0, 40000.0, 50000.0, 60000.0, 70000.0, 80000.0, 90000.0, 200000.0, 300000.0, 400000.0, 500000.0, 600000.0, 700000.0, 800000.0, 900000.0]\n",
      "2018-12-20 20:53:45,321 - matplotlib.ticker - DEBUG - ticker - vmin 1e-06 vmax 7846.3623046875\n",
      "2018-12-20 20:53:45,322 - matplotlib.ticker - DEBUG - ticker - ticklocs array([1.e-07, 1.e-06, 1.e-05, 1.e-04, 1.e-03, 1.e-02, 1.e-01, 1.e+00,\n",
      "       1.e+01, 1.e+02, 1.e+03, 1.e+04, 1.e+05])\n",
      "2018-12-20 20:53:45,325 - matplotlib.ticker - DEBUG - ticker - vmin 1e-06 vmax 7846.3623046875\n",
      "2018-12-20 20:53:45,328 - matplotlib.ticker - DEBUG - ticker - ticklocs [2e-07, 3e-07, 4e-07, 5e-07, 6e-07, 7e-07, 8e-07, 9e-07, 2e-06, 3e-06, 4e-06, 4.9999999999999996e-06, 6e-06, 7e-06, 8e-06, 9e-06, 2e-05, 3.0000000000000004e-05, 4e-05, 5e-05, 6.000000000000001e-05, 7.000000000000001e-05, 8e-05, 9e-05, 0.0002, 0.00030000000000000003, 0.0004, 0.0005, 0.0006000000000000001, 0.0007, 0.0008, 0.0009000000000000001, 0.002, 0.003, 0.004, 0.005, 0.006, 0.007, 0.008, 0.009000000000000001, 0.02, 0.03, 0.04, 0.05, 0.06, 0.07, 0.08, 0.09, 0.2, 0.30000000000000004, 0.4, 0.5, 0.6000000000000001, 0.7000000000000001, 0.8, 0.9, 2.0, 3.0, 4.0, 5.0, 6.0, 7.0, 8.0, 9.0, 20.0, 30.0, 40.0, 50.0, 60.0, 70.0, 80.0, 90.0, 200.0, 300.0, 400.0, 500.0, 600.0, 700.0, 800.0, 900.0, 2000.0, 3000.0, 4000.0, 5000.0, 6000.0, 7000.0, 8000.0, 9000.0, 20000.0, 30000.0, 40000.0, 50000.0, 60000.0, 70000.0, 80000.0, 90000.0, 200000.0, 300000.0, 400000.0, 500000.0, 600000.0, 700000.0, 800000.0, 900000.0]\n",
      "2018-12-20 20:53:45,366 - matplotlib.ticker - DEBUG - ticker - vmin 0.6351622995324107 vmax 13785.452956584368\n",
      "2018-12-20 20:53:45,367 - matplotlib.ticker - DEBUG - ticker - ticklocs array([1.e-02, 1.e-01, 1.e+00, 1.e+01, 1.e+02, 1.e+03, 1.e+04, 1.e+05,\n",
      "       1.e+06])\n",
      "2018-12-20 20:53:45,369 - matplotlib.ticker - DEBUG - ticker - vmin 0.6351622995324107 vmax 13785.452956584368\n",
      "2018-12-20 20:53:45,370 - matplotlib.ticker - DEBUG - ticker - ticklocs [0.02, 0.03, 0.04, 0.05, 0.06, 0.07, 0.08, 0.09, 0.2, 0.30000000000000004, 0.4, 0.5, 0.6000000000000001, 0.7000000000000001, 0.8, 0.9, 2.0, 3.0, 4.0, 5.0, 6.0, 7.0, 8.0, 9.0, 20.0, 30.0, 40.0, 50.0, 60.0, 70.0, 80.0, 90.0, 200.0, 300.0, 400.0, 500.0, 600.0, 700.0, 800.0, 900.0, 2000.0, 3000.0, 4000.0, 5000.0, 6000.0, 7000.0, 8000.0, 9000.0, 20000.0, 30000.0, 40000.0, 50000.0, 60000.0, 70000.0, 80000.0, 90000.0, 200000.0, 300000.0, 400000.0, 500000.0, 600000.0, 700000.0, 800000.0, 900000.0, 2000000.0, 3000000.0, 4000000.0, 5000000.0, 6000000.0, 7000000.0, 8000000.0, 9000000.0]\n",
      "2018-12-20 20:53:45,375 - matplotlib.ticker - DEBUG - ticker - vmin 0.6351622995324107 vmax 13785.452956584368\n",
      "2018-12-20 20:53:45,376 - matplotlib.ticker - DEBUG - ticker - ticklocs array([1.e-02, 1.e-01, 1.e+00, 1.e+01, 1.e+02, 1.e+03, 1.e+04, 1.e+05,\n",
      "       1.e+06])\n",
      "2018-12-20 20:53:45,379 - matplotlib.ticker - DEBUG - ticker - vmin 0.6351622995324107 vmax 13785.452956584368\n",
      "2018-12-20 20:53:45,382 - matplotlib.ticker - DEBUG - ticker - ticklocs [0.02, 0.03, 0.04, 0.05, 0.06, 0.07, 0.08, 0.09, 0.2, 0.30000000000000004, 0.4, 0.5, 0.6000000000000001, 0.7000000000000001, 0.8, 0.9, 2.0, 3.0, 4.0, 5.0, 6.0, 7.0, 8.0, 9.0, 20.0, 30.0, 40.0, 50.0, 60.0, 70.0, 80.0, 90.0, 200.0, 300.0, 400.0, 500.0, 600.0, 700.0, 800.0, 900.0, 2000.0, 3000.0, 4000.0, 5000.0, 6000.0, 7000.0, 8000.0, 9000.0, 20000.0, 30000.0, 40000.0, 50000.0, 60000.0, 70000.0, 80000.0, 90000.0, 200000.0, 300000.0, 400000.0, 500000.0, 600000.0, 700000.0, 800000.0, 900000.0, 2000000.0, 3000000.0, 4000000.0, 5000000.0, 6000000.0, 7000000.0, 8000000.0, 9000000.0]\n",
      "2018-12-20 20:53:45,401 - matplotlib.axes._base - DEBUG - _base - update_title_pos\n",
      "2018-12-20 20:53:45,403 - matplotlib.ticker - DEBUG - ticker - vmin 1e-06 vmax 7846.3623046875\n",
      "2018-12-20 20:53:45,403 - matplotlib.ticker - DEBUG - ticker - ticklocs array([1.e-07, 1.e-06, 1.e-05, 1.e-04, 1.e-03, 1.e-02, 1.e-01, 1.e+00,\n",
      "       1.e+01, 1.e+02, 1.e+03, 1.e+04, 1.e+05])\n",
      "2018-12-20 20:53:45,406 - matplotlib.ticker - DEBUG - ticker - vmin 1e-06 vmax 7846.3623046875\n",
      "2018-12-20 20:53:45,407 - matplotlib.ticker - DEBUG - ticker - ticklocs [2e-07, 3e-07, 4e-07, 5e-07, 6e-07, 7e-07, 8e-07, 9e-07, 2e-06, 3e-06, 4e-06, 4.9999999999999996e-06, 6e-06, 7e-06, 8e-06, 9e-06, 2e-05, 3.0000000000000004e-05, 4e-05, 5e-05, 6.000000000000001e-05, 7.000000000000001e-05, 8e-05, 9e-05, 0.0002, 0.00030000000000000003, 0.0004, 0.0005, 0.0006000000000000001, 0.0007, 0.0008, 0.0009000000000000001, 0.002, 0.003, 0.004, 0.005, 0.006, 0.007, 0.008, 0.009000000000000001, 0.02, 0.03, 0.04, 0.05, 0.06, 0.07, 0.08, 0.09, 0.2, 0.30000000000000004, 0.4, 0.5, 0.6000000000000001, 0.7000000000000001, 0.8, 0.9, 2.0, 3.0, 4.0, 5.0, 6.0, 7.0, 8.0, 9.0, 20.0, 30.0, 40.0, 50.0, 60.0, 70.0, 80.0, 90.0, 200.0, 300.0, 400.0, 500.0, 600.0, 700.0, 800.0, 900.0, 2000.0, 3000.0, 4000.0, 5000.0, 6000.0, 7000.0, 8000.0, 9000.0, 20000.0, 30000.0, 40000.0, 50000.0, 60000.0, 70000.0, 80000.0, 90000.0, 200000.0, 300000.0, 400000.0, 500000.0, 600000.0, 700000.0, 800000.0, 900000.0]\n",
      "2018-12-20 20:53:45,416 - matplotlib.ticker - DEBUG - ticker - vmin 1e-06 vmax 7846.3623046875\n",
      "2018-12-20 20:53:45,417 - matplotlib.ticker - DEBUG - ticker - ticklocs array([1.e-07, 1.e-06, 1.e-05, 1.e-04, 1.e-03, 1.e-02, 1.e-01, 1.e+00,\n",
      "       1.e+01, 1.e+02, 1.e+03, 1.e+04, 1.e+05])\n",
      "2018-12-20 20:53:45,421 - matplotlib.ticker - DEBUG - ticker - vmin 1e-06 vmax 7846.3623046875\n",
      "2018-12-20 20:53:45,421 - matplotlib.ticker - DEBUG - ticker - ticklocs [2e-07, 3e-07, 4e-07, 5e-07, 6e-07, 7e-07, 8e-07, 9e-07, 2e-06, 3e-06, 4e-06, 4.9999999999999996e-06, 6e-06, 7e-06, 8e-06, 9e-06, 2e-05, 3.0000000000000004e-05, 4e-05, 5e-05, 6.000000000000001e-05, 7.000000000000001e-05, 8e-05, 9e-05, 0.0002, 0.00030000000000000003, 0.0004, 0.0005, 0.0006000000000000001, 0.0007, 0.0008, 0.0009000000000000001, 0.002, 0.003, 0.004, 0.005, 0.006, 0.007, 0.008, 0.009000000000000001, 0.02, 0.03, 0.04, 0.05, 0.06, 0.07, 0.08, 0.09, 0.2, 0.30000000000000004, 0.4, 0.5, 0.6000000000000001, 0.7000000000000001, 0.8, 0.9, 2.0, 3.0, 4.0, 5.0, 6.0, 7.0, 8.0, 9.0, 20.0, 30.0, 40.0, 50.0, 60.0, 70.0, 80.0, 90.0, 200.0, 300.0, 400.0, 500.0, 600.0, 700.0, 800.0, 900.0, 2000.0, 3000.0, 4000.0, 5000.0, 6000.0, 7000.0, 8000.0, 9000.0, 20000.0, 30000.0, 40000.0, 50000.0, 60000.0, 70000.0, 80000.0, 90000.0, 200000.0, 300000.0, 400000.0, 500000.0, 600000.0, 700000.0, 800000.0, 900000.0]\n",
      "2018-12-20 20:53:45,463 - matplotlib.ticker - DEBUG - ticker - vmin 0.6351622995324107 vmax 13785.452956584368\n",
      "2018-12-20 20:53:45,464 - matplotlib.ticker - DEBUG - ticker - ticklocs array([1.e-02, 1.e-01, 1.e+00, 1.e+01, 1.e+02, 1.e+03, 1.e+04, 1.e+05,\n",
      "       1.e+06])\n",
      "2018-12-20 20:53:45,466 - matplotlib.ticker - DEBUG - ticker - vmin 0.6351622995324107 vmax 13785.452956584368\n",
      "2018-12-20 20:53:45,467 - matplotlib.ticker - DEBUG - ticker - ticklocs [0.02, 0.03, 0.04, 0.05, 0.06, 0.07, 0.08, 0.09, 0.2, 0.30000000000000004, 0.4, 0.5, 0.6000000000000001, 0.7000000000000001, 0.8, 0.9, 2.0, 3.0, 4.0, 5.0, 6.0, 7.0, 8.0, 9.0, 20.0, 30.0, 40.0, 50.0, 60.0, 70.0, 80.0, 90.0, 200.0, 300.0, 400.0, 500.0, 600.0, 700.0, 800.0, 900.0, 2000.0, 3000.0, 4000.0, 5000.0, 6000.0, 7000.0, 8000.0, 9000.0, 20000.0, 30000.0, 40000.0, 50000.0, 60000.0, 70000.0, 80000.0, 90000.0, 200000.0, 300000.0, 400000.0, 500000.0, 600000.0, 700000.0, 800000.0, 900000.0, 2000000.0, 3000000.0, 4000000.0, 5000000.0, 6000000.0, 7000000.0, 8000000.0, 9000000.0]\n"
     ]
    },
    {
     "name": "stderr",
     "output_type": "stream",
     "text": [
      "2018-12-20 20:53:45,473 - matplotlib.ticker - DEBUG - ticker - vmin 0.6351622995324107 vmax 13785.452956584368\n",
      "2018-12-20 20:53:45,474 - matplotlib.ticker - DEBUG - ticker - ticklocs array([1.e-02, 1.e-01, 1.e+00, 1.e+01, 1.e+02, 1.e+03, 1.e+04, 1.e+05,\n",
      "       1.e+06])\n",
      "2018-12-20 20:53:45,477 - matplotlib.ticker - DEBUG - ticker - vmin 0.6351622995324107 vmax 13785.452956584368\n",
      "2018-12-20 20:53:45,478 - matplotlib.ticker - DEBUG - ticker - ticklocs [0.02, 0.03, 0.04, 0.05, 0.06, 0.07, 0.08, 0.09, 0.2, 0.30000000000000004, 0.4, 0.5, 0.6000000000000001, 0.7000000000000001, 0.8, 0.9, 2.0, 3.0, 4.0, 5.0, 6.0, 7.0, 8.0, 9.0, 20.0, 30.0, 40.0, 50.0, 60.0, 70.0, 80.0, 90.0, 200.0, 300.0, 400.0, 500.0, 600.0, 700.0, 800.0, 900.0, 2000.0, 3000.0, 4000.0, 5000.0, 6000.0, 7000.0, 8000.0, 9000.0, 20000.0, 30000.0, 40000.0, 50000.0, 60000.0, 70000.0, 80000.0, 90000.0, 200000.0, 300000.0, 400000.0, 500000.0, 600000.0, 700000.0, 800000.0, 900000.0, 2000000.0, 3000000.0, 4000000.0, 5000000.0, 6000000.0, 7000000.0, 8000000.0, 9000000.0]\n",
      "2018-12-20 20:53:45,500 - matplotlib.ticker - DEBUG - ticker - vmin 1e-06 vmax 7846.3623046875\n",
      "2018-12-20 20:53:45,501 - matplotlib.ticker - DEBUG - ticker - ticklocs array([1.e-07, 1.e-06, 1.e-05, 1.e-04, 1.e-03, 1.e-02, 1.e-01, 1.e+00,\n",
      "       1.e+01, 1.e+02, 1.e+03, 1.e+04, 1.e+05])\n",
      "2018-12-20 20:53:45,503 - matplotlib.ticker - DEBUG - ticker - vmin 1e-06 vmax 7846.3623046875\n",
      "2018-12-20 20:53:45,504 - matplotlib.ticker - DEBUG - ticker - ticklocs [2e-07, 3e-07, 4e-07, 5e-07, 6e-07, 7e-07, 8e-07, 9e-07, 2e-06, 3e-06, 4e-06, 4.9999999999999996e-06, 6e-06, 7e-06, 8e-06, 9e-06, 2e-05, 3.0000000000000004e-05, 4e-05, 5e-05, 6.000000000000001e-05, 7.000000000000001e-05, 8e-05, 9e-05, 0.0002, 0.00030000000000000003, 0.0004, 0.0005, 0.0006000000000000001, 0.0007, 0.0008, 0.0009000000000000001, 0.002, 0.003, 0.004, 0.005, 0.006, 0.007, 0.008, 0.009000000000000001, 0.02, 0.03, 0.04, 0.05, 0.06, 0.07, 0.08, 0.09, 0.2, 0.30000000000000004, 0.4, 0.5, 0.6000000000000001, 0.7000000000000001, 0.8, 0.9, 2.0, 3.0, 4.0, 5.0, 6.0, 7.0, 8.0, 9.0, 20.0, 30.0, 40.0, 50.0, 60.0, 70.0, 80.0, 90.0, 200.0, 300.0, 400.0, 500.0, 600.0, 700.0, 800.0, 900.0, 2000.0, 3000.0, 4000.0, 5000.0, 6000.0, 7000.0, 8000.0, 9000.0, 20000.0, 30000.0, 40000.0, 50000.0, 60000.0, 70000.0, 80000.0, 90000.0, 200000.0, 300000.0, 400000.0, 500000.0, 600000.0, 700000.0, 800000.0, 900000.0]\n",
      "2018-12-20 20:53:45,511 - matplotlib.ticker - DEBUG - ticker - vmin 1e-06 vmax 7846.3623046875\n",
      "2018-12-20 20:53:45,512 - matplotlib.ticker - DEBUG - ticker - ticklocs array([1.e-07, 1.e-06, 1.e-05, 1.e-04, 1.e-03, 1.e-02, 1.e-01, 1.e+00,\n",
      "       1.e+01, 1.e+02, 1.e+03, 1.e+04, 1.e+05])\n",
      "2018-12-20 20:53:45,515 - matplotlib.ticker - DEBUG - ticker - vmin 1e-06 vmax 7846.3623046875\n",
      "2018-12-20 20:53:45,516 - matplotlib.ticker - DEBUG - ticker - ticklocs [2e-07, 3e-07, 4e-07, 5e-07, 6e-07, 7e-07, 8e-07, 9e-07, 2e-06, 3e-06, 4e-06, 4.9999999999999996e-06, 6e-06, 7e-06, 8e-06, 9e-06, 2e-05, 3.0000000000000004e-05, 4e-05, 5e-05, 6.000000000000001e-05, 7.000000000000001e-05, 8e-05, 9e-05, 0.0002, 0.00030000000000000003, 0.0004, 0.0005, 0.0006000000000000001, 0.0007, 0.0008, 0.0009000000000000001, 0.002, 0.003, 0.004, 0.005, 0.006, 0.007, 0.008, 0.009000000000000001, 0.02, 0.03, 0.04, 0.05, 0.06, 0.07, 0.08, 0.09, 0.2, 0.30000000000000004, 0.4, 0.5, 0.6000000000000001, 0.7000000000000001, 0.8, 0.9, 2.0, 3.0, 4.0, 5.0, 6.0, 7.0, 8.0, 9.0, 20.0, 30.0, 40.0, 50.0, 60.0, 70.0, 80.0, 90.0, 200.0, 300.0, 400.0, 500.0, 600.0, 700.0, 800.0, 900.0, 2000.0, 3000.0, 4000.0, 5000.0, 6000.0, 7000.0, 8000.0, 9000.0, 20000.0, 30000.0, 40000.0, 50000.0, 60000.0, 70000.0, 80000.0, 90000.0, 200000.0, 300000.0, 400000.0, 500000.0, 600000.0, 700000.0, 800000.0, 900000.0]\n",
      "2018-12-20 20:53:45,552 - matplotlib.axes._base - DEBUG - _base - update_title_pos\n",
      "2018-12-20 20:53:45,554 - matplotlib.ticker - DEBUG - ticker - vmin 0.6351622995324107 vmax 13785.452956584368\n",
      "2018-12-20 20:53:45,554 - matplotlib.ticker - DEBUG - ticker - ticklocs array([1.e-02, 1.e-01, 1.e+00, 1.e+01, 1.e+02, 1.e+03, 1.e+04, 1.e+05,\n",
      "       1.e+06])\n",
      "2018-12-20 20:53:45,558 - matplotlib.ticker - DEBUG - ticker - vmin 0.6351622995324107 vmax 13785.452956584368\n",
      "2018-12-20 20:53:45,560 - matplotlib.ticker - DEBUG - ticker - ticklocs [0.02, 0.03, 0.04, 0.05, 0.06, 0.07, 0.08, 0.09, 0.2, 0.30000000000000004, 0.4, 0.5, 0.6000000000000001, 0.7000000000000001, 0.8, 0.9, 2.0, 3.0, 4.0, 5.0, 6.0, 7.0, 8.0, 9.0, 20.0, 30.0, 40.0, 50.0, 60.0, 70.0, 80.0, 90.0, 200.0, 300.0, 400.0, 500.0, 600.0, 700.0, 800.0, 900.0, 2000.0, 3000.0, 4000.0, 5000.0, 6000.0, 7000.0, 8000.0, 9000.0, 20000.0, 30000.0, 40000.0, 50000.0, 60000.0, 70000.0, 80000.0, 90000.0, 200000.0, 300000.0, 400000.0, 500000.0, 600000.0, 700000.0, 800000.0, 900000.0, 2000000.0, 3000000.0, 4000000.0, 5000000.0, 6000000.0, 7000000.0, 8000000.0, 9000000.0]\n",
      "2018-12-20 20:53:45,640 - matplotlib.ticker - DEBUG - ticker - vmin 0.6351622995324107 vmax 13785.452956584368\n",
      "2018-12-20 20:53:45,642 - matplotlib.ticker - DEBUG - ticker - ticklocs array([1.e-02, 1.e-01, 1.e+00, 1.e+01, 1.e+02, 1.e+03, 1.e+04, 1.e+05,\n",
      "       1.e+06])\n",
      "2018-12-20 20:53:45,646 - matplotlib.ticker - DEBUG - ticker - vmin 0.6351622995324107 vmax 13785.452956584368\n",
      "2018-12-20 20:53:45,647 - matplotlib.ticker - DEBUG - ticker - ticklocs [0.02, 0.03, 0.04, 0.05, 0.06, 0.07, 0.08, 0.09, 0.2, 0.30000000000000004, 0.4, 0.5, 0.6000000000000001, 0.7000000000000001, 0.8, 0.9, 2.0, 3.0, 4.0, 5.0, 6.0, 7.0, 8.0, 9.0, 20.0, 30.0, 40.0, 50.0, 60.0, 70.0, 80.0, 90.0, 200.0, 300.0, 400.0, 500.0, 600.0, 700.0, 800.0, 900.0, 2000.0, 3000.0, 4000.0, 5000.0, 6000.0, 7000.0, 8000.0, 9000.0, 20000.0, 30000.0, 40000.0, 50000.0, 60000.0, 70000.0, 80000.0, 90000.0, 200000.0, 300000.0, 400000.0, 500000.0, 600000.0, 700000.0, 800000.0, 900000.0, 2000000.0, 3000000.0, 4000000.0, 5000000.0, 6000000.0, 7000000.0, 8000000.0, 9000000.0]\n",
      "2018-12-20 20:53:45,665 - matplotlib.ticker - DEBUG - ticker - vmin 1e-06 vmax 7846.3623046875\n",
      "2018-12-20 20:53:45,666 - matplotlib.ticker - DEBUG - ticker - ticklocs array([1.e-07, 1.e-06, 1.e-05, 1.e-04, 1.e-03, 1.e-02, 1.e-01, 1.e+00,\n",
      "       1.e+01, 1.e+02, 1.e+03, 1.e+04, 1.e+05])\n",
      "2018-12-20 20:53:45,670 - matplotlib.ticker - DEBUG - ticker - vmin 1e-06 vmax 7846.3623046875\n",
      "2018-12-20 20:53:45,671 - matplotlib.ticker - DEBUG - ticker - ticklocs [2e-07, 3e-07, 4e-07, 5e-07, 6e-07, 7e-07, 8e-07, 9e-07, 2e-06, 3e-06, 4e-06, 4.9999999999999996e-06, 6e-06, 7e-06, 8e-06, 9e-06, 2e-05, 3.0000000000000004e-05, 4e-05, 5e-05, 6.000000000000001e-05, 7.000000000000001e-05, 8e-05, 9e-05, 0.0002, 0.00030000000000000003, 0.0004, 0.0005, 0.0006000000000000001, 0.0007, 0.0008, 0.0009000000000000001, 0.002, 0.003, 0.004, 0.005, 0.006, 0.007, 0.008, 0.009000000000000001, 0.02, 0.03, 0.04, 0.05, 0.06, 0.07, 0.08, 0.09, 0.2, 0.30000000000000004, 0.4, 0.5, 0.6000000000000001, 0.7000000000000001, 0.8, 0.9, 2.0, 3.0, 4.0, 5.0, 6.0, 7.0, 8.0, 9.0, 20.0, 30.0, 40.0, 50.0, 60.0, 70.0, 80.0, 90.0, 200.0, 300.0, 400.0, 500.0, 600.0, 700.0, 800.0, 900.0, 2000.0, 3000.0, 4000.0, 5000.0, 6000.0, 7000.0, 8000.0, 9000.0, 20000.0, 30000.0, 40000.0, 50000.0, 60000.0, 70000.0, 80000.0, 90000.0, 200000.0, 300000.0, 400000.0, 500000.0, 600000.0, 700000.0, 800000.0, 900000.0]\n",
      "2018-12-20 20:53:45,885 - matplotlib.ticker - DEBUG - ticker - vmin 1e-06 vmax 7846.3623046875\n",
      "2018-12-20 20:53:45,885 - matplotlib.ticker - DEBUG - ticker - ticklocs array([1.e-07, 1.e-06, 1.e-05, 1.e-04, 1.e-03, 1.e-02, 1.e-01, 1.e+00,\n",
      "       1.e+01, 1.e+02, 1.e+03, 1.e+04, 1.e+05])\n",
      "2018-12-20 20:53:45,888 - matplotlib.ticker - DEBUG - ticker - vmin 1e-06 vmax 7846.3623046875\n",
      "2018-12-20 20:53:45,889 - matplotlib.ticker - DEBUG - ticker - ticklocs [2e-07, 3e-07, 4e-07, 5e-07, 6e-07, 7e-07, 8e-07, 9e-07, 2e-06, 3e-06, 4e-06, 4.9999999999999996e-06, 6e-06, 7e-06, 8e-06, 9e-06, 2e-05, 3.0000000000000004e-05, 4e-05, 5e-05, 6.000000000000001e-05, 7.000000000000001e-05, 8e-05, 9e-05, 0.0002, 0.00030000000000000003, 0.0004, 0.0005, 0.0006000000000000001, 0.0007, 0.0008, 0.0009000000000000001, 0.002, 0.003, 0.004, 0.005, 0.006, 0.007, 0.008, 0.009000000000000001, 0.02, 0.03, 0.04, 0.05, 0.06, 0.07, 0.08, 0.09, 0.2, 0.30000000000000004, 0.4, 0.5, 0.6000000000000001, 0.7000000000000001, 0.8, 0.9, 2.0, 3.0, 4.0, 5.0, 6.0, 7.0, 8.0, 9.0, 20.0, 30.0, 40.0, 50.0, 60.0, 70.0, 80.0, 90.0, 200.0, 300.0, 400.0, 500.0, 600.0, 700.0, 800.0, 900.0, 2000.0, 3000.0, 4000.0, 5000.0, 6000.0, 7000.0, 8000.0, 9000.0, 20000.0, 30000.0, 40000.0, 50000.0, 60000.0, 70000.0, 80000.0, 90000.0, 200000.0, 300000.0, 400000.0, 500000.0, 600000.0, 700000.0, 800000.0, 900000.0]\n"
     ]
    },
    {
     "name": "stderr",
     "output_type": "stream",
     "text": [
      "2018-12-20 20:53:45,985 - matplotlib.axes._base - DEBUG - _base - update_title_pos\n",
      "2018-12-20 20:53:45,987 - matplotlib.ticker - DEBUG - ticker - vmin 0.6351622995324107 vmax 13785.452956584368\n",
      "2018-12-20 20:53:45,988 - matplotlib.ticker - DEBUG - ticker - ticklocs array([1.e-02, 1.e-01, 1.e+00, 1.e+01, 1.e+02, 1.e+03, 1.e+04, 1.e+05,\n",
      "       1.e+06])\n",
      "2018-12-20 20:53:45,992 - matplotlib.ticker - DEBUG - ticker - vmin 0.6351622995324107 vmax 13785.452956584368\n",
      "2018-12-20 20:53:45,993 - matplotlib.ticker - DEBUG - ticker - ticklocs [0.02, 0.03, 0.04, 0.05, 0.06, 0.07, 0.08, 0.09, 0.2, 0.30000000000000004, 0.4, 0.5, 0.6000000000000001, 0.7000000000000001, 0.8, 0.9, 2.0, 3.0, 4.0, 5.0, 6.0, 7.0, 8.0, 9.0, 20.0, 30.0, 40.0, 50.0, 60.0, 70.0, 80.0, 90.0, 200.0, 300.0, 400.0, 500.0, 600.0, 700.0, 800.0, 900.0, 2000.0, 3000.0, 4000.0, 5000.0, 6000.0, 7000.0, 8000.0, 9000.0, 20000.0, 30000.0, 40000.0, 50000.0, 60000.0, 70000.0, 80000.0, 90000.0, 200000.0, 300000.0, 400000.0, 500000.0, 600000.0, 700000.0, 800000.0, 900000.0, 2000000.0, 3000000.0, 4000000.0, 5000000.0, 6000000.0, 7000000.0, 8000000.0, 9000000.0]\n",
      "2018-12-20 20:53:46,077 - matplotlib.ticker - DEBUG - ticker - vmin 0.6351622995324107 vmax 13785.452956584368\n",
      "2018-12-20 20:53:46,078 - matplotlib.ticker - DEBUG - ticker - ticklocs array([1.e-02, 1.e-01, 1.e+00, 1.e+01, 1.e+02, 1.e+03, 1.e+04, 1.e+05,\n",
      "       1.e+06])\n",
      "2018-12-20 20:53:46,080 - matplotlib.ticker - DEBUG - ticker - vmin 0.6351622995324107 vmax 13785.452956584368\n",
      "2018-12-20 20:53:46,081 - matplotlib.ticker - DEBUG - ticker - ticklocs [0.02, 0.03, 0.04, 0.05, 0.06, 0.07, 0.08, 0.09, 0.2, 0.30000000000000004, 0.4, 0.5, 0.6000000000000001, 0.7000000000000001, 0.8, 0.9, 2.0, 3.0, 4.0, 5.0, 6.0, 7.0, 8.0, 9.0, 20.0, 30.0, 40.0, 50.0, 60.0, 70.0, 80.0, 90.0, 200.0, 300.0, 400.0, 500.0, 600.0, 700.0, 800.0, 900.0, 2000.0, 3000.0, 4000.0, 5000.0, 6000.0, 7000.0, 8000.0, 9000.0, 20000.0, 30000.0, 40000.0, 50000.0, 60000.0, 70000.0, 80000.0, 90000.0, 200000.0, 300000.0, 400000.0, 500000.0, 600000.0, 700000.0, 800000.0, 900000.0, 2000000.0, 3000000.0, 4000000.0, 5000000.0, 6000000.0, 7000000.0, 8000000.0, 9000000.0]\n",
      "2018-12-20 20:53:46,096 - matplotlib.ticker - DEBUG - ticker - vmin 1e-06 vmax 7846.3623046875\n",
      "2018-12-20 20:53:46,096 - matplotlib.ticker - DEBUG - ticker - ticklocs array([1.e-07, 1.e-06, 1.e-05, 1.e-04, 1.e-03, 1.e-02, 1.e-01, 1.e+00,\n",
      "       1.e+01, 1.e+02, 1.e+03, 1.e+04, 1.e+05])\n",
      "2018-12-20 20:53:46,098 - matplotlib.ticker - DEBUG - ticker - vmin 1e-06 vmax 7846.3623046875\n",
      "2018-12-20 20:53:46,099 - matplotlib.ticker - DEBUG - ticker - ticklocs [2e-07, 3e-07, 4e-07, 5e-07, 6e-07, 7e-07, 8e-07, 9e-07, 2e-06, 3e-06, 4e-06, 4.9999999999999996e-06, 6e-06, 7e-06, 8e-06, 9e-06, 2e-05, 3.0000000000000004e-05, 4e-05, 5e-05, 6.000000000000001e-05, 7.000000000000001e-05, 8e-05, 9e-05, 0.0002, 0.00030000000000000003, 0.0004, 0.0005, 0.0006000000000000001, 0.0007, 0.0008, 0.0009000000000000001, 0.002, 0.003, 0.004, 0.005, 0.006, 0.007, 0.008, 0.009000000000000001, 0.02, 0.03, 0.04, 0.05, 0.06, 0.07, 0.08, 0.09, 0.2, 0.30000000000000004, 0.4, 0.5, 0.6000000000000001, 0.7000000000000001, 0.8, 0.9, 2.0, 3.0, 4.0, 5.0, 6.0, 7.0, 8.0, 9.0, 20.0, 30.0, 40.0, 50.0, 60.0, 70.0, 80.0, 90.0, 200.0, 300.0, 400.0, 500.0, 600.0, 700.0, 800.0, 900.0, 2000.0, 3000.0, 4000.0, 5000.0, 6000.0, 7000.0, 8000.0, 9000.0, 20000.0, 30000.0, 40000.0, 50000.0, 60000.0, 70000.0, 80000.0, 90000.0, 200000.0, 300000.0, 400000.0, 500000.0, 600000.0, 700000.0, 800000.0, 900000.0]\n",
      "2018-12-20 20:53:46,257 - matplotlib.ticker - DEBUG - ticker - vmin 1e-06 vmax 7846.3623046875\n",
      "2018-12-20 20:53:46,260 - matplotlib.ticker - DEBUG - ticker - ticklocs array([1.e-07, 1.e-06, 1.e-05, 1.e-04, 1.e-03, 1.e-02, 1.e-01, 1.e+00,\n",
      "       1.e+01, 1.e+02, 1.e+03, 1.e+04, 1.e+05])\n",
      "2018-12-20 20:53:46,269 - matplotlib.ticker - DEBUG - ticker - vmin 1e-06 vmax 7846.3623046875\n",
      "2018-12-20 20:53:46,269 - matplotlib.ticker - DEBUG - ticker - ticklocs [2e-07, 3e-07, 4e-07, 5e-07, 6e-07, 7e-07, 8e-07, 9e-07, 2e-06, 3e-06, 4e-06, 4.9999999999999996e-06, 6e-06, 7e-06, 8e-06, 9e-06, 2e-05, 3.0000000000000004e-05, 4e-05, 5e-05, 6.000000000000001e-05, 7.000000000000001e-05, 8e-05, 9e-05, 0.0002, 0.00030000000000000003, 0.0004, 0.0005, 0.0006000000000000001, 0.0007, 0.0008, 0.0009000000000000001, 0.002, 0.003, 0.004, 0.005, 0.006, 0.007, 0.008, 0.009000000000000001, 0.02, 0.03, 0.04, 0.05, 0.06, 0.07, 0.08, 0.09, 0.2, 0.30000000000000004, 0.4, 0.5, 0.6000000000000001, 0.7000000000000001, 0.8, 0.9, 2.0, 3.0, 4.0, 5.0, 6.0, 7.0, 8.0, 9.0, 20.0, 30.0, 40.0, 50.0, 60.0, 70.0, 80.0, 90.0, 200.0, 300.0, 400.0, 500.0, 600.0, 700.0, 800.0, 900.0, 2000.0, 3000.0, 4000.0, 5000.0, 6000.0, 7000.0, 8000.0, 9000.0, 20000.0, 30000.0, 40000.0, 50000.0, 60000.0, 70000.0, 80000.0, 90000.0, 200000.0, 300000.0, 400000.0, 500000.0, 600000.0, 700000.0, 800000.0, 900000.0]\n",
      "2018-12-20 20:53:46,353 - matplotlib.ticker - DEBUG - ticker - vmin 0.6351622995324107 vmax 13785.452956584368\n",
      "2018-12-20 20:53:46,354 - matplotlib.ticker - DEBUG - ticker - ticklocs array([1.e-02, 1.e-01, 1.e+00, 1.e+01, 1.e+02, 1.e+03, 1.e+04, 1.e+05,\n",
      "       1.e+06])\n",
      "2018-12-20 20:53:46,358 - matplotlib.ticker - DEBUG - ticker - vmin 1e-06 vmax 7846.3623046875\n",
      "2018-12-20 20:53:46,359 - matplotlib.ticker - DEBUG - ticker - ticklocs array([1.e-07, 1.e-06, 1.e-05, 1.e-04, 1.e-03, 1.e-02, 1.e-01, 1.e+00,\n",
      "       1.e+01, 1.e+02, 1.e+03, 1.e+04, 1.e+05])\n",
      "2018-12-20 20:53:46,367 - matplotlib.axes._base - DEBUG - _base - update_title_pos\n",
      "2018-12-20 20:53:46,371 - matplotlib.ticker - DEBUG - ticker - vmin 0.6351622995324107 vmax 13785.452956584368\n",
      "2018-12-20 20:53:46,372 - matplotlib.ticker - DEBUG - ticker - ticklocs array([1.e-02, 1.e-01, 1.e+00, 1.e+01, 1.e+02, 1.e+03, 1.e+04, 1.e+05,\n",
      "       1.e+06])\n",
      "2018-12-20 20:53:46,381 - matplotlib.ticker - DEBUG - ticker - vmin 0.6351622995324107 vmax 13785.452956584368\n",
      "2018-12-20 20:53:46,382 - matplotlib.ticker - DEBUG - ticker - ticklocs [0.02, 0.03, 0.04, 0.05, 0.06, 0.07, 0.08, 0.09, 0.2, 0.30000000000000004, 0.4, 0.5, 0.6000000000000001, 0.7000000000000001, 0.8, 0.9, 2.0, 3.0, 4.0, 5.0, 6.0, 7.0, 8.0, 9.0, 20.0, 30.0, 40.0, 50.0, 60.0, 70.0, 80.0, 90.0, 200.0, 300.0, 400.0, 500.0, 600.0, 700.0, 800.0, 900.0, 2000.0, 3000.0, 4000.0, 5000.0, 6000.0, 7000.0, 8000.0, 9000.0, 20000.0, 30000.0, 40000.0, 50000.0, 60000.0, 70000.0, 80000.0, 90000.0, 200000.0, 300000.0, 400000.0, 500000.0, 600000.0, 700000.0, 800000.0, 900000.0, 2000000.0, 3000000.0, 4000000.0, 5000000.0, 6000000.0, 7000000.0, 8000000.0, 9000000.0]\n",
      "2018-12-20 20:53:46,440 - matplotlib.ticker - DEBUG - ticker - vmin 0.6351622995324107 vmax 13785.452956584368\n",
      "2018-12-20 20:53:46,441 - matplotlib.ticker - DEBUG - ticker - ticklocs array([1.e-02, 1.e-01, 1.e+00, 1.e+01, 1.e+02, 1.e+03, 1.e+04, 1.e+05,\n",
      "       1.e+06])\n",
      "2018-12-20 20:53:46,444 - matplotlib.ticker - DEBUG - ticker - vmin 0.6351622995324107 vmax 13785.452956584368\n",
      "2018-12-20 20:53:46,449 - matplotlib.ticker - DEBUG - ticker - ticklocs [0.02, 0.03, 0.04, 0.05, 0.06, 0.07, 0.08, 0.09, 0.2, 0.30000000000000004, 0.4, 0.5, 0.6000000000000001, 0.7000000000000001, 0.8, 0.9, 2.0, 3.0, 4.0, 5.0, 6.0, 7.0, 8.0, 9.0, 20.0, 30.0, 40.0, 50.0, 60.0, 70.0, 80.0, 90.0, 200.0, 300.0, 400.0, 500.0, 600.0, 700.0, 800.0, 900.0, 2000.0, 3000.0, 4000.0, 5000.0, 6000.0, 7000.0, 8000.0, 9000.0, 20000.0, 30000.0, 40000.0, 50000.0, 60000.0, 70000.0, 80000.0, 90000.0, 200000.0, 300000.0, 400000.0, 500000.0, 600000.0, 700000.0, 800000.0, 900000.0, 2000000.0, 3000000.0, 4000000.0, 5000000.0, 6000000.0, 7000000.0, 8000000.0, 9000000.0]\n",
      "2018-12-20 20:53:46,469 - matplotlib.ticker - DEBUG - ticker - vmin 1e-06 vmax 7846.3623046875\n",
      "2018-12-20 20:53:46,470 - matplotlib.ticker - DEBUG - ticker - ticklocs array([1.e-07, 1.e-06, 1.e-05, 1.e-04, 1.e-03, 1.e-02, 1.e-01, 1.e+00,\n",
      "       1.e+01, 1.e+02, 1.e+03, 1.e+04, 1.e+05])\n",
      "2018-12-20 20:53:46,474 - matplotlib.ticker - DEBUG - ticker - vmin 1e-06 vmax 7846.3623046875\n",
      "2018-12-20 20:53:46,475 - matplotlib.ticker - DEBUG - ticker - ticklocs [2e-07, 3e-07, 4e-07, 5e-07, 6e-07, 7e-07, 8e-07, 9e-07, 2e-06, 3e-06, 4e-06, 4.9999999999999996e-06, 6e-06, 7e-06, 8e-06, 9e-06, 2e-05, 3.0000000000000004e-05, 4e-05, 5e-05, 6.000000000000001e-05, 7.000000000000001e-05, 8e-05, 9e-05, 0.0002, 0.00030000000000000003, 0.0004, 0.0005, 0.0006000000000000001, 0.0007, 0.0008, 0.0009000000000000001, 0.002, 0.003, 0.004, 0.005, 0.006, 0.007, 0.008, 0.009000000000000001, 0.02, 0.03, 0.04, 0.05, 0.06, 0.07, 0.08, 0.09, 0.2, 0.30000000000000004, 0.4, 0.5, 0.6000000000000001, 0.7000000000000001, 0.8, 0.9, 2.0, 3.0, 4.0, 5.0, 6.0, 7.0, 8.0, 9.0, 20.0, 30.0, 40.0, 50.0, 60.0, 70.0, 80.0, 90.0, 200.0, 300.0, 400.0, 500.0, 600.0, 700.0, 800.0, 900.0, 2000.0, 3000.0, 4000.0, 5000.0, 6000.0, 7000.0, 8000.0, 9000.0, 20000.0, 30000.0, 40000.0, 50000.0, 60000.0, 70000.0, 80000.0, 90000.0, 200000.0, 300000.0, 400000.0, 500000.0, 600000.0, 700000.0, 800000.0, 900000.0]\n"
     ]
    },
    {
     "name": "stderr",
     "output_type": "stream",
     "text": [
      "2018-12-20 20:53:46,558 - matplotlib.ticker - DEBUG - ticker - vmin 1e-06 vmax 7846.3623046875\n",
      "2018-12-20 20:53:46,559 - matplotlib.ticker - DEBUG - ticker - ticklocs array([1.e-07, 1.e-06, 1.e-05, 1.e-04, 1.e-03, 1.e-02, 1.e-01, 1.e+00,\n",
      "       1.e+01, 1.e+02, 1.e+03, 1.e+04, 1.e+05])\n",
      "2018-12-20 20:53:46,561 - matplotlib.ticker - DEBUG - ticker - vmin 1e-06 vmax 7846.3623046875\n",
      "2018-12-20 20:53:46,562 - matplotlib.ticker - DEBUG - ticker - ticklocs [2e-07, 3e-07, 4e-07, 5e-07, 6e-07, 7e-07, 8e-07, 9e-07, 2e-06, 3e-06, 4e-06, 4.9999999999999996e-06, 6e-06, 7e-06, 8e-06, 9e-06, 2e-05, 3.0000000000000004e-05, 4e-05, 5e-05, 6.000000000000001e-05, 7.000000000000001e-05, 8e-05, 9e-05, 0.0002, 0.00030000000000000003, 0.0004, 0.0005, 0.0006000000000000001, 0.0007, 0.0008, 0.0009000000000000001, 0.002, 0.003, 0.004, 0.005, 0.006, 0.007, 0.008, 0.009000000000000001, 0.02, 0.03, 0.04, 0.05, 0.06, 0.07, 0.08, 0.09, 0.2, 0.30000000000000004, 0.4, 0.5, 0.6000000000000001, 0.7000000000000001, 0.8, 0.9, 2.0, 3.0, 4.0, 5.0, 6.0, 7.0, 8.0, 9.0, 20.0, 30.0, 40.0, 50.0, 60.0, 70.0, 80.0, 90.0, 200.0, 300.0, 400.0, 500.0, 600.0, 700.0, 800.0, 900.0, 2000.0, 3000.0, 4000.0, 5000.0, 6000.0, 7000.0, 8000.0, 9000.0, 20000.0, 30000.0, 40000.0, 50000.0, 60000.0, 70000.0, 80000.0, 90000.0, 200000.0, 300000.0, 400000.0, 500000.0, 600000.0, 700000.0, 800000.0, 900000.0]\n",
      "2018-12-20 20:53:46,620 - matplotlib.ticker - DEBUG - ticker - vmin 0.6351622995324107 vmax 13785.452956584368\n",
      "2018-12-20 20:53:46,621 - matplotlib.ticker - DEBUG - ticker - ticklocs array([1.e-02, 1.e-01, 1.e+00, 1.e+01, 1.e+02, 1.e+03, 1.e+04, 1.e+05,\n",
      "       1.e+06])\n",
      "2018-12-20 20:53:46,624 - matplotlib.ticker - DEBUG - ticker - vmin 0.6351622995324107 vmax 13785.452956584368\n",
      "2018-12-20 20:53:46,625 - matplotlib.ticker - DEBUG - ticker - ticklocs [0.02, 0.03, 0.04, 0.05, 0.06, 0.07, 0.08, 0.09, 0.2, 0.30000000000000004, 0.4, 0.5, 0.6000000000000001, 0.7000000000000001, 0.8, 0.9, 2.0, 3.0, 4.0, 5.0, 6.0, 7.0, 8.0, 9.0, 20.0, 30.0, 40.0, 50.0, 60.0, 70.0, 80.0, 90.0, 200.0, 300.0, 400.0, 500.0, 600.0, 700.0, 800.0, 900.0, 2000.0, 3000.0, 4000.0, 5000.0, 6000.0, 7000.0, 8000.0, 9000.0, 20000.0, 30000.0, 40000.0, 50000.0, 60000.0, 70000.0, 80000.0, 90000.0, 200000.0, 300000.0, 400000.0, 500000.0, 600000.0, 700000.0, 800000.0, 900000.0, 2000000.0, 3000000.0, 4000000.0, 5000000.0, 6000000.0, 7000000.0, 8000000.0, 9000000.0]\n",
      "2018-12-20 20:53:46,632 - matplotlib.ticker - DEBUG - ticker - vmin 0.6351622995324107 vmax 13785.452956584368\n",
      "2018-12-20 20:53:46,633 - matplotlib.ticker - DEBUG - ticker - ticklocs array([1.e-02, 1.e-01, 1.e+00, 1.e+01, 1.e+02, 1.e+03, 1.e+04, 1.e+05,\n",
      "       1.e+06])\n",
      "2018-12-20 20:53:46,634 - matplotlib.ticker - DEBUG - ticker - vmin 0.6351622995324107 vmax 13785.452956584368\n",
      "2018-12-20 20:53:46,635 - matplotlib.ticker - DEBUG - ticker - ticklocs [0.02, 0.03, 0.04, 0.05, 0.06, 0.07, 0.08, 0.09, 0.2, 0.30000000000000004, 0.4, 0.5, 0.6000000000000001, 0.7000000000000001, 0.8, 0.9, 2.0, 3.0, 4.0, 5.0, 6.0, 7.0, 8.0, 9.0, 20.0, 30.0, 40.0, 50.0, 60.0, 70.0, 80.0, 90.0, 200.0, 300.0, 400.0, 500.0, 600.0, 700.0, 800.0, 900.0, 2000.0, 3000.0, 4000.0, 5000.0, 6000.0, 7000.0, 8000.0, 9000.0, 20000.0, 30000.0, 40000.0, 50000.0, 60000.0, 70000.0, 80000.0, 90000.0, 200000.0, 300000.0, 400000.0, 500000.0, 600000.0, 700000.0, 800000.0, 900000.0, 2000000.0, 3000000.0, 4000000.0, 5000000.0, 6000000.0, 7000000.0, 8000000.0, 9000000.0]\n",
      "2018-12-20 20:53:46,654 - matplotlib.axes._base - DEBUG - _base - update_title_pos\n",
      "2018-12-20 20:53:46,657 - matplotlib.ticker - DEBUG - ticker - vmin 1e-06 vmax 7846.3623046875\n",
      "2018-12-20 20:53:46,658 - matplotlib.ticker - DEBUG - ticker - ticklocs array([1.e-07, 1.e-06, 1.e-05, 1.e-04, 1.e-03, 1.e-02, 1.e-01, 1.e+00,\n",
      "       1.e+01, 1.e+02, 1.e+03, 1.e+04, 1.e+05])\n",
      "2018-12-20 20:53:46,666 - matplotlib.ticker - DEBUG - ticker - vmin 1e-06 vmax 7846.3623046875\n",
      "2018-12-20 20:53:46,667 - matplotlib.ticker - DEBUG - ticker - ticklocs [2e-07, 3e-07, 4e-07, 5e-07, 6e-07, 7e-07, 8e-07, 9e-07, 2e-06, 3e-06, 4e-06, 4.9999999999999996e-06, 6e-06, 7e-06, 8e-06, 9e-06, 2e-05, 3.0000000000000004e-05, 4e-05, 5e-05, 6.000000000000001e-05, 7.000000000000001e-05, 8e-05, 9e-05, 0.0002, 0.00030000000000000003, 0.0004, 0.0005, 0.0006000000000000001, 0.0007, 0.0008, 0.0009000000000000001, 0.002, 0.003, 0.004, 0.005, 0.006, 0.007, 0.008, 0.009000000000000001, 0.02, 0.03, 0.04, 0.05, 0.06, 0.07, 0.08, 0.09, 0.2, 0.30000000000000004, 0.4, 0.5, 0.6000000000000001, 0.7000000000000001, 0.8, 0.9, 2.0, 3.0, 4.0, 5.0, 6.0, 7.0, 8.0, 9.0, 20.0, 30.0, 40.0, 50.0, 60.0, 70.0, 80.0, 90.0, 200.0, 300.0, 400.0, 500.0, 600.0, 700.0, 800.0, 900.0, 2000.0, 3000.0, 4000.0, 5000.0, 6000.0, 7000.0, 8000.0, 9000.0, 20000.0, 30000.0, 40000.0, 50000.0, 60000.0, 70000.0, 80000.0, 90000.0, 200000.0, 300000.0, 400000.0, 500000.0, 600000.0, 700000.0, 800000.0, 900000.0]\n",
      "2018-12-20 20:53:46,674 - matplotlib.ticker - DEBUG - ticker - vmin 1e-06 vmax 7846.3623046875\n",
      "2018-12-20 20:53:46,676 - matplotlib.ticker - DEBUG - ticker - ticklocs array([1.e-07, 1.e-06, 1.e-05, 1.e-04, 1.e-03, 1.e-02, 1.e-01, 1.e+00,\n",
      "       1.e+01, 1.e+02, 1.e+03, 1.e+04, 1.e+05])\n",
      "2018-12-20 20:53:46,683 - matplotlib.ticker - DEBUG - ticker - vmin 1e-06 vmax 7846.3623046875\n",
      "2018-12-20 20:53:46,684 - matplotlib.ticker - DEBUG - ticker - ticklocs [2e-07, 3e-07, 4e-07, 5e-07, 6e-07, 7e-07, 8e-07, 9e-07, 2e-06, 3e-06, 4e-06, 4.9999999999999996e-06, 6e-06, 7e-06, 8e-06, 9e-06, 2e-05, 3.0000000000000004e-05, 4e-05, 5e-05, 6.000000000000001e-05, 7.000000000000001e-05, 8e-05, 9e-05, 0.0002, 0.00030000000000000003, 0.0004, 0.0005, 0.0006000000000000001, 0.0007, 0.0008, 0.0009000000000000001, 0.002, 0.003, 0.004, 0.005, 0.006, 0.007, 0.008, 0.009000000000000001, 0.02, 0.03, 0.04, 0.05, 0.06, 0.07, 0.08, 0.09, 0.2, 0.30000000000000004, 0.4, 0.5, 0.6000000000000001, 0.7000000000000001, 0.8, 0.9, 2.0, 3.0, 4.0, 5.0, 6.0, 7.0, 8.0, 9.0, 20.0, 30.0, 40.0, 50.0, 60.0, 70.0, 80.0, 90.0, 200.0, 300.0, 400.0, 500.0, 600.0, 700.0, 800.0, 900.0, 2000.0, 3000.0, 4000.0, 5000.0, 6000.0, 7000.0, 8000.0, 9000.0, 20000.0, 30000.0, 40000.0, 50000.0, 60000.0, 70000.0, 80000.0, 90000.0, 200000.0, 300000.0, 400000.0, 500000.0, 600000.0, 700000.0, 800000.0, 900000.0]\n",
      "2018-12-20 20:53:46,726 - matplotlib.ticker - DEBUG - ticker - vmin 0.6351622995324107 vmax 13785.452956584368\n",
      "2018-12-20 20:53:46,727 - matplotlib.ticker - DEBUG - ticker - ticklocs array([1.e-02, 1.e-01, 1.e+00, 1.e+01, 1.e+02, 1.e+03, 1.e+04, 1.e+05,\n",
      "       1.e+06])\n",
      "2018-12-20 20:53:46,731 - matplotlib.ticker - DEBUG - ticker - vmin 0.6351622995324107 vmax 13785.452956584368\n",
      "2018-12-20 20:53:46,732 - matplotlib.ticker - DEBUG - ticker - ticklocs [0.02, 0.03, 0.04, 0.05, 0.06, 0.07, 0.08, 0.09, 0.2, 0.30000000000000004, 0.4, 0.5, 0.6000000000000001, 0.7000000000000001, 0.8, 0.9, 2.0, 3.0, 4.0, 5.0, 6.0, 7.0, 8.0, 9.0, 20.0, 30.0, 40.0, 50.0, 60.0, 70.0, 80.0, 90.0, 200.0, 300.0, 400.0, 500.0, 600.0, 700.0, 800.0, 900.0, 2000.0, 3000.0, 4000.0, 5000.0, 6000.0, 7000.0, 8000.0, 9000.0, 20000.0, 30000.0, 40000.0, 50000.0, 60000.0, 70000.0, 80000.0, 90000.0, 200000.0, 300000.0, 400000.0, 500000.0, 600000.0, 700000.0, 800000.0, 900000.0, 2000000.0, 3000000.0, 4000000.0, 5000000.0, 6000000.0, 7000000.0, 8000000.0, 9000000.0]\n",
      "2018-12-20 20:53:46,742 - matplotlib.ticker - DEBUG - ticker - vmin 0.6351622995324107 vmax 13785.452956584368\n",
      "2018-12-20 20:53:46,744 - matplotlib.ticker - DEBUG - ticker - ticklocs array([1.e-02, 1.e-01, 1.e+00, 1.e+01, 1.e+02, 1.e+03, 1.e+04, 1.e+05,\n",
      "       1.e+06])\n",
      "2018-12-20 20:53:46,750 - matplotlib.ticker - DEBUG - ticker - vmin 0.6351622995324107 vmax 13785.452956584368\n",
      "2018-12-20 20:53:46,751 - matplotlib.ticker - DEBUG - ticker - ticklocs [0.02, 0.03, 0.04, 0.05, 0.06, 0.07, 0.08, 0.09, 0.2, 0.30000000000000004, 0.4, 0.5, 0.6000000000000001, 0.7000000000000001, 0.8, 0.9, 2.0, 3.0, 4.0, 5.0, 6.0, 7.0, 8.0, 9.0, 20.0, 30.0, 40.0, 50.0, 60.0, 70.0, 80.0, 90.0, 200.0, 300.0, 400.0, 500.0, 600.0, 700.0, 800.0, 900.0, 2000.0, 3000.0, 4000.0, 5000.0, 6000.0, 7000.0, 8000.0, 9000.0, 20000.0, 30000.0, 40000.0, 50000.0, 60000.0, 70000.0, 80000.0, 90000.0, 200000.0, 300000.0, 400000.0, 500000.0, 600000.0, 700000.0, 800000.0, 900000.0, 2000000.0, 3000000.0, 4000000.0, 5000000.0, 6000000.0, 7000000.0, 8000000.0, 9000000.0]\n"
     ]
    },
    {
     "name": "stderr",
     "output_type": "stream",
     "text": [
      "2018-12-20 20:53:46,779 - matplotlib.ticker - DEBUG - ticker - vmin 1e-06 vmax 7846.3623046875\n",
      "2018-12-20 20:53:46,779 - matplotlib.ticker - DEBUG - ticker - ticklocs array([1.e-07, 1.e-06, 1.e-05, 1.e-04, 1.e-03, 1.e-02, 1.e-01, 1.e+00,\n",
      "       1.e+01, 1.e+02, 1.e+03, 1.e+04, 1.e+05])\n",
      "2018-12-20 20:53:46,782 - matplotlib.ticker - DEBUG - ticker - vmin 1e-06 vmax 7846.3623046875\n",
      "2018-12-20 20:53:46,783 - matplotlib.ticker - DEBUG - ticker - ticklocs [2e-07, 3e-07, 4e-07, 5e-07, 6e-07, 7e-07, 8e-07, 9e-07, 2e-06, 3e-06, 4e-06, 4.9999999999999996e-06, 6e-06, 7e-06, 8e-06, 9e-06, 2e-05, 3.0000000000000004e-05, 4e-05, 5e-05, 6.000000000000001e-05, 7.000000000000001e-05, 8e-05, 9e-05, 0.0002, 0.00030000000000000003, 0.0004, 0.0005, 0.0006000000000000001, 0.0007, 0.0008, 0.0009000000000000001, 0.002, 0.003, 0.004, 0.005, 0.006, 0.007, 0.008, 0.009000000000000001, 0.02, 0.03, 0.04, 0.05, 0.06, 0.07, 0.08, 0.09, 0.2, 0.30000000000000004, 0.4, 0.5, 0.6000000000000001, 0.7000000000000001, 0.8, 0.9, 2.0, 3.0, 4.0, 5.0, 6.0, 7.0, 8.0, 9.0, 20.0, 30.0, 40.0, 50.0, 60.0, 70.0, 80.0, 90.0, 200.0, 300.0, 400.0, 500.0, 600.0, 700.0, 800.0, 900.0, 2000.0, 3000.0, 4000.0, 5000.0, 6000.0, 7000.0, 8000.0, 9000.0, 20000.0, 30000.0, 40000.0, 50000.0, 60000.0, 70000.0, 80000.0, 90000.0, 200000.0, 300000.0, 400000.0, 500000.0, 600000.0, 700000.0, 800000.0, 900000.0]\n",
      "2018-12-20 20:53:46,795 - matplotlib.ticker - DEBUG - ticker - vmin 1e-06 vmax 7846.3623046875\n",
      "2018-12-20 20:53:46,796 - matplotlib.ticker - DEBUG - ticker - ticklocs array([1.e-07, 1.e-06, 1.e-05, 1.e-04, 1.e-03, 1.e-02, 1.e-01, 1.e+00,\n",
      "       1.e+01, 1.e+02, 1.e+03, 1.e+04, 1.e+05])\n",
      "2018-12-20 20:53:46,802 - matplotlib.ticker - DEBUG - ticker - vmin 1e-06 vmax 7846.3623046875\n",
      "2018-12-20 20:53:46,803 - matplotlib.ticker - DEBUG - ticker - ticklocs [2e-07, 3e-07, 4e-07, 5e-07, 6e-07, 7e-07, 8e-07, 9e-07, 2e-06, 3e-06, 4e-06, 4.9999999999999996e-06, 6e-06, 7e-06, 8e-06, 9e-06, 2e-05, 3.0000000000000004e-05, 4e-05, 5e-05, 6.000000000000001e-05, 7.000000000000001e-05, 8e-05, 9e-05, 0.0002, 0.00030000000000000003, 0.0004, 0.0005, 0.0006000000000000001, 0.0007, 0.0008, 0.0009000000000000001, 0.002, 0.003, 0.004, 0.005, 0.006, 0.007, 0.008, 0.009000000000000001, 0.02, 0.03, 0.04, 0.05, 0.06, 0.07, 0.08, 0.09, 0.2, 0.30000000000000004, 0.4, 0.5, 0.6000000000000001, 0.7000000000000001, 0.8, 0.9, 2.0, 3.0, 4.0, 5.0, 6.0, 7.0, 8.0, 9.0, 20.0, 30.0, 40.0, 50.0, 60.0, 70.0, 80.0, 90.0, 200.0, 300.0, 400.0, 500.0, 600.0, 700.0, 800.0, 900.0, 2000.0, 3000.0, 4000.0, 5000.0, 6000.0, 7000.0, 8000.0, 9000.0, 20000.0, 30000.0, 40000.0, 50000.0, 60000.0, 70000.0, 80000.0, 90000.0, 200000.0, 300000.0, 400000.0, 500000.0, 600000.0, 700000.0, 800000.0, 900000.0]\n",
      "2018-12-20 20:53:46,854 - matplotlib.ticker - DEBUG - ticker - vmin 0.6351622995324107 vmax 13785.452956584368\n",
      "2018-12-20 20:53:46,854 - matplotlib.ticker - DEBUG - ticker - ticklocs array([1.e-02, 1.e-01, 1.e+00, 1.e+01, 1.e+02, 1.e+03, 1.e+04, 1.e+05,\n",
      "       1.e+06])\n",
      "2018-12-20 20:53:46,864 - matplotlib.ticker - DEBUG - ticker - vmin 0.6351622995324107 vmax 13785.452956584368\n",
      "2018-12-20 20:53:46,866 - matplotlib.ticker - DEBUG - ticker - ticklocs [0.02, 0.03, 0.04, 0.05, 0.06, 0.07, 0.08, 0.09, 0.2, 0.30000000000000004, 0.4, 0.5, 0.6000000000000001, 0.7000000000000001, 0.8, 0.9, 2.0, 3.0, 4.0, 5.0, 6.0, 7.0, 8.0, 9.0, 20.0, 30.0, 40.0, 50.0, 60.0, 70.0, 80.0, 90.0, 200.0, 300.0, 400.0, 500.0, 600.0, 700.0, 800.0, 900.0, 2000.0, 3000.0, 4000.0, 5000.0, 6000.0, 7000.0, 8000.0, 9000.0, 20000.0, 30000.0, 40000.0, 50000.0, 60000.0, 70000.0, 80000.0, 90000.0, 200000.0, 300000.0, 400000.0, 500000.0, 600000.0, 700000.0, 800000.0, 900000.0, 2000000.0, 3000000.0, 4000000.0, 5000000.0, 6000000.0, 7000000.0, 8000000.0, 9000000.0]\n",
      "2018-12-20 20:53:46,871 - matplotlib.ticker - DEBUG - ticker - vmin 0.6351622995324107 vmax 13785.452956584368\n",
      "2018-12-20 20:53:46,872 - matplotlib.ticker - DEBUG - ticker - ticklocs array([1.e-02, 1.e-01, 1.e+00, 1.e+01, 1.e+02, 1.e+03, 1.e+04, 1.e+05,\n",
      "       1.e+06])\n",
      "2018-12-20 20:53:46,876 - matplotlib.ticker - DEBUG - ticker - vmin 0.6351622995324107 vmax 13785.452956584368\n",
      "2018-12-20 20:53:46,878 - matplotlib.ticker - DEBUG - ticker - ticklocs [0.02, 0.03, 0.04, 0.05, 0.06, 0.07, 0.08, 0.09, 0.2, 0.30000000000000004, 0.4, 0.5, 0.6000000000000001, 0.7000000000000001, 0.8, 0.9, 2.0, 3.0, 4.0, 5.0, 6.0, 7.0, 8.0, 9.0, 20.0, 30.0, 40.0, 50.0, 60.0, 70.0, 80.0, 90.0, 200.0, 300.0, 400.0, 500.0, 600.0, 700.0, 800.0, 900.0, 2000.0, 3000.0, 4000.0, 5000.0, 6000.0, 7000.0, 8000.0, 9000.0, 20000.0, 30000.0, 40000.0, 50000.0, 60000.0, 70000.0, 80000.0, 90000.0, 200000.0, 300000.0, 400000.0, 500000.0, 600000.0, 700000.0, 800000.0, 900000.0, 2000000.0, 3000000.0, 4000000.0, 5000000.0, 6000000.0, 7000000.0, 8000000.0, 9000000.0]\n",
      "2018-12-20 20:53:46,911 - matplotlib.ticker - DEBUG - ticker - vmin 1e-06 vmax 7846.3623046875\n",
      "2018-12-20 20:53:46,912 - matplotlib.ticker - DEBUG - ticker - ticklocs array([1.e-07, 1.e-06, 1.e-05, 1.e-04, 1.e-03, 1.e-02, 1.e-01, 1.e+00,\n",
      "       1.e+01, 1.e+02, 1.e+03, 1.e+04, 1.e+05])\n",
      "2018-12-20 20:53:46,916 - matplotlib.ticker - DEBUG - ticker - vmin 1e-06 vmax 7846.3623046875\n",
      "2018-12-20 20:53:46,917 - matplotlib.ticker - DEBUG - ticker - ticklocs [2e-07, 3e-07, 4e-07, 5e-07, 6e-07, 7e-07, 8e-07, 9e-07, 2e-06, 3e-06, 4e-06, 4.9999999999999996e-06, 6e-06, 7e-06, 8e-06, 9e-06, 2e-05, 3.0000000000000004e-05, 4e-05, 5e-05, 6.000000000000001e-05, 7.000000000000001e-05, 8e-05, 9e-05, 0.0002, 0.00030000000000000003, 0.0004, 0.0005, 0.0006000000000000001, 0.0007, 0.0008, 0.0009000000000000001, 0.002, 0.003, 0.004, 0.005, 0.006, 0.007, 0.008, 0.009000000000000001, 0.02, 0.03, 0.04, 0.05, 0.06, 0.07, 0.08, 0.09, 0.2, 0.30000000000000004, 0.4, 0.5, 0.6000000000000001, 0.7000000000000001, 0.8, 0.9, 2.0, 3.0, 4.0, 5.0, 6.0, 7.0, 8.0, 9.0, 20.0, 30.0, 40.0, 50.0, 60.0, 70.0, 80.0, 90.0, 200.0, 300.0, 400.0, 500.0, 600.0, 700.0, 800.0, 900.0, 2000.0, 3000.0, 4000.0, 5000.0, 6000.0, 7000.0, 8000.0, 9000.0, 20000.0, 30000.0, 40000.0, 50000.0, 60000.0, 70000.0, 80000.0, 90000.0, 200000.0, 300000.0, 400000.0, 500000.0, 600000.0, 700000.0, 800000.0, 900000.0]\n",
      "2018-12-20 20:53:46,928 - matplotlib.ticker - DEBUG - ticker - vmin 1e-06 vmax 7846.3623046875\n",
      "2018-12-20 20:53:46,929 - matplotlib.ticker - DEBUG - ticker - ticklocs array([1.e-07, 1.e-06, 1.e-05, 1.e-04, 1.e-03, 1.e-02, 1.e-01, 1.e+00,\n",
      "       1.e+01, 1.e+02, 1.e+03, 1.e+04, 1.e+05])\n",
      "2018-12-20 20:53:46,933 - matplotlib.ticker - DEBUG - ticker - vmin 1e-06 vmax 7846.3623046875\n",
      "2018-12-20 20:53:46,935 - matplotlib.ticker - DEBUG - ticker - ticklocs [2e-07, 3e-07, 4e-07, 5e-07, 6e-07, 7e-07, 8e-07, 9e-07, 2e-06, 3e-06, 4e-06, 4.9999999999999996e-06, 6e-06, 7e-06, 8e-06, 9e-06, 2e-05, 3.0000000000000004e-05, 4e-05, 5e-05, 6.000000000000001e-05, 7.000000000000001e-05, 8e-05, 9e-05, 0.0002, 0.00030000000000000003, 0.0004, 0.0005, 0.0006000000000000001, 0.0007, 0.0008, 0.0009000000000000001, 0.002, 0.003, 0.004, 0.005, 0.006, 0.007, 0.008, 0.009000000000000001, 0.02, 0.03, 0.04, 0.05, 0.06, 0.07, 0.08, 0.09, 0.2, 0.30000000000000004, 0.4, 0.5, 0.6000000000000001, 0.7000000000000001, 0.8, 0.9, 2.0, 3.0, 4.0, 5.0, 6.0, 7.0, 8.0, 9.0, 20.0, 30.0, 40.0, 50.0, 60.0, 70.0, 80.0, 90.0, 200.0, 300.0, 400.0, 500.0, 600.0, 700.0, 800.0, 900.0, 2000.0, 3000.0, 4000.0, 5000.0, 6000.0, 7000.0, 8000.0, 9000.0, 20000.0, 30000.0, 40000.0, 50000.0, 60000.0, 70000.0, 80000.0, 90000.0, 200000.0, 300000.0, 400000.0, 500000.0, 600000.0, 700000.0, 800000.0, 900000.0]\n",
      "2018-12-20 20:53:46,982 - matplotlib.ticker - DEBUG - ticker - vmin 0.6351622995324107 vmax 13785.452956584368\n",
      "2018-12-20 20:53:46,983 - matplotlib.ticker - DEBUG - ticker - ticklocs array([1.e-02, 1.e-01, 1.e+00, 1.e+01, 1.e+02, 1.e+03, 1.e+04, 1.e+05,\n",
      "       1.e+06])\n",
      "2018-12-20 20:53:46,985 - matplotlib.ticker - DEBUG - ticker - vmin 0.6351622995324107 vmax 13785.452956584368\n",
      "2018-12-20 20:53:46,986 - matplotlib.ticker - DEBUG - ticker - ticklocs [0.02, 0.03, 0.04, 0.05, 0.06, 0.07, 0.08, 0.09, 0.2, 0.30000000000000004, 0.4, 0.5, 0.6000000000000001, 0.7000000000000001, 0.8, 0.9, 2.0, 3.0, 4.0, 5.0, 6.0, 7.0, 8.0, 9.0, 20.0, 30.0, 40.0, 50.0, 60.0, 70.0, 80.0, 90.0, 200.0, 300.0, 400.0, 500.0, 600.0, 700.0, 800.0, 900.0, 2000.0, 3000.0, 4000.0, 5000.0, 6000.0, 7000.0, 8000.0, 9000.0, 20000.0, 30000.0, 40000.0, 50000.0, 60000.0, 70000.0, 80000.0, 90000.0, 200000.0, 300000.0, 400000.0, 500000.0, 600000.0, 700000.0, 800000.0, 900000.0, 2000000.0, 3000000.0, 4000000.0, 5000000.0, 6000000.0, 7000000.0, 8000000.0, 9000000.0]\n"
     ]
    },
    {
     "name": "stderr",
     "output_type": "stream",
     "text": [
      "2018-12-20 20:53:46,992 - matplotlib.ticker - DEBUG - ticker - vmin 0.6351622995324107 vmax 13785.452956584368\n",
      "2018-12-20 20:53:46,994 - matplotlib.ticker - DEBUG - ticker - ticklocs array([1.e-02, 1.e-01, 1.e+00, 1.e+01, 1.e+02, 1.e+03, 1.e+04, 1.e+05,\n",
      "       1.e+06])\n",
      "2018-12-20 20:53:46,997 - matplotlib.ticker - DEBUG - ticker - vmin 0.6351622995324107 vmax 13785.452956584368\n",
      "2018-12-20 20:53:46,998 - matplotlib.ticker - DEBUG - ticker - ticklocs [0.02, 0.03, 0.04, 0.05, 0.06, 0.07, 0.08, 0.09, 0.2, 0.30000000000000004, 0.4, 0.5, 0.6000000000000001, 0.7000000000000001, 0.8, 0.9, 2.0, 3.0, 4.0, 5.0, 6.0, 7.0, 8.0, 9.0, 20.0, 30.0, 40.0, 50.0, 60.0, 70.0, 80.0, 90.0, 200.0, 300.0, 400.0, 500.0, 600.0, 700.0, 800.0, 900.0, 2000.0, 3000.0, 4000.0, 5000.0, 6000.0, 7000.0, 8000.0, 9000.0, 20000.0, 30000.0, 40000.0, 50000.0, 60000.0, 70000.0, 80000.0, 90000.0, 200000.0, 300000.0, 400000.0, 500000.0, 600000.0, 700000.0, 800000.0, 900000.0, 2000000.0, 3000000.0, 4000000.0, 5000000.0, 6000000.0, 7000000.0, 8000000.0, 9000000.0]\n",
      "2018-12-20 20:53:47,021 - matplotlib.axes._base - DEBUG - _base - update_title_pos\n",
      "2018-12-20 20:53:47,024 - matplotlib.ticker - DEBUG - ticker - vmin 1e-06 vmax 7846.3623046875\n",
      "2018-12-20 20:53:47,025 - matplotlib.ticker - DEBUG - ticker - ticklocs array([1.e-07, 1.e-06, 1.e-05, 1.e-04, 1.e-03, 1.e-02, 1.e-01, 1.e+00,\n",
      "       1.e+01, 1.e+02, 1.e+03, 1.e+04, 1.e+05])\n",
      "2018-12-20 20:53:47,030 - matplotlib.ticker - DEBUG - ticker - vmin 1e-06 vmax 7846.3623046875\n",
      "2018-12-20 20:53:47,030 - matplotlib.ticker - DEBUG - ticker - ticklocs [2e-07, 3e-07, 4e-07, 5e-07, 6e-07, 7e-07, 8e-07, 9e-07, 2e-06, 3e-06, 4e-06, 4.9999999999999996e-06, 6e-06, 7e-06, 8e-06, 9e-06, 2e-05, 3.0000000000000004e-05, 4e-05, 5e-05, 6.000000000000001e-05, 7.000000000000001e-05, 8e-05, 9e-05, 0.0002, 0.00030000000000000003, 0.0004, 0.0005, 0.0006000000000000001, 0.0007, 0.0008, 0.0009000000000000001, 0.002, 0.003, 0.004, 0.005, 0.006, 0.007, 0.008, 0.009000000000000001, 0.02, 0.03, 0.04, 0.05, 0.06, 0.07, 0.08, 0.09, 0.2, 0.30000000000000004, 0.4, 0.5, 0.6000000000000001, 0.7000000000000001, 0.8, 0.9, 2.0, 3.0, 4.0, 5.0, 6.0, 7.0, 8.0, 9.0, 20.0, 30.0, 40.0, 50.0, 60.0, 70.0, 80.0, 90.0, 200.0, 300.0, 400.0, 500.0, 600.0, 700.0, 800.0, 900.0, 2000.0, 3000.0, 4000.0, 5000.0, 6000.0, 7000.0, 8000.0, 9000.0, 20000.0, 30000.0, 40000.0, 50000.0, 60000.0, 70000.0, 80000.0, 90000.0, 200000.0, 300000.0, 400000.0, 500000.0, 600000.0, 700000.0, 800000.0, 900000.0]\n",
      "2018-12-20 20:53:47,036 - matplotlib.ticker - DEBUG - ticker - vmin 1e-06 vmax 7846.3623046875\n",
      "2018-12-20 20:53:47,037 - matplotlib.ticker - DEBUG - ticker - ticklocs array([1.e-07, 1.e-06, 1.e-05, 1.e-04, 1.e-03, 1.e-02, 1.e-01, 1.e+00,\n",
      "       1.e+01, 1.e+02, 1.e+03, 1.e+04, 1.e+05])\n",
      "2018-12-20 20:53:47,039 - matplotlib.ticker - DEBUG - ticker - vmin 1e-06 vmax 7846.3623046875\n",
      "2018-12-20 20:53:47,040 - matplotlib.ticker - DEBUG - ticker - ticklocs [2e-07, 3e-07, 4e-07, 5e-07, 6e-07, 7e-07, 8e-07, 9e-07, 2e-06, 3e-06, 4e-06, 4.9999999999999996e-06, 6e-06, 7e-06, 8e-06, 9e-06, 2e-05, 3.0000000000000004e-05, 4e-05, 5e-05, 6.000000000000001e-05, 7.000000000000001e-05, 8e-05, 9e-05, 0.0002, 0.00030000000000000003, 0.0004, 0.0005, 0.0006000000000000001, 0.0007, 0.0008, 0.0009000000000000001, 0.002, 0.003, 0.004, 0.005, 0.006, 0.007, 0.008, 0.009000000000000001, 0.02, 0.03, 0.04, 0.05, 0.06, 0.07, 0.08, 0.09, 0.2, 0.30000000000000004, 0.4, 0.5, 0.6000000000000001, 0.7000000000000001, 0.8, 0.9, 2.0, 3.0, 4.0, 5.0, 6.0, 7.0, 8.0, 9.0, 20.0, 30.0, 40.0, 50.0, 60.0, 70.0, 80.0, 90.0, 200.0, 300.0, 400.0, 500.0, 600.0, 700.0, 800.0, 900.0, 2000.0, 3000.0, 4000.0, 5000.0, 6000.0, 7000.0, 8000.0, 9000.0, 20000.0, 30000.0, 40000.0, 50000.0, 60000.0, 70000.0, 80000.0, 90000.0, 200000.0, 300000.0, 400000.0, 500000.0, 600000.0, 700000.0, 800000.0, 900000.0]\n",
      "2018-12-20 20:53:47,072 - matplotlib.ticker - DEBUG - ticker - vmin 0.6351622995324107 vmax 13785.452956584368\n",
      "2018-12-20 20:53:47,073 - matplotlib.ticker - DEBUG - ticker - ticklocs array([1.e-02, 1.e-01, 1.e+00, 1.e+01, 1.e+02, 1.e+03, 1.e+04, 1.e+05,\n",
      "       1.e+06])\n",
      "2018-12-20 20:53:47,075 - matplotlib.ticker - DEBUG - ticker - vmin 0.6351622995324107 vmax 13785.452956584368\n",
      "2018-12-20 20:53:47,079 - matplotlib.ticker - DEBUG - ticker - ticklocs [0.02, 0.03, 0.04, 0.05, 0.06, 0.07, 0.08, 0.09, 0.2, 0.30000000000000004, 0.4, 0.5, 0.6000000000000001, 0.7000000000000001, 0.8, 0.9, 2.0, 3.0, 4.0, 5.0, 6.0, 7.0, 8.0, 9.0, 20.0, 30.0, 40.0, 50.0, 60.0, 70.0, 80.0, 90.0, 200.0, 300.0, 400.0, 500.0, 600.0, 700.0, 800.0, 900.0, 2000.0, 3000.0, 4000.0, 5000.0, 6000.0, 7000.0, 8000.0, 9000.0, 20000.0, 30000.0, 40000.0, 50000.0, 60000.0, 70000.0, 80000.0, 90000.0, 200000.0, 300000.0, 400000.0, 500000.0, 600000.0, 700000.0, 800000.0, 900000.0, 2000000.0, 3000000.0, 4000000.0, 5000000.0, 6000000.0, 7000000.0, 8000000.0, 9000000.0]\n",
      "2018-12-20 20:53:47,087 - matplotlib.ticker - DEBUG - ticker - vmin 0.6351622995324107 vmax 13785.452956584368\n",
      "2018-12-20 20:53:47,087 - matplotlib.ticker - DEBUG - ticker - ticklocs array([1.e-02, 1.e-01, 1.e+00, 1.e+01, 1.e+02, 1.e+03, 1.e+04, 1.e+05,\n",
      "       1.e+06])\n",
      "2018-12-20 20:53:47,090 - matplotlib.ticker - DEBUG - ticker - vmin 0.6351622995324107 vmax 13785.452956584368\n",
      "2018-12-20 20:53:47,091 - matplotlib.ticker - DEBUG - ticker - ticklocs [0.02, 0.03, 0.04, 0.05, 0.06, 0.07, 0.08, 0.09, 0.2, 0.30000000000000004, 0.4, 0.5, 0.6000000000000001, 0.7000000000000001, 0.8, 0.9, 2.0, 3.0, 4.0, 5.0, 6.0, 7.0, 8.0, 9.0, 20.0, 30.0, 40.0, 50.0, 60.0, 70.0, 80.0, 90.0, 200.0, 300.0, 400.0, 500.0, 600.0, 700.0, 800.0, 900.0, 2000.0, 3000.0, 4000.0, 5000.0, 6000.0, 7000.0, 8000.0, 9000.0, 20000.0, 30000.0, 40000.0, 50000.0, 60000.0, 70000.0, 80000.0, 90000.0, 200000.0, 300000.0, 400000.0, 500000.0, 600000.0, 700000.0, 800000.0, 900000.0, 2000000.0, 3000000.0, 4000000.0, 5000000.0, 6000000.0, 7000000.0, 8000000.0, 9000000.0]\n",
      "2018-12-20 20:53:47,108 - matplotlib.ticker - DEBUG - ticker - vmin 1e-06 vmax 7846.3623046875\n",
      "2018-12-20 20:53:47,111 - matplotlib.ticker - DEBUG - ticker - ticklocs array([1.e-07, 1.e-06, 1.e-05, 1.e-04, 1.e-03, 1.e-02, 1.e-01, 1.e+00,\n",
      "       1.e+01, 1.e+02, 1.e+03, 1.e+04, 1.e+05])\n",
      "2018-12-20 20:53:47,114 - matplotlib.ticker - DEBUG - ticker - vmin 1e-06 vmax 7846.3623046875\n",
      "2018-12-20 20:53:47,115 - matplotlib.ticker - DEBUG - ticker - ticklocs [2e-07, 3e-07, 4e-07, 5e-07, 6e-07, 7e-07, 8e-07, 9e-07, 2e-06, 3e-06, 4e-06, 4.9999999999999996e-06, 6e-06, 7e-06, 8e-06, 9e-06, 2e-05, 3.0000000000000004e-05, 4e-05, 5e-05, 6.000000000000001e-05, 7.000000000000001e-05, 8e-05, 9e-05, 0.0002, 0.00030000000000000003, 0.0004, 0.0005, 0.0006000000000000001, 0.0007, 0.0008, 0.0009000000000000001, 0.002, 0.003, 0.004, 0.005, 0.006, 0.007, 0.008, 0.009000000000000001, 0.02, 0.03, 0.04, 0.05, 0.06, 0.07, 0.08, 0.09, 0.2, 0.30000000000000004, 0.4, 0.5, 0.6000000000000001, 0.7000000000000001, 0.8, 0.9, 2.0, 3.0, 4.0, 5.0, 6.0, 7.0, 8.0, 9.0, 20.0, 30.0, 40.0, 50.0, 60.0, 70.0, 80.0, 90.0, 200.0, 300.0, 400.0, 500.0, 600.0, 700.0, 800.0, 900.0, 2000.0, 3000.0, 4000.0, 5000.0, 6000.0, 7000.0, 8000.0, 9000.0, 20000.0, 30000.0, 40000.0, 50000.0, 60000.0, 70000.0, 80000.0, 90000.0, 200000.0, 300000.0, 400000.0, 500000.0, 600000.0, 700000.0, 800000.0, 900000.0]\n",
      "2018-12-20 20:53:47,122 - matplotlib.ticker - DEBUG - ticker - vmin 1e-06 vmax 7846.3623046875\n",
      "2018-12-20 20:53:47,124 - matplotlib.ticker - DEBUG - ticker - ticklocs array([1.e-07, 1.e-06, 1.e-05, 1.e-04, 1.e-03, 1.e-02, 1.e-01, 1.e+00,\n",
      "       1.e+01, 1.e+02, 1.e+03, 1.e+04, 1.e+05])\n",
      "2018-12-20 20:53:47,131 - matplotlib.ticker - DEBUG - ticker - vmin 1e-06 vmax 7846.3623046875\n"
     ]
    },
    {
     "name": "stderr",
     "output_type": "stream",
     "text": [
      "2018-12-20 20:53:47,134 - matplotlib.ticker - DEBUG - ticker - ticklocs [2e-07, 3e-07, 4e-07, 5e-07, 6e-07, 7e-07, 8e-07, 9e-07, 2e-06, 3e-06, 4e-06, 4.9999999999999996e-06, 6e-06, 7e-06, 8e-06, 9e-06, 2e-05, 3.0000000000000004e-05, 4e-05, 5e-05, 6.000000000000001e-05, 7.000000000000001e-05, 8e-05, 9e-05, 0.0002, 0.00030000000000000003, 0.0004, 0.0005, 0.0006000000000000001, 0.0007, 0.0008, 0.0009000000000000001, 0.002, 0.003, 0.004, 0.005, 0.006, 0.007, 0.008, 0.009000000000000001, 0.02, 0.03, 0.04, 0.05, 0.06, 0.07, 0.08, 0.09, 0.2, 0.30000000000000004, 0.4, 0.5, 0.6000000000000001, 0.7000000000000001, 0.8, 0.9, 2.0, 3.0, 4.0, 5.0, 6.0, 7.0, 8.0, 9.0, 20.0, 30.0, 40.0, 50.0, 60.0, 70.0, 80.0, 90.0, 200.0, 300.0, 400.0, 500.0, 600.0, 700.0, 800.0, 900.0, 2000.0, 3000.0, 4000.0, 5000.0, 6000.0, 7000.0, 8000.0, 9000.0, 20000.0, 30000.0, 40000.0, 50000.0, 60000.0, 70000.0, 80000.0, 90000.0, 200000.0, 300000.0, 400000.0, 500000.0, 600000.0, 700000.0, 800000.0, 900000.0]\n",
      "2018-12-20 20:53:47,180 - matplotlib.axes._base - DEBUG - _base - update_title_pos\n",
      "2018-12-20 20:53:47,182 - matplotlib.ticker - DEBUG - ticker - vmin 0.6351622995324107 vmax 13785.452956584368\n",
      "2018-12-20 20:53:47,183 - matplotlib.ticker - DEBUG - ticker - ticklocs array([1.e-02, 1.e-01, 1.e+00, 1.e+01, 1.e+02, 1.e+03, 1.e+04, 1.e+05,\n",
      "       1.e+06])\n",
      "2018-12-20 20:53:47,186 - matplotlib.ticker - DEBUG - ticker - vmin 0.6351622995324107 vmax 13785.452956584368\n",
      "2018-12-20 20:53:47,187 - matplotlib.ticker - DEBUG - ticker - ticklocs [0.02, 0.03, 0.04, 0.05, 0.06, 0.07, 0.08, 0.09, 0.2, 0.30000000000000004, 0.4, 0.5, 0.6000000000000001, 0.7000000000000001, 0.8, 0.9, 2.0, 3.0, 4.0, 5.0, 6.0, 7.0, 8.0, 9.0, 20.0, 30.0, 40.0, 50.0, 60.0, 70.0, 80.0, 90.0, 200.0, 300.0, 400.0, 500.0, 600.0, 700.0, 800.0, 900.0, 2000.0, 3000.0, 4000.0, 5000.0, 6000.0, 7000.0, 8000.0, 9000.0, 20000.0, 30000.0, 40000.0, 50000.0, 60000.0, 70000.0, 80000.0, 90000.0, 200000.0, 300000.0, 400000.0, 500000.0, 600000.0, 700000.0, 800000.0, 900000.0, 2000000.0, 3000000.0, 4000000.0, 5000000.0, 6000000.0, 7000000.0, 8000000.0, 9000000.0]\n",
      "2018-12-20 20:53:47,320 - matplotlib.ticker - DEBUG - ticker - vmin 0.6351622995324107 vmax 13785.452956584368\n",
      "2018-12-20 20:53:47,321 - matplotlib.ticker - DEBUG - ticker - ticklocs array([1.e-02, 1.e-01, 1.e+00, 1.e+01, 1.e+02, 1.e+03, 1.e+04, 1.e+05,\n",
      "       1.e+06])\n",
      "2018-12-20 20:53:47,323 - matplotlib.ticker - DEBUG - ticker - vmin 0.6351622995324107 vmax 13785.452956584368\n",
      "2018-12-20 20:53:47,327 - matplotlib.ticker - DEBUG - ticker - ticklocs [0.02, 0.03, 0.04, 0.05, 0.06, 0.07, 0.08, 0.09, 0.2, 0.30000000000000004, 0.4, 0.5, 0.6000000000000001, 0.7000000000000001, 0.8, 0.9, 2.0, 3.0, 4.0, 5.0, 6.0, 7.0, 8.0, 9.0, 20.0, 30.0, 40.0, 50.0, 60.0, 70.0, 80.0, 90.0, 200.0, 300.0, 400.0, 500.0, 600.0, 700.0, 800.0, 900.0, 2000.0, 3000.0, 4000.0, 5000.0, 6000.0, 7000.0, 8000.0, 9000.0, 20000.0, 30000.0, 40000.0, 50000.0, 60000.0, 70000.0, 80000.0, 90000.0, 200000.0, 300000.0, 400000.0, 500000.0, 600000.0, 700000.0, 800000.0, 900000.0, 2000000.0, 3000000.0, 4000000.0, 5000000.0, 6000000.0, 7000000.0, 8000000.0, 9000000.0]\n",
      "2018-12-20 20:53:47,349 - matplotlib.ticker - DEBUG - ticker - vmin 1e-06 vmax 7846.3623046875\n",
      "2018-12-20 20:53:47,350 - matplotlib.ticker - DEBUG - ticker - ticklocs array([1.e-07, 1.e-06, 1.e-05, 1.e-04, 1.e-03, 1.e-02, 1.e-01, 1.e+00,\n",
      "       1.e+01, 1.e+02, 1.e+03, 1.e+04, 1.e+05])\n",
      "2018-12-20 20:53:47,353 - matplotlib.ticker - DEBUG - ticker - vmin 1e-06 vmax 7846.3623046875\n",
      "2018-12-20 20:53:47,354 - matplotlib.ticker - DEBUG - ticker - ticklocs [2e-07, 3e-07, 4e-07, 5e-07, 6e-07, 7e-07, 8e-07, 9e-07, 2e-06, 3e-06, 4e-06, 4.9999999999999996e-06, 6e-06, 7e-06, 8e-06, 9e-06, 2e-05, 3.0000000000000004e-05, 4e-05, 5e-05, 6.000000000000001e-05, 7.000000000000001e-05, 8e-05, 9e-05, 0.0002, 0.00030000000000000003, 0.0004, 0.0005, 0.0006000000000000001, 0.0007, 0.0008, 0.0009000000000000001, 0.002, 0.003, 0.004, 0.005, 0.006, 0.007, 0.008, 0.009000000000000001, 0.02, 0.03, 0.04, 0.05, 0.06, 0.07, 0.08, 0.09, 0.2, 0.30000000000000004, 0.4, 0.5, 0.6000000000000001, 0.7000000000000001, 0.8, 0.9, 2.0, 3.0, 4.0, 5.0, 6.0, 7.0, 8.0, 9.0, 20.0, 30.0, 40.0, 50.0, 60.0, 70.0, 80.0, 90.0, 200.0, 300.0, 400.0, 500.0, 600.0, 700.0, 800.0, 900.0, 2000.0, 3000.0, 4000.0, 5000.0, 6000.0, 7000.0, 8000.0, 9000.0, 20000.0, 30000.0, 40000.0, 50000.0, 60000.0, 70000.0, 80000.0, 90000.0, 200000.0, 300000.0, 400000.0, 500000.0, 600000.0, 700000.0, 800000.0, 900000.0]\n",
      "2018-12-20 20:53:47,574 - matplotlib.ticker - DEBUG - ticker - vmin 1e-06 vmax 7846.3623046875\n",
      "2018-12-20 20:53:47,574 - matplotlib.ticker - DEBUG - ticker - ticklocs array([1.e-07, 1.e-06, 1.e-05, 1.e-04, 1.e-03, 1.e-02, 1.e-01, 1.e+00,\n",
      "       1.e+01, 1.e+02, 1.e+03, 1.e+04, 1.e+05])\n",
      "2018-12-20 20:53:47,578 - matplotlib.ticker - DEBUG - ticker - vmin 1e-06 vmax 7846.3623046875\n",
      "2018-12-20 20:53:47,583 - matplotlib.ticker - DEBUG - ticker - ticklocs [2e-07, 3e-07, 4e-07, 5e-07, 6e-07, 7e-07, 8e-07, 9e-07, 2e-06, 3e-06, 4e-06, 4.9999999999999996e-06, 6e-06, 7e-06, 8e-06, 9e-06, 2e-05, 3.0000000000000004e-05, 4e-05, 5e-05, 6.000000000000001e-05, 7.000000000000001e-05, 8e-05, 9e-05, 0.0002, 0.00030000000000000003, 0.0004, 0.0005, 0.0006000000000000001, 0.0007, 0.0008, 0.0009000000000000001, 0.002, 0.003, 0.004, 0.005, 0.006, 0.007, 0.008, 0.009000000000000001, 0.02, 0.03, 0.04, 0.05, 0.06, 0.07, 0.08, 0.09, 0.2, 0.30000000000000004, 0.4, 0.5, 0.6000000000000001, 0.7000000000000001, 0.8, 0.9, 2.0, 3.0, 4.0, 5.0, 6.0, 7.0, 8.0, 9.0, 20.0, 30.0, 40.0, 50.0, 60.0, 70.0, 80.0, 90.0, 200.0, 300.0, 400.0, 500.0, 600.0, 700.0, 800.0, 900.0, 2000.0, 3000.0, 4000.0, 5000.0, 6000.0, 7000.0, 8000.0, 9000.0, 20000.0, 30000.0, 40000.0, 50000.0, 60000.0, 70000.0, 80000.0, 90000.0, 200000.0, 300000.0, 400000.0, 500000.0, 600000.0, 700000.0, 800000.0, 900000.0]\n"
     ]
    },
    {
     "data": {
      "image/png": "[encoded data removed]",
      "text/plain": [
       "<Figure size 432x288 with 1 Axes>"
      ]
     },
     "metadata": {
      "needs_background": "light"
     },
     "output_type": "display_data"
    }
   ],
   "source": [
    "# Colors for plotting\n",
    "color_map = plt.get_cmap('cubehelix')\n",
    "colors = color_map(np.linspace(0.1, 1, 10))\n",
    "\n",
    "# Initilize figure\n",
    "error_k_fig = plt.figure()\n",
    "\n",
    "i = 0\n",
    "for error in errors_H:  \n",
    "    n_iter = np.arange(np.shape(error)[0])\n",
    "    plt.loglog(n_iter, error, color=colors[i], linewidth=1, linestyle=\"-\", marker=(i+2, 0, 0), markevery=100, label = '$K= {0} $'.format(models[i].nb_layers))\n",
    "    i += 1\n",
    "\n",
    "# Plot error evolution for Jacobi \n",
    "n_iter = np.arange(np.shape(errs_jacobi)[0])\n",
    "plt.loglog(n_iter, errs_jacobi, color=colors[i], linewidth=1, linestyle=\"-\", marker=(i+2, 0, 0), markevery=1000, label = 'Jacobi')\n",
    "\n",
    "# Additional settings\n",
    "plt.legend(bbox_to_anchor=(1.05, 0.31), loc=3, borderaxespad=0.)\n",
    "plt.xlabel('n iterations', fontsize=14)\n",
    "plt.ylabel('Error [-]', fontsize=14)\n",
    "#plt.xlim([0, max_epochs])\n",
    "plt.ylim([tol, errors_H[0][0]])\n",
    "plt.title('Error evolution for different $K$\\n Grid size ${0}x{0}$'.format(N))\n",
    "plt.grid(True, which = \"both\", linewidth = 0.5,  linestyle = \"--\")\n",
    "\n",
    "error_k_fig.savefig('../report/figs/error_k.eps', bbox_inches='tight')\n",
    "plt.draw()\n",
    "plt.show()"
   ]
  },
  {
   "cell_type": "code",
   "execution_count": null,
   "metadata": {
    "ExecuteTime": {
     "end_time": "2018-12-18T13:32:57.531942Z",
     "start_time": "2018-12-18T13:32:27.488Z"
    },
    "autoscroll": false,
    "ein.hycell": false,
    "ein.tags": "worksheet-0",
    "slideshow": {
     "slide_type": "-"
    }
   },
   "outputs": [],
   "source": [
    "# This is not correct, but we have to look for a way to access the variables inside timeit\n",
    "\n",
    "print(\"needed {0} iterations (compared to {1}), ratio: {2}\".format(k_count_old, k_count_new, k_count_old/k_count_new))"
   ]
  },
  {
   "cell_type": "code",
   "execution_count": null,
   "metadata": {
    "ExecuteTime": {
     "end_time": "2018-12-18T13:32:57.533202Z",
     "start_time": "2018-12-18T13:32:27.494Z"
    },
    "autoscroll": false,
    "ein.hycell": false,
    "ein.tags": "worksheet-0",
    "slideshow": {
     "slide_type": "-"
    }
   },
   "outputs": [],
   "source": [
    "print(\"the loss of the new method is {0}, compared to the pure-jacoby one: {1}. computed with {2} iterations\".format(F.mse_loss(gtt, output), F.mse_loss(gtt, jacoby_pure), nb_iters))"
   ]
  },
  {
   "cell_type": "code",
   "execution_count": null,
   "metadata": {
    "ExecuteTime": {
     "end_time": "2018-12-18T13:32:57.534573Z",
     "start_time": "2018-12-18T13:32:27.499Z"
    },
    "autoscroll": false,
    "ein.hycell": false,
    "ein.tags": "worksheet-0",
    "slideshow": {
     "slide_type": "-"
    }
   },
   "outputs": [],
   "source": [
    "helpers.plot_solution(gtt,output,N)"
   ]
  },
  {
   "cell_type": "code",
   "execution_count": null,
   "metadata": {
    "ExecuteTime": {
     "end_time": "2018-12-18T13:32:57.535773Z",
     "start_time": "2018-12-18T13:32:27.504Z"
    },
    "autoscroll": false,
    "ein.hycell": false,
    "ein.tags": "worksheet-0",
    "slideshow": {
     "slide_type": "-"
    }
   },
   "outputs": [],
   "source": [
    "(gtt.view(N,N) - output.view(N,N)).mean()"
   ]
  },
  {
   "cell_type": "markdown",
   "metadata": {
    "ein.tags": "worksheet-0",
    "slideshow": {
     "slide_type": "-"
    }
   },
   "source": [
    "Test on L-shape domain"
   ]
  },
  {
   "cell_type": "code",
   "execution_count": null,
   "metadata": {
    "ExecuteTime": {
     "end_time": "2018-12-18T13:32:57.537084Z",
     "start_time": "2018-12-18T13:32:27.509Z"
    },
    "autoscroll": false,
    "ein.hycell": false,
    "ein.tags": "worksheet-0",
    "slideshow": {
     "slide_type": "-"
    }
   },
   "outputs": [],
   "source": [
    "B_idx, B = geometries.l_shaped_geometry(N)\n",
    "\n",
    "# Set forcing term\n",
    "f = torch.ones(1,1,N,N)*1.0\n",
    "\n",
    "# Obtain solutions\n",
    "gtt = im.jacobi_method(B_idx, B, f, torch.ones(1,1,N,N), k = 10000)\n",
    "output = im.H_method(net, B_idx, B, f, torch.ones(1,1,N,N), k = 2000)"
   ]
  },
  {
   "cell_type": "code",
   "execution_count": null,
   "metadata": {
    "ExecuteTime": {
     "end_time": "2018-12-18T13:32:57.538405Z",
     "start_time": "2018-12-18T13:32:27.514Z"
    },
    "autoscroll": false,
    "ein.hycell": false,
    "ein.tags": "worksheet-0",
    "slideshow": {
     "slide_type": "-"
    }
   },
   "outputs": [],
   "source": [
    "helpers.plot_solution(gtt,output,N)"
   ]
  },
  {
   "cell_type": "code",
   "execution_count": null,
   "metadata": {
    "ExecuteTime": {
     "end_time": "2018-12-18T13:32:57.543750Z",
     "start_time": "2018-12-18T13:32:27.529Z"
    }
   },
   "outputs": [],
   "source": [
    "compare_flops(16,k_count_new,k_count_old,3)"
   ]
  },
  {
   "cell_type": "code",
   "execution_count": null,
   "metadata": {},
   "outputs": [],
   "source": [
    "Spectral radius. Don't remove Francesco will delete me"
   ]
  },
  {
   "cell_type": "code",
   "execution_count": null,
   "metadata": {},
   "outputs": [],
   "source": [
    "B_idx = problem_instances[1].B_idx\n",
    "net = nn.Sequential(nn.Conv2d(1, 1, 3, padding=1, bias=False))\n",
    "G = helpers.build_G(B_idx)\n",
    "T = helpers.build_T(N)\n",
    "H = helpers.conv_net_to_matrix(net, N)\n",
    "I = np.eye(N)\n",
    "helpers.spectral_radius(T+G.dot(H).dot(T)-G.dot(H))"
   ]
  },
  {
   "cell_type": "markdown",
   "metadata": {
    "ExecuteTime": {
     "end_time": "2018-12-20T00:05:07.263696Z",
     "start_time": "2018-12-20T00:05:07.261703Z"
    }
   },
   "source": [
    "# Model testing"
   ]
  },
  {
   "cell_type": "code",
   "execution_count": null,
   "metadata": {
    "ExecuteTime": {
     "end_time": "2018-12-20T07:21:24.740900Z",
     "start_time": "2018-12-20T07:21:24.734525Z"
    }
   },
   "outputs": [],
   "source": [
    "import nnpde.model_testing as MT\n",
    "import nnpde.problems as PDEF\n",
    "reload(MT)\n",
    "reload(PDEF)"
   ]
  },
  {
   "cell_type": "code",
   "execution_count": null,
   "metadata": {
    "ExecuteTime": {
     "end_time": "2018-12-20T07:20:51.162889Z",
     "start_time": "2018-12-20T07:20:51.155269Z"
    }
   },
   "outputs": [],
   "source": [
    "tol = 1e-6\n",
    "base_parameters"
   ]
  },
  {
   "cell_type": "code",
   "execution_count": null,
   "metadata": {
    "ExecuteTime": {
     "end_time": "2018-12-20T07:10:54.994172Z",
     "start_time": "2018-12-20T07:10:42.142650Z"
    },
    "scrolled": true
   },
   "outputs": [],
   "source": [
    "mdl = M.JacobyWithConv(**{**base_parameters, **{'max_epochs': 500, 'optimizer': 'Adadelta', 'nb_layers': 4}}).fit(problem_instances)"
   ]
  },
  {
   "cell_type": "code",
   "execution_count": null,
   "metadata": {
    "ExecuteTime": {
     "end_time": "2018-12-20T06:42:35.215146Z",
     "start_time": "2018-12-20T06:42:35.213210Z"
    }
   },
   "outputs": [],
   "source": [
    "tests_n10_g32 = MT.test_results_pd(mdl, 4, 32, tol=1e-6, convergence_tol = 1e-12)\n",
    "tests_n10_g32.to_pickle('./data/grid_32.pkl')"
   ]
  },
  {
   "cell_type": "code",
   "execution_count": null,
   "metadata": {},
   "outputs": [],
   "source": [
    "tests_n10_g32"
   ]
  },
  {
   "cell_type": "code",
   "execution_count": null,
   "metadata": {
    "ExecuteTime": {
     "end_time": "2018-12-20T07:23:10.424790Z",
     "start_time": "2018-12-20T07:21:52.657238Z"
    }
   },
   "outputs": [],
   "source": [
    "# takes 7m!\n",
    "test_results = MT.test_results_pd(mdl, 5, 64, tol=tol, convergence_tol=1e-12)\n",
    "test_results.to_pickle('./data/grid_64.pkl')\n",
    "test_results"
   ]
  },
  {
   "cell_type": "code",
   "execution_count": null,
   "metadata": {
    "ExecuteTime": {
     "start_time": "2018-12-20T02:04:28.026Z"
    }
   },
   "outputs": [],
   "source": [
    "test_results2 = MT.test_results_pd(mdl.net, 100, 256, tol=tol)\n",
    "test_results2.to_pickle('./data/grid_256.pkl')\n",
    "test_results2"
   ]
  },
  {
   "cell_type": "code",
   "execution_count": null,
   "metadata": {
    "ExecuteTime": {
     "start_time": "2018-12-20T02:04:46.184Z"
    }
   },
   "outputs": [],
   "source": [
    "test_results3 = MT.test_results_pd(mdl.net, 100, 512, tol=tol)\n",
    "test_results3.to_pickle('./data/grid_512.pkl')\n",
    "test_results3"
   ]
  },
  {
   "cell_type": "code",
   "execution_count": null,
   "metadata": {
    "ExecuteTime": {
     "end_time": "2018-12-20T00:49:34.948931Z",
     "start_time": "2018-12-20T00:33:04.266207Z"
    }
   },
   "outputs": [],
   "source": [
    "test_results_big_dimension = MT.test_results_pd(mdl.net, 10, 256)\n",
    "4\n",
    "test_results_big_dimension"
   ]
  },
  {
   "cell_type": "code",
   "execution_count": null,
   "metadata": {
    "ExecuteTime": {
     "end_time": "2018-12-20T01:19:11.587199Z",
     "start_time": "2018-12-20T01:18:31.088107Z"
    }
   },
   "outputs": [],
   "source": [
    "test_results_ada = MT.test_results_pd(mdlAda.net, 1, 64)\n",
    "test_results_ada"
   ]
  },
  {
   "cell_type": "code",
   "execution_count": null,
   "metadata": {
    "ExecuteTime": {
     "end_time": "2018-12-20T01:22:23.445697Z",
     "start_time": "2018-12-20T01:19:11.589041Z"
    }
   },
   "outputs": [],
   "source": [
    "test_results_ada = MT.test_results_pd(mdlAda.net, 10, 64)\n",
    "test_results_ada_big_dimension = MT.test_results_pd(mdl.netAda, 10, 256)"
   ]
  }
 ],
 "metadata": {
  "hide_input": false,
  "kernelspec": {
   "display_name": "Python 3",
   "language": "python",
   "name": "python3"
  },
  "language_info": {
   "codemirror_mode": {
    "name": "ipython",
    "version": 3
   },
   "file_extension": ".py",
   "mimetype": "text/x-python",
   "name": "python",
   "nbconvert_exporter": "python",
   "pygments_lexer": "ipython3",
   "version": "3.6.7"
  },
  "name": "main.ipynb",
  "toc": {
   "base_numbering": 1,
   "colors": {
    "hover_highlight": "#DAA520",
    "running_highlight": "#FF0000",
    "selected_highlight": "#FFD700"
   },
   "moveMenuLeft": true,
   "nav_menu": {
    "height": "67.7px",
    "width": "252px"
   },
   "navigate_menu": true,
   "number_sections": true,
   "sideBar": false,
   "skip_h1_title": false,
   "threshold": 4,
   "title_cell": "Table of Contents",
   "title_sidebar": "Contents",
   "toc_cell": false,
   "toc_position": {
    "height": "584.933px",
    "left": "1px",
    "right": "2569px",
    "top": "111px",
    "width": "600px"
   },
   "toc_section_display": "none",
   "toc_window_display": false
  }
 },
 "nbformat": 4,
 "nbformat_minor": 2
}

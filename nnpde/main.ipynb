{
 "cells": [
  {
   "cell_type": "markdown",
   "metadata": {
    "ExecuteTime": {
     "end_time": "2018-12-18T11:12:37.978677Z",
     "start_time": "2018-12-18T11:12:37.976016Z"
    }
   },
   "source": [
    "# Imports"
   ]
  },
  {
   "cell_type": "code",
   "execution_count": 4,
   "metadata": {
    "ExecuteTime": {
     "end_time": "2018-12-19T22:58:35.900254Z",
     "start_time": "2018-12-19T22:58:35.891434Z"
    },
    "autoscroll": false,
    "ein.hycell": false,
    "ein.tags": "worksheet-0",
    "slideshow": {
     "slide_type": "-"
    }
   },
   "outputs": [
    {
     "data": {
      "text/html": [
       "<style>.container { width:95% !important; }</style>"
      ],
      "text/plain": [
       "<IPython.core.display.HTML object>"
      ]
     },
     "metadata": {},
     "output_type": "display_data"
    }
   ],
   "source": [
    "def fix_layout(width:int=95):\n",
    "    from IPython.core.display import display, HTML\n",
    "    display(HTML('<style>.container { width:' + str(width) + '% !important; }</style>'))\n",
    "    \n",
    "fix_layout()"
   ]
  },
  {
   "cell_type": "code",
   "execution_count": 5,
   "metadata": {
    "ExecuteTime": {
     "end_time": "2018-12-19T22:58:37.056380Z",
     "start_time": "2018-12-19T22:58:37.045112Z"
    },
    "autoscroll": false,
    "ein.hycell": false,
    "ein.tags": "worksheet-0",
    "slideshow": {
     "slide_type": "-"
    }
   },
   "outputs": [],
   "source": [
    "from importlib import reload\n",
    "\n",
    "import numpy as np\n",
    "import matplotlib.pyplot as plt\n",
    "import torch\n",
    "import torch.nn as nn\n",
    "import torch.nn.functional as F\n",
    "\n",
    "import nnpde.functions.iterative_methods as im\n",
    "from nnpde.functions import geometries, helpers\n",
    "from nnpde.utils.logs import enable_logging, logging \n",
    "from nnpde.problems import DirichletProblem \n",
    "from nnpde.utils import plots\n",
    "import nnpde.model as M "
   ]
  },
  {
   "cell_type": "code",
   "execution_count": 6,
   "metadata": {
    "ExecuteTime": {
     "end_time": "2018-12-19T22:58:37.615176Z",
     "start_time": "2018-12-19T22:58:37.601206Z"
    },
    "autoscroll": false,
    "ein.hycell": false,
    "ein.tags": "worksheet-0",
    "slideshow": {
     "slide_type": "-"
    }
   },
   "outputs": [
    {
     "name": "stderr",
     "output_type": "stream",
     "text": [
      "2018-12-19 23:58:37,605 - root - INFO - logs - logging enabled for level: 20\n"
     ]
    }
   ],
   "source": [
    "enable_logging(20)\n",
    "\n",
    "seed = 9 # Does not give problems\n",
    "torch.manual_seed(seed)\n",
    "np.random.seed(seed)"
   ]
  },
  {
   "cell_type": "markdown",
   "metadata": {},
   "source": [
    "# Setup"
   ]
  },
  {
   "cell_type": "code",
   "execution_count": 7,
   "metadata": {
    "ExecuteTime": {
     "end_time": "2018-12-19T22:58:38.659996Z",
     "start_time": "2018-12-19T22:58:38.637667Z"
    },
    "autoscroll": false,
    "ein.hycell": false,
    "ein.tags": "worksheet-0",
    "slideshow": {
     "slide_type": "-"
    }
   },
   "outputs": [],
   "source": [
    "# Define train dimension: NxN\n",
    "N = 16\n",
    "\n",
    "# For each problem instance define number of iteration to perform to obtain the solution\n",
    "nb_problem_instances = 30\n",
    "problem_instances = [DirichletProblem(k=k) for k in np.random.randint(1, 20, nb_problem_instances)]"
   ]
  },
  {
   "cell_type": "markdown",
   "metadata": {},
   "source": [
    "# Hyper-parameter search learning rate"
   ]
  },
  {
   "cell_type": "code",
   "execution_count": 20,
   "metadata": {
    "ExecuteTime": {
     "end_time": "2018-12-19T23:45:11.499480Z",
     "start_time": "2018-12-19T23:45:11.489182Z"
    }
   },
   "outputs": [],
   "source": [
    "from itertools import product\n",
    "import logging\n",
    "\n",
    "def grid_search(mdl, base_parameters, grid_search_parameters, problem_instances):\n",
    "    \"\"\"\n",
    "    Parameters\n",
    "    ==========\n",
    "    \n",
    "        mdl                     Model Class, \n",
    "                                expected interface: `mdl(parameters).fit(problem_instances)`\n",
    "        base_parameters         dictonary of parameters which will applied for all models\n",
    "        grid_search_parameters  dictonary of <parameter>: [<value for parameter key>]\n",
    "        problem_instances       list of problems to train on\n",
    "    \"\"\"\n",
    "    # the `list` is necessary if you want to print the below message\n",
    "    #parameters = list(product(*grid_search_parameters.values()))\n",
    "    #logging.debug('testing {} models! make sure that you have the power to run this!'.format(len(parameters)))\n",
    "    # `product` is equivalent to a nested for loop\n",
    "    parameters = product(*grid_search_parameters.values())\n",
    "\n",
    "    # the dict(zip(...)) part is necessary to ensure correct assignment\n",
    "    res = [mdl(**{**base_parameters, **dict(zip(grid_search_parameters.keys(), p))}).fit(problem_instances) for p in parameters]\n",
    "    return res"
   ]
  },
  {
   "cell_type": "code",
   "execution_count": 21,
   "metadata": {
    "ExecuteTime": {
     "end_time": "2018-12-19T23:46:22.067894Z",
     "start_time": "2018-12-19T23:46:22.060377Z"
    }
   },
   "outputs": [],
   "source": [
    "def grid_search_wrapper(base_parameters, grid_search_parameters):\n",
    "    return grid_search(mdl=M.JacobyWithConv,\n",
    "                       base_parameters=base_parameters,\n",
    "                       grid_search_parameters=grid_search_parameters,\n",
    "                       problem_instances=problem_instances)"
   ]
  },
  {
   "cell_type": "code",
   "execution_count": 23,
   "metadata": {
    "ExecuteTime": {
     "end_time": "2018-12-19T23:54:27.150000Z",
     "start_time": "2018-12-19T23:51:14.436602Z"
    }
   },
   "outputs": [
    {
     "name": "stderr",
     "output_type": "stream",
     "text": [
      "2018-12-20 00:51:14,720 - root - INFO - model - Training with max_epochs: 100, tol: 0.0001. Initial loss is 1641.115478515625\n",
      "2018-12-20 00:51:15,903 - root - INFO - model - iter 0 with total loss 1050.2430419921875\n",
      "2018-12-20 00:51:26,836 - root - INFO - model - Convergence reached in 10 epochs with total loss 808.0904541015625\n",
      "2018-12-20 00:51:27,101 - root - INFO - model - Training with max_epochs: 100, tol: 0.0001. Initial loss is 1641.115478515625\n",
      "2018-12-20 00:51:28,141 - root - INFO - model - iter 0 with total loss 922.9979248046875\n",
      "2018-12-20 00:51:37,660 - root - INFO - model - Convergence reached in 10 epochs with total loss 767.71240234375\n",
      "2018-12-20 00:51:37,881 - root - INFO - model - Training with max_epochs: 100, tol: 0.0001. Initial loss is 1641.115478515625\n",
      "2018-12-20 00:51:38,854 - root - INFO - model - iter 0 with total loss 831.3388671875\n",
      "2018-12-20 00:51:48,988 - root - INFO - model - Convergence reached in 10 epochs with total loss 735.4732055664062\n",
      "2018-12-20 00:51:49,350 - root - INFO - model - Training with max_epochs: 100, tol: 0.0001. Initial loss is 1641.115478515625\n",
      "2018-12-20 00:51:50,071 - root - INFO - model - iter 0 with total loss 758.3668823242188\n",
      "2018-12-20 00:52:01,113 - root - INFO - model - Convergence reached in 10 epochs with total loss 702.4346313476562\n",
      "2018-12-20 00:52:01,325 - root - INFO - model - Training with max_epochs: 100, tol: 0.0001. Initial loss is 1641.115478515625\n",
      "2018-12-20 00:52:02,317 - root - INFO - model - iter 0 with total loss 736.2993774414062\n",
      "2018-12-20 00:52:11,248 - root - INFO - model - Convergence reached in 10 epochs with total loss 661.6428833007812\n",
      "2018-12-20 00:52:11,469 - root - INFO - model - Training with max_epochs: 100, tol: 0.0001. Initial loss is 1641.115478515625\n",
      "2018-12-20 00:52:12,417 - root - INFO - model - iter 0 with total loss 715.6090087890625\n",
      "2018-12-20 00:52:21,105 - root - INFO - model - Convergence reached in 10 epochs with total loss 548.1904907226562\n",
      "2018-12-20 00:52:21,343 - root - INFO - model - Training with max_epochs: 100, tol: 0.0001. Initial loss is 1641.115478515625\n",
      "2018-12-20 00:52:22,677 - root - INFO - model - iter 0 with total loss nan\n",
      "2018-12-20 00:54:14,687 - root - INFO - model - Convergence reached in 99 epochs with total loss nan\n",
      "2018-12-20 00:54:14,690 - root - INFO - model - Using optimizer Adadelta\n",
      "2018-12-20 00:54:14,940 - root - INFO - model - Training with max_epochs: 100, tol: 0.0001. Initial loss is 1641.115478515625\n",
      "2018-12-20 00:54:16,097 - root - INFO - model - iter 0 with total loss 957.9976806640625\n",
      "2018-12-20 00:54:27,147 - root - INFO - model - Convergence reached in 10 epochs with total loss 755.718994140625\n"
     ]
    }
   ],
   "source": [
    "reload(M)\n",
    "\n",
    "# Took 3m 13s on a Intel(R) Core(TM) i7-6700K CPU @ 4.00GHz\n",
    "\n",
    "# Net parameters\n",
    "base_parameters = {\n",
    "    \"nb_layers\": 3,\n",
    "    \"max_epochs\": 100,\n",
    "    \"batch_size\": 10,\n",
    "    \"stable_count\": 10,\n",
    "    \"random_seed\": 9\n",
    "}\n",
    "\n",
    "# SGD\n",
    "grid_parameters = {\n",
    "    \"learning_rate\": np.logspace(start=-6, stop=-4, num=7), #num=7 is good since it contains 1e-5\n",
    "}\n",
    "hyper_models = grid_search_wrapper(base_parameters, grid_parameters) \\\n",
    "    + grid_search_wrapper(base_parameters, {\"optimizer\": [\"Adadelta\"]})"
   ]
  },
  {
   "cell_type": "code",
   "execution_count": 24,
   "metadata": {
    "ExecuteTime": {
     "end_time": "2018-12-19T23:54:27.609410Z",
     "start_time": "2018-12-19T23:54:27.151785Z"
    }
   },
   "outputs": [
    {
     "data": {
      "image/png": "[encoded data removed]",
      "text/plain": [
       "<Figure size 432x288 with 1 Axes>"
      ]
     },
     "metadata": {
      "needs_background": "light"
     },
     "output_type": "display_data"
    }
   ],
   "source": [
    "# Colors for plotting\n",
    "color_map = plt.get_cmap('cubehelix')\n",
    "colors = color_map(np.linspace(0.1, 1, 10))\n",
    "\n",
    "# Initilize figure\n",
    "hyper_fig = plt.figure()\n",
    "\n",
    "# Plot SGD\n",
    "i = 0\n",
    "for model in hyper_models[:-1]:  \n",
    "    n_epoch = np.arange(np.shape(model.losses)[0])\n",
    "    plt.semilogy(n_epoch, \n",
    "                 model.losses, \n",
    "                 color=colors[i], \n",
    "                 linewidth=1, \n",
    "                 linestyle=\"-\", \n",
    "                 marker=(i+2, 0, 0), \n",
    "                 markevery=10, \n",
    "                 label = f'$\\gamma= {learning_rates[i]:.2e} $')\n",
    "    i += 1\n",
    "\n",
    "# Plot Adadelta\n",
    "n_epoch = np.arange(np.shape(hyper_models[-1].losses)[0])\n",
    "plt.semilogy(n_epoch, hyper_models[-1].losses, color=colors[i], linewidth=1, linestyle=\"-\", marker=(i+2, 0, 0), markevery=10,label='Adadelta')\n",
    "\n",
    "# Additional settings\n",
    "plt.legend(bbox_to_anchor=(1.05, 0.31), loc=3, borderaxespad=0.)\n",
    "plt.xlabel('n epochs', fontsize=14)\n",
    "plt.ylabel('Total loss [-]', fontsize=14)\n",
    "#plt.xlim([0, base_parameters['max_epochs']])\n",
    "#plt.ylim([0, 200])\n",
    "plt.title('Loss evolution for different learning rates, $K=3$, batchSize=10')\n",
    "plt.grid(True, which = \"both\", linewidth = 0.5,  linestyle = \"--\")\n",
    "\n",
    "#hyper_fig.savefig('../report/fig/hyper.eps', bbox_inches='tight')\n",
    "plt.draw()\n",
    "plt.show()"
   ]
  },
  {
   "cell_type": "markdown",
   "metadata": {},
   "source": [
    "# Train model using K = 1,2,3,4,5"
   ]
  },
  {
   "cell_type": "code",
   "execution_count": 26,
   "metadata": {
    "ExecuteTime": {
     "end_time": "2018-12-19T23:57:37.034241Z",
     "start_time": "2018-12-19T23:57:37.024946Z"
    }
   },
   "outputs": [
    {
     "data": {
      "text/plain": [
       "{'nb_layers': 3,\n",
       " 'max_epochs': 100,\n",
       " 'batch_size': 10,\n",
       " 'stable_count': 10,\n",
       " 'random_seed': 9}"
      ]
     },
     "execution_count": 26,
     "metadata": {},
     "output_type": "execute_result"
    }
   ],
   "source": [
    "base_parameters"
   ]
  },
  {
   "cell_type": "code",
   "execution_count": 29,
   "metadata": {
    "ExecuteTime": {
     "end_time": "2018-12-20T00:05:07.260050Z",
     "start_time": "2018-12-20T00:04:04.273443Z"
    }
   },
   "outputs": [
    {
     "name": "stderr",
     "output_type": "stream",
     "text": [
      "2018-12-20 01:04:04,276 - root - INFO - model - Using optimizer Adadelta\n",
      "2018-12-20 01:04:04,474 - root - INFO - model - Training with max_epochs: 200, tol: 0.0001. Initial loss is 13326.283203125\n",
      "2018-12-20 01:04:05,286 - root - INFO - model - iter 0 with total loss 3609.199462890625\n",
      "2018-12-20 01:04:12,375 - root - INFO - model - Convergence reached in 10 epochs with total loss 837.144287109375\n",
      "2018-12-20 01:04:12,377 - root - INFO - model - Using optimizer Adadelta\n",
      "2018-12-20 01:04:12,567 - root - INFO - model - Training with max_epochs: 200, tol: 0.0001. Initial loss is 511491.90625\n",
      "2018-12-20 01:04:13,299 - root - INFO - model - iter 0 with total loss 71287.515625\n",
      "2018-12-20 01:04:21,665 - root - INFO - model - Convergence reached in 10 epochs with total loss 8135.30859375\n",
      "2018-12-20 01:04:21,667 - root - INFO - model - Using optimizer Adadelta\n",
      "2018-12-20 01:04:21,904 - root - INFO - model - Training with max_epochs: 200, tol: 0.0001. Initial loss is 1641.115478515625\n",
      "2018-12-20 01:04:23,178 - root - INFO - model - iter 0 with total loss 957.9976806640625\n",
      "2018-12-20 01:04:34,712 - root - INFO - model - Convergence reached in 10 epochs with total loss 755.718994140625\n",
      "2018-12-20 01:04:34,714 - root - INFO - model - Using optimizer Adadelta\n",
      "2018-12-20 01:04:35,002 - root - INFO - model - Training with max_epochs: 200, tol: 0.0001. Initial loss is 737.6617431640625\n",
      "2018-12-20 01:04:36,188 - root - INFO - model - iter 0 with total loss 707.9541625976562\n",
      "2018-12-20 01:04:50,235 - root - INFO - model - Convergence reached in 10 epochs with total loss 357.1276550292969\n",
      "2018-12-20 01:04:50,237 - root - INFO - model - Using optimizer Adadelta\n",
      "2018-12-20 01:04:50,603 - root - INFO - model - Training with max_epochs: 200, tol: 0.0001. Initial loss is 694.2527465820312\n",
      "2018-12-20 01:04:52,132 - root - INFO - model - iter 0 with total loss 682.7750244140625\n",
      "2018-12-20 01:05:07,258 - root - INFO - model - Convergence reached in 10 epochs with total loss 515.855712890625\n"
     ]
    }
   ],
   "source": [
    "reload(M)\n",
    "\n",
    "params = {**base_parameters, **{'max_epochs': 200, 'optimizer': 'Adadelta'}}\n",
    "models = grid_search_wrapper(params, {'nb_layers': range(1, 6)})\n",
    "\n",
    "#models = [M.JacobyWithConv(**{**params, 'nb_layers': nb_layers}).fit(problem_instances) for nb_layers in [1,2,3,4,5]]"
   ]
  },
  {
   "cell_type": "code",
   "execution_count": 33,
   "metadata": {
    "ExecuteTime": {
     "end_time": "2018-12-20T00:06:01.037853Z",
     "start_time": "2018-12-20T00:06:00.693699Z"
    }
   },
   "outputs": [
    {
     "name": "stdout",
     "output_type": "stream",
     "text": [
      "For K=1 final loss is 837.144287109375\n",
      "For K=2 final loss is 8135.30859375\n",
      "For K=3 final loss is 755.718994140625\n",
      "For K=4 final loss is 357.1276550292969\n",
      "For K=5 final loss is 515.855712890625\n"
     ]
    },
    {
     "data": {
      "image/png": "[encoded data removed]",
      "text/plain": [
       "<Figure size 432x288 with 1 Axes>"
      ]
     },
     "metadata": {
      "needs_background": "light"
     },
     "output_type": "display_data"
    }
   ],
   "source": [
    "# Colors for plotting\n",
    "color_map = plt.get_cmap('cubehelix')\n",
    "colors = color_map(np.linspace(0.1, 1, 10))\n",
    "\n",
    "# Initilize figure\n",
    "comparison_K_fig = plt.figure()\n",
    "\n",
    "# Plot SGD\n",
    "i = 0\n",
    "for model in models[:]:  \n",
    "    n_epoch = np.arange(np.shape(model.losses)[0])\n",
    "    plt.semilogy(n_epoch, model.losses, color=colors[i], linewidth=1, linestyle=\"-\", marker=(i+2, 0, 0), markevery=100, label = '$K= {0} $'.format(model.nb_layers))\n",
    "    print(\"For K={0} final loss is {1}\".format(model.nb_layers, model.losses[-1]))\n",
    "    i += 1\n",
    "\n",
    "# Additional settings\n",
    "plt.legend(bbox_to_anchor=(1.05, 0.31), loc=3, borderaxespad=0.)\n",
    "plt.xlabel('n epochs', fontsize=14)\n",
    "plt.ylabel('Total loss [-]', fontsize=14)\n",
    "#plt.xlim([0, max_epochs])\n",
    "#plt.ylim([0, 800])\n",
    "plt.title('Loss evolution for different learning rates, $K=3$, batchSize=10')\n",
    "plt.grid(True, which = \"both\", linewidth = 0.5,  linestyle = \"--\")\n",
    "\n",
    "#hyper_fig.savefig('../report/fig/comparison_K.eps', bbox_inches='tight')\n",
    "plt.draw()\n",
    "plt.show()"
   ]
  },
  {
   "cell_type": "code",
   "execution_count": null,
   "metadata": {},
   "outputs": [],
   "source": [
    "models[1].max_epochs = 300\n",
    "models[1].fit(problem_instances)"
   ]
  },
  {
   "cell_type": "markdown",
   "metadata": {
    "ein.tags": "worksheet-0",
    "slideshow": {
     "slide_type": "-"
    }
   },
   "source": [
    "# Test on a bigger grid"
   ]
  },
  {
   "cell_type": "code",
   "execution_count": null,
   "metadata": {
    "ExecuteTime": {
     "end_time": "2018-12-18T13:32:53.423669Z",
     "start_time": "2018-12-18T13:32:53.419355Z"
    }
   },
   "outputs": [],
   "source": [
    "from nnpde.metrics import least_squares_loss as LSE"
   ]
  },
  {
   "cell_type": "code",
   "execution_count": null,
   "metadata": {
    "ExecuteTime": {
     "end_time": "2018-12-18T13:38:54.018812Z",
     "start_time": "2018-12-18T13:38:50.992107Z"
    },
    "autoscroll": false,
    "ein.hycell": false,
    "ein.tags": "worksheet-0",
    "slideshow": {
     "slide_type": "-"
    }
   },
   "outputs": [],
   "source": [
    "# Grid size NxN\n",
    "N = 64\n",
    "\n",
    "# Use sufficiently high number of iterations to get ground truth solution\n",
    "k_ground_truth = 20000\n",
    "\n",
    "# Initialize Laplace problem on Square geometry\n",
    "problem = DirichletProblem(N=N, k_ground_truth=20000)\n",
    "B_idx = problem.B_idx\n",
    "B = problem.B\n",
    "f = problem.f\n",
    "\n",
    "# Obtain solutions\n",
    "ground_truth = problem.ground_truth\n",
    "\n",
    "# Set initial_u equal for Jacobi method and for H method\n",
    "initial_u = torch.ones(1,1,N,N)\n",
    "k = 2000\n",
    "\n",
    "# Obtain solution with Jacobi method\n",
    "u_jacobi = im.jacobi_method(B_idx, B, f, initial_u, k = 2000)\n",
    "print(f\"Error after {k} iterations for Jacobi method: {LSE(ground_truth, u_jacobi)}\")\n",
    "\n",
    "# For each K obtain \n",
    "for model in models:\n",
    "    u_H = im.H_method(model.net, B_idx, B, f, initial_u, k = 2000)\n",
    "    print(f\"Error after {k} iterations for H method with K={model.nb_layers}: {LSE(ground_truth, u_H)}\")"
   ]
  },
  {
   "cell_type": "markdown",
   "metadata": {},
   "source": [
    "# Error evolution with iterations"
   ]
  },
  {
   "cell_type": "code",
   "execution_count": null,
   "metadata": {
    "ExecuteTime": {
     "end_time": "2018-12-18T13:39:04.858178Z",
     "start_time": "2018-12-18T13:39:04.850454Z"
    },
    "autoscroll": false,
    "ein.hycell": false,
    "ein.tags": "worksheet-0",
    "slideshow": {
     "slide_type": "-"
    }
   },
   "outputs": [],
   "source": [
    "tol = 1e-6\n",
    "net = models[2].net"
   ]
  },
  {
   "cell_type": "code",
   "execution_count": null,
   "metadata": {
    "ExecuteTime": {
     "end_time": "2018-12-18T13:39:24.100072Z",
     "start_time": "2018-12-18T13:39:15.030521Z"
    },
    "autoscroll": false,
    "ein.hycell": false,
    "ein.tags": "worksheet-0",
    "slideshow": {
     "slide_type": "-"
    }
   },
   "outputs": [],
   "source": [
    "u_jacobi = initial_u\n",
    "err_jacobi = LSE(ground_truth, u_jacobi).item()\n",
    "errs_jacobi = [err_jacobi] \n",
    "k_jacobi = 0\n",
    "\n",
    "while err_jacobi >= tol:\n",
    "    u_jacobi = im.jacobi_method(B_idx, B, f, u_jacobi, k = 1)\n",
    "    err_jacobi = LSE(ground_truth, u_jacobi).item()\n",
    "    errs_jacobi.append(err_jacobi)\n",
    "    k_jacobi += 1\n",
    "    \n",
    "print(f\"Jacobi method: error of {err_to_be_achieved} achieved after {k_jacobi} iterations.\")"
   ]
  },
  {
   "cell_type": "code",
   "execution_count": null,
   "metadata": {
    "ExecuteTime": {
     "end_time": "2018-12-18T13:39:51.821114Z",
     "start_time": "2018-12-18T13:39:50.664243Z"
    },
    "autoscroll": false,
    "ein.hycell": false,
    "ein.tags": "worksheet-0",
    "slideshow": {
     "slide_type": "-"
    }
   },
   "outputs": [],
   "source": [
    "errors_H = []\n",
    "max_iters = 10000\n",
    "\n",
    "for model in models:\n",
    "    u_H = initial_u\n",
    "    err_H = LSE(ground_truth, u_H).item()\n",
    "    errs_H = [err_H] \n",
    "    k_H = 0\n",
    "\n",
    "    while err_H >= tol:\n",
    "        u_H = im.H_method(model.net, B_idx, B, f, u_H, k = 1)\n",
    "        err_H = LSE(ground_truth, u_H).item()\n",
    "        errs_H.append(err_H)\n",
    "        k_H += 1\n",
    "        if k_H > max_iters or err_H == np.inf:\n",
    "            print(f\"H method, K = {model.nb_layers}: convergence not reached after {max_iters}, final error is {err_H}.\")\n",
    "            break\n",
    "    \n",
    "    print(f\"H method, K = {model.nb_layers}: error of {err_to_be_achieved} achieved after {k_H} iterations.\")\n",
    "    errors_H.append(errs_H)"
   ]
  },
  {
   "cell_type": "code",
   "execution_count": null,
   "metadata": {},
   "outputs": [],
   "source": [
    "# Colors for plotting\n",
    "color_map = plt.get_cmap('cubehelix')\n",
    "colors = color_map(np.linspace(0.1, 1, 10))\n",
    "\n",
    "# Initilize figure\n",
    "error_k_fig = plt.figure()\n",
    "\n",
    "i = 0\n",
    "for error in errors_H:  \n",
    "    n_iter = np.arange(np.shape(error)[0])\n",
    "    plt.loglog(n_iter, error, color=colors[i], linewidth=1, linestyle=\"-\", marker=(i+2, 0, 0), markevery=100, label = '$K= {0} $'.format(models[i].nb_layers))\n",
    "    i += 1\n",
    "\n",
    "# Plot error evolution for Jacobi \n",
    "n_iter = np.arange(np.shape(errs_jacobi)[0])\n",
    "plt.loglog(n_iter, errs_jacobi, color=colors[i], linewidth=1, linestyle=\"-\", marker=(i+2, 0, 0), markevery=1000, label = 'Jacobi')\n",
    "\n",
    "# Additional settings\n",
    "plt.legend(bbox_to_anchor=(1.05, 0.31), loc=3, borderaxespad=0.)\n",
    "plt.xlabel('n iterations', fontsize=14)\n",
    "plt.ylabel('Error [-]', fontsize=14)\n",
    "#plt.xlim([0, max_epochs])\n",
    "plt.ylim([tol, errors_H[0][0]])\n",
    "plt.title('Error evolution for different $K$, $N={0}$'.format(N))\n",
    "plt.grid(True, which = \"both\", linewidth = 0.5,  linestyle = \"--\")\n",
    "\n",
    "#error_k_fig.savefig('../report/fig/error_k.eps', bbox_inches='tight')\n",
    "plt.draw()\n",
    "plt.show()"
   ]
  },
  {
   "cell_type": "code",
   "execution_count": null,
   "metadata": {
    "ExecuteTime": {
     "end_time": "2018-12-18T13:32:57.531942Z",
     "start_time": "2018-12-18T13:32:27.488Z"
    },
    "autoscroll": false,
    "ein.hycell": false,
    "ein.tags": "worksheet-0",
    "slideshow": {
     "slide_type": "-"
    }
   },
   "outputs": [],
   "source": [
    "# This is not correct, but we have to look for a way to access the variables inside timeit\n",
    "\n",
    "print(\"needed {0} iterations (compared to {1}), ratio: {2}\".format(k_count_old, k_count_new, k_count_old/k_count_new))"
   ]
  },
  {
   "cell_type": "code",
   "execution_count": null,
   "metadata": {
    "ExecuteTime": {
     "end_time": "2018-12-18T13:32:57.533202Z",
     "start_time": "2018-12-18T13:32:27.494Z"
    },
    "autoscroll": false,
    "ein.hycell": false,
    "ein.tags": "worksheet-0",
    "slideshow": {
     "slide_type": "-"
    }
   },
   "outputs": [],
   "source": [
    "print(\"the loss of the new method is {0}, compared to the pure-jacoby one: {1}. computed with {2} iterations\".format(F.mse_loss(gtt, output), F.mse_loss(gtt, jacoby_pure), nb_iters))"
   ]
  },
  {
   "cell_type": "code",
   "execution_count": null,
   "metadata": {
    "ExecuteTime": {
     "end_time": "2018-12-18T13:32:57.534573Z",
     "start_time": "2018-12-18T13:32:27.499Z"
    },
    "autoscroll": false,
    "ein.hycell": false,
    "ein.tags": "worksheet-0",
    "slideshow": {
     "slide_type": "-"
    }
   },
   "outputs": [],
   "source": [
    "helpers.plot_solution(gtt,output,N)"
   ]
  },
  {
   "cell_type": "code",
   "execution_count": null,
   "metadata": {
    "ExecuteTime": {
     "end_time": "2018-12-18T13:32:57.535773Z",
     "start_time": "2018-12-18T13:32:27.504Z"
    },
    "autoscroll": false,
    "ein.hycell": false,
    "ein.tags": "worksheet-0",
    "slideshow": {
     "slide_type": "-"
    }
   },
   "outputs": [],
   "source": [
    "(gtt.view(N,N) - output.view(N,N)).mean()"
   ]
  },
  {
   "cell_type": "markdown",
   "metadata": {
    "ein.tags": "worksheet-0",
    "slideshow": {
     "slide_type": "-"
    }
   },
   "source": [
    "Test on L-shape domain"
   ]
  },
  {
   "cell_type": "code",
   "execution_count": null,
   "metadata": {
    "ExecuteTime": {
     "end_time": "2018-12-18T13:32:57.537084Z",
     "start_time": "2018-12-18T13:32:27.509Z"
    },
    "autoscroll": false,
    "ein.hycell": false,
    "ein.tags": "worksheet-0",
    "slideshow": {
     "slide_type": "-"
    }
   },
   "outputs": [],
   "source": [
    "B_idx, B = geometries.l_shaped_geometry(N)\n",
    "\n",
    "# Set forcing term\n",
    "f = torch.ones(1,1,N,N)*1.0\n",
    "\n",
    "# Obtain solutions\n",
    "gtt = im.jacobi_method(B_idx, B, f, torch.ones(1,1,N,N), k = 10000)\n",
    "output = im.H_method(net, B_idx, B, f, torch.ones(1,1,N,N), k = 2000)"
   ]
  },
  {
   "cell_type": "code",
   "execution_count": null,
   "metadata": {
    "ExecuteTime": {
     "end_time": "2018-12-18T13:32:57.538405Z",
     "start_time": "2018-12-18T13:32:27.514Z"
    },
    "autoscroll": false,
    "ein.hycell": false,
    "ein.tags": "worksheet-0",
    "slideshow": {
     "slide_type": "-"
    }
   },
   "outputs": [],
   "source": [
    "helpers.plot_solution(gtt,output,N)"
   ]
  },
  {
   "cell_type": "code",
   "execution_count": null,
   "metadata": {
    "ExecuteTime": {
     "end_time": "2018-12-18T13:32:57.543750Z",
     "start_time": "2018-12-18T13:32:27.529Z"
    }
   },
   "outputs": [],
   "source": [
    "compare_flops(16,k_count_new,k_count_old,3)"
   ]
  },
  {
   "cell_type": "code",
   "execution_count": null,
   "metadata": {},
   "outputs": [],
   "source": [
    "Spectral radius. Don't remove Francesco will delete me"
   ]
  },
  {
   "cell_type": "code",
   "execution_count": null,
   "metadata": {},
   "outputs": [],
   "source": [
    "B_idx = problem_instances[1].B_idx\n",
    "net = nn.Sequential(nn.Conv2d(1, 1, 3, padding=1, bias=False))\n",
    "G = helpers.build_G(B_idx)\n",
    "T = helpers.build_T(N)\n",
    "H = helpers.conv_net_to_matrix(net, N)\n",
    "I = np.eye(N)\n",
    "helpers.spectral_radius(T+G.dot(H).dot(T)-G.dot(H))"
   ]
  },
  {
   "cell_type": "markdown",
   "metadata": {
    "ExecuteTime": {
     "end_time": "2018-12-20T00:05:07.263696Z",
     "start_time": "2018-12-20T00:05:07.261703Z"
    }
   },
   "source": [
    "# model testing"
   ]
  },
  {
   "cell_type": "code",
   "execution_count": 47,
   "metadata": {
    "ExecuteTime": {
     "end_time": "2018-12-20T00:21:13.947805Z",
     "start_time": "2018-12-20T00:21:13.943861Z"
    }
   },
   "outputs": [
    {
     "data": {
      "text/plain": [
       "<module 'nnpde.model_testing' from '/home/sam/proj/epfl/ml_pde_solver/nnpde/nnpde/model_testing.py'>"
      ]
     },
     "execution_count": 47,
     "metadata": {},
     "output_type": "execute_result"
    }
   ],
   "source": [
    "import nnpde.model_testing as MT\n",
    "reload(MT)"
   ]
  },
  {
   "cell_type": "code",
   "execution_count": 39,
   "metadata": {
    "ExecuteTime": {
     "end_time": "2018-12-20T00:12:42.008588Z",
     "start_time": "2018-12-20T00:12:28.004696Z"
    }
   },
   "outputs": [
    {
     "name": "stderr",
     "output_type": "stream",
     "text": [
      "2018-12-20 01:12:28,287 - root - INFO - model - Training with max_epochs: 100, tol: 0.0001. Initial loss is 1641.115478515625\n",
      "2018-12-20 01:12:29,548 - root - INFO - model - iter 0 with total loss 1050.2430419921875\n",
      "2018-12-20 01:12:42,006 - root - INFO - model - Convergence reached in 10 epochs with total loss 808.0904541015625\n"
     ]
    }
   ],
   "source": [
    "mdl = M.JacobyWithConv(**base_parameters).fit(problem_instances)"
   ]
  },
  {
   "cell_type": "code",
   "execution_count": 41,
   "metadata": {
    "ExecuteTime": {
     "end_time": "2018-12-20T00:19:08.286193Z",
     "start_time": "2018-12-20T00:18:24.775456Z"
    }
   },
   "outputs": [],
   "source": [
    "test_results =  list(MT.test_model(mdl.net, 1, 64))"
   ]
  },
  {
   "cell_type": "code",
   "execution_count": 48,
   "metadata": {
    "ExecuteTime": {
     "end_time": "2018-12-20T00:28:25.623337Z",
     "start_time": "2018-12-20T00:21:15.079556Z"
    }
   },
   "outputs": [],
   "source": [
    "test_results = MT.test_results_pd(mdl.net, 10, 64)"
   ]
  },
  {
   "cell_type": "code",
   "execution_count": 49,
   "metadata": {
    "ExecuteTime": {
     "end_time": "2018-12-20T00:28:40.375194Z",
     "start_time": "2018-12-20T00:28:40.356136Z"
    }
   },
   "outputs": [
    {
     "data": {
      "text/html": [
       "<div>\n",
       "<style scoped>\n",
       "    .dataframe tbody tr th:only-of-type {\n",
       "        vertical-align: middle;\n",
       "    }\n",
       "\n",
       "    .dataframe tbody tr th {\n",
       "        vertical-align: top;\n",
       "    }\n",
       "\n",
       "    .dataframe thead th {\n",
       "        text-align: right;\n",
       "    }\n",
       "</style>\n",
       "<table border=\"1\" class=\"dataframe\">\n",
       "  <thead>\n",
       "    <tr style=\"text-align: right;\">\n",
       "      <th></th>\n",
       "      <th>nb solver</th>\n",
       "      <th>nb_conv_solver</th>\n",
       "      <th>flops_ratio</th>\n",
       "    </tr>\n",
       "  </thead>\n",
       "  <tbody>\n",
       "    <tr>\n",
       "      <th>0</th>\n",
       "      <td>100001</td>\n",
       "      <td>2703</td>\n",
       "      <td>0.387165</td>\n",
       "    </tr>\n",
       "    <tr>\n",
       "      <th>1</th>\n",
       "      <td>100001</td>\n",
       "      <td>2711</td>\n",
       "      <td>0.388311</td>\n",
       "    </tr>\n",
       "    <tr>\n",
       "      <th>2</th>\n",
       "      <td>100001</td>\n",
       "      <td>2729</td>\n",
       "      <td>0.390889</td>\n",
       "    </tr>\n",
       "    <tr>\n",
       "      <th>3</th>\n",
       "      <td>100001</td>\n",
       "      <td>2716</td>\n",
       "      <td>0.389027</td>\n",
       "    </tr>\n",
       "    <tr>\n",
       "      <th>4</th>\n",
       "      <td>100001</td>\n",
       "      <td>2701</td>\n",
       "      <td>0.386878</td>\n",
       "    </tr>\n",
       "    <tr>\n",
       "      <th>5</th>\n",
       "      <td>100001</td>\n",
       "      <td>2740</td>\n",
       "      <td>0.392464</td>\n",
       "    </tr>\n",
       "    <tr>\n",
       "      <th>6</th>\n",
       "      <td>100001</td>\n",
       "      <td>2755</td>\n",
       "      <td>0.394613</td>\n",
       "    </tr>\n",
       "    <tr>\n",
       "      <th>7</th>\n",
       "      <td>100001</td>\n",
       "      <td>2716</td>\n",
       "      <td>0.389027</td>\n",
       "    </tr>\n",
       "    <tr>\n",
       "      <th>8</th>\n",
       "      <td>100001</td>\n",
       "      <td>2704</td>\n",
       "      <td>0.387308</td>\n",
       "    </tr>\n",
       "    <tr>\n",
       "      <th>9</th>\n",
       "      <td>100001</td>\n",
       "      <td>2706</td>\n",
       "      <td>0.387594</td>\n",
       "    </tr>\n",
       "  </tbody>\n",
       "</table>\n",
       "</div>"
      ],
      "text/plain": [
       "   nb solver  nb_conv_solver  flops_ratio\n",
       "0     100001            2703     0.387165\n",
       "1     100001            2711     0.388311\n",
       "2     100001            2729     0.390889\n",
       "3     100001            2716     0.389027\n",
       "4     100001            2701     0.386878\n",
       "5     100001            2740     0.392464\n",
       "6     100001            2755     0.394613\n",
       "7     100001            2716     0.389027\n",
       "8     100001            2704     0.387308\n",
       "9     100001            2706     0.387594"
      ]
     },
     "execution_count": 49,
     "metadata": {},
     "output_type": "execute_result"
    }
   ],
   "source": [
    "test_results"
   ]
  }
 ],
 "metadata": {
  "hide_input": false,
  "kernelspec": {
   "display_name": "Python 3",
   "language": "python",
   "name": "python3"
  },
  "language_info": {
   "codemirror_mode": {
    "name": "ipython",
    "version": 3
   },
   "file_extension": ".py",
   "mimetype": "text/x-python",
   "name": "python",
   "nbconvert_exporter": "python",
   "pygments_lexer": "ipython3",
   "version": "3.6.7"
  },
  "name": "main.ipynb",
  "toc": {
   "base_numbering": 1,
   "colors": {
    "hover_highlight": "#DAA520",
    "running_highlight": "#FF0000",
    "selected_highlight": "#FFD700"
   },
   "moveMenuLeft": true,
   "nav_menu": {
    "height": "67.7px",
    "width": "252px"
   },
   "navigate_menu": true,
   "number_sections": true,
   "sideBar": false,
   "skip_h1_title": false,
   "threshold": 4,
   "title_cell": "Table of Contents",
   "title_sidebar": "Contents",
   "toc_cell": false,
   "toc_position": {
    "height": "584.933px",
    "left": "1px",
    "right": "2569px",
    "top": "111px",
    "width": "600px"
   },
   "toc_section_display": "none",
   "toc_window_display": false
  }
 },
 "nbformat": 4,
 "nbformat_minor": 2
}

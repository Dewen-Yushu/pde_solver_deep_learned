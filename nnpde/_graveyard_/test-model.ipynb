{
 "cells": [
  {
   "cell_type": "code",
   "execution_count": 4,
   "metadata": {
    "ExecuteTime": {
     "end_time": "2018-12-18T14:57:48.041666Z",
     "start_time": "2018-12-18T14:57:48.031499Z"
    },
    "autoscroll": false,
    "ein.hycell": false,
    "ein.tags": "worksheet-0",
    "slideshow": {
     "slide_type": "-"
    }
   },
   "outputs": [],
   "source": [
    "import torch\n",
    "import torch.nn as nn\n",
    "import torch.nn.functional as F"
   ]
  },
  {
   "cell_type": "code",
   "execution_count": 8,
   "metadata": {
    "ExecuteTime": {
     "end_time": "2018-12-18T14:58:02.082358Z",
     "start_time": "2018-12-18T14:58:02.065972Z"
    }
   },
   "outputs": [],
   "source": [
    "multiply_adds = 1\n",
    "\n",
    "def count_conv2d(shapex, shapey,in_channels = 1,out_channels = 1,kernel_size = (3,3)):\n",
    "    \n",
    "    cin = in_channels\n",
    "    cout = out_channels\n",
    "    kh, kw = kernel_size\n",
    "    batch_size = shapex[0]\n",
    "\n",
    "    out_w = shapey[2]\n",
    "    out_h = shapey[3]\n",
    "\n",
    "    # ops per output element\n",
    "    # kernel_mul = kh * kw * cin\n",
    "    # kernel_add = kh * kw * cin - 1\n",
    "    \n",
    "    kernel_ops = multiply_adds * kh * kw * cin\n",
    "    ops_per_element = kernel_ops\n",
    "\n",
    "    # total ops\n",
    "    # num_out_elements = y.numel()\n",
    "    output_elements = batch_size * out_w * out_h * cout\n",
    "    total_ops = output_elements * ops_per_element\n",
    "\n",
    "    # in case same conv is used multiple times\n",
    "    total_ops += torch.Tensor([int(total_ops)])\n",
    "    \n",
    "    return total_ops"
   ]
  },
  {
   "cell_type": "code",
   "execution_count": 21,
   "metadata": {
    "ExecuteTime": {
     "end_time": "2018-12-18T15:03:57.165114Z",
     "start_time": "2018-12-18T15:03:57.159842Z"
    }
   },
   "outputs": [],
   "source": [
    "def compare_flops(n,n_iter_conv,n_iter_jac):\n",
    "    #flops, params = profile(net, input_size=input_shape)\n",
    "    flop_conv = (count_conv2d((1,1,256,256),(1,1,3,3)) + 2*n**2 + 4) * n_iter_conv # 9 operations for each convolution, and we perform n^2 convolutions in total for each layer + 6 operations for the jacobi iteration step\n",
    "    flop_jac = (7 * n**2) * n_iter_jac # For each u_ij, we add its 4 neighbors + forcing term + resetting the boundaries\n",
    "    return flop_conv/flop_jac"
   ]
  },
  {
   "cell_type": "code",
   "execution_count": 61,
   "metadata": {
    "ExecuteTime": {
     "end_time": "2018-12-18T15:25:46.248582Z",
     "start_time": "2018-12-18T15:25:46.185718Z"
    }
   },
   "outputs": [],
   "source": [
    "def test_model(net, n_tests, grid_size):\n",
    "    \n",
    "    losses = []\n",
    "    \n",
    "    loss_to_be_achieved = 1e-6\n",
    "    max_nb_iters = 100000\n",
    "    f = torch.zeros(1, 1, grid_size, grid_size)\n",
    "    u_0 = torch.ones(1, 1, grid_size, grid_size)\n",
    "\n",
    "    for i in range(n_tests):\n",
    "        \n",
    "        problem_instance = DirichletProblem(N=grid_size, k=max_nb_iters * 10, )\n",
    "        gtt = problem_instance.ground_truth\n",
    "        \n",
    "        # jacoby method / known solver\n",
    "        \n",
    "        u_jac = im.jacobi_method(problem_instance.B_idx, problem_instance.B, f, u_0, k = 1)\n",
    "        loss_jac = F.mse_loss(gtt, u_jac) # TODO use loss from metrics\n",
    "        count_jac = 1\n",
    "        \n",
    "        nb_iters = 0\n",
    "        while loss_jac >= loss_to_be_achieved and nb_iters < max_nb_iters:\n",
    "            u_jac = im.jacobi_method(problem_instance.B_idx, problem_instance.B, f, u_jac,k = 1)\n",
    "            loss_jac = F.mse_loss(gtt, u_jac)\n",
    "            count_jac += 1\n",
    "            nb_iters += 1\n",
    "            \n",
    "        # learned solver\n",
    "        \n",
    "        u_h = im.H_method(net,problem_instance.B_idx, problem_instance.B, f, u_0 ,k = 1)\n",
    "        loss_h = F.mse_loss(gtt, u_h)\n",
    "        count_h = 1\n",
    "        \n",
    "        # old method \n",
    "        nb_iters = 0\n",
    "        while loss_h >= loss_to_be_achieved and nb_iters < max_nb_iters:\n",
    "            u_h = im.H_method(net,problem_instance.B_idx, problem_instance.B, f, u_h,k = 1)\n",
    "            loss_h = F.mse_loss(gtt, u_h)\n",
    "            count_h += 1\n",
    "            nb_iters += 1\n",
    "        \n",
    "        \n",
    "        yield count_jac, count_h, compare_flops(grid_size, count_jac, count_h).item()"
   ]
  },
  {
   "cell_type": "code",
   "execution_count": null,
   "metadata": {
    "ExecuteTime": {
     "start_time": "2018-12-18T15:25:46.937Z"
    }
   },
   "outputs": [],
   "source": [
    "import pandas as pd\n",
    "test_results = pd.DataFrame(test_model(model.net, 1, 50), columns=['count_jacoby', 'count_learned', 'flops_ratio'])\n",
    "\n",
    "test_results"
   ]
  }
 ],
 "metadata": {
  "kernelspec": {
   "display_name": "Python 3",
   "language": "python",
   "name": "python3"
  },
  "language_info": {
   "codemirror_mode": {
    "name": "ipython",
    "version": 3
   },
   "file_extension": ".py",
   "mimetype": "text/x-python",
   "name": "python",
   "nbconvert_exporter": "python",
   "pygments_lexer": "ipython3",
   "version": "3.7.1"
  },
  "name": "main.ipynb",
  "toc": {
   "base_numbering": 1,
   "nav_menu": {
    "height": "12px",
    "width": "252px"
   },
   "number_sections": true,
   "sideBar": true,
   "skip_h1_title": false,
   "title_cell": "Table of Contents",
   "title_sidebar": "Contents",
   "toc_cell": false,
   "toc_position": null,
   "toc_section_display": true,
   "toc_window_display": false
  }
 },
 "nbformat": 4,
 "nbformat_minor": 2
}

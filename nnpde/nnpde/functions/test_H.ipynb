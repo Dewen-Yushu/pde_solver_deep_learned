{
 "cells": [
  {
   "cell_type": "code",
   "execution_count": null,
   "metadata": {},
   "outputs": [],
   "source": [
    "import sys\n",
    "#sys.path.append('../../../pdl/pdl/utils/')\n",
    "\n",
    "import numpy as np\n",
    "import matplotlib.pyplot as plt\n",
    "#from logs import enable_logging, logging \n",
    "from importlib import reload\n",
    "import iterativeMethods as im\n"
   ]
  },
  {
   "cell_type": "code",
   "execution_count": null,
   "metadata": {},
   "outputs": [],
   "source": [
    "import torch\n",
    "import torch.nn as nn\n",
    "import torch.nn.functional as F\n",
    "\n",
    "# Uncomment to have more convolutions\n",
    "net = nn.Sequential(\n",
    "    nn.Conv2d(1, 1, 3, padding=1, bias=False),\n",
    "    #nn.Conv2d(1, 1, 3, padding=1, bias=False),\n",
    "    #nn.Conv2d(1, 1, 3, padding=1, bias=False),\n",
    ")\n",
    "\n",
    "\n",
    "# Set the optimizer, you have to play with lr: if too big nan\n",
    "optim = torch.optim.SGD(net.parameters(), lr = 1e-6)\n",
    "#optim = torch.optim.Adam(net.parameters(), lr=1e-6)\n",
    "#optim = torch.optim.ASGD(net.parameters())\n",
    "# SGD seems much faster\n",
    "\n",
    "for name, param in net.named_parameters():\n",
    "    print(name, param)"
   ]
  },
  {
   "cell_type": "markdown",
   "metadata": {},
   "source": [
    "New one based only on convolutions and pointiwise tensor operations, see iterativeMethods.py"
   ]
  },
  {
   "cell_type": "code",
   "execution_count": null,
   "metadata": {},
   "outputs": [],
   "source": [
    "losses = []"
   ]
  },
  {
   "cell_type": "code",
   "execution_count": null,
   "metadata": {},
   "outputs": [],
   "source": [
    "# Define train dimension\n",
    "N = 16\n",
    "\n",
    "for _ in range(20):\n",
    "    net.zero_grad()\n",
    "\n",
    "    # Sample k\n",
    "    k = np.random.randint(1, 20)\n",
    "    \n",
    "    # Define geometry 1.0 inner points 0.0 elsewhre\n",
    "    B_idx = torch.ones(1,1,N,N)\n",
    "    B_idx[0,0,0,:] = torch.zeros(N)\n",
    "    B_idx[0,0,N-1,:] = torch.zeros(N)\n",
    "    B_idx[0,0,:,0] = torch.zeros(N)\n",
    "    B_idx[0,0,:,N-1] = torch.zeros(N)\n",
    "    \n",
    "    # Define boundary values\n",
    "    B = torch.abs(B_idx-1)*np.random.rand()*3\n",
    "    \n",
    "    # Initialize f: we use a zero forcing term for training\n",
    "    f = torch.zeros(1, 1, N, N)\n",
    "\n",
    "    # Initialize solution vector randomly \n",
    "    initial_u = torch.randn(1, 1, N, N, requires_grad = True)\n",
    "    \n",
    "    # Compute ustar = ground_truth solution torch \n",
    "    ground_truth = im.jacobi_method(B_idx, B, f, initial_u = None, k = 1000)\n",
    "\n",
    "    # Solve the same problem, at each iteration the only thing changing are the weights, which are optimized\n",
    "    for _ in range(20):\n",
    "        \n",
    "        # Compute the soultion with the updated weights\n",
    "        u = im.H_method(net, B_idx, B, f, initial_u, k)\n",
    "        \n",
    "        # Define the loss, CHECK if it is correct wrt paper\n",
    "        loss = F.mse_loss(ground_truth, u)\n",
    "        \n",
    "        \"\"\" TODO \n",
    "        spectral_radius = TODO\n",
    "        regularization = 1e10\n",
    "        if spectral_radius > 1\n",
    "           loss += regularization\n",
    "        \"\"\"\n",
    "        \n",
    "        # Exit optimization \n",
    "        tol = 1e-6\n",
    "        if loss.item() <= tol:\n",
    "            break\n",
    "            \n",
    "        # Backpropagation\n",
    "        loss.backward(retain_graph =  False)\n",
    "        \n",
    "        # SGD step\n",
    "        optim.step()\n",
    "        \n",
    "        # Store lossses for visualization\n",
    "        losses.append(loss.item())\n",
    "\n",
    "for name, param in net.named_parameters():\n",
    "    print(name, param)"
   ]
  },
  {
   "cell_type": "markdown",
   "metadata": {},
   "source": [
    "Plot the losses"
   ]
  },
  {
   "cell_type": "code",
   "execution_count": null,
   "metadata": {},
   "outputs": [],
   "source": [
    "color_map = plt.get_cmap('cubehelix')\n",
    "colors = color_map(np.linspace(0.1, 1, 10))\n",
    "\n",
    "losses_fig = plt.figure()\n",
    "n_iter = np.arange(np.shape(losses)[0])\n",
    "plt.plot(n_iter, losses, color = colors[0], linewidth = 1, linestyle = \"-\", marker = \"\",  label='Loss')\n",
    "\n",
    "plt.legend(bbox_to_anchor=(0., -0.3), loc=3, borderaxespad=0.)\n",
    "plt.xlabel('n iteration', fontsize=14)\n",
    "plt.ylabel('Loss', fontsize=14)\n",
    "plt.title('Loss')\n",
    "plt.grid(True, which = \"both\", linewidth = 0.5,  linestyle = \"--\")\n",
    "\n",
    "print(\"final loss is {0}\".format(losses[-1]))\n",
    "#losses_fig.savefig('gridSearch.eps', bbox_inches='tight')"
   ]
  },
  {
   "cell_type": "markdown",
   "metadata": {},
   "source": [
    "Test on a bigger grid"
   ]
  },
  {
   "cell_type": "code",
   "execution_count": null,
   "metadata": {},
   "outputs": [],
   "source": [
    "N = 50\n",
    "\n",
    "# Define geometry 1.0 inner points 0.0 elsewhre\n",
    "B_idx = torch.ones(1,1,N,N)\n",
    "B_idx[0,0,0,:] = torch.zeros(N)\n",
    "B_idx[0,0,N-1,:] = torch.zeros(N)\n",
    "B_idx[0,0,:,0] = torch.zeros(N)\n",
    "B_idx[0,0,:,N-1] = torch.zeros(N)\n",
    "\n",
    "# Define boundary values\n",
    "B = torch.abs(B_idx-1)*4.0\n",
    "\n",
    "# Set forcing term\n",
    "f = torch.ones(1,1,N,N)*1.0\n",
    "\n",
    "# Obtain solutions\n",
    "gtt = im.jacobi_method(B_idx, B, f, torch.ones(1,1,N,N), k = 10000)\n",
    "output = im.H_method(net, B_idx, B, f, torch.ones(1,1,N,N), k = 1000)"
   ]
  },
  {
   "cell_type": "code",
   "execution_count": null,
   "metadata": {},
   "outputs": [],
   "source": [
    "print(F.mse_loss(gtt, output))\n",
    "\n",
    "Z_gtt = gtt.view(N,N).numpy() \n",
    "Z_output = output.detach().view(N, N).numpy()\n",
    "\n",
    "fig, axes = plt.subplots(nrows = 1, ncols = 2)\n",
    "\n",
    "fig.suptitle(\"Comparison\")\n",
    "\n",
    "im_gtt = axes[0].imshow(Z_gtt)\n",
    "axes[0].set_title(\"Ground truth solution\")\n",
    "\n",
    "im_output = axes[1].imshow(Z_output)\n",
    "axes[1].set_title(\"H method solution\")\n",
    "\n",
    "fig.colorbar(im_gtt)\n",
    "fig.tight_layout()\n",
    "\n",
    "plt.show()"
   ]
  },
  {
   "cell_type": "markdown",
   "metadata": {},
   "source": [
    "Test on L-shape domain"
   ]
  },
  {
   "cell_type": "code",
   "execution_count": null,
   "metadata": {},
   "outputs": [],
   "source": [
    "N = 50\n",
    "M = int(np.floor(N/2))\n",
    "\n",
    "# Define geometry 1.0 inner points 0.0 elsewhre\n",
    "B_idx = torch.ones(1, 1, N, N)\n",
    "B_idx[0,0,0:M,0:M] = torch.zeros([M, M])\n",
    "B_idx[0,0,N-1,:] = torch.zeros(N)\n",
    "B_idx[0,0,:,0] = torch.zeros(N)\n",
    "B_idx[0,0,:,N-1] = torch.zeros(N)\n",
    "\n",
    "# Define boundary values\n",
    "B = torch.abs(B_idx-1)*4.0\n",
    "\n",
    "# Set forcing term\n",
    "f = torch.ones(1,1,N,N)*1.0\n",
    "\n",
    "# Obtain solutions\n",
    "gtt = im.jacobi_method(B_idx, B, f, torch.ones(1,1,N,N), k = 10000)\n",
    "output = im.H_method(net, B_idx, B, f, torch.ones(1,1,N,N), k = 2000)"
   ]
  },
  {
   "cell_type": "code",
   "execution_count": null,
   "metadata": {},
   "outputs": [],
   "source": [
    "print(F.mse_loss(gtt, output))\n",
    "\n",
    "Z_gtt = gtt.view(N,N).numpy() \n",
    "Z_output = output.detach().view(N, N).numpy()\n",
    "\n",
    "fig, axes = plt.subplots(nrows = 1, ncols = 2)\n",
    "\n",
    "fig.suptitle(\"Comparison\")\n",
    "\n",
    "im_gtt = axes[0].imshow(Z_gtt)\n",
    "axes[0].set_title(\"Ground truth solution\")\n",
    "\n",
    "im_output = axes[1].imshow(Z_output)\n",
    "axes[1].set_title(\"H method solution\")\n",
    "\n",
    "fig.colorbar(im_gtt)\n",
    "fig.tight_layout()\n",
    "\n",
    "plt.show()"
   ]
  },
  {
   "cell_type": "markdown",
   "metadata": {},
   "source": [
    "Some way to compute the spectral radius maybe helpful. We need to build the matrix H and then compute it.\n",
    "H is built from the weights. Here we consider only the case conv1"
   ]
  },
  {
   "cell_type": "code",
   "execution_count": null,
   "metadata": {},
   "outputs": [],
   "source": [
    "import scipy as sp\n",
    "from scipy.linalg import circulant\n",
    "\n",
    "vector_H = np.zeros(N**2)\n",
    "vector_H[0] = param[0, 0, 1, 1]\n",
    "vector_H[1] = param[0, 0, 1, 2]\n",
    "vector_H[N**2-1] = param[0, 0, 1, 0]\n",
    "\n",
    "vector_H[N**2-N] = param[0, 0, 0, 1]\n",
    "vector_H[N**2-N-1] = param[0, 0, 0, 0]\n",
    "vector_H[N**2-N+1] = param[0, 0, 0, 2]\n",
    "\n",
    "vector_H[N] = param[0, 0, 2, 1]\n",
    "vector_H[N-1] = param[0, 0, 2, 0]\n",
    "vector_H[N+1] = param[0, 0, 2, 2]\n",
    "\n",
    "p = np.zeros([3,3])\n",
    "for name, param in net.named_parameters():\n",
    "    for i in range(3):\n",
    "        for j in range(3):\n",
    "            p[i,j] = param[0,0,i,j]\n",
    "\n",
    "H = np.diag(np.ones(N**2)*p[1,1]) + np.diag(np.ones(N**2-1)*p[1,2], 1) + np.diag(np.ones(N**2-1)*p[1,0], -1) + np.diag(np.ones(N**2-N)*p[2,1], N) + np.diag(np.ones(N**2-N)*p[0,1], -N)\n",
    "\n",
    "\n",
    "\n",
    "#H = np.transpose(circulant(vector_H))\n",
    "np.shape(H)\n",
    "#print(np.real(np.linalg.eigvals(T+H.dot(T)-H)))\n",
    "Heq = T.numpy()+H.dot(T.numpy())-H\n",
    "reg = 0.0\n",
    "#spectral_radius = (np.max(np.real(np.linalg.eigvals(Heq))))\n",
    "\n",
    "spectral_radius = np.max(np.real(np.fft.fft(vector_T))) + np.max(np.real(np.fft.fft(vector_H)))*np.max(np.real(np.fft.fft(vector_TI)))"
   ]
  },
  {
   "cell_type": "code",
   "execution_count": null,
   "metadata": {},
   "outputs": [],
   "source": [
    "T_I = np.reshape(T.numpy()-I.numpy(), [N**2, N**2])\n",
    "Tn = np.reshape(T.numpy(), [N**2, N**2])\n",
    "print(np.max(np.abs(np.real(np.linalg.eigvals(Tn-H.dot(T_I))))))"
   ]
  }
 ],
 "metadata": {
  "kernelspec": {
   "display_name": "Python 3",
   "language": "python",
   "name": "python3"
  },
  "language_info": {
   "codemirror_mode": {
    "name": "ipython",
    "version": 3
   },
   "file_extension": ".py",
   "mimetype": "text/x-python",
   "name": "python",
   "nbconvert_exporter": "python",
   "pygments_lexer": "ipython3",
   "version": "3.6.7"
  },
  "toc": {
   "base_numbering": 1,
   "nav_menu": {},
   "number_sections": true,
   "sideBar": true,
   "skip_h1_title": false,
   "title_cell": "Table of Contents",
   "title_sidebar": "Contents",
   "toc_cell": false,
   "toc_position": {},
   "toc_section_display": true,
   "toc_window_display": false
  }
 },
 "nbformat": 4,
 "nbformat_minor": 2
}

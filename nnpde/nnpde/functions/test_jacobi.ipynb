{
 "cells": [
  {
   "cell_type": "code",
   "execution_count": null,
   "metadata": {},
   "outputs": [],
   "source": [
    "import sys\n",
    "sys.path.append('../../../pdl/pdl/utils/')\n",
    "\n",
    "import numpy as np\n",
    "import matplotlib.pyplot as plt\n",
    "from logs import enable_logging, logging \n",
    "from importlib import reload\n",
    "import iterativeMethods as im\n"
   ]
  },
  {
   "cell_type": "code",
   "execution_count": null,
   "metadata": {},
   "outputs": [],
   "source": [
    "enable_logging(lvl=100)\n",
    "A = np.array([[2, 1], [5, 7]])\n",
    "f = np.array([11, 13])\n",
    "\n",
    "u, res = im.jacobi(A, f)"
   ]
  },
  {
   "cell_type": "markdown",
   "metadata": {},
   "source": [
    "For the real Jacobi method instead the spectral radius of the updating matrix is < 1.\n",
    "For the real Jacobi methods it holds the fact that if the matrix is diagonally dominant then the spectral radius of the updating matrix is guaranteed to be < 1. (http://www.cs.unipr.it/~bagnara/Papers/PDF/SIREV95.pdf)\n",
    "This condition does not hold for the paper Jacobi method."
   ]
  },
  {
   "cell_type": "code",
   "execution_count": null,
   "metadata": {},
   "outputs": [],
   "source": [
    "jacobi_eig = np.linalg.eigvals(np.linalg.inv(np.diag(np.diag(A))).dot(A-np.diag(np.diag(A))))\n",
    "spectral_radius = np.max(np.abs(jacobi_eig))\n",
    "print(spectral_radius)"
   ]
  },
  {
   "cell_type": "markdown",
   "metadata": {},
   "source": [
    "Build the matrix A for the 2D Poisson problem"
   ]
  },
  {
   "cell_type": "code",
   "execution_count": null,
   "metadata": {},
   "outputs": [],
   "source": [
    "N = 20\n",
    "A = np.eye(N**2)\n",
    "# Domani length\n",
    "L = 1.0\n",
    "# Cell size\n",
    "h = L/(N-1)\n",
    "\n",
    "# set homegenous dirichlet BC value\n",
    "b = 1.0\n",
    "\n",
    "#Initilize forcing term\n",
    "f = np.ones(N**2)*b\n",
    "\n",
    "for i in range(N, N**2-N):\n",
    "    if (i%N != 0 and i%N != N-1):\n",
    "        # Left and right neigh\n",
    "        A[i][i-1] = -0.25 \n",
    "        A[i][i+1] = -0.25\n",
    "        # Up and low neigh\n",
    "        A[i][i-N] = -0.25 \n",
    "        A[i][i+N] = -0.25 \n",
    "        # set forcing term\n",
    "        f[i] = 0\n"
   ]
  },
  {
   "cell_type": "markdown",
   "metadata": {},
   "source": [
    "Obtain the solution with jacobi method"
   ]
  },
  {
   "cell_type": "code",
   "execution_count": null,
   "metadata": {},
   "outputs": [],
   "source": [
    "u, res = im.jacobi(A, f, max_iters=10000,tol = 1e-3)\n",
    "#u = np.linalg.inv(A).dot(f)"
   ]
  },
  {
   "cell_type": "markdown",
   "metadata": {},
   "source": [
    "Plot the solution\n",
    "Nice reference for contour plots https://www.python-course.eu/matplotlib_contour_plot.php"
   ]
  },
  {
   "cell_type": "code",
   "execution_count": null,
   "metadata": {},
   "outputs": [],
   "source": [
    "x = np.linspace(0, L, N)\n",
    "y = np.linspace(0, L, N)\n",
    "X, Y = np.meshgrid(x, y)\n",
    "\n",
    "Z = np.reshape(u, [N, N])\n",
    "plt.figure()\n",
    "cp = plt.contourf(X, Y, Z)\n",
    "plt.colorbar(cp)\n",
    "plt.title('Filled Contours Plot')\n",
    "plt.xlabel('x [-]')\n",
    "plt.ylabel('y [-]')\n",
    "plt.show()"
   ]
  },
  {
   "cell_type": "markdown",
   "metadata": {},
   "source": [
    "Obtain the same solution with reset operator G\n"
   ]
  },
  {
   "cell_type": "code",
   "execution_count": null,
   "metadata": {},
   "outputs": [],
   "source": [
    "N = 20\n",
    "a = np.ones(N**2)\n",
    "b = -np.ones(N**2-1)*0.25\n",
    "c = -np.ones(N**2-N)*0.25\n",
    "\n",
    "A = np.diag(a) + np.diag(b, 1) + np.diag(b, -1) + np.diag(c, N) + np.diag(c, -N)\n",
    "print(A)\n"
   ]
  },
  {
   "cell_type": "code",
   "execution_count": null,
   "metadata": {},
   "outputs": [],
   "source": [
    "b_top_idx = np.arange(N)\n",
    "b_bottom_idx = np.arange(N**2-N, N**2)\n",
    "b_left_idx = np.linspace(N, N**2-2*N, N-2, dtype = int)\n",
    "b_right_idx = np.linspace(2*N-1, N**2-N, N-2, dtype = int)"
   ]
  },
  {
   "cell_type": "code",
   "execution_count": null,
   "metadata": {},
   "outputs": [],
   "source": [
    "print(b_top_idx)\n",
    "print(b_bottom_idx)\n",
    "print(b_left_idx)\n",
    "print(b_right_idx)"
   ]
  },
  {
   "cell_type": "code",
   "execution_count": null,
   "metadata": {},
   "outputs": [],
   "source": [
    "b_idx = np.append(b_top_idx, b_bottom_idx)\n",
    "b_idx = np.append(b_idx, b_left_idx)\n",
    "b_idx = np.append(b_idx, b_right_idx)\n",
    "print(b_idx)\n",
    "b = np.ones(np.shape(b_idx))*1\n",
    "print(b)\n",
    "f = np.zeros(N**2)"
   ]
  },
  {
   "cell_type": "code",
   "execution_count": null,
   "metadata": {},
   "outputs": [],
   "source": [
    "u, res = im.jacobi(A, f, b_idx = b_idx, b = b,max_iters=200,tol = 1e-2)\n",
    "\n",
    "x = np.linspace(0, L, N)\n",
    "y = np.linspace(0, L, N)\n",
    "X, Y = np.meshgrid(x, y)\n",
    "\n",
    "Z = np.reshape(u, [N, N])\n",
    "plt.figure()\n",
    "cp = plt.contourf(X, Y, Z)\n",
    "plt.colorbar(cp)\n",
    "plt.title('Filled Contours Plot')\n",
    "plt.xlabel('x [-]')\n",
    "plt.ylabel('y [-]')\n",
    "plt.show()"
   ]
  },
  {
   "cell_type": "code",
   "execution_count": null,
   "metadata": {},
   "outputs": [],
   "source": []
  },
  {
   "cell_type": "code",
   "execution_count": null,
   "metadata": {},
   "outputs": [],
   "source": []
  }
 ],
 "metadata": {
  "kernelspec": {
   "display_name": "Python 3",
   "language": "python",
   "name": "python3"
  },
  "language_info": {
   "codemirror_mode": {
    "name": "ipython",
    "version": 3
   },
   "file_extension": ".py",
   "mimetype": "text/x-python",
   "name": "python",
   "nbconvert_exporter": "python",
   "pygments_lexer": "ipython3",
   "version": "3.6.6"
  }
 },
 "nbformat": 4,
 "nbformat_minor": 2
}
